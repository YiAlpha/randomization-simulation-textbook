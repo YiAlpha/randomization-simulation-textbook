{
 "cells": [
  {
   "cell_type": "markdown",
   "metadata": {},
   "source": [
    "# Problem 3.7"
   ]
  },
  {
   "cell_type": "code",
   "execution_count": 2,
   "metadata": {},
   "outputs": [],
   "source": [
    "clear\n",
    "set seed 1234567\n",
    "\n",
    "qui input D Y \n",
    "\t0 1\n",
    "\t0 0\n",
    "\t0 0\n",
    "\t0 4\n",
    "\t0 3\n",
    "\t1 2\n",
    "\t1 11\n",
    "\t1 14\n",
    "\t1 0\n",
    "\t1 3\n",
    "end"
   ]
  },
  {
   "cell_type": "code",
   "execution_count": 3,
   "metadata": {},
   "outputs": [],
   "source": [
    "qui gen Y_star= Y+D*(-7)\n",
    "\n",
    "cap program drop ate\n",
    "program define ate, rclass\n",
    "\targs Y D\n",
    "    sum `Y' if `D'==1, meanonly\n",
    "    local Y_treat=r(mean)\n",
    "    sum `Y' if `D'==0, meanonly\n",
    "    local Y_con=r(mean)\n",
    "    return scalar ate_avg = `Y_treat'-`Y_con'\n",
    "end"
   ]
  },
  {
   "cell_type": "code",
   "execution_count": 4,
   "metadata": {},
   "outputs": [
    {
     "name": "stdout",
     "output_type": "stream",
     "text": [
      "Two-sample randomization test for theta=r(ate_avg) of ate Y_star D by D\n",
      "\n",
      "Combinations:   252 = (10 choose 5)\n",
      "Assuming null=0\n",
      "Observed theta: -2.6\n",
      "\n",
      "Minimum time needed for exact test (h:m:s):  0:00:00\n",
      "Mode: exact\n",
      "\n",
      "progress: |........................................|\n",
      "\n",
      " p=0.83730 [one-tailed test of Ho:  theta(D==0)<=theta(D==1)]\n",
      " p=0.20635 [one-tailed test of Ho:  theta(D==0)>=theta(D==1)]\n",
      " p=0.41270 [two-tailed test of Ho:  theta(D==0)==theta(D==1)]\n"
     ]
    }
   ],
   "source": [
    "tsrtest D r(ate_avg): ate Y_star D"
   ]
  },
  {
   "cell_type": "code",
   "execution_count": 6,
   "metadata": {},
   "outputs": [
    {
     "name": "stdout",
     "output_type": "stream",
     "text": [
      "-2.6\n"
     ]
    }
   ],
   "source": [
    "// ate\n",
    "di r(obsvStat)        "
   ]
  },
  {
   "cell_type": "code",
   "execution_count": 7,
   "metadata": {},
   "outputs": [
    {
     "name": "stdout",
     "output_type": "stream",
     "text": [
      ".20634921\n"
     ]
    }
   ],
   "source": [
    "// p.value.onesided\n",
    "di r(lowertail)  "
   ]
  }
 ],
 "metadata": {
  "kernelspec": {
   "display_name": "Stata",
   "language": "stata",
   "name": "stata"
  },
  "language_info": {
   "codemirror_mode": "stata",
   "file_extension": ".do",
   "mimetype": "text/x-stata",
   "name": "stata",
   "version": "15.1"
  }
 },
 "nbformat": 4,
 "nbformat_minor": 2
}
