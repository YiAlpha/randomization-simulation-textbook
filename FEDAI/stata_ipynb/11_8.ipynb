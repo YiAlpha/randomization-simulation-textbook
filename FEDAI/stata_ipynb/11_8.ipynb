{
 "cells": [
  {
   "cell_type": "markdown",
   "metadata": {},
   "source": [
    "# Problem 11.8"
   ]
  },
  {
   "cell_type": "markdown",
   "metadata": {},
   "source": [
    "## Part a"
   ]
  },
  {
   "cell_type": "code",
   "execution_count": 1,
   "metadata": {},
   "outputs": [
    {
     "name": "stdout",
     "output_type": "stream",
     "text": [
      "(10 vars, 26 obs)\n"
     ]
    }
   ],
   "source": [
    "import delimited ./data/chapter11/GerberGreenBook_Chapter11_Table_11_3, clear"
   ]
  },
  {
   "cell_type": "code",
   "execution_count": 2,
   "metadata": {},
   "outputs": [
    {
     "name": "stdout",
     "output_type": "stream",
     "text": [
      "\n",
      "Summary statistics: sum\n",
      "  by categories of: region (Region)\n",
      "\n",
      "  region |     m1_x2     m2_x2\n",
      "---------+--------------------\n",
      "       1 |       .67      1.14\n",
      "       2 |      2.17      2.53\n",
      "       3 |       .45        .5\n",
      "       4 |       7.1     13.36\n",
      "       5 |      2.14      2.53\n",
      "       6 |      1.91      2.05\n",
      "---------+--------------------\n",
      "   Total |     14.44     22.11\n",
      "------------------------------\n"
     ]
    }
   ],
   "source": [
    "tabstat m1_x2 m2_x2, statistics(sum) by(region)"
   ]
  },
  {
   "cell_type": "markdown",
   "metadata": {},
   "source": [
    "## Part b"
   ]
  },
  {
   "cell_type": "code",
   "execution_count": 3,
   "metadata": {},
   "outputs": [
    {
     "name": "stdout",
     "output_type": "stream",
     "text": [
      "\n",
      "\n",
      "(3 vars, 1120 obs)\n",
      "\n",
      "(117 missing values generated)\n",
      "\n",
      "(1,120 missing values generated)\n",
      "\n",
      "(509 real changes made)\n",
      "\n",
      "(611 real changes made)\n",
      "\n",
      "\n",
      "(301 observations deleted)\n",
      "\n",
      "\n",
      "(option mu assumed; predicted mean purchased)\n",
      "\n",
      "\n",
      "(option mu assumed; predicted mean purchased)\n",
      "\n",
      "(819 missing values generated)\n",
      "\n",
      "(473 real changes made)\n",
      "\n",
      "(346 real changes made)\n",
      "\n",
      "\n"
     ]
    }
   ],
   "source": [
    "clear \n",
    "\n",
    "import delim ./data/chapter11/Chapter_11_Dupas_2010_Dataset, clear\n",
    "//import delim Dupas_QJE_2010, clear\n",
    "\n",
    "\n",
    "gen log_price = log(price)\n",
    "\n",
    "gen purchased =.\n",
    "replace purchased = 1 if purchasednet==\"yes\"\n",
    "replace purchased = 0 if purchasednet==\"no\"\n",
    "\n",
    "rename cfw_id region\t\n",
    "\t\n",
    "drop if (price ==0 | region==4)\n",
    "\n",
    "\n",
    "qui glm purchased log_price i.region c.log_price#i.region, family(binomial) link(logit)\n",
    "predict double preds_1\n",
    "\n",
    "qui glm purchased log_price i.region, family(binomial) link(logit)\n",
    "predict double preds_2\n",
    "\n",
    "\n",
    "\n",
    "generate non_p =.\n",
    "replace non_p=1 if purchased==0\n",
    "replace non_p=0 if purchased!=0\n",
    "\n",
    "generate pred_nonp_1 = 1-preds_1\n",
    "generate pred_nonp_2 = 1-preds_2"
   ]
  },
  {
   "cell_type": "code",
   "execution_count": 4,
   "metadata": {},
   "outputs": [],
   "source": [
    "collapse (sum) purchases=purchased ///\n",
    "   non_purchases=non_p ///\n",
    "   pred_purchases_1=preds_1 ///\n",
    "   pred_nonpurchases_1=pred_nonp_1 ///\n",
    "   pred_purchases_2=preds_2 ///\n",
    "   pred_nonpurchases_2=pred_nonp_2, by(region price)"
   ]
  },
  {
   "cell_type": "code",
   "execution_count": 5,
   "metadata": {},
   "outputs": [],
   "source": [
    "gen chi_square_1 = (purchases- pred_purchases_1)^2/ pred_purchases_1 + ///\n",
    "(non_purchases- pred_nonpurchases_1)^2/ pred_nonpurchases_1\n",
    "\n",
    "gen chi_square_2 = (purchases- pred_purchases_2)^2/ pred_purchases_2 + ///\n",
    "( non_purchases- pred_nonpurchases_2)^2/ pred_nonpurchases_2"
   ]
  },
  {
   "cell_type": "code",
   "execution_count": 6,
   "metadata": {},
   "outputs": [
    {
     "name": "stdout",
     "output_type": "stream",
     "text": [
      "\n",
      "\n",
      "     +------------------------------------------------------------------------+\n",
      "     | region   price   purcha~s   non_pu~s   pred_pu~1   pred_n~1   chi_sq~1 |\n",
      "     |------------------------------------------------------------------------|\n",
      "  1. |      1      70         16         13   15.441598    13.5584   .0431908 |\n",
      "  2. |      1     100         16         31   16.920757   30.07924    .078289 |\n",
      "  3. |      1     130         12         37   12.291133   36.70887   .0092048 |\n",
      "  4. |      1     190          5         23   3.8221953    24.1778    .420315 |\n",
      "  5. |      1     250          2         28   2.5243177   27.47568   .1189098 |\n",
      "     |------------------------------------------------------------------------|\n",
      "  6. |      2      40         46         15   47.582604    13.4174   .2393082 |\n",
      "  7. |      2      80         40         30   35.429156   34.57085   1.194044 |\n",
      "  8. |      2     120         18         46   21.212681   42.78732   .7277873 |\n",
      "  9. |      2     200         10         49   9.7755597   49.22444   .0061763 |\n",
      " 10. |      3      50         42         16   43.139894   14.86011   .1175591 |\n",
      "     |------------------------------------------------------------------------|\n",
      " 11. |      3      90         33         27   31.052283   28.94772   .2532181 |\n",
      " 12. |      3     150         18         40   18.042949   39.95705   .0001484 |\n",
      " 13. |      3     210          9         39   9.7648732   38.23513   .0752127 |\n",
      " 14. |      5      60         27         10   26.083854   10.91615   .1090662 |\n",
      " 15. |      5     110         12         25   15.218787   21.78121   1.156442 |\n",
      "     |------------------------------------------------------------------------|\n",
      " 16. |      5     140         11         18   8.6973594   20.30264   .8707839 |\n",
      " 17. |      6      50         14          5   14.837853   4.162147   .2159737 |\n",
      " 18. |      6     100         11          7   8.7298279   9.270172   1.146296 |\n",
      " 19. |      6     150          4         14   5.4323191   12.56768   .5408933 |\n",
      "     +------------------------------------------------------------------------+\n",
      "\n",
      "\n",
      "     +------------------------------------------------------------------------+\n",
      "     | region   price   purcha~s   non_pu~s   pred_pu~2   pred_n~2   chi_sq~2 |\n",
      "     |------------------------------------------------------------------------|\n",
      "  1. |      1      70         16         13    14.85299   14.14701    .181574 |\n",
      "  2. |      1     100         16         31   16.687555   30.31244   .0439238 |\n",
      "  3. |      1     130         12         37   12.498146   36.50185   .0266531 |\n",
      "  4. |      1     190          5         23   4.1147946   23.88521   .2232385 |\n",
      "  5. |      1     250          2         28   2.8465156   27.15348   .2781327 |\n",
      "     |------------------------------------------------------------------------|\n",
      "  6. |      2      40         46         15   47.744037   13.25596    .293164 |\n",
      "  7. |      2      80         40         30   35.468777   34.53122   1.173467 |\n",
      "  8. |      2     120         18         46   21.135136   42.86486   .6943625 |\n",
      "  9. |      2     200         10         49    9.652051   49.34795   .0149967 |\n",
      " 10. |      3      50         42         16   44.054578   13.94542   .3985204 |\n",
      "     |------------------------------------------------------------------------|\n",
      " 11. |      3      90         33         27   31.294685   28.70532   .1942352 |\n",
      " 12. |      3     150         18         40   17.510472   40.48953   .0196039 |\n",
      " 13. |      3     210          9         39   9.1402666   38.85973   .0026588 |\n",
      " 14. |      5      60         27         10   25.287202    11.7128    .366482 |\n",
      " 15. |      5     110         12         25    15.49734   21.50266   1.358088 |\n",
      "     |------------------------------------------------------------------------|\n",
      " 16. |      5     140         11         18    9.215458   19.78454    .506534 |\n",
      " 17. |      6      50         14          5   14.607437   4.392563   .1092606 |\n",
      " 18. |      6     100         11          7   8.7615558   9.238444   1.114256 |\n",
      " 19. |      6     150          4         14   5.6310073   12.36899    .687486 |\n",
      "     +------------------------------------------------------------------------+\n"
     ]
    }
   ],
   "source": [
    "// print table\n",
    "list region price purchases non_purchases pred_purchases_1 ///\n",
    "pred_nonpurchases_1 chi_square_1\n",
    "list region price purchases non_purchases pred_purchases_2 ///\n",
    "pred_nonpurchases_2 chi_square_2"
   ]
  },
  {
   "cell_type": "code",
   "execution_count": 7,
   "metadata": {},
   "outputs": [],
   "source": [
    "qui tabstat chi_square_1, statistics(sum) save\n",
    "scalar  model_1_chi_sq=el(r(StatTotal),1,1)"
   ]
  },
  {
   "cell_type": "code",
   "execution_count": 8,
   "metadata": {},
   "outputs": [
    {
     "name": "stdout",
     "output_type": "stream",
     "text": [
      "\n",
      "\n",
      " 7.32282\n",
      "\n",
      "0.603548\n"
     ]
    }
   ],
   "source": [
    "scalar pvalue_1=chiprob(9, model_1_chi_sq)\n",
    "disp %8.5f model_1_chi_sq\n",
    "disp %8.6f pvalue_1"
   ]
  },
  {
   "cell_type": "code",
   "execution_count": 9,
   "metadata": {},
   "outputs": [
    {
     "name": "stdout",
     "output_type": "stream",
     "text": [
      "\n",
      "\n",
      "\n",
      "\n",
      " 7.68664\n",
      "\n",
      "0.863399\n"
     ]
    }
   ],
   "source": [
    "qui tabstat chi_square_2, statistics(sum) save\n",
    "scalar  model_2_chi_sq=el(r(StatTotal),1,1)\n",
    "scalar pvalue_2=chiprob(13, model_2_chi_sq)\n",
    "disp %8.5f model_2_chi_sq\n",
    "disp %8.6f pvalue_2"
   ]
  }
 ],
 "metadata": {
  "kernelspec": {
   "display_name": "Stata",
   "language": "stata",
   "name": "stata"
  },
  "language_info": {
   "codemirror_mode": "stata",
   "file_extension": ".do",
   "mimetype": "text/x-stata",
   "name": "stata",
   "version": "15.1"
  }
 },
 "nbformat": 4,
 "nbformat_minor": 2
}
