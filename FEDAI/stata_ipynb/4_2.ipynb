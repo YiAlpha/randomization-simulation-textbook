{
 "cells": [
  {
   "cell_type": "markdown",
   "metadata": {},
   "source": [
    "# Problem 4.2"
   ]
  },
  {
   "cell_type": "markdown",
   "metadata": {},
   "source": [
    "## part a"
   ]
  },
  {
   "cell_type": "code",
   "execution_count": 1,
   "metadata": {},
   "outputs": [],
   "source": [
    "qui import delim ./data/chapter04/Gendelman_2004, clear\n",
    "set seed 1234567\n",
    "rename treatment D\n",
    "rename posttest Y\n",
    "rename pretest X"
   ]
  },
  {
   "cell_type": "code",
   "execution_count": 2,
   "metadata": {},
   "outputs": [
    {
     "name": "stdout",
     "output_type": "stream",
     "text": [
      "\n",
      "\n",
      "\n",
      "Two-sample randomization test for theta=r(Fs) of Fstat by D\n",
      "\n",
      "Combinations:   48620 = (18 choose 9)\n",
      "Assuming null=0\n",
      "Observed theta: 1.274\n",
      "\n",
      "Minimum time needed for exact test (h:m:s):  0:03:27\n",
      "Mode: exact\n",
      "\n",
      "progress: |........................................|\n",
      "\n",
      " p=0.31345 [one-tailed test of Ho:  theta(D==0)<=theta(D==1)]\n",
      " p=0.76851 [one-tailed test of Ho:  theta(D==0)>=theta(D==1)]\n",
      " p=0.31345 [two-tailed test of Ho:  theta(D==0)==theta(D==1)]\n",
      "\n",
      "Saving log file to 4_2_Fstat.dta...done.\n"
     ]
    }
   ],
   "source": [
    "capture program drop Fstat\n",
    "program define Fstat, rclass\n",
    "\tregress D X\n",
    "    return scalar Fs=e(F)\n",
    "end\n",
    "\n",
    "// calculate 48620 (18 choose 9) permutations\n",
    "tsrtest D r(Fs) using 4_2_Fstat.dta, overwrite: Fstat"
   ]
  },
  {
   "cell_type": "code",
   "execution_count": 3,
   "metadata": {},
   "outputs": [
    {
     "name": "stdout",
     "output_type": "stream",
     "text": [
      "1.2743363\n"
     ]
    }
   ],
   "source": [
    "//ate\n",
    "di r(obsvStat)"
   ]
  },
  {
   "cell_type": "code",
   "execution_count": 4,
   "metadata": {},
   "outputs": [
    {
     "name": "stdout",
     "output_type": "stream",
     "text": [
      ".31345125\n"
     ]
    }
   ],
   "source": [
    "// p.valueb\n",
    "di r(uppertail)"
   ]
  },
  {
   "cell_type": "markdown",
   "metadata": {},
   "source": [
    "## part b"
   ]
  },
  {
   "cell_type": "code",
   "execution_count": 5,
   "metadata": {},
   "outputs": [
    {
     "name": "stdout",
     "output_type": "stream",
     "text": [
      "\n",
      "\n",
      "\n",
      "ATE = -.33333333\n"
     ]
    }
   ],
   "source": [
    "// calculate ate\n",
    "qui reg Y D\n",
    "global tau = _b[D]\n",
    "di \"ATE = \" $tau"
   ]
  },
  {
   "cell_type": "code",
   "execution_count": 6,
   "metadata": {},
   "outputs": [
    {
     "name": "stdout",
     "output_type": "stream",
     "text": [
      "\n",
      "\n",
      "\n",
      "\n",
      "\n",
      "\n",
      "\n",
      "\n",
      "Two-sample randomization test for theta=r(Ys) of ate_ci by D\n",
      "\n",
      "Combinations:   48620 = (18 choose 9)\n",
      "Assuming null=0\n",
      "Observed theta: -.3333\n",
      "\n",
      "Minimum time needed for exact test (h:m:s):  0:03:26\n",
      "Mode: exact\n",
      "\n",
      "progress: |........................................|\n",
      "\n",
      " p=0.50428 [one-tailed test of Ho:  theta(D==0)<=theta(D==1)]\n",
      " p=0.50000 [one-tailed test of Ho:  theta(D==0)>=theta(D==1)]\n",
      " p=0.76450 [two-tailed test of Ho:  theta(D==0)==theta(D==1)]\n",
      "\n",
      "Saving log file to ate_ci.dta...done.\n"
     ]
    }
   ],
   "source": [
    "// RI under the null ate=ate\n",
    "qui gen Y0_sim = Y\n",
    "qui gen Y1_sim = Y\n",
    "qui gen Y_sim = .\n",
    "qui replace Y0_sim = Y - $tau if D==1\n",
    "qui replace Y1_sim = Y + $tau if D==0\n",
    "\t\n",
    "capture program drop ate_ci\n",
    "program define ate_ci, rclass\n",
    "\treplace Y_sim = Y0_sim*(1-D) + Y1_sim*(D) \n",
    "\tregress Y_sim D \n",
    "    return scalar Ys=_b[D]\t\n",
    "end\n",
    "\n",
    "tsrtest D r(Ys) using ate_ci.dta, overwrite: ate_ci"
   ]
  },
  {
   "cell_type": "code",
   "execution_count": 7,
   "metadata": {},
   "outputs": [
    {
     "name": "stdout",
     "output_type": "stream",
     "text": [
      "\n",
      "\n",
      "\n",
      "\n",
      "\n",
      "(-2.259, 1.593)\n",
      "\n"
     ]
    }
   ],
   "source": [
    "preserve\n",
    "use \"ate_ci.dta\", clear\n",
    "qui drop if _n==1\n",
    "\n",
    "sort theta\n",
    "// 95% confidence interval (CI)\n",
    "di \"(\" round(theta[floor(_N*0.025)], 0.001) \", \"round(theta[floor(_N*0.975)], 0.001) \")\"\n",
    "\n",
    "restore"
   ]
  },
  {
   "cell_type": "markdown",
   "metadata": {},
   "source": [
    "## part c"
   ]
  },
  {
   "cell_type": "code",
   "execution_count": 8,
   "metadata": {},
   "outputs": [
    {
     "name": "stdout",
     "output_type": "stream",
     "text": [
      "\n",
      "\n",
      "\n",
      "\n",
      "ATE.improve = 1\n"
     ]
    }
   ],
   "source": [
    "rename improvement Y_improve \n",
    "\n",
    "// calculate ate.improve\n",
    "qui reg Y_improve D\n",
    "global tau_im = _b[D]\n",
    "di \"ATE.improve = \" $tau_im"
   ]
  },
  {
   "cell_type": "code",
   "execution_count": 9,
   "metadata": {},
   "outputs": [],
   "source": [
    "// RI under the null ate=ate.improve\n",
    "qui replace Y0_sim = Y_improve\n",
    "qui replace Y1_sim = Y_improve\n",
    "qui replace Y_sim = .\n",
    "\n",
    "qui replace Y0_sim = Y_improve - $tau_im if D==1\n",
    "qui replace Y1_sim = Y_improve + $tau_im if D==0"
   ]
  },
  {
   "cell_type": "code",
   "execution_count": 10,
   "metadata": {},
   "outputs": [
    {
     "name": "stdout",
     "output_type": "stream",
     "text": [
      "\n",
      "\n",
      "\n",
      "Two-sample randomization test for theta=r(Ys_im) of ate_im_ci by D\n",
      "\n",
      "Combinations:   48620 = (18 choose 9)\n",
      "Assuming null=0\n",
      "Observed theta: 1\n",
      "\n",
      "Minimum time needed for exact test (h:m:s):  0:03:29\n",
      "Mode: exact\n",
      "\n",
      "progress: |........................................|\n",
      "\n",
      " p=0.58739 [one-tailed test of Ho:  theta(D==0)<=theta(D==1)]\n",
      " p=0.59726 [one-tailed test of Ho:  theta(D==0)>=theta(D==1)]\n",
      " p=0.58739 [two-tailed test of Ho:  theta(D==0)==theta(D==1)]\n",
      "\n",
      "Saving log file to ate_im_ci.dta...done.\n"
     ]
    }
   ],
   "source": [
    "capture program drop ate_im_ci\n",
    "program define ate_im_ci, rclass\n",
    "\treplace Y_sim = Y0_sim*(1-D) + Y1_sim*(D) \n",
    "\tregress Y_sim D \n",
    "    return scalar Ys_im=_b[D]\t\n",
    "end\n",
    "\n",
    "tsrtest D r(Ys_im) using ate_im_ci.dta, overwrite: ate_im_ci"
   ]
  },
  {
   "cell_type": "code",
   "execution_count": 11,
   "metadata": {},
   "outputs": [
    {
     "name": "stdout",
     "output_type": "stream",
     "text": [
      "\n",
      "\n",
      "(1 observation deleted)\n",
      "\n",
      "\n",
      "95%CI = (.111 , 1.889)\n"
     ]
    }
   ],
   "source": [
    "use \"ate_im_ci.dta\", clear\n",
    "drop if _n==1\n",
    "\n",
    "sort theta\n",
    "\n",
    "// 95% confidence interval (CI)\n",
    "\n",
    "// 95% CI is different from R result due to rounding\n",
    "// the permutation test is exactly the same\n",
    "\n",
    "di \"95%CI = \" \"(\" round(theta[floor(_N*0.025)], 0.001) \" , \" round(theta[floor(_N*0.975)], 0.001) \")\""
   ]
  }
 ],
 "metadata": {
  "kernelspec": {
   "display_name": "Stata",
   "language": "stata",
   "name": "stata"
  },
  "language_info": {
   "codemirror_mode": "stata",
   "file_extension": ".do",
   "mimetype": "text/x-stata",
   "name": "stata",
   "version": "15.1"
  }
 },
 "nbformat": 4,
 "nbformat_minor": 2
}
