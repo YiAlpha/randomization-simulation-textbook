{
 "cells": [
  {
   "cell_type": "markdown",
   "metadata": {},
   "source": [
    "# Problem 3.11"
   ]
  },
  {
   "cell_type": "markdown",
   "metadata": {},
   "source": [
    "## Part a"
   ]
  },
  {
   "cell_type": "code",
   "execution_count": 1,
   "metadata": {},
   "outputs": [],
   "source": [
    "clear\n",
    "set seed 1234567\n",
    "qui set obs 14"
   ]
  },
  {
   "cell_type": "code",
   "execution_count": 2,
   "metadata": {},
   "outputs": [],
   "source": [
    "qui input Y0 Y1\n",
    "\t0 0\n",
    "\t1 0\n",
    "\t2 1\n",
    "\t4 2\n",
    "\t4 0\n",
    "\t6 0\n",
    "\t6 2\n",
    "\t9 3\n",
    "\t14 12\n",
    "\t15 9\n",
    "\t16 8\n",
    "\t16 15\n",
    "\t17 5 \n",
    "\t18 17 end"
   ]
  },
  {
   "cell_type": "code",
   "execution_count": 3,
   "metadata": {},
   "outputs": [],
   "source": [
    "qui gen int cluster = (_n+1)/2"
   ]
  },
  {
   "cell_type": "code",
   "execution_count": 4,
   "metadata": {},
   "outputs": [],
   "source": [
    "//ssc install tabstatmat  (install the package)\n",
    "// save tabstat summary result to matrix\n",
    "qui tabstat Y0, by(cluster) stat(mean) save\n",
    "qui tabstatmat Ybar0, nototal\n",
    "mat colnames Ybar0=Ybar0\n",
    "\n",
    "qui tabstat Y1, by(cluster) stat(mean) save\n",
    "qui tabstatmat Ybar1, nototal\n",
    "mat colnames Ybar1=Ybar1"
   ]
  },
  {
   "cell_type": "code",
   "execution_count": 5,
   "metadata": {},
   "outputs": [],
   "source": [
    "// function to calculate population variance\n",
    "cap program drop var_pop\n",
    "program define var_pop, rclass\n",
    "\targs varname\t\n",
    "\ttempvar x_dev \n",
    "\tqui sum `varname'\n",
    "\tlocal avg = r(mean)\n",
    "\tlocal length = r(N)\t\n",
    "\tgen `x_dev' = (`varname'-`avg')^2/`length'\n",
    "\tqui tabstat `x_dev', stat(sum) save\n",
    "\treturn scalar variance_pop = el(r(StatTotal),1,1)\n",
    "end"
   ]
  },
  {
   "cell_type": "code",
   "execution_count": 6,
   "metadata": {},
   "outputs": [],
   "source": [
    "// function to calculate population covariance\n",
    "cap program drop cor_pop\n",
    "program define cor_pop, rclass\n",
    "\targs x y\t\n",
    "\ttempvar xy_dev \n",
    "\tqui sum `x'\n",
    "\tlocal avg_x = r(mean)\n",
    "\tlocal length = r(N)\t\n",
    "\t\n",
    "\tqui sum `y'\n",
    "\tlocal avg_y = r(mean)\n",
    "\t\t\n",
    "\tgen `xy_dev' = (`x'-`avg_x')*(`y'-`avg_y')\n",
    "\tqui tabstat `xy_dev', stat(sum) save\n",
    "\treturn scalar cor_pop = el(r(StatTotal),1,1)/`length'\n",
    "end"
   ]
  },
  {
   "cell_type": "code",
   "execution_count": 7,
   "metadata": {},
   "outputs": [
    {
     "name": "stdout",
     "output_type": "stream",
     "text": [
      "\n",
      "\n",
      "\n",
      "\n",
      "number of observations will be reset to 7\n",
      "Press any key to continue, or Break to abort\n",
      "--more--\n"
     ]
    }
   ],
   "source": [
    "preserve \n",
    "clear\n",
    "qui set obs 7\n",
    "svmat Ybar0, names(col)\n",
    "svmat Ybar1, names(col)"
   ]
  },
  {
   "cell_type": "code",
   "execution_count": 8,
   "metadata": {},
   "outputs": [
    {
     "name": "stdout",
     "output_type": "stream",
     "text": [
      "\n",
      "\n",
      "\n",
      "\n",
      "\n",
      "\n",
      "\n",
      "\n",
      "se_ate =4.706192\n",
      "\n"
     ]
    }
   ],
   "source": [
    "// var_Ybar0\t\n",
    "var_pop Ybar0\n",
    "scalar var_Ybar0=r(variance_pop)\n",
    "\n",
    "// var_Ybar1 \n",
    "var_pop Ybar1\n",
    "scalar var_Ybar1=r(variance_pop)\n",
    "\n",
    "// cov_Ybar0 \n",
    "cor_pop Ybar0 Ybar1\n",
    "\n",
    "scalar cov_Ybar0=r(cor_pop)\n",
    "\n",
    "scalar se_ate = sqrt((1/6)*((4/3)*var_Ybar0+(3/4)*var_Ybar1+2*cov_Ybar0))\n",
    "\n",
    "di \"se_ate =\"%8.6f se_ate\n",
    "\n",
    "restore"
   ]
  },
  {
   "cell_type": "markdown",
   "metadata": {},
   "source": [
    "## Part b"
   ]
  },
  {
   "cell_type": "code",
   "execution_count": 9,
   "metadata": {},
   "outputs": [],
   "source": [
    "qui replace cluster = _n\n",
    "qui replace cluster = 15-cluster if (cluster>7)\n",
    "\n",
    "clear matrix\n",
    "// Ybar0\t\n",
    "qui tabstat Y0, by(cluster) stat(mean) save\n",
    "qui tabstatmat Ybar0, nototal\n",
    "mat colnames Ybar0=Ybar0\n",
    "\n",
    "// Ybar1\n",
    "qui tabstat Y1, by(cluster) stat(mean) save\n",
    "qui tabstatmat Ybar1, nototal\n",
    "mat colnames Ybar1=Ybar1"
   ]
  },
  {
   "cell_type": "code",
   "execution_count": 10,
   "metadata": {},
   "outputs": [
    {
     "name": "stdout",
     "output_type": "stream",
     "text": [
      "\n",
      "\n",
      "\n",
      "\n",
      "number of observations will be reset to 7\n",
      "Press any key to continue, or Break to abort\n",
      "--more--\n"
     ]
    }
   ],
   "source": [
    "preserve \n",
    "clear\n",
    "qui set obs 7\n",
    "svmat Ybar0, names(col)\n",
    "svmat Ybar1, names(col)\t"
   ]
  },
  {
   "cell_type": "code",
   "execution_count": 11,
   "metadata": {},
   "outputs": [
    {
     "name": "stdout",
     "output_type": "stream",
     "text": [
      "\n",
      "\n",
      "\n",
      "\n",
      "\n",
      "\n",
      "\n",
      "\n",
      "se_ate =0.9766259\n",
      "\n"
     ]
    }
   ],
   "source": [
    "// var_Ybar0 <- var.pop(Ybar0)\t\n",
    "var_pop Ybar0\n",
    "scalar var_Ybar0=r(variance_pop)\n",
    "\n",
    "// var_Ybar1 <- var.pop(Ybar1)\n",
    "var_pop Ybar1\n",
    "scalar var_Ybar1=r(variance_pop)\n",
    "\n",
    "// cov_Ybar0 <- cov.pop(Ybar0,Ybar1)\n",
    "cor_pop Ybar0 Ybar1\n",
    "scalar cov_Ybar0=r(cor_pop)\n",
    "\n",
    "// se_ate\n",
    "scalar se_ate = sqrt((1/6)*((4/3)*var_Ybar0+(3/4)*var_Ybar1+2*cov_Ybar0))\n",
    "di \"se_ate =\"%8.7f se_ate\n",
    "\n",
    "restore\t"
   ]
  }
 ],
 "metadata": {
  "kernelspec": {
   "display_name": "Stata",
   "language": "stata",
   "name": "stata"
  },
  "language_info": {
   "codemirror_mode": "stata",
   "file_extension": ".do",
   "mimetype": "text/x-stata",
   "name": "stata",
   "version": "15.1"
  }
 },
 "nbformat": 4,
 "nbformat_minor": 2
}
