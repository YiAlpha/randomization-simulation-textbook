{
 "cells": [
  {
   "cell_type": "markdown",
   "metadata": {},
   "source": [
    "# Problem 4.5"
   ]
  },
  {
   "cell_type": "markdown",
   "metadata": {},
   "source": [
    "## part a"
   ]
  },
  {
   "cell_type": "code",
   "execution_count": 1,
   "metadata": {},
   "outputs": [],
   "source": [
    "clear\n",
    "clear matrix\n",
    "clear mata\n",
    "set matsize 11000 \n",
    "set maxvar 32767\n",
    "set seed 1234567\n",
    "set more off"
   ]
  },
  {
   "cell_type": "code",
   "execution_count": 3,
   "metadata": {},
   "outputs": [],
   "source": [
    "// loop to simulte random assignment and save to a matrix \n",
    "\n",
    "cap matrix drop z\n",
    "matrix z=J(40, 10000, .)\n",
    "\n",
    "qui forvalues i = 1/10000 { //create and save 50 permutations of treatment\n",
    "\timport delim \"./data/chapter04/GerberGreenBook_Chapter4_Exercises_4-5.csv\"\n",
    "\ttempvar teststat Z\n",
    "\tgen `Z' = .\n",
    "\tgen `teststat' = -1\n",
    "\twhile `teststat' < 0.05{\n",
    "\t\ttempvar rannum Zri t\n",
    "\t    gen `rannum'=uniform()\n",
    "\t\tegen `Zri' = cut(`rannum'), group(2)\n",
    "\t\tqui reg `Zri' x\n",
    "\t\tgen `t' = _b[x]/_se[x]\t\t\n",
    "\t\treplace `teststat' = 2*ttail(e(df_r),abs(`t'))\t\n",
    "\t}\n",
    "\treplace `Z' = `Zri'\n",
    "\tforvalues j = 1/40 {\n",
    "\tmatrix z[`j', `i'] = `Z'[`j']\n",
    "\t}\n",
    "\tdrop _all\n",
    "}"
   ]
  },
  {
   "cell_type": "code",
   "execution_count": 4,
   "metadata": {},
   "outputs": [
    {
     "name": "stdout",
     "output_type": "stream",
     "text": [
      "\n",
      "\n",
      "\n",
      "\n",
      "\n",
      "\n",
      "\n",
      "\n",
      "\n",
      "Summary for variables: weights\n",
      "     by categories of: D (D)\n",
      "\n",
      "       D |  variance\n",
      "---------+----------\n",
      "       0 |  .0004185\n",
      "       1 |   .000625\n",
      "---------+----------\n",
      "   Total |  .0005084\n",
      "--------------------\n"
     ]
    }
   ],
   "source": [
    "qui import delim \"./data/chapter04/GerberGreenBook_Chapter4_Exercises_4-5.csv\", clear\n",
    "rename d D\n",
    "rename y Y\n",
    "matrix rowm = z * J(colsof(z), 1, 1/colsof(z))\n",
    "matrix colnames rowm=probs\n",
    "svmat double rowm, names(col)\n",
    "\n",
    "qui gen weights = (1/probs)*D +(1/(1-probs))*(1-D)\n",
    "\n",
    "tabstat weights, by(D) stat(v)"
   ]
  },
  {
   "cell_type": "markdown",
   "metadata": {},
   "source": [
    "## part b"
   ]
  },
  {
   "cell_type": "code",
   "execution_count": 5,
   "metadata": {},
   "outputs": [
    {
     "name": "stdout",
     "output_type": "stream",
     "text": [
      "\n",
      "\n",
      "\n",
      "ATE (Restricted Assignment)= 10.712532\n"
     ]
    }
   ],
   "source": [
    "qui reg Y D [pw=weights]\n",
    "global ate_restricted_RA = _b[D]\n",
    "\n",
    "di \"ATE (Restricted Assignment)= \" $ate_restricted_RA"
   ]
  },
  {
   "cell_type": "code",
   "execution_count": 6,
   "metadata": {},
   "outputs": [],
   "source": [
    "svmat z\n",
    "\n",
    "cap matrix drop y_dis\n",
    "matrix y_dis=J(10000, 1, .)\n",
    "\n",
    "forvalues i = 1/10000 {\n",
    "\ttempvar weight`i'\n",
    "\tgen `weight`i'' = (1/probs)*z`i' +(1/(1-probs))*(1-z`i')\n",
    "\tqui reg Y z`i' [pw=`weight`i'']\n",
    "\tmatrix y_dis[`i', 1] = _b[z`i']\n",
    "\n",
    "}"
   ]
  },
  {
   "cell_type": "code",
   "execution_count": 33,
   "metadata": {},
   "outputs": [
    {
     "name": "stdout",
     "output_type": "stream",
     "text": [
      "\n",
      "\n",
      "number of observations will be reset to 10000\n",
      "Press any key to continue, or Break to abort\n",
      "number of observations (_N) was 40, now 10,000\n",
      "\n",
      "\n",
      "  56\n",
      "\n",
      ".0056\n",
      "\n"
     ]
    }
   ],
   "source": [
    "preserve\n",
    "svmat y_dis\n",
    "sort y_dis1\n",
    "\n",
    "// p value\n",
    "count if abs(y_dis1) > abs($ate_restricted_RA)\n",
    "di r(N)/_N\n",
    "restore "
   ]
  },
  {
   "cell_type": "markdown",
   "metadata": {},
   "source": [
    "## part c"
   ]
  },
  {
   "cell_type": "code",
   "execution_count": 34,
   "metadata": {},
   "outputs": [
    {
     "name": "stdout",
     "output_type": "stream",
     "text": [
      "\n",
      "\n",
      "\n",
      "ATE Controlling Covariance (Restricted Assignment)= 5.3186105\n"
     ]
    }
   ],
   "source": [
    "qui reg Y x D [pw=weights]\n",
    "global ate_cov_restricted_RA = _b[D]\n",
    "di \"ATE Controlling Covariance (Restricted Assignment)= \" $ate_cov_restricted_RA "
   ]
  },
  {
   "cell_type": "code",
   "execution_count": 35,
   "metadata": {},
   "outputs": [],
   "source": [
    "cap matrix drop cov_dis\n",
    "matrix cov_dis=J(10000, 1, .)\n",
    "\n",
    "forvalues i = 1/10000{\n",
    "\t\ttempvar weight`i'\n",
    "\t\tgen `weight`i'' = (1/probs)*z`i' +(1/(1-probs))*(1-z`i')\n",
    "\t\tqui reg Y x z`i' [pw=`weight`i'']\t\t\n",
    "\t\tmatrix cov_dis[`i', 1] = _b[z`i']\n",
    "\n",
    "}"
   ]
  },
  {
   "cell_type": "code",
   "execution_count": 36,
   "metadata": {},
   "outputs": [
    {
     "name": "stdout",
     "output_type": "stream",
     "text": [
      "\n",
      "\n",
      "number of observations will be reset to 10000\n",
      "Press any key to continue, or Break to abort\n",
      "number of observations (_N) was 40, now 10,000\n",
      "\n",
      "  28\n",
      "\n",
      ".0028\n",
      "\n"
     ]
    }
   ],
   "source": [
    "preserve\n",
    "svmat cov_dis\n",
    "\n",
    "// p.value controlling covariance\n",
    "count if abs(cov_dis1) > abs($ate_cov_restricted_RA)\n",
    "di r(N)/_N\n",
    "restore "
   ]
  },
  {
   "cell_type": "markdown",
   "metadata": {},
   "source": [
    "## part d"
   ]
  },
  {
   "cell_type": "code",
   "execution_count": 37,
   "metadata": {},
   "outputs": [
    {
     "name": "stdout",
     "output_type": "stream",
     "text": [
      "\n",
      "\n",
      "\n",
      "ATE under Complete Assignment = 10.7\n"
     ]
    }
   ],
   "source": [
    "/*----------------------se_complete_RA------------------------*/\n",
    "\n",
    "// calculate ate_complete_RA\n",
    "qui reg Y D\n",
    "global ate_complete_RA = _b[D]\n",
    "di \"ATE under Complete Assignment = \" $ate_complete_RA"
   ]
  },
  {
   "cell_type": "code",
   "execution_count": 38,
   "metadata": {},
   "outputs": [],
   "source": [
    "// RI under the null ate=ate_complete_RA\n",
    "cap drop Y0_sim Y1_sim Y_sim\n",
    "qui gen Y0_sim = Y\n",
    "qui gen Y1_sim = Y\n",
    "qui gen Y_sim = .\n",
    "qui replace Y0_sim = Y - $ate_complete_RA if D==1\n",
    "qui replace Y1_sim = Y + $ate_complete_RA if D==0"
   ]
  },
  {
   "cell_type": "code",
   "execution_count": 39,
   "metadata": {},
   "outputs": [
    {
     "name": "stdout",
     "output_type": "stream",
     "text": [
      "\n",
      "\n",
      "\n",
      "Two-sample randomization test for theta=r(Ys_complete_RA) of ate_complete_RA_ri by D\n",
      "\n",
      "Combinations:   137846528820 = (40 choose 20)\n",
      "Assuming null=0\n",
      "Observed theta: 10.7\n",
      "\n",
      "Minimum time needed for exact test (h:m:s):  392479:42:00\n",
      "Reverting to Monte Carlo simulation.\n",
      "Mode: simulation (10000 repetitions)\n",
      "\n",
      "progress: |........................................|\n",
      "\n",
      " p=0.48995 [one-tailed test of Ho:  theta(D==0)<=theta(D==1)]\n",
      " p=0.50995 [one-tailed test of Ho:  theta(D==0)>=theta(D==1)]\n",
      " p=0.48995 [two-tailed test of Ho:  theta(D==0)==theta(D==1)]\n",
      "\n",
      "Saving log file to distout_complete_RA.dta...done.\n"
     ]
    }
   ],
   "source": [
    "capture program drop ate_complete_RA_ri\n",
    "program define ate_complete_RA_ri, rclass\n",
    "\treplace Y_sim = Y0_sim*(1-D) + Y1_sim*(D) \n",
    "\tregress Y_sim D \n",
    "    return scalar Ys_complete_RA=_b[D]\t\n",
    "end\n",
    "\n",
    "tsrtest D r(Ys_complete_RA) using distout_complete_RA.dta, overwrite: ///\n",
    " ate_complete_RA_ri"
   ]
  },
  {
   "cell_type": "code",
   "execution_count": 40,
   "metadata": {},
   "outputs": [
    {
     "name": "stdout",
     "output_type": "stream",
     "text": [
      "\n",
      "\n",
      "\n",
      "\n",
      "\n",
      "    variable |        sd\n",
      "-------------+----------\n",
      "       theta |  4.673591\n",
      "------------------------\n",
      "\n"
     ]
    }
   ],
   "source": [
    "// calculate se_complete_RA\n",
    "preserve\n",
    "use \"distout_complete_RA.dta\", clear\n",
    "qui drop if _n==1\n",
    "tabstat theta, stat(sd)\n",
    "restore "
   ]
  },
  {
   "cell_type": "code",
   "execution_count": 41,
   "metadata": {},
   "outputs": [
    {
     "name": "stdout",
     "output_type": "stream",
     "text": [
      "\n",
      "\n",
      "\n",
      "ATE Controlling Covariance under Complete Assignment= 5.3155362\n"
     ]
    }
   ],
   "source": [
    "/*--------------------se_cov_complete_RA--------------------------*/\n",
    "\n",
    "// calculate ate_cov_complete_RA\n",
    "qui reg Y D x\n",
    "global ate_cov_complete_RA = _b[D]\n",
    "di \"ATE Controlling Covariance under Complete Assignment= \" $ate_cov_complete_RA"
   ]
  },
  {
   "cell_type": "code",
   "execution_count": 42,
   "metadata": {},
   "outputs": [],
   "source": [
    "// RI under the null ate= ate_cov_complete_RA\n",
    "cap drop Y0_sim Y1_sim Y_sim\n",
    "qui gen Y0_sim = Y\n",
    "qui gen Y1_sim = Y\n",
    "qui gen Y_sim = .\n",
    "qui replace Y0_sim = Y - $ate_cov_complete_RA if D==1\n",
    "qui replace Y1_sim = Y + $ate_cov_complete_RA if D==0"
   ]
  },
  {
   "cell_type": "code",
   "execution_count": 43,
   "metadata": {
    "scrolled": true
   },
   "outputs": [
    {
     "name": "stdout",
     "output_type": "stream",
     "text": [
      "\n",
      "\n",
      "\n",
      "Two-sample randomization test for theta=r(Ys_cov_complete_RA) of ate_cov_complete_RA_ri by D\n",
      "\n",
      "Combinations:   137846528820 = (40 choose 20)\n",
      "Assuming null=0\n",
      "Observed theta: 5.316\n",
      "\n",
      "Minimum time needed for exact test (h:m:s):  408561:47:43\n",
      "Reverting to Monte Carlo simulation.\n",
      "Mode: simulation (10000 repetitions)\n",
      "\n",
      "progress: |........................................|\n",
      "\n",
      " p=0.50495 [one-tailed test of Ho:  theta(D==0)<=theta(D==1)]\n",
      " p=0.49495 [one-tailed test of Ho:  theta(D==0)>=theta(D==1)]\n",
      " p=0.50495 [two-tailed test of Ho:  theta(D==0)==theta(D==1)]\n",
      "\n",
      "Saving log file to distout_cov_complete_RA.dta...done.\n"
     ]
    }
   ],
   "source": [
    "capture program drop ate_cov_complete_RA_ri\n",
    "program define ate_cov_complete_RA_ri, rclass\n",
    "\treplace Y_sim = Y0_sim*(1-D) + Y1_sim*(D) \n",
    "\tregress Y_sim D x\n",
    "    return scalar Ys_cov_complete_RA=_b[D]\t\n",
    "end\n",
    "\n",
    "tsrtest D r(Ys_cov_complete_RA) using distout_cov_complete_RA.dta, overwrite: ///\n",
    " ate_cov_complete_RA_ri"
   ]
  },
  {
   "cell_type": "code",
   "execution_count": 44,
   "metadata": {},
   "outputs": [
    {
     "name": "stdout",
     "output_type": "stream",
     "text": [
      "\n",
      "\n",
      "\n",
      "\n",
      "\n",
      "    variable |        sd\n",
      "-------------+----------\n",
      "       theta |  1.577595\n",
      "------------------------\n",
      "\n"
     ]
    }
   ],
   "source": [
    "// calculate se_cov_complete_RA\n",
    "preserve\n",
    "use \"distout_cov_complete_RA.dta\", clear\n",
    "qui drop if _n==1\n",
    "tabstat theta, stat(sd)\n",
    "restore "
   ]
  },
  {
   "cell_type": "code",
   "execution_count": 45,
   "metadata": {},
   "outputs": [
    {
     "name": "stdout",
     "output_type": "stream",
     "text": [
      "ATE under Restricted Assignment= 10.712532\n"
     ]
    }
   ],
   "source": [
    "/*--------------------se_restricted_RA--------------------------*/\n",
    "\n",
    "// calculate ate_restricted_RA\n",
    "di \"ATE under Restricted Assignment= \" $ate_restricted_RA"
   ]
  },
  {
   "cell_type": "code",
   "execution_count": 46,
   "metadata": {},
   "outputs": [],
   "source": [
    "// RI under the null ate= ate_restricted_RA\n",
    "cap drop Y0_sim Y1_sim Y_sim\n",
    "qui gen Y0_sim = Y\n",
    "qui gen Y1_sim = Y\n",
    "qui gen Y_sim = .\n",
    "qui replace Y0_sim = Y - $ate_restricted_RA if D==1\n",
    "qui replace Y1_sim = Y + $ate_restricted_RA if D==0"
   ]
  },
  {
   "cell_type": "code",
   "execution_count": 57,
   "metadata": {},
   "outputs": [],
   "source": [
    "// clean space\n",
    "drop __00*"
   ]
  },
  {
   "cell_type": "code",
   "execution_count": 52,
   "metadata": {},
   "outputs": [],
   "source": [
    "cap matrix drop distout_restricted_RA\n",
    "matrix distout_restricted_RA=J(10000, 1, .)\n",
    "\n",
    "qui forvalues i = 1/10000 {\n",
    "\t\ttempvar weight`i'\n",
    "\t\tgen `weight`i'' = (1/probs)*z`i' +(1/(1-probs))*(1-z`i')\n",
    "\t\t\n",
    "\t\treplace Y_sim = Y0_sim*(1-z`i') + Y1_sim*(z`i')\n",
    "\t\t\n",
    "\t\tqui reg Y_sim z`i' [pw=`weight`i'']\n",
    "\t\t\n",
    "\t\tmatrix distout_restricted_RA[`i', 1] = _b[z`i']\n",
    "\n",
    "}\n"
   ]
  },
  {
   "cell_type": "code",
   "execution_count": 53,
   "metadata": {},
   "outputs": [
    {
     "name": "stdout",
     "output_type": "stream",
     "text": [
      "\n",
      "\n",
      "number of observations will be reset to 10000\n",
      "Press any key to continue, or Break to abort\n",
      "number of observations (_N) was 40, now 10,000\n",
      "\n",
      "\n",
      "    variable |        sd\n",
      "-------------+----------\n",
      "distout_re~1 |  4.139767\n",
      "------------------------\n",
      "\n"
     ]
    }
   ],
   "source": [
    "/*se_restricted_RA*/\n",
    "preserve\n",
    "svmat distout_restricted_RA\n",
    "tabstat distout_restricted_RA, stat(sd)\n",
    "restore "
   ]
  },
  {
   "cell_type": "code",
   "execution_count": 54,
   "metadata": {},
   "outputs": [
    {
     "name": "stdout",
     "output_type": "stream",
     "text": [
      "ATE Controlling Covariance(Restricted Assignment)= 5.3186105\n"
     ]
    }
   ],
   "source": [
    "/*---------------------se_cov_restricted_RA-------------------------*/\n",
    "\n",
    "// calculate ate_restricted_RA\n",
    "di \"ATE Controlling Covariance(Restricted Assignment)= \" $ate_cov_restricted_RA"
   ]
  },
  {
   "cell_type": "code",
   "execution_count": 55,
   "metadata": {},
   "outputs": [],
   "source": [
    "// RI under the null ate= ate_cov_restricted_RA\n",
    "\n",
    "cap drop Y0_sim Y1_sim Y_sim\n",
    "qui gen Y0_sim = Y\n",
    "qui gen Y1_sim = Y\n",
    "qui gen Y_sim = .\n",
    "qui replace Y0_sim = Y - $ate_cov_restricted_RA if D==1\n",
    "qui replace Y1_sim = Y + $ate_cov_restricted_RA if D==0"
   ]
  },
  {
   "cell_type": "code",
   "execution_count": 57,
   "metadata": {},
   "outputs": [],
   "source": [
    "// clean space\n",
    "drop __00*"
   ]
  },
  {
   "cell_type": "code",
   "execution_count": 58,
   "metadata": {},
   "outputs": [],
   "source": [
    "cap matrix drop distout_cov_restricted_RA \n",
    "matrix distout_cov_restricted_RA=J(10000, 1, .)\n",
    "\n",
    "\n",
    "qui forvalues i = 1/10000 {\n",
    "\t\treplace Y_sim = Y0_sim*(1-z`i') + Y1_sim*(z`i')\n",
    "\t\ttempvar weight`i'\n",
    "\t\tgen `weight`i'' = (1/probs)*z`i' +(1/(1-probs))*(1-z`i')\n",
    "\t\t\n",
    "\t\tqui reg Y_sim x z`i' [pw=`weight`i'']\t\n",
    "\t\tmatrix distout_cov_restricted_RA[`i', 1] = _b[z`i']\n",
    "\n",
    "}"
   ]
  },
  {
   "cell_type": "code",
   "execution_count": 59,
   "metadata": {},
   "outputs": [
    {
     "name": "stdout",
     "output_type": "stream",
     "text": [
      "\n",
      "\n",
      "number of observations will be reset to 10000\n",
      "Press any key to continue, or Break to abort\n",
      "number of observations (_N) was 40, now 10,000\n",
      "\n",
      "\n",
      "    variable |        sd\n",
      "-------------+----------\n",
      "distout_co~1 |  1.592966\n",
      "------------------------\n",
      "\n"
     ]
    }
   ],
   "source": [
    "/*se_restricted_RA*/\n",
    "preserve\n",
    "svmat distout_cov_restricted_RA \n",
    "tabstat distout_cov_restricted_RA, stat(sd)\n",
    "restore "
   ]
  }
 ],
 "metadata": {
  "kernelspec": {
   "display_name": "Stata",
   "language": "stata",
   "name": "stata"
  },
  "language_info": {
   "codemirror_mode": "stata",
   "file_extension": ".do",
   "mimetype": "text/x-stata",
   "name": "stata",
   "version": "15.1"
  }
 },
 "nbformat": 4,
 "nbformat_minor": 2
}
