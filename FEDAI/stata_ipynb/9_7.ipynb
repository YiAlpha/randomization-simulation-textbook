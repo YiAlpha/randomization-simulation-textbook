{
 "cells": [
  {
   "cell_type": "markdown",
   "metadata": {},
   "source": [
    "# Problem 9.7"
   ]
  },
  {
   "cell_type": "code",
   "execution_count": 1,
   "metadata": {},
   "outputs": [],
   "source": [
    "clear\n",
    "qui set obs 4870\n",
    "qui egen y = fill(1,1)\n",
    "qui replace y = 0 in 39/542\n",
    "qui replace y = 0 in 598/1084\n",
    "qui replace y = 0 in 1131/1625\n",
    "qui replace y = 0 in 1697/2166\n",
    "qui replace y=0 in 2204/2836\n",
    "qui replace y=0 in 2885/3506\n",
    "qui replace y=0 in 3543/4188\n",
    "qui replace y=0 in 4250/4870\n",
    "\n",
    "qui egen boston = fill(1,1)\n",
    "qui replace boston = 0 in 2167/4870\n",
    "qui gen chicago = 1-boston\n",
    "qui egen lowquality = fill(1,1)\n",
    "qui replace lowquality = 0 in 1085/2166\n",
    "qui replace lowquality = 0 in 3507/4870\n",
    "qui gen highquality = 1-lowquality\n",
    "qui egen black = fill(1,1)\n",
    "qui replace black = 0 in 543/1084\n",
    "qui replace black = 0 in 1626/2166\n",
    "qui replace black = 0 in 2837/3506\n",
    "qui replace black = 0 in 4188/4870\n",
    "qui replace black = 0 in 4189/4870\n",
    "qui gen white = 1-black\n",
    "\n",
    "qui gen whitehighquality = white*highquality\n",
    "qui gen whitechicago = white*chicago\n",
    "qui gen highqualitychicago = highquality*chicago\n",
    "qui gen whitehighqualitychicago = white * highquality * chicago"
   ]
  },
  {
   "cell_type": "code",
   "execution_count": 2,
   "metadata": {},
   "outputs": [],
   "source": [
    "// fit_1\n",
    "qui regress y white highquality chicago whitehighquality ///\n",
    "whitechicago highqualitychicago whitehighqualitychicago\n",
    "estimates store m1, title(Model 1)\n",
    "\n",
    "gen blackhighquality = black*highquality\n",
    "gen blackchicago = black*chicago\n",
    "gen blackhighqualitychicago = black * highquality * chicago"
   ]
  },
  {
   "cell_type": "code",
   "execution_count": 3,
   "metadata": {},
   "outputs": [],
   "source": [
    "// fit_2\n",
    "qui regress y black highquality chicago blackhighquality ///\n",
    "blackchicago highqualitychicago blackhighqualitychicago\t\n",
    "estimates store m2, title(Model 2)"
   ]
  },
  {
   "cell_type": "code",
   "execution_count": 4,
   "metadata": {},
   "outputs": [],
   "source": [
    "// fit_3\n",
    "gen whiteboston = white*boston\n",
    "gen highqualityboston = highquality*boston\n",
    "gen whitehighqualityboston = white * highquality * boston\n",
    "qui regress y white highquality boston whitehighquality ///\n",
    "whiteboston highqualityboston whitehighqualityboston\n",
    "\n",
    "estimates store m3, title(Model 3)"
   ]
  },
  {
   "cell_type": "code",
   "execution_count": 5,
   "metadata": {},
   "outputs": [],
   "source": [
    "// fit_4\n",
    "gen blacklowquality = black*lowquality\n",
    "gen lowqualitychicago = lowquality*chicago\n",
    "gen blacklowqualitychicago = black * lowquality * chicago\n",
    "qui regress y black lowquality chicago blacklowquality ///\n",
    "blackchicago lowqualitychicago blacklowqualitychicago\n",
    "\n",
    "estimates store m4, title(Model 4)"
   ]
  },
  {
   "cell_type": "code",
   "execution_count": 6,
   "metadata": {},
   "outputs": [
    {
     "name": "stdout",
     "output_type": "stream",
     "text": [
      "\n",
      "------------------------------------------------------------------------------------\n",
      "                          Model 1         Model 2         Model 3         Model 4   \n",
      "                             b/se            b/se            b/se            b/se   \n",
      "------------------------------------------------------------------------------------\n",
      "white                       0.031*                          0.016                   \n",
      "                          (0.016)                         (0.015)                   \n",
      "highquality                 0.015           0.030*         -0.002                   \n",
      "                          (0.016)         (0.016)         (0.015)                   \n",
      "chicago                    -0.015          -0.030*                         -0.042***\n",
      "                          (0.016)         (0.016)                         (0.016)   \n",
      "whitehighquality            0.015                           0.020                   \n",
      "                          (0.023)                         (0.021)                   \n",
      "whitechicago               -0.015                                                   \n",
      "                          (0.022)                                                   \n",
      "highqualitychicago         -0.017          -0.012                                   \n",
      "                          (0.022)         (0.022)                                   \n",
      "whitehighqualitych~o        0.005                                                   \n",
      "                          (0.031)                                                   \n",
      "black                                      -0.031*                         -0.046***\n",
      "                                          (0.016)                         (0.016)   \n",
      "blackhighquality                           -0.015                                   \n",
      "                                          (0.023)                                   \n",
      "blackchicago                                0.015                           0.010   \n",
      "                                          (0.022)                         (0.022)   \n",
      "blackhighqualitych~o                       -0.005                                   \n",
      "                                          (0.031)                                   \n",
      "boston                                                      0.015                   \n",
      "                                                          (0.016)                   \n",
      "whiteboston                                                 0.015                   \n",
      "                                                          (0.022)                   \n",
      "highqualityboston                                           0.017                   \n",
      "                                                          (0.022)                   \n",
      "whitehighqualitybo~n                                       -0.005                   \n",
      "                                                          (0.031)                   \n",
      "lowquality                                                                 -0.030*  \n",
      "                                                                          (0.016)   \n",
      "blacklowquality                                                             0.015   \n",
      "                                                                          (0.023)   \n",
      "lowqualitychicago                                                           0.012   \n",
      "                                                                          (0.022)   \n",
      "blacklowqualitychi~o                                                        0.005   \n",
      "                                                                          (0.031)   \n",
      "constant                    0.070***        0.101***        0.055***        0.131***\n",
      "                          (0.012)         (0.012)         (0.010)         (0.012)   \n",
      "------------------------------------------------------------------------------------\n",
      "N                            4870            4870            4870            4870   \n",
      "R-squared                   0.008           0.008           0.008           0.008   \n",
      "Ajusted-R2                  0.006           0.006           0.006           0.006   \n",
      "Residual_Std_Error          0.271           0.271           0.271           0.271   \n",
      "F-Statistic                 5.349           5.349           5.349           5.349   \n",
      "------------------------------------------------------------------------------------\n",
      "* p<0.10, ** p<0.05, *** p<0.010\n"
     ]
    }
   ],
   "source": [
    "estout m1 m2 m3 m4, cells(b(star fmt(3)) se(par fmt(3))) ///\n",
    "starlevels( * 0.10 ** 0.05 *** 0.010) ///\n",
    "legend label varlabels(_cons constant) ///\n",
    "stats(N r2 r2_a rmse F, fmt(0 3 3 3 3) ///\n",
    "label(N R-squared Ajusted-R2 Residual_Std_Error F-Statistic))"
   ]
  }
 ],
 "metadata": {
  "kernelspec": {
   "display_name": "Stata",
   "language": "stata",
   "name": "stata"
  },
  "language_info": {
   "codemirror_mode": "stata",
   "file_extension": ".do",
   "mimetype": "text/x-stata",
   "name": "stata",
   "version": "15.1"
  }
 },
 "nbformat": 4,
 "nbformat_minor": 2
}
