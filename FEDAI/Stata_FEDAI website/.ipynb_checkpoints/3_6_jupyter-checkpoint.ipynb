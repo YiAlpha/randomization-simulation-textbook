{
 "cells": [
  {
   "cell_type": "code",
   "execution_count": 1,
   "metadata": {},
   "outputs": [
    {
     "name": "stdout",
     "output_type": "stream",
     "text": [
      "\n",
      "(8 vars, 958 obs)\n",
      "\n"
     ]
    }
   ],
   "source": [
    "import delim \"Clingingsmith_et_al_QJE_2009dta.csv\",clear\n",
    "set seed 1234567"
   ]
  },
  {
   "cell_type": "code",
   "execution_count": 2,
   "metadata": {},
   "outputs": [
    {
     "name": "stdout",
     "output_type": "stream",
     "text": [
      "\n",
      "\n",
      "\n",
      "\n",
      "\n",
      "Two-sample randomization test for theta=r(ate_avg) of ate Y D by D\n",
      "\n",
      "Combinations:   8.4503047638e+285 = (958 choose 448)\n",
      "Assuming null=0\n",
      "Observed theta: .4748\n",
      "\n",
      "Minimum time needed for exact test (h:m:s):  3.2e+278:00:0-1.3e+266\n",
      "Reverting to Monte Carlo simulation.\n",
      "Mode: simulation (10000 repetitions)\n",
      "\n",
      "progress: |........................................|\n",
      "\n",
      " p=0.00190 [one-tailed test of Ho:  theta(D==0)<=theta(D==1)]\n",
      " p=0.99830 [one-tailed test of Ho:  theta(D==0)>=theta(D==1)]\n",
      " p=0.00360 [two-tailed test of Ho:  theta(D==0)==theta(D==1)]\n",
      "\n",
      "Saving log file to 3_6_resam.dta...done.\n"
     ]
    }
   ],
   "source": [
    "rename success D\n",
    "rename views Y\n",
    "\n",
    "//findit tsrtest\n",
    "//package name:  st0158.pkg install\n",
    "\n",
    "cap program drop ate\n",
    "program define ate, rclass\n",
    "\targs Y D\n",
    "    sum `Y' if `D'==1, meanonly\n",
    "    local Y_treat=r(mean)\n",
    "    sum `Y' if `D'==0, meanonly\n",
    "    local Y_con=r(mean)\n",
    "    return scalar ate_avg = `Y_treat'-`Y_con'\n",
    "end\n",
    "\n",
    "// ssc install tsrtest\n",
    "tsrtest D r(ate_avg) using 3_6_resam.dta, overwrite: ate Y D"
   ]
  },
  {
   "cell_type": "code",
   "execution_count": 11,
   "metadata": {
    "scrolled": true
   },
   "outputs": [
    {
     "name": "stdout",
     "output_type": "stream",
     "text": [
      "\n",
      "\n",
      "\n",
      "estimated ATE: .4748337\n",
      "\n",
      "(1 observation deleted)\n",
      "\n",
      "\n",
      "Count of Simulated ATE > estimated ATE: 16\n",
      "\n",
      "\n",
      "One-side p-value:   0.0019\n",
      "\n",
      "\n",
      "Count of absolute value Simulated ATE > estimated ATE: 33\n",
      "\n",
      "\n",
      "Two-side p-value:   0.0036\n"
     ]
    }
   ],
   "source": [
    "preserve \n",
    "use \"3_6_resam.dta\", clear\n",
    "global ate = theta[1]\n",
    "di \"estimated ATE: \"$ate\n",
    "drop if _n==1\n",
    "qui count if theta > $ate\n",
    "di \"Count of Simulated ATE > estimated ATE: \"  r(N)\n",
    "qui count if theta >= $ate\n",
    "di \"One-side p-value: \" %8.4f r(N)/_N\n",
    "qui count if abs(theta) > abs($ate)\n",
    "di \"Count of absolute value Simulated ATE > estimated ATE: \" r(N)\n",
    "qui count if abs(theta) >= abs($ate)\n",
    "di \"Two-side p-value: \" %8.4f r(N)/_N\n",
    "restore"
   ]
  },
  {
   "cell_type": "code",
   "execution_count": null,
   "metadata": {},
   "outputs": [],
   "source": []
  }
 ],
 "metadata": {
  "kernelspec": {
   "display_name": "Stata",
   "language": "stata",
   "name": "stata"
  },
  "language_info": {
   "codemirror_mode": "stata",
   "file_extension": ".do",
   "mimetype": "text/x-stata",
   "name": "stata",
   "version": "15.1"
  }
 },
 "nbformat": 4,
 "nbformat_minor": 2
}
