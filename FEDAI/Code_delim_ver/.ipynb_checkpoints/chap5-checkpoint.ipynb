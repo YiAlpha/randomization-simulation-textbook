{
 "cells": [
  {
   "cell_type": "markdown",
   "metadata": {},
   "source": [
    "# Chapter 5"
   ]
  },
  {
   "cell_type": "markdown",
   "metadata": {},
   "source": [
    "## R code in the book"
   ]
  },
  {
   "cell_type": "markdown",
   "metadata": {},
   "source": [
    "### Box 5.4: ITT"
   ]
  },
  {
   "cell_type": "code",
   "execution_count": 1,
   "metadata": {},
   "outputs": [],
   "source": [
    "data1 <- read.csv(file=\"Gerber_Green_APSRsubset_2005.csv\",head=TRUE,sep=\",\")\n",
    "# select one-person households that were either pure controls or canvass only\n",
    "sel <-  data1$onetreat==1 & data1$mailings==0 & data1$phongotv==0 & data1$persons==1\n",
    "# verify the number of observations\n",
    "data2 <- data1[sel,]"
   ]
  },
  {
   "cell_type": "code",
   "execution_count": 2,
   "metadata": {},
   "outputs": [],
   "source": [
    "# define variables\n",
    "VOTED      <- data2$v98\n",
    "ASSIGNED <- data2$persngrp\n",
    "TREATED   <- data2$cntany"
   ]
  },
  {
   "cell_type": "code",
   "execution_count": 3,
   "metadata": {},
   "outputs": [
    {
     "name": "stderr",
     "output_type": "stream",
     "text": [
      "Loading required package: car\n",
      "Loading required package: carData\n",
      "Loading required package: lmtest\n",
      "Loading required package: zoo\n",
      "\n",
      "Attaching package: ‘zoo’\n",
      "\n",
      "The following objects are masked from ‘package:base’:\n",
      "\n",
      "    as.Date, as.Date.numeric\n",
      "\n",
      "Loading required package: sandwich\n",
      "Loading required package: survival\n"
     ]
    }
   ],
   "source": [
    "#Load Relevant packages\n",
    "library(AER)\n",
    "library(sandwich)"
   ]
  },
  {
   "cell_type": "code",
   "execution_count": 4,
   "metadata": {},
   "outputs": [
    {
     "data": {
      "text/plain": [
       "\n",
       "t test of coefficients:\n",
       "\n",
       "            Estimate Std. Error t value  Pr(>|t|)    \n",
       "(Intercept) 0.375376   0.006446 58.2344 < 2.2e-16 ***\n",
       "ASSIGNED    0.038464   0.014479  2.6565  0.007914 ** \n",
       "---\n",
       "Signif. codes:  0 ‘***’ 0.001 ‘**’ 0.01 ‘*’ 0.05 ‘.’ 0.1 ‘ ’ 1\n"
      ]
     },
     "metadata": {},
     "output_type": "display_data"
    }
   ],
   "source": [
    "# Box 5.4: ITT\n",
    "# robust SEs\n",
    "itt_fit <- lm(VOTED ~ ASSIGNED)\n",
    "coeftest(itt_fit,vcovHC(itt_fit))"
   ]
  },
  {
   "cell_type": "code",
   "execution_count": 5,
   "metadata": {},
   "outputs": [
    {
     "data": {
      "text/plain": [
       "\n",
       "t test of coefficients:\n",
       "\n",
       "              Estimate Std. Error t value  Pr(>|t|)    \n",
       "(Intercept) 2.5284e-14 6.3517e-16  39.806 < 2.2e-16 ***\n",
       "ASSIGNED    2.7336e-01 1.1733e-02  23.299 < 2.2e-16 ***\n",
       "---\n",
       "Signif. codes:  0 ‘***’ 0.001 ‘**’ 0.01 ‘*’ 0.05 ‘.’ 0.1 ‘ ’ 1\n"
      ]
     },
     "metadata": {},
     "output_type": "display_data"
    }
   ],
   "source": [
    "# Box 5.5: ITT_D\n",
    "# robust SEs\n",
    "itt_d_fit <- lm(TREATED ~ ASSIGNED)\n",
    "coeftest(itt_d_fit,vcovHC(itt_d_fit))"
   ]
  },
  {
   "cell_type": "code",
   "execution_count": 6,
   "metadata": {
    "scrolled": true
   },
   "outputs": [
    {
     "data": {
      "text/plain": [
       "\n",
       "t test of coefficients:\n",
       "\n",
       "            Estimate Std. Error t value Pr(>|t|)    \n",
       "(Intercept) 0.375376   0.006446 58.2344   <2e-16 ***\n",
       "TREATED     0.140711   0.052434  2.6836   0.0073 ** \n",
       "---\n",
       "Signif. codes:  0 ‘***’ 0.001 ‘**’ 0.01 ‘*’ 0.05 ‘.’ 0.1 ‘ ’ 1\n"
      ]
     },
     "metadata": {},
     "output_type": "display_data"
    }
   ],
   "source": [
    "# Box 5.6: CACE\n",
    "# robust SEs\n",
    "cace_fit <- ivreg(VOTED ~ TREATED,~ASSIGNED)\n",
    "coeftest(cace_fit,vcovHC(cace_fit))"
   ]
  },
  {
   "cell_type": "markdown",
   "metadata": {},
   "source": [
    "### Stata Code"
   ]
  },
  {
   "cell_type": "code",
   "execution_count": 1,
   "metadata": {},
   "outputs": [
    {
     "name": "stdout",
     "output_type": "stream",
     "text": [
      "\n",
      "(26 vars, 31098 obs)\n",
      "\n",
      "(24,008 observations deleted)\n",
      "\n",
      "\n",
      "\n"
     ]
    }
   ],
   "source": [
    "import delimit Gerber_Green_APSRsubset_2005,clear\n",
    "// select one-person households that were either pure controls or canvass only\n",
    "keep if onetreat==1 & mailings==0 & phongotv==0 & persons==1\n",
    "rename v98 VOTED\n",
    "rename persngrp ASSIGNED\n",
    "rename cntany TREATED"
   ]
  },
  {
   "cell_type": "markdown",
   "metadata": {},
   "source": [
    "### Box 5.4: ITT"
   ]
  },
  {
   "cell_type": "code",
   "execution_count": 2,
   "metadata": {
    "scrolled": true
   },
   "outputs": [
    {
     "name": "stdout",
     "output_type": "stream",
     "text": [
      "\n",
      "Linear regression                               Number of obs     =      7,090\n",
      "                                                F(1, 7088)        =       7.06\n",
      "                                                Prob > F          =     0.0079\n",
      "                                                R-squared         =     0.0010\n",
      "                                                Root MSE          =     .48599\n",
      "\n",
      "------------------------------------------------------------------------------\n",
      "             |             Robust HC3\n",
      "       VOTED |      Coef.   Std. Err.      t    P>|t|     [95% Conf. Interval]\n",
      "-------------+----------------------------------------------------------------\n",
      "    ASSIGNED |   .0384644   .0144795     2.66   0.008     .0100802    .0668485\n",
      "       _cons |   .3753764    .006446    58.23   0.000     .3627404    .3880124\n",
      "------------------------------------------------------------------------------\n"
     ]
    }
   ],
   "source": [
    "reg VOTED ASSIGNED, vce(hc3)"
   ]
  },
  {
   "cell_type": "markdown",
   "metadata": {},
   "source": [
    "### Box 5.5: ITT_D "
   ]
  },
  {
   "cell_type": "code",
   "execution_count": 3,
   "metadata": {
    "scrolled": true
   },
   "outputs": [
    {
     "name": "stdout",
     "output_type": "stream",
     "text": [
      "\n",
      "Linear regression                               Number of obs     =      7,090\n",
      "                                                F(1, 7088)        =     542.84\n",
      "                                                Prob > F          =     0.0000\n",
      "                                                R-squared         =     0.2305\n",
      "                                                Root MSE          =     .20123\n",
      "\n",
      "------------------------------------------------------------------------------\n",
      "             |             Robust HC3\n",
      "     TREATED |      Coef.   Std. Err.      t    P>|t|     [95% Conf. Interval]\n",
      "-------------+----------------------------------------------------------------\n",
      "    ASSIGNED |   .2733564   .0117325    23.30   0.000     .2503571    .2963557\n",
      "       _cons |  -1.26e-14   4.41e-10    -0.00   1.000    -8.64e-10    8.64e-10\n",
      "------------------------------------------------------------------------------\n"
     ]
    }
   ],
   "source": [
    "reg TREATED ASSIGNED, vce(hc3)"
   ]
  },
  {
   "cell_type": "markdown",
   "metadata": {},
   "source": [
    "### Box 5.6: CACE"
   ]
  },
  {
   "cell_type": "code",
   "execution_count": 4,
   "metadata": {},
   "outputs": [
    {
     "name": "stdout",
     "output_type": "stream",
     "text": [
      "\n",
      "Instrumental variables (2SLS) regression          Number of obs   =      7,090\n",
      "                                                  Wald chi2(1)    =       7.21\n",
      "                                                  Prob > chi2     =     0.0072\n",
      "                                                  R-squared       =     0.0063\n",
      "                                                  Root MSE        =     .48464\n",
      "\n",
      "------------------------------------------------------------------------------\n",
      "             |               Robust\n",
      "       VOTED |      Coef.   Std. Err.      z    P>|z|     [95% Conf. Interval]\n",
      "-------------+----------------------------------------------------------------\n",
      "     TREATED |   .1407115   .0524015     2.69   0.007     .0380065    .2434165\n",
      "       _cons |   .3753764   .0064448    58.24   0.000     .3627448    .3880081\n",
      "------------------------------------------------------------------------------\n",
      "Instrumented:  TREATED\n",
      "Instruments:   ASSIGNED\n"
     ]
    }
   ],
   "source": [
    "ivregress 2sls VOTED (TREATED =ASSIGNED), vce(robust)"
   ]
  },
  {
   "cell_type": "code",
   "execution_count": null,
   "metadata": {},
   "outputs": [],
   "source": []
  }
 ],
 "metadata": {
  "kernelspec": {
   "display_name": "R",
   "language": "R",
   "name": "ir"
  },
  "language_info": {
   "codemirror_mode": "r",
   "file_extension": ".r",
   "mimetype": "text/x-r-source",
   "name": "R",
   "pygments_lexer": "r",
   "version": "3.5.2"
  }
 },
 "nbformat": 4,
 "nbformat_minor": 2
}
