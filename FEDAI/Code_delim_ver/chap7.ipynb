{
 "cells": [
  {
   "cell_type": "markdown",
   "metadata": {},
   "source": [
    "# Chapter 7"
   ]
  },
  {
   "cell_type": "code",
   "execution_count": 5,
   "metadata": {},
   "outputs": [
    {
     "name": "stderr",
     "output_type": "stream",
     "text": [
      "The following objects are masked from dataS (pos = 3):\n",
      "\n",
      "    age, checkid, match_i, match_i7, match_ic, match_ic7, math,\n",
      "    mathcens1, mathcens10, phone, read, readcens1, readcens10,\n",
      "    sex_name, vouch0, X\n",
      "\n",
      "The following objects are masked from dataS (pos = 4):\n",
      "\n",
      "    age, checkid, match_i, match_i7, match_ic, match_ic7, math,\n",
      "    mathcens1, mathcens10, phone, read, readcens1, readcens10,\n",
      "    sex_name, vouch0, X\n",
      "\n"
     ]
    }
   ],
   "source": [
    "rm(list=ls())\n",
    "library(foreign)\n",
    "\n",
    "# Load raw data\n",
    "dataR <- read.csv(\"Angrist_et_al_AER_2006.csv\",head=TRUE,sep=\",\")\n",
    "\n",
    "# Subset data, keeping if age >= 9 & age <= 25 & checkid == 1\n",
    "dataS <- dataR[dataR$age >= 9 & dataR$age <= 25 & dataR$checkid == 1,]\n",
    "\n",
    "# Fix NA\n",
    "dataS$read[is.na(dataS$read)] <- 0\n",
    "\n",
    "# having prepped the data for use, now attach the dataset locally\n",
    "attach(dataS)\n",
    "\n",
    "sex <- sex_name\n"
   ]
  },
  {
   "cell_type": "code",
   "execution_count": 6,
   "metadata": {},
   "outputs": [
    {
     "data": {
      "text/plain": [
       "    Min.  1st Qu.   Median     Mean  3rd Qu.     Max. \n",
       "0.005258 0.090593 0.295256 0.302246 0.413661 0.887591 "
      ]
     },
     "metadata": {},
     "output_type": "display_data"
    }
   ],
   "source": [
    "# Generate a variable (\"observed\") indicating whether or not the unit is observed (r_i=1)\n",
    "observed <- 1 - (read == 0)\n",
    "\n",
    "# Use logistic regression to predict probabilities of being observed\n",
    "probobs <- glm(observed~(vouch0*sex)+(vouch0*phone)+(vouch0*age),family=binomial(link=\"logit\"))$fitted\n",
    "\n",
    "# Compare distributions of predicted probabilities across experimental conditions\n",
    "# Check to make sure that there are no zero predicted probabilities in either condition\n",
    "summary(probobs[vouch0==0])"
   ]
  },
  {
   "cell_type": "code",
   "execution_count": 7,
   "metadata": {},
   "outputs": [
    {
     "data": {
      "text/plain": [
       "    Min.  1st Qu.   Median     Mean  3rd Qu.     Max. \n",
       "0.006938 0.237711 0.449397 0.375784 0.503739 0.872052 "
      ]
     },
     "metadata": {},
     "output_type": "display_data"
    }
   ],
   "source": [
    "summary(probobs[vouch0==1])"
   ]
  },
  {
   "cell_type": "code",
   "execution_count": 8,
   "metadata": {},
   "outputs": [],
   "source": [
    "# Generate weights: inverse of predicted probability of being observed\n",
    "wt <- 1/probobs"
   ]
  },
  {
   "cell_type": "code",
   "execution_count": 9,
   "metadata": {},
   "outputs": [
    {
     "data": {
      "text/plain": [
       "sel_valid\n",
       "FALSE  TRUE \n",
       " 2319  1223 "
      ]
     },
     "metadata": {},
     "output_type": "display_data"
    }
   ],
   "source": [
    "# Restrict analysis to observed subjects.\n",
    "sel_valid <- observed == 1\n",
    "table(sel_valid)\n"
   ]
  },
  {
   "cell_type": "code",
   "execution_count": 10,
   "metadata": {},
   "outputs": [
    {
     "data": {
      "text/html": [
       "<dl class=dl-horizontal>\n",
       "\t<dt>(Intercept)</dt>\n",
       "\t\t<dd>46.9208148492351</dd>\n",
       "\t<dt>vouch0</dt>\n",
       "\t\t<dd>0.682737757271807</dd>\n",
       "</dl>\n"
      ],
      "text/latex": [
       "\\begin{description*}\n",
       "\\item[(Intercept)] 46.9208148492351\n",
       "\\item[vouch0] 0.682737757271807\n",
       "\\end{description*}\n"
      ],
      "text/markdown": [
       "(Intercept)\n",
       ":   46.9208148492351vouch0\n",
       ":   0.682737757271807\n",
       "\n"
      ],
      "text/plain": [
       "(Intercept)      vouch0 \n",
       " 46.9208148   0.6827378 "
      ]
     },
     "metadata": {},
     "output_type": "display_data"
    }
   ],
   "source": [
    "# Coefficients for unweighted regression (restricting analysis to observed subjects)\n",
    "lm(read~vouch0,subset=sel_valid)$coefficients"
   ]
  },
  {
   "cell_type": "code",
   "execution_count": 11,
   "metadata": {},
   "outputs": [
    {
     "data": {
      "text/html": [
       "<dl class=dl-horizontal>\n",
       "\t<dt>(Intercept)</dt>\n",
       "\t\t<dd>46.4378181846688</dd>\n",
       "\t<dt>vouch0</dt>\n",
       "\t\t<dd>0.723030349366462</dd>\n",
       "</dl>\n"
      ],
      "text/latex": [
       "\\begin{description*}\n",
       "\\item[(Intercept)] 46.4378181846688\n",
       "\\item[vouch0] 0.723030349366462\n",
       "\\end{description*}\n"
      ],
      "text/markdown": [
       "(Intercept)\n",
       ":   46.4378181846688vouch0\n",
       ":   0.723030349366462\n",
       "\n"
      ],
      "text/plain": [
       "(Intercept)      vouch0 \n",
       " 46.4378182   0.7230303 "
      ]
     },
     "metadata": {},
     "output_type": "display_data"
    }
   ],
   "source": [
    "# Coefficients for IPW regression (restricting analysis to observed subjects)\n",
    "lm(read~vouch0,weights=wt,subset=sel_valid)$coefficients\n"
   ]
  },
  {
   "cell_type": "markdown",
   "metadata": {},
   "source": [
    "## Stata"
   ]
  },
  {
   "cell_type": "code",
   "execution_count": 10,
   "metadata": {
    "scrolled": true
   },
   "outputs": [
    {
     "name": "stdout",
     "output_type": "stream",
     "text": [
      "\n",
      "(15 vars, 4044 obs)\n",
      "\n",
      "(502 observations deleted)\n"
     ]
    }
   ],
   "source": [
    "import delim Angrist_et_al_AER_2006, clear\n",
    "\n",
    "// Subset data, keeping if age >= 9 & age <= 25 & checkid == 1\n",
    "keep if age >= 9 & age <= 25 & checkid == 1\n",
    "\n"
   ]
  },
  {
   "cell_type": "code",
   "execution_count": 11,
   "metadata": {},
   "outputs": [
    {
     "name": "stdout",
     "output_type": "stream",
     "text": [
      "\n",
      "\n",
      "\n",
      "\n",
      ". rename sex_name sex\n"
     ]
    }
   ],
   "source": [
    "// Fix NA\n",
    "//install dm67_4.pkg\n",
    "qui nmissing\n",
    "\n",
    "global mis_var=r(varlist) \n",
    "\n",
    "qui foreach var of varlist $mis_var {\n",
    "replace `var' = 0 if missing(`var')\n",
    "}\n",
    "\n",
    "rename sex_name sex"
   ]
  },
  {
   "cell_type": "code",
   "execution_count": 12,
   "metadata": {},
   "outputs": [
    {
     "name": "stdout",
     "output_type": "stream",
     "text": [
      "\n",
      "\n",
      "\n",
      "\n",
      "\n",
      "\n",
      "\n",
      "(option mu assumed; predicted mean observed)\n"
     ]
    }
   ],
   "source": [
    "// Generate a variable (\"observed\") indicating \n",
    "// whether or not the unit is observed (r_i=1)\n",
    "gen observed = 1 - (read == 0)\n",
    "\n",
    "recast int vouch0 sex age phone\n",
    "\n",
    "gen vouch0sex = vouch0*sex\n",
    "gen vouch0phone = vouch0*phone\n",
    "gen vouch0age = vouch0*age\n",
    "\n",
    "// Use logistic regression to predict probabilities of being observed\n",
    "qui glm observed vouch0 sex phone age vouch0sex vouch0phone vouch0age, family(binomial)\n",
    "\n",
    "predict probobs"
   ]
  },
  {
   "cell_type": "code",
   "execution_count": 13,
   "metadata": {},
   "outputs": [
    {
     "name": "stdout",
     "output_type": "stream",
     "text": [
      "\n",
      "\n",
      "Summary for variables: probobs\n",
      "     by categories of: vouch0 \n",
      "\n",
      "  vouch0 |       min       p25       p50      mean       p75       max\n",
      "---------+------------------------------------------------------------\n",
      "       0 |  .0052578  .0905925  .2952563  .3022464  .4136614   .887591\n",
      "       1 |  .0069381  .2377109  .4493973  .3757839  .5037394  .8720517\n",
      "----------------------------------------------------------------------\n",
      "\n"
     ]
    }
   ],
   "source": [
    "// Compare distributions of predicted probabilities across experimental conditions\n",
    "// Check to make sure that there are no zero predicted probabilities in either condition\n",
    "tabstat probobs, by(vouch0) stat(min p25 med mean p75 max) nototal\n",
    "\n",
    "\n",
    "// Generate weights: inverse of predicted probability of being observed\n",
    "gen wt=1/probobs"
   ]
  },
  {
   "cell_type": "code",
   "execution_count": 14,
   "metadata": {},
   "outputs": [
    {
     "name": "stdout",
     "output_type": "stream",
     "text": [
      "\n",
      "\n",
      "\n",
      "  sel_valid |      Freq.     Percent        Cum.\n",
      "------------+-----------------------------------\n",
      "          0 |      2,319       65.47       65.47\n",
      "          1 |      1,223       34.53      100.00\n",
      "------------+-----------------------------------\n",
      "      Total |      3,542      100.00\n"
     ]
    }
   ],
   "source": [
    "// Restrict analysis to observed subjects.\n",
    "gen sel_valid = observed == 1\n",
    "tab sel_valid"
   ]
  },
  {
   "cell_type": "code",
   "execution_count": 15,
   "metadata": {},
   "outputs": [
    {
     "name": "stdout",
     "output_type": "stream",
     "text": [
      "\n",
      "\n",
      "\n",
      "\n",
      "unweight[1,2]\n",
      "       vouch0      _cons\n",
      "y1  .68273776  46.920815\n"
     ]
    }
   ],
   "source": [
    "//Coefficients for unweighted regression (restricting analysis to observed subjects)\n",
    "\n",
    "qui reg read vouch0 if sel_valid == 1\n",
    "mat unweight = e(b)\n",
    "mat li unweight"
   ]
  },
  {
   "cell_type": "code",
   "execution_count": 16,
   "metadata": {},
   "outputs": [
    {
     "name": "stdout",
     "output_type": "stream",
     "text": [
      "\n",
      "\n",
      "\n",
      "\n",
      "weighted[1,2]\n",
      "       vouch0      _cons\n",
      "y1  .72303035  46.437818\n"
     ]
    }
   ],
   "source": [
    "// Coefficients for IPW regression (restricting analysis to observed subjects)\n",
    "qui reg read vouch0 [iw=wt] if sel_valid == 1\n",
    "mat weighted = e(b)\n",
    "mat li weighted"
   ]
  },
  {
   "cell_type": "code",
   "execution_count": null,
   "metadata": {},
   "outputs": [],
   "source": []
  }
 ],
 "metadata": {
  "kernelspec": {
   "display_name": "Stata",
   "language": "stata",
   "name": "stata"
  },
  "language_info": {
   "codemirror_mode": "stata",
   "file_extension": ".do",
   "mimetype": "text/x-stata",
   "name": "stata",
   "version": "15.1"
  }
 },
 "nbformat": 4,
 "nbformat_minor": 2
}
