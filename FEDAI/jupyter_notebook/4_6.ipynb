{
 "cells": [
  {
   "cell_type": "markdown",
   "metadata": {},
   "source": [
    "# Problem 4.6"
   ]
  },
  {
   "cell_type": "markdown",
   "metadata": {},
   "source": [
    "## part a"
   ]
  },
  {
   "cell_type": "code",
   "execution_count": 2,
   "metadata": {},
   "outputs": [],
   "source": [
    "clear\n",
    "qui import delim  ./data/chapter04/OBrien_Patsiorkovski_ICPSR_1999,clear\n",
    "\n",
    "qui recode sexresp6 ( 2 = 1) (1 = 0), gen(female)\n",
    "qui recode memberc6 ( 1 = 1) (else = 0), gen(church_member)"
   ]
  },
  {
   "cell_type": "code",
   "execution_count": 3,
   "metadata": {},
   "outputs": [
    {
     "name": "stdout",
     "output_type": "stream",
     "text": [
      "\n",
      "\n",
      "  0.3937\n"
     ]
    }
   ],
   "source": [
    "// fit1\n",
    "qui reg index96 index95 i.female i.church_member i.group6\n",
    "disp %8.4f e(r2)"
   ]
  },
  {
   "cell_type": "code",
   "execution_count": 4,
   "metadata": {},
   "outputs": [
    {
     "name": "stdout",
     "output_type": "stream",
     "text": [
      "\n",
      "\n",
      " 0.02828\n"
     ]
    }
   ],
   "source": [
    "// fit2\n",
    "qui reg index96 i.female i.church_member i.group6\n",
    "disp %8.5f e(r2)"
   ]
  },
  {
   "cell_type": "markdown",
   "metadata": {},
   "source": [
    "## part b"
   ]
  },
  {
   "cell_type": "code",
   "execution_count": 8,
   "metadata": {},
   "outputs": [],
   "source": [
    "//ssc install randtreat (install the package for random assigment)\n",
    "qui randtreat, generate(treat) strata(female church_member index96 group6) misfits(wglobal)"
   ]
  },
  {
   "cell_type": "code",
   "execution_count": 9,
   "metadata": {},
   "outputs": [
    {
     "name": "stdout",
     "output_type": "stream",
     "text": [
      "\n",
      "      Source |       SS           df       MS      Number of obs   =       462\n",
      "-------------+----------------------------------   F(6, 455)       =      0.03\n",
      "       Model |  .042679933         6  .007113322   Prob > F        =    0.9999\n",
      "    Residual |   115.45732       455  .253752352   R-squared       =    0.0004\n",
      "-------------+----------------------------------   Adj R-squared   =   -0.0128\n",
      "       Total |       115.5       461  .250542299   Root MSE        =    .50374\n",
      "\n",
      "-------------------------------------------------------------------------------\n",
      "        treat |      Coef.   Std. Err.      t    P>|t|     [95% Conf. Interval]\n",
      "--------------+----------------------------------------------------------------\n",
      "       female |  -.0075749   .0552815    -0.14   0.891    -.1162136    .1010638\n",
      "church_member |   .0134376   .0817447     0.16   0.870    -.1472064    .1740816\n",
      "              |\n",
      "       group6 |\n",
      "           2  |  -.0484915   .1590765    -0.30   0.761    -.3611072    .2641243\n",
      "           3  |  -.0451665   .1563562    -0.29   0.773    -.3524364    .2621034\n",
      "           4  |  -.0456885   .2234276    -0.20   0.838    -.4847664    .3933895\n",
      "              |\n",
      "      index96 |   -.001982   .0129813    -0.15   0.879    -.0274928    .0235288\n",
      "        _cons |   .5608169   .1703183     3.29   0.001     .2261088     .895525\n",
      "-------------------------------------------------------------------------------\n"
     ]
    }
   ],
   "source": [
    "// coefficient is different due to the nature of random assignment\n",
    "// but the R-squred is similar 0.00, meaning the balance hold on \n",
    "// the covariates\n",
    "regress treat female church_member i.group6 index96"
   ]
  },
  {
   "cell_type": "markdown",
   "metadata": {},
   "source": [
    "## part d"
   ]
  },
  {
   "cell_type": "code",
   "execution_count": 12,
   "metadata": {},
   "outputs": [
    {
     "name": "stdout",
     "output_type": "stream",
     "text": [
      "\n",
      "\n",
      "\n",
      "\n",
      "\n",
      "\n",
      "\n",
      "\n",
      "\n",
      "Average Estimate (complete)    0.00\n",
      "\n",
      "Standard Error (complete)    0.17\n"
     ]
    }
   ],
   "source": [
    "set seed 1234567\n",
    "// complete assignment\n",
    "clear*\n",
    "\n",
    "capture program drop com_ra\n",
    "program define com_ra, rclass\n",
    "import delim  ./data/chapter04/OBrien_Patsiorkovski_ICPSR_1999,clear\n",
    "capture drop complete\n",
    "randtreat, generate(complete)\n",
    "regress index97 complete\n",
    "return scalar coef = _b[complete]\n",
    "exit\n",
    "end\n",
    "\n",
    "qui simulate  coef=r(coef), reps(10000): com_ra\n",
    "qui sum\n",
    "scalar complete_est = r(mean)\n",
    "scalar complete_sd = r(sd)\n",
    "\n",
    "di \"Average Estimate (complete)\" %8.2f complete_est\n",
    "di \"Standard Error (complete)\"%8.2f complete_sd"
   ]
  },
  {
   "cell_type": "code",
   "execution_count": 13,
   "metadata": {},
   "outputs": [
    {
     "name": "stdout",
     "output_type": "stream",
     "text": [
      "\n",
      "\n",
      "\n",
      "\n",
      "\n",
      "\n",
      "\n",
      "Average Estimate (adjusted)   -0.00\n",
      "\n",
      "Standard Error (adjusted)    0.13\n"
     ]
    }
   ],
   "source": [
    "// adjusted\n",
    "capture program drop adj_ra\n",
    "program define adj_ra, rclass\n",
    "import delim  ./data/chapter04/OBrien_Patsiorkovski_ICPSR_1999,clear\n",
    "capture drop complete\n",
    "randtreat, generate(complete)\n",
    "regress index97 complete sexresp6 memberc6 i.group6 index96\n",
    "return scalar coef = _b[complete]\n",
    "exit\n",
    "end\n",
    "\n",
    "\n",
    "qui simulate  coef=r(coef), reps(10000): adj_ra\n",
    "qui sum\n",
    "scalar adjusted_est = r(mean)\n",
    "scalar adjusted_sd = r(sd)\n",
    "\n",
    "di \"Average Estimate (adjusted)\"%8.2f adjusted_est\n",
    "di \"Standard Error (adjusted)\"%8.2f adjusted_sd\n"
   ]
  },
  {
   "cell_type": "code",
   "execution_count": 14,
   "metadata": {},
   "outputs": [
    {
     "name": "stdout",
     "output_type": "stream",
     "text": [
      "\n",
      "\n",
      "\n",
      "\n",
      "\n",
      "\n",
      "\n",
      "Average Estimate (blocked)    0.00\n",
      "\n",
      "Standard Error (blocked)    0.12\n"
     ]
    }
   ],
   "source": [
    "// blocked\n",
    "capture program drop block_ra\n",
    "program define block_ra, rclass\n",
    "import delim  ./data/chapter04/OBrien_Patsiorkovski_ICPSR_1999,clear\n",
    "capture drop block\n",
    "randtreat, generate(block) strata(sexresp6 memberc6 group6 index96) misfits(wglobal)\n",
    "regress index97 block\n",
    "return scalar coef = _b[block]\n",
    "exit\n",
    "end\n",
    "\n",
    "\n",
    "qui simulate  coef=r(coef), reps(10000): block_ra\n",
    "qui sum\n",
    "scalar block_est = r(mean)\n",
    "scalar block_sd = r(sd)\n",
    "\n",
    "di \"Average Estimate (blocked)\"%8.2f block_est\n",
    "di \"Standard Error (blocked)\"%8.2f block_sd"
   ]
  },
  {
   "cell_type": "code",
   "execution_count": 15,
   "metadata": {},
   "outputs": [
    {
     "name": "stdout",
     "output_type": "stream",
     "text": [
      "\n",
      "    0.00   -0.00    0.00\n",
      "\n",
      "    0.17    0.13    0.12\n"
     ]
    }
   ],
   "source": [
    "// pool results together\n",
    "disp %8.2f complete_est %8.2f adjusted_est %8.2f block_est\n",
    "disp %8.2f complete_sd %8.2f adjusted_sd %8.2f block_sd"
   ]
  }
 ],
 "metadata": {
  "kernelspec": {
   "display_name": "Stata",
   "language": "stata",
   "name": "stata"
  },
  "language_info": {
   "codemirror_mode": "stata",
   "file_extension": ".do",
   "mimetype": "text/x-stata",
   "name": "stata",
   "version": "15.1"
  }
 },
 "nbformat": 4,
 "nbformat_minor": 2
}
