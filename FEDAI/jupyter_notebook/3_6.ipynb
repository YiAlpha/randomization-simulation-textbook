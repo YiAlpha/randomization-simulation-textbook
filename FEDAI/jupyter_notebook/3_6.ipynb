{
 "cells": [
  {
   "cell_type": "markdown",
   "metadata": {},
   "source": [
    "# Problem 3.6"
   ]
  },
  {
   "cell_type": "code",
   "execution_count": 2,
   "metadata": {},
   "outputs": [],
   "source": [
    "qui import delim ./data/chapter03/Clingingsmith_et_al_QJE_2009,clear\n",
    "set seed 1234567\n",
    "\n",
    "rename success D\n",
    "rename views Y"
   ]
  },
  {
   "cell_type": "code",
   "execution_count": 3,
   "metadata": {},
   "outputs": [],
   "source": [
    "cap program drop ate\n",
    "program define ate, rclass\n",
    "\targs Y D\n",
    "    sum `Y' if `D'==1, meanonly\n",
    "    local Y_treat=r(mean)\n",
    "    sum `Y' if `D'==0, meanonly\n",
    "    local Y_con=r(mean)\n",
    "    return scalar ate_avg = `Y_treat'-`Y_con'\n",
    "end"
   ]
  },
  {
   "cell_type": "code",
   "execution_count": 4,
   "metadata": {},
   "outputs": [
    {
     "name": "stdout",
     "output_type": "stream",
     "text": [
      "Two-sample randomization test for theta=r(ate_avg) of ate Y D by D\n",
      "\n",
      "Combinations:   8.4503047638e+285 = (958 choose 448)\n",
      "Assuming null=0\n",
      "Observed theta: .4748\n",
      "\n",
      "Minimum time needed for exact test (h:m:s):  3.8e+278:00:00\n",
      "Reverting to Monte Carlo simulation.\n",
      "Mode: simulation (10000 repetitions)\n",
      "\n",
      "progress: |........................................|\n",
      "\n",
      " p=0.00190 [one-tailed test of Ho:  theta(D==0)<=theta(D==1)]\n",
      " p=0.99830 [one-tailed test of Ho:  theta(D==0)>=theta(D==1)]\n",
      " p=0.00360 [two-tailed test of Ho:  theta(D==0)==theta(D==1)]\n",
      "\n",
      "Saving log file to 3_6_resam.dta...done.\n"
     ]
    }
   ],
   "source": [
    "// uncomment to install tsrtest package\n",
    "// net install st0158.pkg, from(http://www.stata-journal.com/software/sj9-1/) replace\n",
    "tsrtest D r(ate_avg) using 3_6_resam.dta, overwrite: ate Y D"
   ]
  },
  {
   "cell_type": "code",
   "execution_count": 10,
   "metadata": {},
   "outputs": [
    {
     "name": "stdout",
     "output_type": "stream",
     "text": [
      "\n",
      "\n",
      "\n",
      "\n",
      "ate = .4748337\n",
      "\n",
      "\n",
      "\n",
      "\n",
      "\n",
      "\n",
      "p.value.onesided = .0019\n",
      "\n",
      "p.value.twosided = .0036\n",
      "\n"
     ]
    }
   ],
   "source": [
    "preserve \n",
    "use \"3_6_resam.dta\", clear\n",
    "global ate = theta[1]\n",
    "di \"ate = \"$ate\n",
    "qui drop if _n==1\n",
    "qui count if theta >= $ate\n",
    "scalar p_onesided = r(N)/_N\n",
    "qui count if abs(theta) >= $ate\n",
    "scalar p_twosided = r(N)/_N\n",
    "di \"p.value.onesided = \"p_onesided\n",
    "di \"p.value.twosided = \"p_twosided \n",
    "restore"
   ]
  }
 ],
 "metadata": {
  "kernelspec": {
   "display_name": "Stata",
   "language": "stata",
   "name": "stata"
  },
  "language_info": {
   "codemirror_mode": "stata",
   "file_extension": ".do",
   "mimetype": "text/x-stata",
   "name": "stata",
   "version": "15.1"
  }
 },
 "nbformat": 4,
 "nbformat_minor": 2
}
