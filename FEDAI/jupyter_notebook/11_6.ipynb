{
 "cells": [
  {
   "cell_type": "markdown",
   "metadata": {},
   "source": [
    "# Problem 11.6"
   ]
  },
  {
   "cell_type": "markdown",
   "metadata": {},
   "source": [
    "## Part a"
   ]
  },
  {
   "cell_type": "code",
   "execution_count": 1,
   "metadata": {},
   "outputs": [
    {
     "name": "stdout",
     "output_type": "stream",
     "text": [
      "\n",
      "\n",
      "\n",
      "\n",
      "\n",
      ".06919727\n"
     ]
    }
   ],
   "source": [
    "clear\n",
    "scalar p_c_MI06 = 8755/26481\n",
    "scalar p_t_MI06 = 2123/5310\n",
    "global ATE_MI06 = p_t_MI06 - p_c_MI06\n",
    "disp $ATE_MI06"
   ]
  },
  {
   "cell_type": "code",
   "execution_count": 2,
   "metadata": {},
   "outputs": [
    {
     "name": "stdout",
     "output_type": "stream",
     "text": [
      "\n",
      "\n",
      "\n",
      "\n",
      ".05048232\n"
     ]
    }
   ],
   "source": [
    "scalar p_c_MI07 = 88960/348227\n",
    "scalar p_t_MI07 = 3791/12391\n",
    "global ATE_MI07 = p_t_MI07 - p_c_MI07\n",
    "disp $ATE_MI07"
   ]
  },
  {
   "cell_type": "code",
   "execution_count": 3,
   "metadata": {},
   "outputs": [
    {
     "name": "stdout",
     "output_type": "stream",
     "text": [
      "\n",
      "\n",
      "\n",
      "\n",
      ".04173304\n"
     ]
    }
   ],
   "source": [
    "scalar p_c_IL09 = 2600/15676\n",
    "scalar p_t_IL09 = 1936/9326\n",
    "global ATE_IL09 = p_t_IL09 - p_c_IL09\n",
    "disp $ATE_IL09"
   ]
  },
  {
   "cell_type": "markdown",
   "metadata": {},
   "source": [
    "## Part b"
   ]
  },
  {
   "cell_type": "code",
   "execution_count": 4,
   "metadata": {},
   "outputs": [
    {
     "name": "stdout",
     "output_type": "stream",
     "text": [
      "\n",
      "\n",
      ".00731764\n"
     ]
    }
   ],
   "source": [
    "global SE_MI06 = sqrt((p_t_MI06 * (1-p_t_MI06))/5310 + ///\n",
    "(p_c_MI06 * (1-p_c_MI06))/26481)\n",
    "disp $SE_MI06"
   ]
  },
  {
   "cell_type": "code",
   "execution_count": 5,
   "metadata": {},
   "outputs": [
    {
     "name": "stdout",
     "output_type": "stream",
     "text": [
      "\n",
      "\n",
      ".00420513\n"
     ]
    }
   ],
   "source": [
    "global SE_MI07 = sqrt((p_t_MI07 * (1-p_t_MI07))/12391 + ///\n",
    "(p_c_MI07 * (1-p_c_MI07))/348227)\n",
    "disp $SE_MI07"
   ]
  },
  {
   "cell_type": "code",
   "execution_count": 6,
   "metadata": {},
   "outputs": [
    {
     "name": "stdout",
     "output_type": "stream",
     "text": [
      "\n",
      "\n",
      ".00514433\n"
     ]
    }
   ],
   "source": [
    "global SE_IL09 = sqrt((p_t_IL09 * (1-p_t_IL09))/9326 + ///\n",
    "(p_c_IL09 * (1-p_c_IL09))/15676)\n",
    "disp $SE_IL09"
   ]
  },
  {
   "cell_type": "code",
   "execution_count": 7,
   "metadata": {},
   "outputs": [],
   "source": [
    "global prec_MI06 = 1/$SE_MI06^2\n",
    "global prec_MI07 = 1/$SE_MI07^2\n",
    "global prec_IL09 = 1/$SE_IL09^2"
   ]
  },
  {
   "cell_type": "code",
   "execution_count": 8,
   "metadata": {},
   "outputs": [
    {
     "name": "stdout",
     "output_type": "stream",
     "text": [
      "\n",
      "18674.87\n",
      "\n",
      "56551.044\n",
      "\n",
      "37786.98\n"
     ]
    }
   ],
   "source": [
    "disp $prec_MI06\n",
    "disp $prec_MI07\n",
    "disp $prec_IL09"
   ]
  },
  {
   "cell_type": "markdown",
   "metadata": {},
   "source": [
    "## Part c"
   ]
  },
  {
   "cell_type": "code",
   "execution_count": 9,
   "metadata": {},
   "outputs": [
    {
     "name": "stdout",
     "output_type": "stream",
     "text": [
      "\n",
      "\n",
      ".05064947\n"
     ]
    }
   ],
   "source": [
    "scalar weighted_mean = ($ATE_MI06*$prec_MI06 + ///\n",
    "$ATE_MI07*$prec_MI07 + ///\n",
    "$ATE_IL09*$prec_IL09)/($prec_MI06+$prec_MI07+$prec_IL09)\n",
    "disp weighted_mean"
   ]
  },
  {
   "cell_type": "markdown",
   "metadata": {},
   "source": [
    "## Part e"
   ]
  },
  {
   "cell_type": "code",
   "execution_count": 10,
   "metadata": {},
   "outputs": [
    {
     "name": "stdout",
     "output_type": "stream",
     "text": [
      "\n",
      "\n",
      "number of observations (_N) was 0, now 3\n",
      "\n",
      "(3 missing values generated)\n",
      "\n",
      "(1 real change made)\n",
      "\n",
      "(1 real change made)\n",
      "\n",
      "(1 real change made)\n",
      "\n",
      "(3 missing values generated)\n",
      "\n",
      "(1 real change made)\n",
      "\n",
      "(1 real change made)\n",
      "\n",
      "(1 real change made)\n"
     ]
    }
   ],
   "source": [
    "clear\n",
    "set obs 3\n",
    "gen ate = .\n",
    "replace ate = $ATE_MI06 if _n ==1\n",
    "replace ate = $ATE_MI07 if _n ==2\n",
    "replace ate = $ATE_IL09 if _n ==3\n",
    "\n",
    "gen ate_se = .\n",
    "replace ate_se = $SE_MI06 if _n ==1\n",
    "replace ate_se = $SE_MI07 if _n ==2\n",
    "replace ate_se = $SE_IL09 if _n ==3\t"
   ]
  },
  {
   "cell_type": "code",
   "execution_count": 11,
   "metadata": {},
   "outputs": [],
   "source": [
    "qui metaan ate ate_se, fe"
   ]
  },
  {
   "cell_type": "code",
   "execution_count": 12,
   "metadata": {},
   "outputs": [
    {
     "name": "stdout",
     "output_type": "stream",
     "text": [
      ".05064947\n"
     ]
    }
   ],
   "source": [
    "//  inverse-variance weighted effect\n",
    "disp  r(eff) "
   ]
  },
  {
   "cell_type": "code",
   "execution_count": 13,
   "metadata": {},
   "outputs": [
    {
     "name": "stdout",
     "output_type": "stream",
     "text": [
      ".00297465\n"
     ]
    }
   ],
   "source": [
    "//  inverse-variance weighted se\n",
    "disp  sqrt(r(effvar))"
   ]
  }
 ],
 "metadata": {
  "kernelspec": {
   "display_name": "Stata",
   "language": "stata",
   "name": "stata"
  },
  "language_info": {
   "codemirror_mode": "stata",
   "file_extension": ".do",
   "mimetype": "text/x-stata",
   "name": "stata",
   "version": "15.1"
  }
 },
 "nbformat": 4,
 "nbformat_minor": 2
}
