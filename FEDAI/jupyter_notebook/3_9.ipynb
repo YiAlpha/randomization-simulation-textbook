{
 "cells": [
  {
   "cell_type": "markdown",
   "metadata": {},
   "source": [
    "# Problem 3.9"
   ]
  },
  {
   "cell_type": "code",
   "execution_count": 4,
   "metadata": {},
   "outputs": [],
   "source": [
    "qui import delim ./data/chapter03/Camerer_JPEsubset_1998, clear\n",
    "set seed 1234567"
   ]
  },
  {
   "cell_type": "markdown",
   "metadata": {},
   "source": [
    "## Part b"
   ]
  },
  {
   "cell_type": "code",
   "execution_count": 5,
   "metadata": {},
   "outputs": [],
   "source": [
    "rename treatment D\n",
    "rename pair block\n",
    "rename preexperimentbets covs"
   ]
  },
  {
   "cell_type": "code",
   "execution_count": 6,
   "metadata": {},
   "outputs": [
    {
     "name": "stdout",
     "output_type": "stream",
     "text": [
      "\n",
      "\n",
      "\n",
      "      Source |       SS           df       MS      Number of obs   =        34\n",
      "-------------+----------------------------------   F(1, 32)        =      0.02\n",
      "       Model |  .005024372         1  .005024372   Prob > F        =    0.8914\n",
      "    Residual |  8.49497563        32  .265467988   R-squared       =    0.0006\n",
      "-------------+----------------------------------   Adj R-squared   =   -0.0306\n",
      "       Total |         8.5        33  .257575758   Root MSE        =    .51524\n",
      "\n",
      "------------------------------------------------------------------------------\n",
      "           D |      Coef.   Std. Err.      t    P>|t|     [95% Conf. Interval]\n",
      "-------------+----------------------------------------------------------------\n",
      "        covs |  -.0000386   .0002809    -0.14   0.891    -.0006109    .0005336\n",
      "       _cons |   .5137818   .1335793     3.85   0.001     .2416896     .785874\n",
      "------------------------------------------------------------------------------\n",
      "\n",
      "      command:  regress D covs\n",
      "        _pm_1:  e(F)\n",
      "  res. var(s):  D\n",
      "   Resampling:  Permuting D\n",
      "Clust. var(s):  __000005\n",
      "     Clusters:  34\n",
      "Strata var(s):  block\n",
      "       Strata:  17\n",
      "\n",
      "------------------------------------------------------------------------------\n",
      "T            |     T(obs)       c       n   p=c/n   SE(p) [95% Conf. Interval]\n",
      "-------------+----------------------------------------------------------------\n",
      "       _pm_1 |   .0189265    3736   10000  0.3736  0.0048  .3641064   .3831672\n",
      "------------------------------------------------------------------------------\n",
      "Note: Confidence interval is with respect to p=c/n.\n",
      "Note: c = #{T >= T(obs)}\n",
      "\n",
      ".3736\n"
     ]
    }
   ],
   "source": [
    "// calculate probs under block assignment\n",
    "qui bysort block: egen probs=mean(D)\n",
    "\n",
    "// permuation to calculate F stat and one-side P value\n",
    "ritest D e(F), strata(block) reps(10000) right nodots: ///\n",
    "regress D covs\n",
    "\n",
    "// p.value\n",
    "di el(r(p),1,1)"
   ]
  },
  {
   "cell_type": "markdown",
   "metadata": {},
   "source": [
    "## Part c"
   ]
  },
  {
   "cell_type": "code",
   "execution_count": 7,
   "metadata": {},
   "outputs": [],
   "source": [
    "rename experimentbets change"
   ]
  },
  {
   "cell_type": "code",
   "execution_count": 8,
   "metadata": {},
   "outputs": [
    {
     "name": "stdout",
     "output_type": "stream",
     "text": [
      "\n",
      "\n",
      "Summary for variables: change\n",
      "     by categories of: D \n",
      "\n",
      "       D |      mean\n",
      "---------+----------\n",
      "       0 |  571.4118\n",
      "       1 |  461.2353\n",
      "---------+----------\n",
      "   Total |  516.3235\n",
      "--------------------\n",
      "\n",
      "ATE =                 -110.1765\n"
     ]
    }
   ],
   "source": [
    "tabstat change, by(D) stat(mean) save\t\n",
    "di \"ATE =\"%180.4f el(r(Stat2),1,1)-el(r(Stat1),1,1)"
   ]
  },
  {
   "cell_type": "markdown",
   "metadata": {},
   "source": [
    "## Part d"
   ]
  },
  {
   "cell_type": "code",
   "execution_count": 9,
   "metadata": {},
   "outputs": [
    {
     "name": "stdout",
     "output_type": "stream",
     "text": [
      "\n",
      "\n",
      "\n",
      "Mean estimation                   Number of obs   =         17\n",
      "\n",
      "--------------------------------------------------------------\n",
      "             |       Mean   Std. Err.     [95% Conf. Interval]\n",
      "-------------+------------------------------------------------\n",
      "   pair_diff |   110.1765   104.8377     -112.0695    332.4225\n",
      "--------------------------------------------------------------\n"
     ]
    }
   ],
   "source": [
    "qui bysort block (D): gen pair_diff = change - change[_n+1]\n",
    "mean(pair_diff)"
   ]
  },
  {
   "cell_type": "markdown",
   "metadata": {},
   "source": [
    "## Part e"
   ]
  },
  {
   "cell_type": "code",
   "execution_count": 10,
   "metadata": {},
   "outputs": [],
   "source": [
    "cap program drop ate_block\t\n",
    "program define ate_block, rclass\n",
    "args Y D probs\n",
    "tempvar ipw\n",
    "gen `ipw' = .\n",
    "// calculate inverse probability weight under block assignment\n",
    "replace `ipw' = `D'/`probs' + (1-`D')/(1-`probs')\n",
    "qui reg `Y' `D' [iw=`ipw']\n",
    "return scalar ate=_b[`D']\n",
    "end "
   ]
  },
  {
   "cell_type": "code",
   "execution_count": 11,
   "metadata": {},
   "outputs": [
    {
     "name": "stdout",
     "output_type": "stream",
     "text": [
      "(34 missing values generated)\n",
      "(34 real changes made)\n",
      "\n",
      "      command:  ate_block change D probs\n",
      "        _pm_1:  r(ate)\n",
      "  res. var(s):  D\n",
      "   Resampling:  Permuting D\n",
      "Clust. var(s):  __00000A\n",
      "     Clusters:  34\n",
      "Strata var(s):  block\n",
      "       Strata:  17\n",
      "\n",
      "------------------------------------------------------------------------------\n",
      "T            |     T(obs)       c       n   p=c/n   SE(p) [95% Conf. Interval]\n",
      "-------------+----------------------------------------------------------------\n",
      "       _pm_1 |  -110.1765    3170   10000  0.3170  0.0047  .3078845   .3262222\n",
      "------------------------------------------------------------------------------\n",
      "Note: Confidence interval is with respect to p=c/n.\n",
      "Note: c = #{|T| >= |T(obs)|}\n"
     ]
    }
   ],
   "source": [
    "ritest D r(ate), strata(block) reps(10000) nodots: ///\n",
    "ate_block change D probs"
   ]
  },
  {
   "cell_type": "code",
   "execution_count": 12,
   "metadata": {},
   "outputs": [
    {
     "name": "stdout",
     "output_type": "stream",
     "text": [
      "-110.17647\n"
     ]
    }
   ],
   "source": [
    "// ate\n",
    "di el(r(b),1,1)"
   ]
  },
  {
   "cell_type": "code",
   "execution_count": 13,
   "metadata": {},
   "outputs": [
    {
     "name": "stdout",
     "output_type": "stream",
     "text": [
      ".317\n"
     ]
    }
   ],
   "source": [
    "// p.value.twosided\n",
    "di el(r(p),1,1)"
   ]
  }
 ],
 "metadata": {
  "kernelspec": {
   "display_name": "Stata",
   "language": "stata",
   "name": "stata"
  },
  "language_info": {
   "codemirror_mode": "stata",
   "file_extension": ".do",
   "mimetype": "text/x-stata",
   "name": "stata",
   "version": "15.1"
  }
 },
 "nbformat": 4,
 "nbformat_minor": 2
}
