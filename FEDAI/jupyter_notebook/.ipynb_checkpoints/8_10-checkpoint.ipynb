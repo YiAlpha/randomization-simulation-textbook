{
 "cells": [
  {
   "cell_type": "markdown",
   "metadata": {},
   "source": [
    "# Problem 8.10"
   ]
  },
  {
   "cell_type": "code",
   "execution_count": 1,
   "metadata": {},
   "outputs": [],
   "source": [
    "set more off\n",
    "clear\n",
    "macro drop _all\n",
    "qui import delim ./data/chapter08/Hough_WorkingPaper_2010, clear\n",
    "set seed 1234567"
   ]
  },
  {
   "cell_type": "code",
   "execution_count": 2,
   "metadata": {},
   "outputs": [
    {
     "name": "stdout",
     "output_type": "stream",
     "text": [
      "\n",
      "\n",
      "\n",
      "        time variable:  day, 1 to 26\n",
      "                delta:  1 unit\n",
      "\n",
      "\n"
     ]
    }
   ],
   "source": [
    "rename tetris Y\n",
    "rename run Z\n",
    "\n",
    "// set time variable\n",
    "qui tsset day\n",
    "qui gen Zlag = l.Z\n",
    "qui gen Ylag = l.Y"
   ]
  },
  {
   "cell_type": "code",
   "execution_count": 3,
   "metadata": {},
   "outputs": [],
   "source": [
    "/*----fit1----*/\n",
    "qui reg Y Z\n",
    "global fit1 = _b[Z]"
   ]
  },
  {
   "cell_type": "code",
   "execution_count": 4,
   "metadata": {},
   "outputs": [],
   "source": [
    "/*----fit2----*/\n",
    "qui reg Y Z Zlag\n",
    "global fit2=e(F)"
   ]
  },
  {
   "cell_type": "code",
   "execution_count": 5,
   "metadata": {},
   "outputs": [],
   "source": [
    "/*----fit3----*/\n",
    "qui reg Ylag Z\n",
    "global fit3=_b[Z]"
   ]
  },
  {
   "cell_type": "code",
   "execution_count": 6,
   "metadata": {},
   "outputs": [],
   "source": [
    "/*----fit4----*/\n",
    "qui reg energy Z\n",
    "global fit4=_b[Z]"
   ]
  },
  {
   "cell_type": "code",
   "execution_count": 7,
   "metadata": {},
   "outputs": [],
   "source": [
    "/*----fit5----*/\n",
    "qui reg gre Z\n",
    "global fit5=_b[Z]"
   ]
  },
  {
   "cell_type": "code",
   "execution_count": 8,
   "metadata": {},
   "outputs": [],
   "source": [
    "cap program drop coeff_Z\n",
    "program define coeff_Z, rclass\n",
    "\targs Y\n",
    "\ttempvar rannum Zri\n",
    "\tgen `rannum' = uniform()\n",
    "\tegen `Zri' = cut(`rannum'), group(2)\n",
    "\tqui reg `Y' `Zri'\n",
    "\treturn scalar coef_Z = _b[`Zri']\n",
    "end"
   ]
  },
  {
   "cell_type": "code",
   "execution_count": 9,
   "metadata": {},
   "outputs": [],
   "source": [
    "cap program drop F_stat\n",
    "program define F_stat, rclass\n",
    "\targs Y day\n",
    "\ttsset `day'\n",
    "\ttempvar rannum Zri\n",
    "\tgen `rannum' = uniform()\n",
    "\tegen `Zri' = cut(`rannum'), group(2)\n",
    "\tqui reg `Y' `Zri' l.`Zri'\n",
    "\treturn scalar fstat = e(F)\n",
    "end"
   ]
  },
  {
   "cell_type": "code",
   "execution_count": 11,
   "metadata": {},
   "outputs": [
    {
     "name": "stdout",
     "output_type": "stream",
     "text": [
      "\n",
      "\n",
      "\n",
      "      command:  coeff_Z Y\n",
      "       coef_Z:  r(coef_Z)\n",
      "\n",
      "\n",
      "\n",
      ".005\n",
      "\n"
     ]
    }
   ],
   "source": [
    "/*---- dist1 ----*/\n",
    "preserve\t\n",
    "simulate  coef_Z=r(coef_Z), reps(10000) nodots: coeff_Z Y\t\n",
    "qui count if coef_Z >= $fit1\n",
    "\n",
    "// one-tailed p-value: does running increase Tetris scores\n",
    "// mean(dist1 >= fit1) \n",
    "disp r(N)/_N\n",
    "restore"
   ]
  },
  {
   "cell_type": "code",
   "execution_count": null,
   "metadata": {},
   "outputs": [],
   "source": [
    "/*---- dist2 ----*/\n",
    "preserve\t\n",
    "simulate  fstat=r(fstat), reps(10000) nodots: F_stat Y day\n",
    "qui count if fstat >= $fit2\n",
    "\n",
    "// one-tailed p-value: does running increase Tetris scores\n",
    "/* mean(dist2 >= fit2) */\n",
    "disp r(N)/_N\n",
    "restore"
   ]
  },
  {
   "cell_type": "code",
   "execution_count": null,
   "metadata": {},
   "outputs": [],
   "source": [
    "/*---- dist3 ----*/\n",
    "preserve\t\n",
    "simulate  coef_Z=r(coef_Z), reps(10000) nodots: coeff_Z Ylag\n",
    "qui count if abs(coef_Z) >= abs($fit3)\n",
    "\n",
    "// two-tailed p-value: placebo fit\n",
    "// mean(dist3 >= fit3) \n",
    "disp r(N)/_N\n",
    "restore"
   ]
  },
  {
   "cell_type": "code",
   "execution_count": null,
   "metadata": {},
   "outputs": [],
   "source": [
    "/*---- dist4 ----*/\n",
    "preserve\t\n",
    "simulate  coef_Z=r(coef_Z), reps(10000) nodots: coeff_Z energy \n",
    "qui count if coef_Z >= $fit4\n",
    "\n",
    "// one-tailed p-value: does running improve energy\n",
    "// mean(dist4 >= fit4)\n",
    "disp r(N)/_N\n",
    "restore"
   ]
  },
  {
   "cell_type": "code",
   "execution_count": null,
   "metadata": {},
   "outputs": [],
   "source": [
    "/*---- dist5 ----*/\n",
    "preserve\t\n",
    "simulate  coef_Z=r(coef_Z), reps(10000) nodots: coeff_Z gre \n",
    "qui count if coef_Z >= $fit5\n",
    "\n",
    "// one-tailed p-value: does running improve GRE\n",
    "// mean(dist5 >= fit5) \n",
    "disp r(N)/_N\n",
    "restore"
   ]
  }
 ],
 "metadata": {
  "kernelspec": {
   "display_name": "Stata",
   "language": "stata",
   "name": "stata"
  },
  "language_info": {
   "codemirror_mode": "stata",
   "file_extension": ".do",
   "mimetype": "text/x-stata",
   "name": "stata",
   "version": "15.1"
  }
 },
 "nbformat": 4,
 "nbformat_minor": 2
}
