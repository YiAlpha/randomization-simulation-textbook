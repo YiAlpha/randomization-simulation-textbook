{
 "cells": [
  {
   "cell_type": "markdown",
   "metadata": {},
   "source": [
    "# Proble 7.8"
   ]
  },
  {
   "cell_type": "code",
   "execution_count": 1,
   "metadata": {},
   "outputs": [],
   "source": [
    "clear"
   ]
  },
  {
   "cell_type": "code",
   "execution_count": 2,
   "metadata": {},
   "outputs": [
    {
     "name": "stdout",
     "output_type": "stream",
     "text": [
      "\n",
      "number of observations (_N) was 0, now 217\n",
      "\n",
      "\n",
      "\n",
      "\n",
      "\n",
      "\n",
      "\n",
      "\n",
      "\n",
      "\n",
      "\n",
      "\n",
      "\n",
      "\n",
      "\n",
      "\n",
      "\n",
      "\n",
      "\n",
      "\n",
      "(45 missing values generated)\n",
      "\n",
      "(78 real changes made, 78 to missing)\n",
      "\n",
      "\n",
      "\n",
      "\n",
      "\n",
      "\n",
      "(123 missing values generated)\n",
      "\n",
      "\n",
      "(123 missing values generated)\n",
      "\n",
      "\n",
      "\n",
      "\n",
      "\n",
      "\n",
      "\n",
      "\n",
      ".04190119\n",
      "\n",
      ".18824265\n"
     ]
    }
   ],
   "source": [
    "qui set obs 217\n",
    "qui egen z = fill (1 1)\n",
    "qui replace z = 0 in 1/106\n",
    "qui egen y = fill (0 0)\n",
    "qui replace y =. in 1/28\n",
    "\n",
    "qui replace y = 1 in 29/78\n",
    "qui replace y =0 in 79/106\n",
    "qui replace y =. in 107/123\n",
    "qui replace y = 1 in 124/191\n",
    "\n",
    "qui count if z==1 & y==.\n",
    "scalar isna_treated = r(N)\n",
    "qui count if z==0 & y==.\n",
    "scalar isna_control= r(N)\n",
    "qui count if z==1\n",
    "scalar count_treated = r(N)\n",
    "qui count if z==0\n",
    "scalar count_control = r(N)\n",
    "\n",
    "scalar prob_na_treated = isna_treated/count_treated\n",
    "scalar prob_na_control= isna_control/count_control\n",
    "\n",
    "scalar Q = ((1-prob_na_treated)-(1-prob_na_control))/(1-prob_na_treated)\n",
    "\n",
    "\n",
    "gen y_z1 = y\n",
    "replace y_z1 =. if z!=1\n",
    "qui sort y_z1\n",
    "\n",
    "qui count if z==1 & y!=.\n",
    "scalar low_ceiling = ceil(r(N)*(1-Q))\n",
    "scalar high_ceiling = ceil(r(N)*Q)\n",
    "\n",
    "gen id = _n\n",
    "gen y_z1_low = y_z1\n",
    "qui replace y_z1_low=. if id>low_ceiling\n",
    "gen y_z1_high = y_z1\n",
    "qui replace y_z1_high=. if id<high_ceiling\n",
    "\n",
    "qui mean y_z1_low\n",
    "scalar y_z1_low_mean = _b[y_z1_low]\n",
    "qui mean y_z1_high\n",
    "scalar y_z1_high_mean = _b[y_z1_high]\n",
    "\n",
    "qui mean y if z==0\n",
    "scalar y_mean = _b[y]\n",
    " \n",
    "disp y_z1_low_mean - y_mean\n",
    "disp y_z1_high_mean - y_mean\n"
   ]
  }
 ],
 "metadata": {
  "kernelspec": {
   "display_name": "Stata",
   "language": "stata",
   "name": "stata"
  },
  "language_info": {
   "codemirror_mode": "stata",
   "file_extension": ".do",
   "mimetype": "text/x-stata",
   "name": "stata",
   "version": "15.1"
  }
 },
 "nbformat": 4,
 "nbformat_minor": 2
}
