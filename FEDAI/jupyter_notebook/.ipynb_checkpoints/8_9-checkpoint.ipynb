{
 "cells": [
  {
   "cell_type": "markdown",
   "metadata": {},
   "source": [
    "# Problem 8.9"
   ]
  },
  {
   "cell_type": "markdown",
   "metadata": {},
   "source": [
    "## Part a"
   ]
  },
  {
   "cell_type": "code",
   "execution_count": 1,
   "metadata": {},
   "outputs": [],
   "source": [
    "qui import delimited \"./data/chapter08/GerberGreenBook_Chapter8_Table_8_4_8_5.csv\", clear"
   ]
  },
  {
   "cell_type": "code",
   "execution_count": 2,
   "metadata": {},
   "outputs": [],
   "source": [
    "qui mean y01 if prox500==0\n",
    "scalar mean_y01 = _b[y01]\n",
    "qui mean y00 if prox500==0\n",
    "scalar mean_y00 = _b[y00]\n",
    "scalar true_ate = mean_y01-mean_y00"
   ]
  },
  {
   "cell_type": "code",
   "execution_count": 3,
   "metadata": {},
   "outputs": [
    {
     "name": "stdout",
     "output_type": "stream",
     "text": [
      "-5\n"
     ]
    }
   ],
   "source": [
    "disp true_ate"
   ]
  },
  {
   "cell_type": "code",
   "execution_count": 4,
   "metadata": {
    "scrolled": true
   },
   "outputs": [],
   "source": [
    "qui mean y if prox500==0 & assignment ==1\n",
    "scalar mean_y = _b[y]\n",
    "qui mean y00 if prox500==0 & assignment==0\n",
    "scalar mean_y00_0 = _b[y00]\n",
    "scalar ate_hat = mean_y - mean_y00_0"
   ]
  },
  {
   "cell_type": "code",
   "execution_count": 5,
   "metadata": {},
   "outputs": [
    {
     "name": "stdout",
     "output_type": "stream",
     "text": [
      "3.3333333\n"
     ]
    }
   ],
   "source": [
    "disp ate_hat"
   ]
  },
  {
   "cell_type": "markdown",
   "metadata": {},
   "source": [
    "## Part b"
   ]
  },
  {
   "cell_type": "code",
   "execution_count": 6,
   "metadata": {},
   "outputs": [],
   "source": [
    "qui mean y01 if prox500==1\n",
    "scalar mean_y01 = _b[y01]\n",
    "qui mean y00 if prox500==1\n",
    "scalar mean_y00 = _b[y00]\n",
    "qui mean y10 if prox500==1\n",
    "scalar mean_y10 = _b[y10]\n",
    "qui mean y11 if prox500==1\n",
    "scalar mean_y11 = _b[y11]"
   ]
  },
  {
   "cell_type": "code",
   "execution_count": 7,
   "metadata": {},
   "outputs": [],
   "source": [
    "scalar true_ate_01 = mean_y01 - mean_y00\n",
    "scalar true_ate_10 = mean_y10 - mean_y00\n",
    "scalar true_ate_11 = mean_y11 - mean_y00"
   ]
  },
  {
   "cell_type": "code",
   "execution_count": 8,
   "metadata": {},
   "outputs": [
    {
     "name": "stdout",
     "output_type": "stream",
     "text": [
      "-5\n"
     ]
    }
   ],
   "source": [
    "disp  true_ate_01"
   ]
  },
  {
   "cell_type": "code",
   "execution_count": 9,
   "metadata": {},
   "outputs": [
    {
     "name": "stdout",
     "output_type": "stream",
     "text": [
      "5\n"
     ]
    }
   ],
   "source": [
    "disp  true_ate_10"
   ]
  },
  {
   "cell_type": "code",
   "execution_count": 10,
   "metadata": {},
   "outputs": [
    {
     "name": "stdout",
     "output_type": "stream",
     "text": [
      "-7\n"
     ]
    }
   ],
   "source": [
    "disp  true_ate_11"
   ]
  },
  {
   "cell_type": "code",
   "execution_count": 11,
   "metadata": {},
   "outputs": [],
   "source": [
    "qui gen q =.\n",
    "qui replace q=prob10 if exposure==10\n",
    "qui replace q=prob11 if exposure==11\n",
    "qui replace q=prob01 if exposure==01\n",
    "qui replace q=prob00 if exposure==00\n",
    "qui gen weights = 1/q"
   ]
  },
  {
   "cell_type": "code",
   "execution_count": 12,
   "metadata": {},
   "outputs": [],
   "source": [
    "// fit.01\n",
    "qui regress y i.exposure if /// \n",
    "prox500>0 & (exposure==0 | exposure==1) [aweight=weights]\n",
    "estimates store m1, title(Model 1)"
   ]
  },
  {
   "cell_type": "code",
   "execution_count": 13,
   "metadata": {},
   "outputs": [],
   "source": [
    "// fit.10\n",
    "qui regress y i.exposure if ///\n",
    "prox500>0 & (exposure==0 | exposure==10) [pweight=weights]\n",
    "estimates store m2, title(Model 2)"
   ]
  },
  {
   "cell_type": "code",
   "execution_count": 14,
   "metadata": {},
   "outputs": [],
   "source": [
    "// fit.11\n",
    "qui regress y i.exposure if ///\n",
    "prox500>0 & (exposure==0 | exposure==11) [pweight=weights]\n",
    "estimates store m3, title(Model 3)"
   ]
  },
  {
   "cell_type": "code",
   "execution_count": 15,
   "metadata": {},
   "outputs": [
    {
     "name": "stdout",
     "output_type": "stream",
     "text": [
      "\n",
      "--------------------------------------------------------------------\n",
      "                          Model 1         Model 2         Model 3   \n",
      "                             b/se            b/se            b/se   \n",
      "--------------------------------------------------------------------\n",
      "exposure=0                  0.000           0.000           0.000   \n",
      "                              (.)             (.)             (.)   \n",
      "exposure=1                -16.033                                   \n",
      "                          (8.065)                                   \n",
      "exposure=10                                -0.037                   \n",
      "                                          (9.352)                   \n",
      "exposure=11                                                -9.606   \n",
      "                                                          (5.362)   \n",
      "Constant                   62.606***       62.606***       62.606***\n",
      "                          (5.222)         (5.239)         (5.362)   \n",
      "--------------------------------------------------------------------\n",
      "N                          12.000          14.000          11.000   \n",
      "r2                          0.283           0.000           0.147   \n",
      "--------------------------------------------------------------------\n",
      "* p<0.05, ** p<0.01, *** p<0.001\n"
     ]
    }
   ],
   "source": [
    "estout m1 m2 m3, ///\n",
    "cells(b(star fmt(3)) se(par fmt(3))) ///\n",
    "legend label varlabels(_cons Constant) ///\n",
    "stats(N r2)"
   ]
  },
  {
   "cell_type": "markdown",
   "metadata": {},
   "source": [
    "## Part c"
   ]
  },
  {
   "cell_type": "code",
   "execution_count": 17,
   "metadata": {},
   "outputs": [],
   "source": [
    "clear\n",
    "qui import delimited \"./data/chapter08/GerberGreenBook_Chapter8_Exercise_9c.csv\", clear"
   ]
  },
  {
   "cell_type": "code",
   "execution_count": 18,
   "metadata": {},
   "outputs": [],
   "source": [
    "qui gen q=.\n",
    "qui replace q=prob10 if exposure==10\n",
    "qui replace q=prob00 if exposure==0\n",
    "qui gen weights = 1/q"
   ]
  },
  {
   "cell_type": "code",
   "execution_count": 19,
   "metadata": {},
   "outputs": [
    {
     "name": "stdout",
     "output_type": "stream",
     "text": [
      "(sum of wgt is   1.5089e+02)\n",
      "\n",
      "Linear regression                               Number of obs     =         71\n",
      "                                                F(1, 69)          =      56.95\n",
      "                                                Prob > F          =     0.0000\n",
      "                                                R-squared         =     0.5496\n",
      "                                                Root MSE          =     2.0976\n",
      "\n",
      "------------------------------------------------------------------------------\n",
      "             |               Robust\n",
      "           y |      Coef.   Std. Err.      t    P>|t|     [95% Conf. Interval]\n",
      "-------------+----------------------------------------------------------------\n",
      " 10.exposure |   4.602226   .6098582     7.55   0.000     3.385592     5.81886\n",
      "       _cons |   4.285784   .5233643     8.19   0.000     3.241701    5.329867\n",
      "------------------------------------------------------------------------------\n"
     ]
    }
   ],
   "source": [
    "regress y i.exposure if (prob10>0) & (prob10<1) [pweight=weights]"
   ]
  }
 ],
 "metadata": {
  "kernelspec": {
   "display_name": "Stata",
   "language": "stata",
   "name": "stata"
  },
  "language_info": {
   "codemirror_mode": "stata",
   "file_extension": ".do",
   "mimetype": "text/x-stata",
   "name": "stata",
   "version": "15.1"
  }
 },
 "nbformat": 4,
 "nbformat_minor": 2
}
