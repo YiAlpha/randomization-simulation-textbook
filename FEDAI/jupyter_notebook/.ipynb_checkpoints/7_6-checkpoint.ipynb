{
 "cells": [
  {
   "cell_type": "markdown",
   "metadata": {},
   "source": [
    "# Problem 7.6"
   ]
  },
  {
   "cell_type": "code",
   "execution_count": 1,
   "metadata": {},
   "outputs": [],
   "source": [
    "qui import delim ./data/chapter07/Angrist_et_al_AER_2006, clear"
   ]
  },
  {
   "cell_type": "code",
   "execution_count": 2,
   "metadata": {},
   "outputs": [],
   "source": [
    "qui replace read = 0 if missing(read)\n",
    "rename sex_name sex\n",
    "gen observed = 1\n",
    "qui replace observed = 0 if read == 0 "
   ]
  },
  {
   "cell_type": "code",
   "execution_count": 3,
   "metadata": {},
   "outputs": [
    {
     "name": "stdout",
     "output_type": "stream",
     "text": [
      "\n",
      "\n",
      "(option pr assumed; Pr(observed))\n",
      "\n"
     ]
    }
   ],
   "source": [
    "qui logit observed vouch0 sex phone vouch0#sex vouch0#phone\n",
    "qui predict probobs\n",
    "gen weights = 1/probobs"
   ]
  },
  {
   "cell_type": "code",
   "execution_count": 4,
   "metadata": {},
   "outputs": [
    {
     "name": "stdout",
     "output_type": "stream",
     "text": [
      "\n",
      "Summary for variables: probobs\n",
      "     by categories of: vouch0 \n",
      "\n",
      "  vouch0 |       min       p25       p50      mean       p75       max\n",
      "---------+------------------------------------------------------------\n",
      "       0 |  .2318797  .2318797  .2905849  .2665066  .2905849  .3271479\n",
      "       1 |  .2846098  .3141727  .3158772  .3275862   .347112   .347112\n",
      "---------+------------------------------------------------------------\n",
      "   Total |  .2318797  .2905849  .3141727  .3024233   .347112   .347112\n",
      "----------------------------------------------------------------------\n"
     ]
    }
   ],
   "source": [
    "//Verify that all probabilities are \n",
    "// less than one and greater than zero\n",
    "tabstat probobs, by(vouch0) stat(min p25 med mean p75 max) save"
   ]
  },
  {
   "cell_type": "code",
   "execution_count": 5,
   "metadata": {},
   "outputs": [
    {
     "name": "stdout",
     "output_type": "stream",
     "text": [
      "\n",
      "\n",
      "\n",
      "e(b)[1,2]\n",
      "       vouch0      _cons\n",
      "y1  .68273776  46.920815\n"
     ]
    }
   ],
   "source": [
    "// Coefficients for unweighted regression \n",
    "// (restricting analysis to observed subjects)\n",
    "qui regress read vouch0 if observed==1\n",
    "mat li e(b)"
   ]
  },
  {
   "cell_type": "code",
   "execution_count": 6,
   "metadata": {},
   "outputs": [
    {
     "name": "stdout",
     "output_type": "stream",
     "text": [
      "\n",
      "\n",
      "\n",
      "e(b)[1,2]\n",
      "       vouch0      _cons\n",
      "y1  .65803373  46.965443\n"
     ]
    }
   ],
   "source": [
    "qui regress read vouch0 [pw=weights]if observed==1\n",
    "mat li e(b)"
   ]
  }
 ],
 "metadata": {
  "kernelspec": {
   "display_name": "Stata",
   "language": "stata",
   "name": "stata"
  },
  "language_info": {
   "codemirror_mode": "stata",
   "file_extension": ".do",
   "mimetype": "text/x-stata",
   "name": "stata",
   "version": "15.1"
  }
 },
 "nbformat": 4,
 "nbformat_minor": 2
}
