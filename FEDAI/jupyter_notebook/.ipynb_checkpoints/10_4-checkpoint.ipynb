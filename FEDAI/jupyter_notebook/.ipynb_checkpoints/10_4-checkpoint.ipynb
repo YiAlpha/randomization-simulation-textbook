{
 "cells": [
  {
   "cell_type": "markdown",
   "metadata": {},
   "source": [
    "# Problem 10.4"
   ]
  },
  {
   "cell_type": "markdown",
   "metadata": {},
   "source": [
    "## Part a"
   ]
  },
  {
   "cell_type": "code",
   "execution_count": 1,
   "metadata": {},
   "outputs": [
    {
     "name": "stdout",
     "output_type": "stream",
     "text": [
      "\n",
      "(4 vars, 227 obs)\n",
      "\n",
      "\n",
      "\n",
      "\n",
      "      Source |       SS           df       MS      Number of obs   =       118\n",
      "-------------+----------------------------------   F(1, 116)       =      0.28\n",
      "       Model |  9.87301687         1  9.87301687   Prob > F        =    0.5964\n",
      "    Residual |  4060.76321       116  35.0065794   R-squared       =    0.0024\n",
      "-------------+----------------------------------   Adj R-squared   =   -0.0062\n",
      "       Total |  4070.63622       117  34.7917626   Root MSE        =    5.9166\n",
      "\n",
      "------------------------------------------------------------------------------\n",
      "           y |      Coef.   Std. Err.      t    P>|t|     [95% Conf. Interval]\n",
      "-------------+----------------------------------------------------------------\n",
      "           z |  -.6234801   1.174012    -0.53   0.596    -2.948758    1.701798\n",
      "       _cons |   42.19621    .657404    64.19   0.000     40.89414    43.49828\n",
      "------------------------------------------------------------------------------\n",
      "\n",
      "      command:  regress y z\n",
      "        _pm_1:  _b[z]\n",
      "  res. var(s):  z\n",
      "   Resampling:  Permuting z\n",
      "Clust. var(s):  __000001\n",
      "     Clusters:  227\n",
      "Strata var(s):  none\n",
      "       Strata:  1\n",
      "\n",
      "------------------------------------------------------------------------------\n",
      "T            |     T(obs)       c       n   p=c/n   SE(p) [95% Conf. Interval]\n",
      "-------------+----------------------------------------------------------------\n",
      "       _pm_1 |  -.6234801     572    1000  0.5720  0.0156  .5406588   .6029161\n",
      "------------------------------------------------------------------------------\n",
      "Note: Confidence interval is with respect to p=c/n.\n",
      "Note: c = #{|T| >= |T(obs)|}\n"
     ]
    }
   ],
   "source": [
    "import delim ./data/chapter10/Bhavnani_APSR_2009,clear\n",
    "rename controltreat z\n",
    "rename turnout y\n",
    "\n",
    "ritest z _b[z], reps(1000) nodots: regress y z"
   ]
  },
  {
   "cell_type": "code",
   "execution_count": 2,
   "metadata": {},
   "outputs": [
    {
     "name": "stdout",
     "output_type": "stream",
     "text": [
      "-0.6234801\n"
     ]
    }
   ],
   "source": [
    " //ate\n",
    " di %8.7f el(r(b), 1, 1) "
   ]
  },
  {
   "cell_type": "code",
   "execution_count": 3,
   "metadata": {},
   "outputs": [
    {
     "name": "stdout",
     "output_type": "stream",
     "text": [
      "  0.5720\n"
     ]
    }
   ],
   "source": [
    " // p-value two-sided\n",
    " di %8.4f el(r(p), 1, 1) "
   ]
  },
  {
   "cell_type": "markdown",
   "metadata": {},
   "source": [
    "## Part b"
   ]
  },
  {
   "cell_type": "code",
   "execution_count": 4,
   "metadata": {},
   "outputs": [
    {
     "name": "stdout",
     "output_type": "stream",
     "text": [
      "\n",
      "Variance ratio test\n",
      "------------------------------------------------------------------------------\n",
      "   Group |     Obs        Mean    Std. Err.   Std. Dev.   [95% Conf. Interval]\n",
      "---------+--------------------------------------------------------------------\n",
      "       0 |      81    42.19621    .6375105    5.737595    40.92752     43.4649\n",
      "       1 |      37    41.57273    1.035106    6.296303    39.47344    43.67202\n",
      "---------+--------------------------------------------------------------------\n",
      "combined |     118    42.00071    .5429967    5.898454    40.92534    43.07609\n",
      "------------------------------------------------------------------------------\n",
      "    ratio = sd(0) / sd(1)                                         f =   0.8304\n",
      "Ho: ratio = 1                                    degrees of freedom =   80, 36\n",
      "\n",
      "    Ha: ratio < 1               Ha: ratio != 1                 Ha: ratio > 1\n",
      "  Pr(F < f) = 0.2435         2*Pr(F < f) = 0.4870           Pr(F > f) = 0.7565\n",
      "\n",
      "      command:  sdtest y, by(z)\n",
      "      testvar:  (r(sd_2)^2)-(r(sd_1)^2)\n",
      "  res. var(s):  z\n",
      "   Resampling:  Permuting z\n",
      "Clust. var(s):  __000004\n",
      "     Clusters:  227\n",
      "Strata var(s):  none\n",
      "       Strata:  1\n",
      "\n",
      "------------------------------------------------------------------------------\n",
      "T            |     T(obs)       c       n   p=c/n   SE(p) [95% Conf. Interval]\n",
      "-------------+----------------------------------------------------------------\n",
      "     testvar |   6.723442    6294   10000  0.6294  0.0048  .6198475   .6388771\n",
      "------------------------------------------------------------------------------\n",
      "Note: Confidence interval is with respect to p=c/n.\n",
      "Note: c = #{|T| >= |T(obs)|}\n"
     ]
    }
   ],
   "source": [
    "// p-value for one-tailed comparison\n",
    "ritest z  testvar=((r(sd_2)^2)-(r(sd_1)^2)), ///\n",
    "reps(10000) sav(10_4_var.dta, replace) nodots: ///\n",
    "sdtest y, by(z)"
   ]
  },
  {
   "cell_type": "code",
   "execution_count": 5,
   "metadata": {},
   "outputs": [],
   "source": [
    "global testvar = el(r(b), 1, 1) "
   ]
  },
  {
   "cell_type": "code",
   "execution_count": 6,
   "metadata": {},
   "outputs": [
    {
     "name": "stdout",
     "output_type": "stream",
     "text": [
      "\n",
      "\n",
      "\n",
      "(ritest z : sdtest)\n",
      "\n",
      "\n",
      "  0.2851\n",
      "\n",
      "\n",
      "  0.6294\n",
      "\n"
     ]
    }
   ],
   "source": [
    "set more off\n",
    "preserve\n",
    "use \"10_4_var.dta\", clear\n",
    "\n",
    "qui count if testvar>=$testvar\n",
    "// one-tailed p-value\n",
    "di %8.4f r(N)/_N\n",
    "\n",
    "qui count if abs(testvar)>=abs($testvar)\n",
    "// one-tailed p-value\n",
    "di %8.4f r(N)/_N\n",
    "restore"
   ]
  }
 ],
 "metadata": {
  "kernelspec": {
   "display_name": "Stata",
   "language": "stata",
   "name": "stata"
  },
  "language_info": {
   "codemirror_mode": "stata",
   "file_extension": ".do",
   "mimetype": "text/x-stata",
   "name": "stata",
   "version": "15.1"
  }
 },
 "nbformat": 4,
 "nbformat_minor": 2
}
