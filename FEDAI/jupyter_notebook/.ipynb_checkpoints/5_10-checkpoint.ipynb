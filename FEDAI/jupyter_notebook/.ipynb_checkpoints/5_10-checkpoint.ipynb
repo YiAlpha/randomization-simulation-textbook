{
 "cells": [
  {
   "cell_type": "markdown",
   "metadata": {},
   "source": [
    "# Problem 5.10"
   ]
  },
  {
   "cell_type": "code",
   "execution_count": 1,
   "metadata": {},
   "outputs": [],
   "source": [
    "set more off\n",
    "qui import delim ./data/chapter05/Guan_Green_CPS_2006, clear"
   ]
  },
  {
   "cell_type": "markdown",
   "metadata": {},
   "source": [
    "## Part a"
   ]
  },
  {
   "cell_type": "code",
   "execution_count": 2,
   "metadata": {},
   "outputs": [],
   "source": [
    "qui drop if turnout == .\n",
    "qui drop if contact == .\n",
    "qui drop if dormid == .\n",
    "qui drop if treat2 == . \n",
    "\n",
    "rename treat2 Z\n",
    "rename turnout Y\n",
    "rename contact D\n",
    "rename dormid clust"
   ]
  },
  {
   "cell_type": "code",
   "execution_count": 3,
   "metadata": {},
   "outputs": [
    {
     "name": "stdout",
     "output_type": "stream",
     "text": [
      "\n",
      "\n",
      "Summary for variables: Y\n",
      "     by categories of: Z \n",
      "\n",
      "       Z |      mean\n",
      "---------+----------\n",
      "       0 |  .6686657\n",
      "       1 |  .8005952\n",
      "---------+----------\n",
      "   Total |  .7568374\n",
      "--------------------\n",
      "\n",
      "0.1319296\n"
     ]
    }
   ],
   "source": [
    "tabstat Y, by(Z) stat(mean) save\n",
    "// ITT\n",
    "di %8.7f el(r(Stat2),1 ,1) - el(r(Stat1),1 ,1) "
   ]
  },
  {
   "cell_type": "markdown",
   "metadata": {},
   "source": [
    "## Part b"
   ]
  },
  {
   "cell_type": "code",
   "execution_count": 4,
   "metadata": {},
   "outputs": [],
   "source": [
    "preserve\n",
    "collapse Z, by(clust)   \n",
    "qui sum Z\n",
    "global p = r(mean)\n",
    "restore"
   ]
  },
  {
   "cell_type": "code",
   "execution_count": 5,
   "metadata": {},
   "outputs": [
    {
     "name": "stdout",
     "output_type": "stream",
     "text": [
      "\n",
      "\n",
      "\n",
      "      Source |       SS           df       MS      Number of obs   =     4,022\n",
      "-------------+----------------------------------   F(1, 4020)      =     86.08\n",
      "       Model |  15.5176991         1  15.5176991   Prob > F        =    0.0000\n",
      "    Residual |  724.669273     4,020  .180265988   R-squared       =    0.0210\n",
      "-------------+----------------------------------   Adj R-squared   =    0.0207\n",
      "       Total |  740.186972     4,021  .184080321   Root MSE        =    .42458\n",
      "\n",
      "------------------------------------------------------------------------------\n",
      "           Y |      Coef.   Std. Err.      t    P>|t|     [95% Conf. Interval]\n",
      "-------------+----------------------------------------------------------------\n",
      "           Z |   .1319296   .0142195     9.28   0.000     .1040514    .1598077\n",
      "       _cons |   .6686657   .0116246    57.52   0.000      .645875    .6914564\n",
      "------------------------------------------------------------------------------\n",
      "\n",
      "      command:  regress Y Z\n",
      "        _pm_1:  _b[Z]\n",
      "  res. var(s):  Z\n",
      "   Resampling:  Permuting Z\n",
      "Clust. var(s):  clust\n",
      "     Clusters:  1004\n",
      "Strata var(s):  none\n",
      "       Strata:  1\n",
      "\n",
      "------------------------------------------------------------------------------\n",
      "T            |     T(obs)       c       n   p=c/n   SE(p) [95% Conf. Interval]\n",
      "-------------+----------------------------------------------------------------\n",
      "       _pm_1 |   .1319296       0   10000  0.0000  0.0000         0   .0003688\n",
      "------------------------------------------------------------------------------\n",
      "Note: Confidence interval is with respect to p=c/n.\n",
      "Note: c = #{|T| >= |T(obs)|}\n"
     ]
    }
   ],
   "source": [
    "// probability of being assigned to treatment\n",
    "gen probs = $p\n",
    "\n",
    "\n",
    "ritest Z _b[Z], cluster(clust) reps(10000) nodots: ///\n",
    "regress Y Z"
   ]
  },
  {
   "cell_type": "code",
   "execution_count": 6,
   "metadata": {},
   "outputs": [
    {
     "name": "stdout",
     "output_type": "stream",
     "text": [
      "  0.1319\n"
     ]
    }
   ],
   "source": [
    "// itt\n",
    "di %8.4f el(r(b),1,1)"
   ]
  },
  {
   "cell_type": "code",
   "execution_count": 7,
   "metadata": {},
   "outputs": [
    {
     "name": "stdout",
     "output_type": "stream",
     "text": [
      "       0\n"
     ]
    }
   ],
   "source": [
    "// p.value.twosided\n",
    "di %8.0f el(r(p),1,1)"
   ]
  },
  {
   "cell_type": "markdown",
   "metadata": {},
   "source": [
    "## Part c"
   ]
  },
  {
   "cell_type": "code",
   "execution_count": 8,
   "metadata": {},
   "outputs": [
    {
     "name": "stdout",
     "output_type": "stream",
     "text": [
      "\n",
      "\n",
      "\n",
      "  0.1319\n"
     ]
    }
   ],
   "source": [
    "qui regress Y Z\n",
    "scalar itt = _b[Z]\n",
    "di %8.4f itt"
   ]
  },
  {
   "cell_type": "code",
   "execution_count": 9,
   "metadata": {},
   "outputs": [
    {
     "name": "stdout",
     "output_type": "stream",
     "text": [
      "\n",
      "\n",
      "\n",
      "  0.8858\n"
     ]
    }
   ],
   "source": [
    "qui regress D Z\n",
    "scalar ittd = _b[Z]\n",
    "di %8.4f ittd"
   ]
  },
  {
   "cell_type": "code",
   "execution_count": 10,
   "metadata": {},
   "outputs": [
    {
     "name": "stdout",
     "output_type": "stream",
     "text": [
      "\n",
      "\n",
      "  0.1489\n"
     ]
    }
   ],
   "source": [
    "scalar cace = itt/ittd\n",
    "di %8.4f cace"
   ]
  }
 ],
 "metadata": {
  "kernelspec": {
   "display_name": "Stata",
   "language": "stata",
   "name": "stata"
  },
  "language_info": {
   "codemirror_mode": "stata",
   "file_extension": ".do",
   "mimetype": "text/x-stata",
   "name": "stata",
   "version": "15.1"
  }
 },
 "nbformat": 4,
 "nbformat_minor": 2
}
