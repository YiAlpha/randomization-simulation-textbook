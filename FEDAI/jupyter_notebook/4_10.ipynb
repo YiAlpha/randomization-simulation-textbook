{
 "cells": [
  {
   "cell_type": "markdown",
   "metadata": {},
   "source": [
    "# Problem 4.10"
   ]
  },
  {
   "cell_type": "markdown",
   "metadata": {},
   "source": [
    "## part a"
   ]
  },
  {
   "cell_type": "code",
   "execution_count": 17,
   "metadata": {},
   "outputs": [],
   "source": [
    "clear\n",
    "clear mata\n",
    "clear matrix\n",
    "set matsize 11000 \n",
    "set maxvar 32767\n",
    "set seed 1234567\n",
    "\n",
    "qui import delim ./data/chapter04/Arceneaux_AAAPSSsubset_2005, clear\n",
    "set seed 1234567"
   ]
  },
  {
   "cell_type": "code",
   "execution_count": 18,
   "metadata": {},
   "outputs": [],
   "source": [
    "rename treatment Z\n",
    "rename vote03 Y\n",
    "rename unit clust\n",
    "\n",
    "global cov v_p2003 v_m2003 v_g2002 v_p2002 v_m2002 ///\n",
    " v_s2001 v_g2000 v_p2000 v_m2000 v_s1999 ///\n",
    " v_m1999 v_g1998 v_m1998 v_s1998 v_m1997 ///\n",
    " v_s1997 v_g1996 v_p1996 v_m1996 v_s1996"
   ]
  },
  {
   "cell_type": "code",
   "execution_count": 3,
   "metadata": {},
   "outputs": [
    {
     "name": "stdout",
     "output_type": "stream",
     "text": [
      "\n",
      "      Source |       SS           df       MS      Number of obs   =     9,712\n",
      "-------------+----------------------------------   F(20, 9691)     =      1.65\n",
      "       Model |  8.23394346        20  .411697173   Prob > F        =    0.0341\n",
      "    Residual |  2419.15557     9,691  .249629097   R-squared       =    0.0034\n",
      "-------------+----------------------------------   Adj R-squared   =    0.0013\n",
      "       Total |  2427.38952     9,711  .249962879   Root MSE        =    .49963\n",
      "\n",
      "------------------------------------------------------------------------------\n",
      "           Z |      Coef.   Std. Err.      t    P>|t|     [95% Conf. Interval]\n",
      "-------------+----------------------------------------------------------------\n",
      "     v_p2003 |  -.0141049   .0179892    -0.78   0.433    -.0493674    .0211577\n",
      "     v_m2003 |   -.028556    .013061    -2.19   0.029    -.0541582   -.0029538\n",
      "     v_g2002 |  -.0191478   .0118595    -1.61   0.106    -.0423949    .0040992\n",
      "     v_p2002 |   .0122656    .016042     0.76   0.445    -.0191801    .0437113\n",
      "     v_m2002 |   .0151129   .0180327     0.84   0.402    -.0202349    .0504608\n",
      "     v_s2001 |  -.0231689   .0150309    -1.54   0.123    -.0526326    .0062947\n",
      "     v_g2000 |  -.0129016   .0167507    -0.77   0.441    -.0457365    .0199332\n",
      "     v_p2000 |   .0364452   .0161925     2.25   0.024     .0047045    .0681859\n",
      "     v_m2000 |  -.0202811   .0188585    -1.08   0.282    -.0572476    .0166854\n",
      "     v_s1999 |  -.0193625   .0152174    -1.27   0.203    -.0491917    .0104668\n",
      "     v_m1999 |   .0149073   .0147163     1.01   0.311    -.0139398    .0437544\n",
      "     v_g1998 |   .0267545   .0138639     1.93   0.054    -.0004216    .0539307\n",
      "     v_m1998 |   .0060215   .0174067     0.35   0.729    -.0280992    .0401422\n",
      "     v_s1998 |  -.0263801   .0158888    -1.66   0.097    -.0575255    .0047652\n",
      "     v_m1997 |  -.0199639   .0194412    -1.03   0.304    -.0580728    .0181449\n",
      "     v_s1997 |   .0321151   .0190364     1.69   0.092    -.0052002    .0694305\n",
      "     v_g1996 |   .0174951   .0127812     1.37   0.171    -.0075587     .042549\n",
      "     v_p1996 |  -.0028413   .0182332    -0.16   0.876    -.0385821    .0328996\n",
      "     v_m1996 |  -.0117636   .0188745    -0.62   0.533    -.0487616    .0252343\n",
      "     v_s1996 |   .0131904   .0254129     0.52   0.604    -.0366242     .063005\n",
      "       _cons |   .5256301   .0167939    31.30   0.000     .4927105    .5585497\n",
      "------------------------------------------------------------------------------\n",
      "\n",
      "      command:  regress Z v_p2003 v_m2003 v_g2002 v_p2002 v_m2002 v_s2001 v_g2000 v_p2000 v_m2000 v_s1999 v_m1999 v_g1998 v_m1998 v_s1998 v_m1997 v_s1997 v_g1996 v_p1996 v_m1996 v_s1996\n",
      "        Fstat:  e(F)\n",
      "  res. var(s):  Z\n",
      "   Resampling:  Permuting Z\n",
      "Clust. var(s):  clust\n",
      "     Clusters:  28\n",
      "Strata var(s):  none\n",
      "       Strata:  1\n",
      "\n",
      "------------------------------------------------------------------------------\n",
      "T            |     T(obs)       c       n   p=c/n   SE(p) [95% Conf. Interval]\n",
      "-------------+----------------------------------------------------------------\n",
      "       Fstat |   1.649235    9392   10000  0.9392  0.0024  .9343371   .9438051\n",
      "------------------------------------------------------------------------------\n",
      "Note: Confidence interval is with respect to p=c/n.\n",
      "Note: c = #{T >= T(obs)}\n"
     ]
    }
   ],
   "source": [
    "ritest Z Fstat=e(F), right clu(clust) reps(10000) nodots: reg Z $cov"
   ]
  },
  {
   "cell_type": "code",
   "execution_count": 4,
   "metadata": {},
   "outputs": [
    {
     "name": "stdout",
     "output_type": "stream",
     "text": [
      "   0.939\n"
     ]
    }
   ],
   "source": [
    "// one-tail p-value\n",
    "di %8.3f el(r(p),1,1)"
   ]
  },
  {
   "cell_type": "markdown",
   "metadata": {},
   "source": [
    "## part b"
   ]
  },
  {
   "cell_type": "code",
   "execution_count": 19,
   "metadata": {},
   "outputs": [
    {
     "name": "stdout",
     "output_type": "stream",
     "text": [
      "\n",
      "\n",
      "\n",
      "\n",
      "\n",
      "\n",
      "\n",
      "\n",
      "    Variable |        Obs        Mean    Std. Dev.       Min        Max\n",
      "-------------+---------------------------------------------------------\n",
      "       probs |      9,712          .5           0         .5         .5\n"
     ]
    }
   ],
   "source": [
    "// calculate the probabibility under cluster assignment\n",
    "preserve\n",
    "collapse Z, by(clust)   \n",
    "qui sum Z\n",
    "global p = r(mean)\n",
    "restore\n",
    "\n",
    "// probability of being assigned to treatment\n",
    "gen probs = $p\n",
    "sum probs"
   ]
  },
  {
   "cell_type": "code",
   "execution_count": 6,
   "metadata": {},
   "outputs": [
    {
     "name": "stdout",
     "output_type": "stream",
     "text": [
      "\n",
      "\n",
      "ATE= .05596196\n"
     ]
    }
   ],
   "source": [
    "//ate\n",
    "qui reg Y Z $cov\n",
    "di \"ATE= \" _b[Z]"
   ]
  },
  {
   "cell_type": "code",
   "execution_count": 7,
   "metadata": {},
   "outputs": [
    {
     "name": "stdout",
     "output_type": "stream",
     "text": [
      "\n",
      "      Source |       SS           df       MS      Number of obs   =     9,712\n",
      "-------------+----------------------------------   F(21, 9690)     =    220.91\n",
      "       Model |  676.860032        21  32.2314301   Prob > F        =    0.0000\n",
      "    Residual |  1413.81501     9,690  .145904542   R-squared       =    0.3238\n",
      "-------------+----------------------------------   Adj R-squared   =    0.3223\n",
      "       Total |  2090.67504     9,711  .215289367   Root MSE        =    .38197\n",
      "\n",
      "------------------------------------------------------------------------------\n",
      "           Y |      Coef.   Std. Err.      t    P>|t|     [95% Conf. Interval]\n",
      "-------------+----------------------------------------------------------------\n",
      "           Z |    .055962   .0077661     7.21   0.000     .0407388    .0711851\n",
      "     v_p2003 |   .2189582   .0137535    15.92   0.000     .1919985    .2459179\n",
      "     v_m2003 |   .2313273   .0099878    23.16   0.000     .2117492    .2509054\n",
      "     v_g2002 |    .110736    .009068    12.21   0.000     .0929609    .1285112\n",
      "     v_p2002 |   .0830995   .0122648     6.78   0.000      .059058    .1071409\n",
      "     v_m2002 |    .074127   .0137868     5.38   0.000      .047102     .101152\n",
      "     v_s2001 |   .0477243   .0114928     4.15   0.000      .025196    .0702525\n",
      "     v_g2000 |    .012236   .0128066     0.96   0.339    -.0128676    .0373395\n",
      "     v_p2000 |   .0455913   .0123827     3.68   0.000     .0213186    .0698639\n",
      "     v_m2000 |   .0185109   .0144185     1.28   0.199    -.0097523     .046774\n",
      "     v_s1999 |   .0450664   .0116349     3.87   0.000     .0222596    .0678733\n",
      "     v_m1999 |    .016424   .0112515     1.46   0.144    -.0056312    .0384793\n",
      "     v_g1998 |   .0133923   .0106012     1.26   0.207    -.0073883    .0341729\n",
      "     v_m1998 |   .0162324   .0133078     1.22   0.223    -.0098536    .0423184\n",
      "     v_s1998 |   .0234097    .012149     1.93   0.054    -.0004048    .0472242\n",
      "     v_m1997 |   .0301064   .0148639     2.03   0.043       .00097    .0592428\n",
      "     v_s1997 |  -.0279659   .0145558    -1.92   0.055    -.0564983    .0005664\n",
      "     v_g1996 |   .0255726   .0097724     2.62   0.009     .0064166    .0447285\n",
      "     v_p1996 |  -.0271313   .0139396    -1.95   0.052    -.0544558    .0001932\n",
      "     v_m1996 |  -.0001964   .0144301    -0.01   0.989    -.0284825    .0280897\n",
      "     v_s1996 |  -.0147401   .0194288    -0.76   0.448    -.0528247    .0233445\n",
      "       _cons |  -.0117076   .0134725    -0.87   0.385    -.0381165    .0147014\n",
      "------------------------------------------------------------------------------\n",
      "\n",
      "      command:  regress Y Z v_p2003 v_m2003 v_g2002 v_p2002 v_m2002 v_s2001 v_g2000 v_p2000 v_m2000 v_s1999 v_m1999 v_g1998 v_m1998 v_s1998 v_m1997 v_s1997 v_g1996 v_p1996 v_m1996 v_s1996\n",
      "      ate_sim:  _b[Z]\n",
      "  res. var(s):  Z\n",
      "   Resampling:  Permuting Z\n",
      "Clust. var(s):  clust\n",
      "     Clusters:  28\n",
      "Strata var(s):  none\n",
      "       Strata:  1\n",
      "\n",
      "------------------------------------------------------------------------------\n",
      "T            |     T(obs)       c       n   p=c/n   SE(p) [95% Conf. Interval]\n",
      "-------------+----------------------------------------------------------------\n",
      "     ate_sim |    .055962      13   10000  0.0013  0.0004  .0006924    .002222\n",
      "------------------------------------------------------------------------------\n",
      "Note: Confidence interval is with respect to p=c/n.\n",
      "Note: c = #{T >= T(obs)}\n"
     ]
    }
   ],
   "source": [
    "ritest Z ate_sim=_b[Z], right clu(clust) reps(10000) nodots: reg Y Z $cov"
   ]
  },
  {
   "cell_type": "code",
   "execution_count": 8,
   "metadata": {},
   "outputs": [
    {
     "name": "stdout",
     "output_type": "stream",
     "text": [
      " 0.05596\n"
     ]
    }
   ],
   "source": [
    "// ate\n",
    "di %8.5f el(r(b),1,1)"
   ]
  },
  {
   "cell_type": "code",
   "execution_count": 11,
   "metadata": {},
   "outputs": [
    {
     "name": "stdout",
     "output_type": "stream",
     "text": [
      "  0.0013\n"
     ]
    }
   ],
   "source": [
    "// one-tail p-value\n",
    "di %8.4f el(r(p),1,1)"
   ]
  },
  {
   "cell_type": "markdown",
   "metadata": {},
   "source": [
    "## part c"
   ]
  },
  {
   "cell_type": "code",
   "execution_count": 20,
   "metadata": {},
   "outputs": [
    {
     "name": "stdout",
     "output_type": "stream",
     "text": [
      "\n",
      "\n",
      "\n",
      "\n",
      "ate_HT = 0.05395\n"
     ]
    }
   ],
   "source": [
    "qui gen weights = Z/probs + (1 - Z)/(1 - probs)\n",
    "qui tabstat Y [aw=weights], by(Z)  stat(sum) save\n",
    "\n",
    "scalar ateHT = (el(r(Stat2),1,1) - el(r(Stat1),1,1))/_N\n",
    "di \"ate_HT =\"%8.5f ateHT"
   ]
  },
  {
   "cell_type": "markdown",
   "metadata": {},
   "source": [
    "## part d"
   ]
  },
  {
   "cell_type": "code",
   "execution_count": 21,
   "metadata": {},
   "outputs": [
    {
     "name": "stdout",
     "output_type": "stream",
     "text": [
      "\n",
      "\n",
      "\n",
      "\n",
      "Summary for variables: Y\n",
      "     by categories of: Z \n",
      "\n",
      "       Z |       sum\n",
      "---------+----------\n",
      "       0 |      2784\n",
      "       1 |      3308\n",
      "---------+----------\n",
      "   Total |      6092\n",
      "--------------------\n",
      "\n",
      "      command:  di_in_total\n",
      "    ateHT_sim:  r(ateHT_sim)\n",
      "  res. var(s):  Z\n",
      "   Resampling:  Permuting Z\n",
      "Clust. var(s):  clust\n",
      "     Clusters:  28\n",
      "Strata var(s):  none\n",
      "       Strata:  1\n",
      "\n",
      "------------------------------------------------------------------------------\n",
      "T            |     T(obs)       c       n   p=c/n   SE(p) [95% Conf. Interval]\n",
      "-------------+----------------------------------------------------------------\n",
      "   ateHT_sim |   .0539539    1954   10000  0.1954  0.0040  .1876681   .2033097\n",
      "------------------------------------------------------------------------------\n",
      "Note: Confidence interval is with respect to p=c/n.\n",
      "Note: c = #{T >= T(obs)}\n"
     ]
    }
   ],
   "source": [
    "cap program drop di_in_total\n",
    "program define di_in_total, rclass\n",
    "tabstat Y [aw=weights], by(Z)  stat(sum) save\n",
    "return scalar ateHT_sim = (el(r(Stat2),1,1) - el(r(Stat1),1,1))/_N\n",
    "end\n",
    "\n",
    "ritest Z ateHT_sim=r(ateHT_sim), right clu(clust) reps(10000) nodots: di_in_total"
   ]
  },
  {
   "cell_type": "code",
   "execution_count": 22,
   "metadata": {},
   "outputs": [
    {
     "name": "stdout",
     "output_type": "stream",
     "text": [
      "   0.195\n"
     ]
    }
   ],
   "source": [
    "// one-tail p-value\n",
    "di %8.3f el(r(p),1,1)"
   ]
  },
  {
   "cell_type": "markdown",
   "metadata": {},
   "source": [
    "## part e"
   ]
  },
  {
   "cell_type": "code",
   "execution_count": 23,
   "metadata": {},
   "outputs": [],
   "source": [
    "mkmat $cov , mat(cov_m)\n",
    "matrix rowm = cov_m * J(colsof(cov_m), 1, 1/colsof(cov_m))\n",
    "matrix colnames rowm=row_mean\n",
    "svmat double rowm, names(col)\n",
    "\n",
    "qui gen Y_diff = Y - row_mean"
   ]
  },
  {
   "cell_type": "code",
   "execution_count": 24,
   "metadata": {},
   "outputs": [
    {
     "name": "stdout",
     "output_type": "stream",
     "text": [
      "\n",
      "\n",
      "\n",
      "\n",
      "Summary for variables: Y_diff\n",
      "     by categories of: Z \n",
      "\n",
      "       Z |       sum\n",
      "---------+----------\n",
      "       0 | -38.40001\n",
      "       1 |       435\n",
      "---------+----------\n",
      "   Total |     396.6\n",
      "--------------------\n",
      "\n",
      "      command:  di_in_total2\n",
      "    ateHT_sim:  r(ateHT_sim2)\n",
      "  res. var(s):  Z\n",
      "   Resampling:  Permuting Z\n",
      "Clust. var(s):  clust\n",
      "     Clusters:  28\n",
      "Strata var(s):  none\n",
      "       Strata:  1\n",
      "\n",
      "------------------------------------------------------------------------------\n",
      "T            |     T(obs)       c       n   p=c/n   SE(p) [95% Conf. Interval]\n",
      "-------------+----------------------------------------------------------------\n",
      "   ateHT_sim |   .0487438     110   10000  0.0110  0.0010  .0090491    .013243\n",
      "------------------------------------------------------------------------------\n",
      "Note: Confidence interval is with respect to p=c/n.\n",
      "Note: c = #{T >= T(obs)}\n"
     ]
    }
   ],
   "source": [
    "cap program drop di_in_total2\n",
    "program define di_in_total2, rclass\n",
    "tabstat Y_diff [aw=weights], by(Z)  stat(sum) save\n",
    "return scalar ateHT_sim2 = (el(r(Stat2),1,1) - el(r(Stat1),1,1))/_N\n",
    "end\n",
    "\n",
    "ritest Z ateHT_sim=r(ateHT_sim2), right clu(clust) reps(10000) nodots: di_in_total2"
   ]
  },
  {
   "cell_type": "code",
   "execution_count": 25,
   "metadata": {},
   "outputs": [
    {
     "name": "stdout",
     "output_type": "stream",
     "text": [
      " 0.04874\n"
     ]
    }
   ],
   "source": [
    "// ateHT2\n",
    "di %8.5f el(r(b),1,1)"
   ]
  },
  {
   "cell_type": "code",
   "execution_count": 26,
   "metadata": {},
   "outputs": [
    {
     "name": "stdout",
     "output_type": "stream",
     "text": [
      "   0.011\n"
     ]
    }
   ],
   "source": [
    "// one-tail p-value\n",
    "di %8.3f el(r(p),1,1)"
   ]
  }
 ],
 "metadata": {
  "kernelspec": {
   "display_name": "Stata",
   "language": "stata",
   "name": "stata"
  },
  "language_info": {
   "codemirror_mode": "stata",
   "file_extension": ".do",
   "mimetype": "text/x-stata",
   "name": "stata",
   "version": "15.1"
  }
 },
 "nbformat": 4,
 "nbformat_minor": 2
}
