{
 "cells": [
  {
   "cell_type": "markdown",
   "metadata": {},
   "source": [
    "# Problem 10.6"
   ]
  },
  {
   "cell_type": "code",
   "execution_count": 1,
   "metadata": {},
   "outputs": [
    {
     "name": "stdout",
     "output_type": "stream",
     "text": [
      "\n",
      "\n",
      "number of observations (_N) was 0, now 43,593\n",
      "\n",
      "\n",
      "variable condition was str7 now str8\n",
      "(6,858 real changes made)\n",
      "\n",
      "(6,694 real changes made)\n",
      "\n",
      "(6,825 real changes made)\n",
      "\n",
      "variable condition was str8 now str12\n",
      "(6,960 real changes made)\n",
      "\n",
      "(6,920 real changes made)\n",
      "\n",
      "variable condition was str12 now str15\n",
      "(6,750 real changes made)\n",
      "\n",
      "(41,007 missing values generated)\n",
      "\n",
      "(41,007 real changes made)\n",
      "\n",
      "(36,735 missing values generated)\n",
      "\n",
      "(36,735 real changes made)\n",
      "\n",
      "(23,189 missing values generated)\n",
      "\n",
      "(23,189 real changes made)\n",
      "\n",
      "(29,808 missing values generated)\n",
      "\n",
      "(29,808 real changes made)\n",
      "\n",
      "(29,923 missing values generated)\n",
      "\n",
      "(29,923 real changes made)\n",
      "\n",
      "\n",
      "(2,546 real changes made)\n",
      "\n",
      "(6,267 real changes made)\n",
      "\n",
      "(6,047 real changes made)\n",
      "\n",
      "(6,263 real changes made)\n",
      "\n",
      "(6,285 real changes made)\n",
      "\n",
      "(6,353 real changes made)\n",
      "\n",
      "(6,121 real changes made)\n"
     ]
    }
   ],
   "source": [
    "clear\n",
    "set obs 43593\n",
    "egen condition = repeat(), values(\"No Mail\")\n",
    "replace condition = \"Standard\" in 2587/9444\n",
    "replace condition = \"Threat\" in 9445/16138\n",
    "replace condition = \"Norms\" in 16139/22963\n",
    "replace condition = \"Threat+Norms\" in 22964/29923\n",
    "replace condition = \"Fairness\" in 29924/36843\n",
    "replace condition = \"Threat+Fairness\" in 36844/43593\n",
    "\n",
    "gen no_mail = 1 if strpos(condition, \"Mail\") > 0\n",
    "replace no_mail = 0 if no_mail ==.\n",
    "gen standard = 1 if strpos(condition, \"Standard\") > 0\n",
    "replace standard = 0 if standard ==.\n",
    "gen threat = 1 if strpos(condition, \"Threat\") > 0\n",
    "replace threat = 0 if threat ==.\n",
    "gen norms = 1 if strpos(condition, \"Norms\") > 0\n",
    "replace norms = 0 if norms ==.\n",
    "gen fairness = 1 if strpos(condition, \"Fairness\") > 0\n",
    "replace fairness = 0 if fairness ==.\n",
    "\n",
    "egen y = fill(1,1)\n",
    "replace y = 0 in 41/2586\n",
    "replace y = 0 in 3178/9444\n",
    "replace y = 0 in 10092/16138\n",
    "replace y = 0 in 16701/22963\n",
    "replace y = 0 in 23639/29923\n",
    "replace y = 0 in 30491/36843\n",
    "replace y = 0 in 37473/43593"
   ]
  },
  {
   "cell_type": "code",
   "execution_count": 2,
   "metadata": {},
   "outputs": [
    {
     "name": "stdout",
     "output_type": "stream",
     "text": [
      "\n",
      "\n",
      "\n",
      "\n",
      "      Source |       SS           df       MS      Number of obs   =    43,593\n",
      "-------------+----------------------------------   F(7, 43586)     =    609.55\n",
      "       Model |   330.89642         7  47.2709171   Prob > F        =    0.0000\n",
      "    Residual |  3380.10358    43,586  .077550213   R-squared       =    0.0892\n",
      "-------------+----------------------------------   Adj R-squared   =    0.0890\n",
      "       Total |        3711    43,593  .085128346   Root MSE        =    .27848\n",
      "\n",
      "--------------------------------------------------------------------------------\n",
      "             y |      Coef.   Std. Err.      t    P>|t|     [95% Conf. Interval]\n",
      "---------------+----------------------------------------------------------------\n",
      "       no_mail |   .0154679   .0054762     2.82   0.005     .0047345    .0262013\n",
      "      standard |   .0861767   .0033627    25.63   0.000     .0795857    .0927678\n",
      "        threat |   .0966537   .0034037    28.40   0.000     .0899824     .103325\n",
      "         norms |   .0823443   .0033709    24.43   0.000     .0757374    .0889513\n",
      "      fairness |   .0819364   .0033476    24.48   0.000      .075375    .0884978\n",
      "   threatnorms |  -.0820153   .0058387   -14.05   0.000    -.0934592   -.0705714\n",
      "threatfairness |   -.085405    .005855   -14.59   0.000    -.0968808   -.0739291\n",
      "--------------------------------------------------------------------------------\n"
     ]
    }
   ],
   "source": [
    "gen threatnorms = threat*norms\n",
    "\n",
    "gen threatfairness  = threat*fairness\t\n",
    "\n",
    "regress y no_mail standard threat norms fairness threatnorms threatfairness , noconstant"
   ]
  }
 ],
 "metadata": {
  "kernelspec": {
   "display_name": "Stata",
   "language": "stata",
   "name": "stata"
  },
  "language_info": {
   "codemirror_mode": "stata",
   "file_extension": ".do",
   "mimetype": "text/x-stata",
   "name": "stata",
   "version": "15.1"
  }
 },
 "nbformat": 4,
 "nbformat_minor": 2
}
