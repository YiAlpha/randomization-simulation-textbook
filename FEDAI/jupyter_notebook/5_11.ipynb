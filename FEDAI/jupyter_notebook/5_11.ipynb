{
 "cells": [
  {
   "cell_type": "markdown",
   "metadata": {},
   "source": [
    "# Problem 5.11"
   ]
  },
  {
   "cell_type": "markdown",
   "metadata": {},
   "source": [
    "## Part a"
   ]
  },
  {
   "cell_type": "code",
   "execution_count": 1,
   "metadata": {},
   "outputs": [],
   "source": [
    "clear\n",
    "qui set obs 7723\n",
    "// ssc install egenmore (install the package)\n",
    "qui egen z = repeat(), values(\"baseline\")\n",
    "qui replace z = \"treatment\" in 2573/5144\n",
    "qui replace z = \"placebo\" in 5145/7723\n",
    "qui egen d = fill(0,0)\n",
    "qui replace d = 1 in 2573/3058\n",
    "qui replace d = 1 in 5145/5614\n",
    "qui egen y = fill(1,1)\n",
    "qui replace y=0 in 804/2572\n",
    "qui replace y=0 in 2763/3058\n",
    "qui replace y=0 in 3742/5144\n",
    "qui replace y=0 in 5285/5614\n",
    "qui replace y=0 in 6293/7723"
   ]
  },
  {
   "cell_type": "code",
   "execution_count": 2,
   "metadata": {},
   "outputs": [
    {
     "name": "stdout",
     "output_type": "stream",
     "text": [
      "\n",
      "\n",
      "\n",
      "   0.189\n"
     ]
    }
   ],
   "source": [
    "qui sum d if z==\"treatment\"\n",
    "scalar pr_c_treatment =  r(mean)\n",
    "di %8.3f pr_c_treatment"
   ]
  },
  {
   "cell_type": "code",
   "execution_count": 3,
   "metadata": {},
   "outputs": [
    {
     "name": "stdout",
     "output_type": "stream",
     "text": [
      "\n",
      "\n",
      "\n",
      "  0.1822\n"
     ]
    }
   ],
   "source": [
    "qui sum d if z==\"placebo\"\n",
    "scalar pr_c_placebo =  r(mean)\n",
    "di %8.4f pr_c_placebo"
   ]
  },
  {
   "cell_type": "markdown",
   "metadata": {},
   "source": [
    "## Part b"
   ]
  },
  {
   "cell_type": "code",
   "execution_count": 4,
   "metadata": {},
   "outputs": [
    {
     "name": "stdout",
     "output_type": "stream",
     "text": [
      "\n",
      "\n",
      "  0.3274\n"
     ]
    }
   ],
   "source": [
    "// rate.nt.treatment\n",
    "qui sum y if z==\"treatment\" & d==0 \n",
    "di %8.4f r(mean)"
   ]
  },
  {
   "cell_type": "code",
   "execution_count": 5,
   "metadata": {},
   "outputs": [
    {
     "name": "stdout",
     "output_type": "stream",
     "text": [
      "\n",
      "\n",
      "  0.3215\n"
     ]
    }
   ],
   "source": [
    "// rate.nt.placebo\n",
    "qui sum y if z==\"placebo\" & d==0\n",
    "di %8.4f r(mean)"
   ]
  },
  {
   "cell_type": "markdown",
   "metadata": {},
   "source": [
    "## Part c"
   ]
  },
  {
   "cell_type": "code",
   "execution_count": 6,
   "metadata": {},
   "outputs": [],
   "source": [
    "qui sum y if z==\"placebo\"\n",
    "scalar y_placebo = r(mean)\n",
    "qui sum y if z==\"baseline\"\n",
    "scalar y_baseline = r(mean)"
   ]
  },
  {
   "cell_type": "code",
   "execution_count": 7,
   "metadata": {},
   "outputs": [],
   "source": [
    "scalar itt_placebo = y_placebo - y_baseline\n",
    "scalar cace_placebo = itt_placebo/pr_c_placebo"
   ]
  },
  {
   "cell_type": "code",
   "execution_count": 8,
   "metadata": {},
   "outputs": [
    {
     "name": "stdout",
     "output_type": "stream",
     "text": [
      "   0.027\n"
     ]
    }
   ],
   "source": [
    "// Estimate the CACE of receiving the placebo\n",
    "disp %8.3f cace_placebo"
   ]
  },
  {
   "cell_type": "markdown",
   "metadata": {},
   "source": [
    "## Part d"
   ]
  },
  {
   "cell_type": "code",
   "execution_count": 9,
   "metadata": {},
   "outputs": [
    {
     "name": "stdout",
     "output_type": "stream",
     "text": [
      "\n",
      "\n",
      "\n",
      "\n",
      "\n",
      "\n",
      "\n",
      "0.1440329\n"
     ]
    }
   ],
   "source": [
    "qui sum y if z==\"treatment\"\n",
    "scalar y_treat = r(mean)\n",
    "qui sum y if z==\"baseline\"\n",
    "scalar y_base= r(mean)\n",
    "scalar itt_treatment = y_treat - y_base\n",
    "scalar cace_treatment1 = itt_treatment/pr_c_treatment\n",
    "disp %8.7f cace_treatment1"
   ]
  },
  {
   "cell_type": "code",
   "execution_count": 10,
   "metadata": {},
   "outputs": [
    {
     "name": "stdout",
     "output_type": "stream",
     "text": [
      "\n",
      "\n",
      "\n",
      "\n",
      "\n",
      "\n",
      ".09307416\n"
     ]
    }
   ],
   "source": [
    "qui sum y if z==\"treatment\" & d==1\n",
    "scalar yd_treat = r(mean)\n",
    "qui sum y if z==\"placebo\" & d==1\n",
    "scalar yd_placebo = r(mean)\n",
    "scalar cace_treatment2 = yd_treat - yd_placebo\n",
    "disp cace_treatment2"
   ]
  }
 ],
 "metadata": {
  "kernelspec": {
   "display_name": "Stata",
   "language": "stata",
   "name": "stata"
  },
  "language_info": {
   "codemirror_mode": "stata",
   "file_extension": ".do",
   "mimetype": "text/x-stata",
   "name": "stata",
   "version": "15.1"
  }
 },
 "nbformat": 4,
 "nbformat_minor": 2
}
