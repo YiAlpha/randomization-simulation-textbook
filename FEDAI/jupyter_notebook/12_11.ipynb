{
 "cells": [
  {
   "cell_type": "markdown",
   "metadata": {},
   "source": [
    "# Problem 12.11"
   ]
  },
  {
   "cell_type": "markdown",
   "metadata": {},
   "source": [
    "## Part a"
   ]
  },
  {
   "cell_type": "code",
   "execution_count": 1,
   "metadata": {},
   "outputs": [
    {
     "name": "stdout",
     "output_type": "stream",
     "text": [
      "(4 vars, 1851 obs)\n"
     ]
    }
   ],
   "source": [
    "import delim ./data/chapter12/Howell_Peterson_BIP_2002, clear"
   ]
  },
  {
   "cell_type": "code",
   "execution_count": 2,
   "metadata": {},
   "outputs": [
    {
     "name": "stdout",
     "output_type": "stream",
     "text": [
      "\n",
      "missing_y1 |         treat\n",
      "      math |         0          1 |     Total\n",
      "-----------+----------------------+----------\n",
      "         0 |     75.90      81.10 |     78.61 \n",
      "         1 |     24.10      18.90 |     21.39 \n",
      "-----------+----------------------+----------\n",
      "     Total |    100.00     100.00 |    100.00 \n",
      "\n"
     ]
    }
   ],
   "source": [
    "tabulate missing_y1math treat, column nof"
   ]
  },
  {
   "cell_type": "markdown",
   "metadata": {},
   "source": [
    "## Part b"
   ]
  },
  {
   "cell_type": "code",
   "execution_count": 3,
   "metadata": {},
   "outputs": [
    {
     "name": "stdout",
     "output_type": "stream",
     "text": [
      "\n",
      "Summary for variables: y0_1math_change\n",
      "     by categories of: treat \n",
      "\n",
      "   treat |      mean\n",
      "---------+----------\n",
      "       0 |  6.486647\n",
      "       1 |  7.104994\n",
      "--------------------\n"
     ]
    }
   ],
   "source": [
    "tabstat y0_1math_change, by(treat) stat(mean) not"
   ]
  },
  {
   "cell_type": "markdown",
   "metadata": {},
   "source": [
    "## Part c"
   ]
  },
  {
   "cell_type": "code",
   "execution_count": 4,
   "metadata": {},
   "outputs": [
    {
     "name": "stdout",
     "output_type": "stream",
     "text": [
      "(bin=50, start=-63, width=3.18)\n"
     ]
    },
    {
     "data": {
      "application/pdf": "[encoded data removed]",
      "image/svg+xml": [
       "<?xml version=\"1.0\" encoding=\"UTF-8\" standalone=\"no\"?>\n",
       "<!-- This is a Stata generated SVG file (http://www.stata.com) -->\n",
       "\n",
       "<svg version=\"1.1\" width=\"600px\" height=\"436px\" viewBox=\"0 0 3960 2880\" xmlns=\"http://www.w3.org/2000/svg\">\n",
       "\t<rect x=\"0.00\" y=\"0.00\" width=\"3959.88\" height=\"2880.00\" style=\"fill:#EAF2F3;stroke:#EAF2F3;stroke-width:5.76\"/>\n",
       "\t<rect x=\"390.80\" y=\"275.35\" width=\"3468.22\" height=\"2213.83\" style=\"fill:#FFFFFF;stroke:#FFFFFF;stroke-width:5.76\"/>\n",
       "\t<line x1=\"390.80\" y1=\"2489.19\" x2=\"3859.02\" y2=\"2489.19\" style=\"stroke:#EAF2F3;stroke-width:8.64\"/>\n",
       "\t<line x1=\"390.80\" y1=\"1977.22\" x2=\"3859.02\" y2=\"1977.22\" style=\"stroke:#EAF2F3;stroke-width:8.64\"/>\n",
       "\t<line x1=\"390.80\" y1=\"1465.12\" x2=\"3859.02\" y2=\"1465.12\" style=\"stroke:#EAF2F3;stroke-width:8.64\"/>\n",
       "\t<line x1=\"390.80\" y1=\"953.15\" x2=\"3859.02\" y2=\"953.15\" style=\"stroke:#EAF2F3;stroke-width:8.64\"/>\n",
       "\t<line x1=\"390.80\" y1=\"441.18\" x2=\"3859.02\" y2=\"441.18\" style=\"stroke:#EAF2F3;stroke-width:8.64\"/>\n",
       "\t<rect x=\"1072.29\" y=\"2463.57\" width=\"53.21\" height=\"25.62\" style=\"fill:#CAC27E;stroke:#D7D29E;stroke-width:8.64\"/>\n",
       "\t<rect x=\"1284.90\" y=\"2437.95\" width=\"53.09\" height=\"51.23\" style=\"fill:#CAC27E;stroke:#D7D29E;stroke-width:8.64\"/>\n",
       "\t<rect x=\"1337.98\" y=\"2437.95\" width=\"53.09\" height=\"51.23\" style=\"fill:#CAC27E;stroke:#D7D29E;stroke-width:8.64\"/>\n",
       "\t<rect x=\"1444.29\" y=\"2463.57\" width=\"53.09\" height=\"25.62\" style=\"fill:#CAC27E;stroke:#D7D29E;stroke-width:8.64\"/>\n",
       "\t<rect x=\"1497.38\" y=\"2437.95\" width=\"53.09\" height=\"51.23\" style=\"fill:#CAC27E;stroke:#D7D29E;stroke-width:8.64\"/>\n",
       "\t<rect x=\"1550.46\" y=\"2386.84\" width=\"53.21\" height=\"102.34\" style=\"fill:#CAC27E;stroke:#D7D29E;stroke-width:8.64\"/>\n",
       "\t<rect x=\"1603.68\" y=\"2309.99\" width=\"53.09\" height=\"179.20\" style=\"fill:#CAC27E;stroke:#D7D29E;stroke-width:8.64\"/>\n",
       "\t<rect x=\"1656.77\" y=\"2361.22\" width=\"53.09\" height=\"127.96\" style=\"fill:#CAC27E;stroke:#D7D29E;stroke-width:8.64\"/>\n",
       "\t<rect x=\"1709.85\" y=\"2233.14\" width=\"53.21\" height=\"256.05\" style=\"fill:#CAC27E;stroke:#D7D29E;stroke-width:8.64\"/>\n",
       "\t<rect x=\"1763.07\" y=\"2105.18\" width=\"53.09\" height=\"384.01\" style=\"fill:#CAC27E;stroke:#D7D29E;stroke-width:8.64\"/>\n",
       "\t<rect x=\"1816.15\" y=\"2053.94\" width=\"53.09\" height=\"435.24\" style=\"fill:#CAC27E;stroke:#D7D29E;stroke-width:8.64\"/>\n",
       "\t<rect x=\"1869.24\" y=\"2079.56\" width=\"53.21\" height=\"409.63\" style=\"fill:#CAC27E;stroke:#D7D29E;stroke-width:8.64\"/>\n",
       "\t<rect x=\"1922.46\" y=\"1516.36\" width=\"53.09\" height=\"972.83\" style=\"fill:#CAC27E;stroke:#D7D29E;stroke-width:8.64\"/>\n",
       "\t<rect x=\"1975.55\" y=\"1337.16\" width=\"53.09\" height=\"1152.02\" style=\"fill:#CAC27E;stroke:#D7D29E;stroke-width:8.64\"/>\n",
       "\t<rect x=\"2028.63\" y=\"1260.31\" width=\"53.21\" height=\"1228.88\" style=\"fill:#CAC27E;stroke:#D7D29E;stroke-width:8.64\"/>\n",
       "\t<rect x=\"2081.85\" y=\"338.71\" width=\"53.09\" height=\"2150.47\" style=\"fill:#CAC27E;stroke:#D7D29E;stroke-width:8.64\"/>\n",
       "\t<rect x=\"2134.93\" y=\"492.29\" width=\"53.21\" height=\"1996.89\" style=\"fill:#CAC27E;stroke:#D7D29E;stroke-width:8.64\"/>\n",
       "\t<rect x=\"2188.15\" y=\"748.34\" width=\"53.09\" height=\"1740.85\" style=\"fill:#CAC27E;stroke:#D7D29E;stroke-width:8.64\"/>\n",
       "\t<rect x=\"2241.24\" y=\"773.96\" width=\"53.09\" height=\"1715.23\" style=\"fill:#CAC27E;stroke:#D7D29E;stroke-width:8.64\"/>\n",
       "\t<rect x=\"2294.32\" y=\"1465.12\" width=\"53.21\" height=\"1024.06\" style=\"fill:#CAC27E;stroke:#D7D29E;stroke-width:8.64\"/>\n",
       "\t<rect x=\"2347.54\" y=\"1414.01\" width=\"53.09\" height=\"1075.17\" style=\"fill:#CAC27E;stroke:#D7D29E;stroke-width:8.64\"/>\n",
       "\t<rect x=\"2400.63\" y=\"1721.17\" width=\"53.09\" height=\"768.02\" style=\"fill:#CAC27E;stroke:#D7D29E;stroke-width:8.64\"/>\n",
       "\t<rect x=\"2453.72\" y=\"1874.75\" width=\"53.21\" height=\"614.44\" style=\"fill:#CAC27E;stroke:#D7D29E;stroke-width:8.64\"/>\n",
       "\t<rect x=\"2506.93\" y=\"1823.64\" width=\"53.09\" height=\"665.55\" style=\"fill:#CAC27E;stroke:#D7D29E;stroke-width:8.64\"/>\n",
       "\t<rect x=\"2560.02\" y=\"2028.45\" width=\"53.09\" height=\"460.74\" style=\"fill:#CAC27E;stroke:#D7D29E;stroke-width:8.64\"/>\n",
       "\t<rect x=\"2613.11\" y=\"2130.79\" width=\"53.21\" height=\"358.39\" style=\"fill:#CAC27E;stroke:#D7D29E;stroke-width:8.64\"/>\n",
       "\t<rect x=\"2666.32\" y=\"2284.37\" width=\"53.09\" height=\"204.81\" style=\"fill:#CAC27E;stroke:#D7D29E;stroke-width:8.64\"/>\n",
       "\t<rect x=\"2719.41\" y=\"2156.41\" width=\"53.09\" height=\"332.77\" style=\"fill:#CAC27E;stroke:#D7D29E;stroke-width:8.64\"/>\n",
       "\t<rect x=\"2772.49\" y=\"2207.65\" width=\"53.21\" height=\"281.54\" style=\"fill:#CAC27E;stroke:#D7D29E;stroke-width:8.64\"/>\n",
       "\t<rect x=\"2825.71\" y=\"2182.03\" width=\"53.09\" height=\"307.16\" style=\"fill:#CAC27E;stroke:#D7D29E;stroke-width:8.64\"/>\n",
       "\t<rect x=\"2878.80\" y=\"2309.99\" width=\"53.09\" height=\"179.20\" style=\"fill:#CAC27E;stroke:#D7D29E;stroke-width:8.64\"/>\n",
       "\t<rect x=\"2931.89\" y=\"2386.84\" width=\"53.21\" height=\"102.34\" style=\"fill:#CAC27E;stroke:#D7D29E;stroke-width:8.64\"/>\n",
       "\t<rect x=\"2985.10\" y=\"2412.46\" width=\"53.09\" height=\"76.73\" style=\"fill:#CAC27E;stroke:#D7D29E;stroke-width:8.64\"/>\n",
       "\t<rect x=\"3038.19\" y=\"2437.95\" width=\"53.09\" height=\"51.23\" style=\"fill:#CAC27E;stroke:#D7D29E;stroke-width:8.64\"/>\n",
       "\t<rect x=\"3091.28\" y=\"2437.95\" width=\"53.21\" height=\"51.23\" style=\"fill:#CAC27E;stroke:#D7D29E;stroke-width:8.64\"/>\n",
       "\t<rect x=\"3144.49\" y=\"2361.22\" width=\"53.09\" height=\"127.96\" style=\"fill:#CAC27E;stroke:#D7D29E;stroke-width:8.64\"/>\n",
       "\t<rect x=\"3197.58\" y=\"2463.57\" width=\"53.09\" height=\"25.62\" style=\"fill:#CAC27E;stroke:#D7D29E;stroke-width:8.64\"/>\n",
       "\t<rect x=\"3250.66\" y=\"2412.46\" width=\"53.21\" height=\"76.73\" style=\"fill:#CAC27E;stroke:#D7D29E;stroke-width:8.64\"/>\n",
       "\t<rect x=\"3303.88\" y=\"2437.95\" width=\"53.09\" height=\"51.23\" style=\"fill:#CAC27E;stroke:#D7D29E;stroke-width:8.64\"/>\n",
       "\t<rect x=\"3356.97\" y=\"2437.95\" width=\"53.09\" height=\"51.23\" style=\"fill:#CAC27E;stroke:#D7D29E;stroke-width:8.64\"/>\n",
       "\t<rect x=\"3463.27\" y=\"2463.57\" width=\"53.09\" height=\"25.62\" style=\"fill:#CAC27E;stroke:#D7D29E;stroke-width:8.64\"/>\n",
       "\t<rect x=\"3675.75\" y=\"2463.57\" width=\"53.09\" height=\"25.62\" style=\"fill:#CAC27E;stroke:#D7D29E;stroke-width:8.64\"/>\n",
       "\t<line x1=\"390.80\" y1=\"2489.19\" x2=\"390.80\" y2=\"275.35\" style=\"stroke:#000000;stroke-width:5.76\"/>\n",
       "\t<line x1=\"390.80\" y1=\"2489.19\" x2=\"350.83\" y2=\"2489.19\" style=\"stroke:#000000;stroke-width:5.76\"/>\n",
       "\t<text x=\"300.72\" y=\"2489.19\" style=\"font-family:'Helvetica';font-size:99.99px;fill:#000000\" transform=\"rotate(-90 300.72,2489.19)\" text-anchor=\"middle\">0</text>\n",
       "\t<line x1=\"390.80\" y1=\"1977.22\" x2=\"350.83\" y2=\"1977.22\" style=\"stroke:#000000;stroke-width:5.76\"/>\n",
       "\t<text x=\"300.72\" y=\"1977.22\" style=\"font-family:'Helvetica';font-size:99.99px;fill:#000000\" transform=\"rotate(-90 300.72,1977.22)\" text-anchor=\"middle\">20</text>\n",
       "\t<line x1=\"390.80\" y1=\"1465.12\" x2=\"350.83\" y2=\"1465.12\" style=\"stroke:#000000;stroke-width:5.76\"/>\n",
       "\t<text x=\"300.72\" y=\"1465.12\" style=\"font-family:'Helvetica';font-size:99.99px;fill:#000000\" transform=\"rotate(-90 300.72,1465.12)\" text-anchor=\"middle\">40</text>\n",
       "\t<line x1=\"390.80\" y1=\"953.15\" x2=\"350.83\" y2=\"953.15\" style=\"stroke:#000000;stroke-width:5.76\"/>\n",
       "\t<text x=\"300.72\" y=\"953.15\" style=\"font-family:'Helvetica';font-size:99.99px;fill:#000000\" transform=\"rotate(-90 300.72,953.15)\" text-anchor=\"middle\">60</text>\n",
       "\t<line x1=\"390.80\" y1=\"441.18\" x2=\"350.83\" y2=\"441.18\" style=\"stroke:#000000;stroke-width:5.76\"/>\n",
       "\t<text x=\"300.72\" y=\"441.18\" style=\"font-family:'Helvetica';font-size:99.99px;fill:#000000\" transform=\"rotate(-90 300.72,441.18)\" text-anchor=\"middle\">80</text>\n",
       "\t<text x=\"190.71\" y=\"1382.33\" style=\"font-family:'Helvetica';font-size:99.99px;fill:#000000\" transform=\"rotate(-90 190.71,1382.33)\" text-anchor=\"middle\">Frequency</text>\n",
       "\t<line x1=\"390.80\" y1=\"2489.19\" x2=\"3859.02\" y2=\"2489.19\" style=\"stroke:#000000;stroke-width:5.76\"/>\n",
       "\t<line x1=\"454.16\" y1=\"2489.19\" x2=\"454.16\" y2=\"2529.16\" style=\"stroke:#000000;stroke-width:5.76\"/>\n",
       "\t<text x=\"454.16\" y=\"2619.14\" style=\"font-family:'Helvetica';font-size:99.99px;fill:#000000\" text-anchor=\"middle\">-100</text>\n",
       "\t<line x1=\"1289.47\" y1=\"2489.19\" x2=\"1289.47\" y2=\"2529.16\" style=\"stroke:#000000;stroke-width:5.76\"/>\n",
       "\t<text x=\"1289.47\" y=\"2619.14\" style=\"font-family:'Helvetica';font-size:99.99px;fill:#000000\" text-anchor=\"middle\">-50</text>\n",
       "\t<line x1=\"2124.91\" y1=\"2489.19\" x2=\"2124.91\" y2=\"2529.16\" style=\"stroke:#000000;stroke-width:5.76\"/>\n",
       "\t<text x=\"2124.91\" y=\"2619.14\" style=\"font-family:'Helvetica';font-size:99.99px;fill:#000000\" text-anchor=\"middle\">0</text>\n",
       "\t<line x1=\"2960.35\" y1=\"2489.19\" x2=\"2960.35\" y2=\"2529.16\" style=\"stroke:#000000;stroke-width:5.76\"/>\n",
       "\t<text x=\"2960.35\" y=\"2619.14\" style=\"font-family:'Helvetica';font-size:99.99px;fill:#000000\" text-anchor=\"middle\">50</text>\n",
       "\t<line x1=\"3795.66\" y1=\"2489.19\" x2=\"3795.66\" y2=\"2529.16\" style=\"stroke:#000000;stroke-width:5.76\"/>\n",
       "\t<text x=\"3795.66\" y=\"2619.14\" style=\"font-family:'Helvetica';font-size:99.99px;fill:#000000\" text-anchor=\"middle\">100</text>\n",
       "\t<text x=\"2124.91\" y=\"2729.16\" style=\"font-family:'Helvetica';font-size:99.99px;fill:#000000\" text-anchor=\"middle\">y0_1math_change</text>\n",
       "\t<text x=\"2124.91\" y=\"215.98\" style=\"font-family:'Helvetica';font-size:139.96px;fill:#1E2D53\" text-anchor=\"middle\">Histogram of y0_1math_change[treat == 1]</text>\n",
       "</svg>\n"
      ],
      "text/html": [
       "                <iframe frameborder=\"0\" scrolling=\"no\" height=\"436\" width=\"600\"                srcdoc=\"<html><body>&lt;?xml version=&quot;1.0&quot; encoding=&quot;UTF-8&quot; standalone=&quot;no&quot;?&gt;\n",
       "&lt;!-- This is a Stata generated SVG file (http://www.stata.com) --&gt;\n",
       "\n",
       "&lt;svg version=&quot;1.1&quot; width=&quot;600px&quot; height=&quot;436px&quot; viewBox=&quot;0 0 3960 2880&quot; xmlns=&quot;http://www.w3.org/2000/svg&quot;&gt;\n",
       "\t&lt;rect x=&quot;0.00&quot; y=&quot;0.00&quot; width=&quot;3959.88&quot; height=&quot;2880.00&quot; style=&quot;fill:#EAF2F3;stroke:#EAF2F3;stroke-width:5.76&quot;/&gt;\n",
       "\t&lt;rect x=&quot;390.80&quot; y=&quot;275.35&quot; width=&quot;3468.22&quot; height=&quot;2213.83&quot; style=&quot;fill:#FFFFFF;stroke:#FFFFFF;stroke-width:5.76&quot;/&gt;\n",
       "\t&lt;line x1=&quot;390.80&quot; y1=&quot;2489.19&quot; x2=&quot;3859.02&quot; y2=&quot;2489.19&quot; style=&quot;stroke:#EAF2F3;stroke-width:8.64&quot;/&gt;\n",
       "\t&lt;line x1=&quot;390.80&quot; y1=&quot;1977.22&quot; x2=&quot;3859.02&quot; y2=&quot;1977.22&quot; style=&quot;stroke:#EAF2F3;stroke-width:8.64&quot;/&gt;\n",
       "\t&lt;line x1=&quot;390.80&quot; y1=&quot;1465.12&quot; x2=&quot;3859.02&quot; y2=&quot;1465.12&quot; style=&quot;stroke:#EAF2F3;stroke-width:8.64&quot;/&gt;\n",
       "\t&lt;line x1=&quot;390.80&quot; y1=&quot;953.15&quot; x2=&quot;3859.02&quot; y2=&quot;953.15&quot; style=&quot;stroke:#EAF2F3;stroke-width:8.64&quot;/&gt;\n",
       "\t&lt;line x1=&quot;390.80&quot; y1=&quot;441.18&quot; x2=&quot;3859.02&quot; y2=&quot;441.18&quot; style=&quot;stroke:#EAF2F3;stroke-width:8.64&quot;/&gt;\n",
       "\t&lt;rect x=&quot;1072.29&quot; y=&quot;2463.57&quot; width=&quot;53.21&quot; height=&quot;25.62&quot; style=&quot;fill:#CAC27E;stroke:#D7D29E;stroke-width:8.64&quot;/&gt;\n",
       "\t&lt;rect x=&quot;1284.90&quot; y=&quot;2437.95&quot; width=&quot;53.09&quot; height=&quot;51.23&quot; style=&quot;fill:#CAC27E;stroke:#D7D29E;stroke-width:8.64&quot;/&gt;\n",
       "\t&lt;rect x=&quot;1337.98&quot; y=&quot;2437.95&quot; width=&quot;53.09&quot; height=&quot;51.23&quot; style=&quot;fill:#CAC27E;stroke:#D7D29E;stroke-width:8.64&quot;/&gt;\n",
       "\t&lt;rect x=&quot;1444.29&quot; y=&quot;2463.57&quot; width=&quot;53.09&quot; height=&quot;25.62&quot; style=&quot;fill:#CAC27E;stroke:#D7D29E;stroke-width:8.64&quot;/&gt;\n",
       "\t&lt;rect x=&quot;1497.38&quot; y=&quot;2437.95&quot; width=&quot;53.09&quot; height=&quot;51.23&quot; style=&quot;fill:#CAC27E;stroke:#D7D29E;stroke-width:8.64&quot;/&gt;\n",
       "\t&lt;rect x=&quot;1550.46&quot; y=&quot;2386.84&quot; width=&quot;53.21&quot; height=&quot;102.34&quot; style=&quot;fill:#CAC27E;stroke:#D7D29E;stroke-width:8.64&quot;/&gt;\n",
       "\t&lt;rect x=&quot;1603.68&quot; y=&quot;2309.99&quot; width=&quot;53.09&quot; height=&quot;179.20&quot; style=&quot;fill:#CAC27E;stroke:#D7D29E;stroke-width:8.64&quot;/&gt;\n",
       "\t&lt;rect x=&quot;1656.77&quot; y=&quot;2361.22&quot; width=&quot;53.09&quot; height=&quot;127.96&quot; style=&quot;fill:#CAC27E;stroke:#D7D29E;stroke-width:8.64&quot;/&gt;\n",
       "\t&lt;rect x=&quot;1709.85&quot; y=&quot;2233.14&quot; width=&quot;53.21&quot; height=&quot;256.05&quot; style=&quot;fill:#CAC27E;stroke:#D7D29E;stroke-width:8.64&quot;/&gt;\n",
       "\t&lt;rect x=&quot;1763.07&quot; y=&quot;2105.18&quot; width=&quot;53.09&quot; height=&quot;384.01&quot; style=&quot;fill:#CAC27E;stroke:#D7D29E;stroke-width:8.64&quot;/&gt;\n",
       "\t&lt;rect x=&quot;1816.15&quot; y=&quot;2053.94&quot; width=&quot;53.09&quot; height=&quot;435.24&quot; style=&quot;fill:#CAC27E;stroke:#D7D29E;stroke-width:8.64&quot;/&gt;\n",
       "\t&lt;rect x=&quot;1869.24&quot; y=&quot;2079.56&quot; width=&quot;53.21&quot; height=&quot;409.63&quot; style=&quot;fill:#CAC27E;stroke:#D7D29E;stroke-width:8.64&quot;/&gt;\n",
       "\t&lt;rect x=&quot;1922.46&quot; y=&quot;1516.36&quot; width=&quot;53.09&quot; height=&quot;972.83&quot; style=&quot;fill:#CAC27E;stroke:#D7D29E;stroke-width:8.64&quot;/&gt;\n",
       "\t&lt;rect x=&quot;1975.55&quot; y=&quot;1337.16&quot; width=&quot;53.09&quot; height=&quot;1152.02&quot; style=&quot;fill:#CAC27E;stroke:#D7D29E;stroke-width:8.64&quot;/&gt;\n",
       "\t&lt;rect x=&quot;2028.63&quot; y=&quot;1260.31&quot; width=&quot;53.21&quot; height=&quot;1228.88&quot; style=&quot;fill:#CAC27E;stroke:#D7D29E;stroke-width:8.64&quot;/&gt;\n",
       "\t&lt;rect x=&quot;2081.85&quot; y=&quot;338.71&quot; width=&quot;53.09&quot; height=&quot;2150.47&quot; style=&quot;fill:#CAC27E;stroke:#D7D29E;stroke-width:8.64&quot;/&gt;\n",
       "\t&lt;rect x=&quot;2134.93&quot; y=&quot;492.29&quot; width=&quot;53.21&quot; height=&quot;1996.89&quot; style=&quot;fill:#CAC27E;stroke:#D7D29E;stroke-width:8.64&quot;/&gt;\n",
       "\t&lt;rect x=&quot;2188.15&quot; y=&quot;748.34&quot; width=&quot;53.09&quot; height=&quot;1740.85&quot; style=&quot;fill:#CAC27E;stroke:#D7D29E;stroke-width:8.64&quot;/&gt;\n",
       "\t&lt;rect x=&quot;2241.24&quot; y=&quot;773.96&quot; width=&quot;53.09&quot; height=&quot;1715.23&quot; style=&quot;fill:#CAC27E;stroke:#D7D29E;stroke-width:8.64&quot;/&gt;\n",
       "\t&lt;rect x=&quot;2294.32&quot; y=&quot;1465.12&quot; width=&quot;53.21&quot; height=&quot;1024.06&quot; style=&quot;fill:#CAC27E;stroke:#D7D29E;stroke-width:8.64&quot;/&gt;\n",
       "\t&lt;rect x=&quot;2347.54&quot; y=&quot;1414.01&quot; width=&quot;53.09&quot; height=&quot;1075.17&quot; style=&quot;fill:#CAC27E;stroke:#D7D29E;stroke-width:8.64&quot;/&gt;\n",
       "\t&lt;rect x=&quot;2400.63&quot; y=&quot;1721.17&quot; width=&quot;53.09&quot; height=&quot;768.02&quot; style=&quot;fill:#CAC27E;stroke:#D7D29E;stroke-width:8.64&quot;/&gt;\n",
       "\t&lt;rect x=&quot;2453.72&quot; y=&quot;1874.75&quot; width=&quot;53.21&quot; height=&quot;614.44&quot; style=&quot;fill:#CAC27E;stroke:#D7D29E;stroke-width:8.64&quot;/&gt;\n",
       "\t&lt;rect x=&quot;2506.93&quot; y=&quot;1823.64&quot; width=&quot;53.09&quot; height=&quot;665.55&quot; style=&quot;fill:#CAC27E;stroke:#D7D29E;stroke-width:8.64&quot;/&gt;\n",
       "\t&lt;rect x=&quot;2560.02&quot; y=&quot;2028.45&quot; width=&quot;53.09&quot; height=&quot;460.74&quot; style=&quot;fill:#CAC27E;stroke:#D7D29E;stroke-width:8.64&quot;/&gt;\n",
       "\t&lt;rect x=&quot;2613.11&quot; y=&quot;2130.79&quot; width=&quot;53.21&quot; height=&quot;358.39&quot; style=&quot;fill:#CAC27E;stroke:#D7D29E;stroke-width:8.64&quot;/&gt;\n",
       "\t&lt;rect x=&quot;2666.32&quot; y=&quot;2284.37&quot; width=&quot;53.09&quot; height=&quot;204.81&quot; style=&quot;fill:#CAC27E;stroke:#D7D29E;stroke-width:8.64&quot;/&gt;\n",
       "\t&lt;rect x=&quot;2719.41&quot; y=&quot;2156.41&quot; width=&quot;53.09&quot; height=&quot;332.77&quot; style=&quot;fill:#CAC27E;stroke:#D7D29E;stroke-width:8.64&quot;/&gt;\n",
       "\t&lt;rect x=&quot;2772.49&quot; y=&quot;2207.65&quot; width=&quot;53.21&quot; height=&quot;281.54&quot; style=&quot;fill:#CAC27E;stroke:#D7D29E;stroke-width:8.64&quot;/&gt;\n",
       "\t&lt;rect x=&quot;2825.71&quot; y=&quot;2182.03&quot; width=&quot;53.09&quot; height=&quot;307.16&quot; style=&quot;fill:#CAC27E;stroke:#D7D29E;stroke-width:8.64&quot;/&gt;\n",
       "\t&lt;rect x=&quot;2878.80&quot; y=&quot;2309.99&quot; width=&quot;53.09&quot; height=&quot;179.20&quot; style=&quot;fill:#CAC27E;stroke:#D7D29E;stroke-width:8.64&quot;/&gt;\n",
       "\t&lt;rect x=&quot;2931.89&quot; y=&quot;2386.84&quot; width=&quot;53.21&quot; height=&quot;102.34&quot; style=&quot;fill:#CAC27E;stroke:#D7D29E;stroke-width:8.64&quot;/&gt;\n",
       "\t&lt;rect x=&quot;2985.10&quot; y=&quot;2412.46&quot; width=&quot;53.09&quot; height=&quot;76.73&quot; style=&quot;fill:#CAC27E;stroke:#D7D29E;stroke-width:8.64&quot;/&gt;\n",
       "\t&lt;rect x=&quot;3038.19&quot; y=&quot;2437.95&quot; width=&quot;53.09&quot; height=&quot;51.23&quot; style=&quot;fill:#CAC27E;stroke:#D7D29E;stroke-width:8.64&quot;/&gt;\n",
       "\t&lt;rect x=&quot;3091.28&quot; y=&quot;2437.95&quot; width=&quot;53.21&quot; height=&quot;51.23&quot; style=&quot;fill:#CAC27E;stroke:#D7D29E;stroke-width:8.64&quot;/&gt;\n",
       "\t&lt;rect x=&quot;3144.49&quot; y=&quot;2361.22&quot; width=&quot;53.09&quot; height=&quot;127.96&quot; style=&quot;fill:#CAC27E;stroke:#D7D29E;stroke-width:8.64&quot;/&gt;\n",
       "\t&lt;rect x=&quot;3197.58&quot; y=&quot;2463.57&quot; width=&quot;53.09&quot; height=&quot;25.62&quot; style=&quot;fill:#CAC27E;stroke:#D7D29E;stroke-width:8.64&quot;/&gt;\n",
       "\t&lt;rect x=&quot;3250.66&quot; y=&quot;2412.46&quot; width=&quot;53.21&quot; height=&quot;76.73&quot; style=&quot;fill:#CAC27E;stroke:#D7D29E;stroke-width:8.64&quot;/&gt;\n",
       "\t&lt;rect x=&quot;3303.88&quot; y=&quot;2437.95&quot; width=&quot;53.09&quot; height=&quot;51.23&quot; style=&quot;fill:#CAC27E;stroke:#D7D29E;stroke-width:8.64&quot;/&gt;\n",
       "\t&lt;rect x=&quot;3356.97&quot; y=&quot;2437.95&quot; width=&quot;53.09&quot; height=&quot;51.23&quot; style=&quot;fill:#CAC27E;stroke:#D7D29E;stroke-width:8.64&quot;/&gt;\n",
       "\t&lt;rect x=&quot;3463.27&quot; y=&quot;2463.57&quot; width=&quot;53.09&quot; height=&quot;25.62&quot; style=&quot;fill:#CAC27E;stroke:#D7D29E;stroke-width:8.64&quot;/&gt;\n",
       "\t&lt;rect x=&quot;3675.75&quot; y=&quot;2463.57&quot; width=&quot;53.09&quot; height=&quot;25.62&quot; style=&quot;fill:#CAC27E;stroke:#D7D29E;stroke-width:8.64&quot;/&gt;\n",
       "\t&lt;line x1=&quot;390.80&quot; y1=&quot;2489.19&quot; x2=&quot;390.80&quot; y2=&quot;275.35&quot; style=&quot;stroke:#000000;stroke-width:5.76&quot;/&gt;\n",
       "\t&lt;line x1=&quot;390.80&quot; y1=&quot;2489.19&quot; x2=&quot;350.83&quot; y2=&quot;2489.19&quot; style=&quot;stroke:#000000;stroke-width:5.76&quot;/&gt;\n",
       "\t&lt;text x=&quot;300.72&quot; y=&quot;2489.19&quot; style=&quot;font-family:&#x27;Helvetica&#x27;;font-size:99.99px;fill:#000000&quot; transform=&quot;rotate(-90 300.72,2489.19)&quot; text-anchor=&quot;middle&quot;&gt;0&lt;/text&gt;\n",
       "\t&lt;line x1=&quot;390.80&quot; y1=&quot;1977.22&quot; x2=&quot;350.83&quot; y2=&quot;1977.22&quot; style=&quot;stroke:#000000;stroke-width:5.76&quot;/&gt;\n",
       "\t&lt;text x=&quot;300.72&quot; y=&quot;1977.22&quot; style=&quot;font-family:&#x27;Helvetica&#x27;;font-size:99.99px;fill:#000000&quot; transform=&quot;rotate(-90 300.72,1977.22)&quot; text-anchor=&quot;middle&quot;&gt;20&lt;/text&gt;\n",
       "\t&lt;line x1=&quot;390.80&quot; y1=&quot;1465.12&quot; x2=&quot;350.83&quot; y2=&quot;1465.12&quot; style=&quot;stroke:#000000;stroke-width:5.76&quot;/&gt;\n",
       "\t&lt;text x=&quot;300.72&quot; y=&quot;1465.12&quot; style=&quot;font-family:&#x27;Helvetica&#x27;;font-size:99.99px;fill:#000000&quot; transform=&quot;rotate(-90 300.72,1465.12)&quot; text-anchor=&quot;middle&quot;&gt;40&lt;/text&gt;\n",
       "\t&lt;line x1=&quot;390.80&quot; y1=&quot;953.15&quot; x2=&quot;350.83&quot; y2=&quot;953.15&quot; style=&quot;stroke:#000000;stroke-width:5.76&quot;/&gt;\n",
       "\t&lt;text x=&quot;300.72&quot; y=&quot;953.15&quot; style=&quot;font-family:&#x27;Helvetica&#x27;;font-size:99.99px;fill:#000000&quot; transform=&quot;rotate(-90 300.72,953.15)&quot; text-anchor=&quot;middle&quot;&gt;60&lt;/text&gt;\n",
       "\t&lt;line x1=&quot;390.80&quot; y1=&quot;441.18&quot; x2=&quot;350.83&quot; y2=&quot;441.18&quot; style=&quot;stroke:#000000;stroke-width:5.76&quot;/&gt;\n",
       "\t&lt;text x=&quot;300.72&quot; y=&quot;441.18&quot; style=&quot;font-family:&#x27;Helvetica&#x27;;font-size:99.99px;fill:#000000&quot; transform=&quot;rotate(-90 300.72,441.18)&quot; text-anchor=&quot;middle&quot;&gt;80&lt;/text&gt;\n",
       "\t&lt;text x=&quot;190.71&quot; y=&quot;1382.33&quot; style=&quot;font-family:&#x27;Helvetica&#x27;;font-size:99.99px;fill:#000000&quot; transform=&quot;rotate(-90 190.71,1382.33)&quot; text-anchor=&quot;middle&quot;&gt;Frequency&lt;/text&gt;\n",
       "\t&lt;line x1=&quot;390.80&quot; y1=&quot;2489.19&quot; x2=&quot;3859.02&quot; y2=&quot;2489.19&quot; style=&quot;stroke:#000000;stroke-width:5.76&quot;/&gt;\n",
       "\t&lt;line x1=&quot;454.16&quot; y1=&quot;2489.19&quot; x2=&quot;454.16&quot; y2=&quot;2529.16&quot; style=&quot;stroke:#000000;stroke-width:5.76&quot;/&gt;\n",
       "\t&lt;text x=&quot;454.16&quot; y=&quot;2619.14&quot; style=&quot;font-family:&#x27;Helvetica&#x27;;font-size:99.99px;fill:#000000&quot; text-anchor=&quot;middle&quot;&gt;-100&lt;/text&gt;\n",
       "\t&lt;line x1=&quot;1289.47&quot; y1=&quot;2489.19&quot; x2=&quot;1289.47&quot; y2=&quot;2529.16&quot; style=&quot;stroke:#000000;stroke-width:5.76&quot;/&gt;\n",
       "\t&lt;text x=&quot;1289.47&quot; y=&quot;2619.14&quot; style=&quot;font-family:&#x27;Helvetica&#x27;;font-size:99.99px;fill:#000000&quot; text-anchor=&quot;middle&quot;&gt;-50&lt;/text&gt;\n",
       "\t&lt;line x1=&quot;2124.91&quot; y1=&quot;2489.19&quot; x2=&quot;2124.91&quot; y2=&quot;2529.16&quot; style=&quot;stroke:#000000;stroke-width:5.76&quot;/&gt;\n",
       "\t&lt;text x=&quot;2124.91&quot; y=&quot;2619.14&quot; style=&quot;font-family:&#x27;Helvetica&#x27;;font-size:99.99px;fill:#000000&quot; text-anchor=&quot;middle&quot;&gt;0&lt;/text&gt;\n",
       "\t&lt;line x1=&quot;2960.35&quot; y1=&quot;2489.19&quot; x2=&quot;2960.35&quot; y2=&quot;2529.16&quot; style=&quot;stroke:#000000;stroke-width:5.76&quot;/&gt;\n",
       "\t&lt;text x=&quot;2960.35&quot; y=&quot;2619.14&quot; style=&quot;font-family:&#x27;Helvetica&#x27;;font-size:99.99px;fill:#000000&quot; text-anchor=&quot;middle&quot;&gt;50&lt;/text&gt;\n",
       "\t&lt;line x1=&quot;3795.66&quot; y1=&quot;2489.19&quot; x2=&quot;3795.66&quot; y2=&quot;2529.16&quot; style=&quot;stroke:#000000;stroke-width:5.76&quot;/&gt;\n",
       "\t&lt;text x=&quot;3795.66&quot; y=&quot;2619.14&quot; style=&quot;font-family:&#x27;Helvetica&#x27;;font-size:99.99px;fill:#000000&quot; text-anchor=&quot;middle&quot;&gt;100&lt;/text&gt;\n",
       "\t&lt;text x=&quot;2124.91&quot; y=&quot;2729.16&quot; style=&quot;font-family:&#x27;Helvetica&#x27;;font-size:99.99px;fill:#000000&quot; text-anchor=&quot;middle&quot;&gt;y0_1math_change&lt;/text&gt;\n",
       "\t&lt;text x=&quot;2124.91&quot; y=&quot;215.98&quot; style=&quot;font-family:&#x27;Helvetica&#x27;;font-size:139.96px;fill:#1E2D53&quot; text-anchor=&quot;middle&quot;&gt;Histogram of y0_1math_change[treat == 1]&lt;/text&gt;\n",
       "&lt;/svg&gt;\n",
       "</body></html>\"></iframe>\n"
      ],
      "text/plain": [
       "This front-end cannot display the desired image type."
      ]
     },
     "metadata": {
      "image/svg+xml": {
       "height": 436,
       "width": 600
      },
      "text/html": {
       "height": 436,
       "width": 600
      }
     },
     "output_type": "display_data"
    },
    {
     "name": "stdout",
     "output_type": "stream",
     "text": [
      "\n",
      "\n"
     ]
    }
   ],
   "source": [
    "histogram y0_1math_change if treat==1, bin(50) freq ///\n",
    "title(\"Histogram of y0_1math_change[treat == 1]\")"
   ]
  },
  {
   "cell_type": "code",
   "execution_count": 5,
   "metadata": {},
   "outputs": [
    {
     "name": "stdout",
     "output_type": "stream",
     "text": [
      "\n",
      "    variable |       min       max\n",
      "-------------+--------------------\n",
      "y0_1math_c~e |       -63        96\n",
      "----------------------------------\n"
     ]
    }
   ],
   "source": [
    "tabstat y0_1math_change if treat==1, stat(min max)"
   ]
  },
  {
   "cell_type": "code",
   "execution_count": 6,
   "metadata": {},
   "outputs": [
    {
     "name": "stdout",
     "output_type": "stream",
     "text": [
      "\n",
      "                                                       -- Binom. Interp. --\n",
      "    Variable |       Obs  Percentile    Centile        [95% Conf. Interval]\n",
      "-------------+-------------------------------------------------------------\n",
      "y0_1math_c~e |       781          5         -20             -23         -18\n",
      "             |                   10         -13             -16         -11\n",
      "             |                   15          -9             -11          -7\n",
      "             |                   25          -4              -5          -2\n",
      "             |                   50           4               3           5\n",
      "             |                   75          16              14          18\n",
      "             |                   85          25              22          27\n",
      "             |                   90          32              28          36\n",
      "             |                   95          43              40          48\n"
     ]
    }
   ],
   "source": [
    "centile y0_1math_change if treat==1, centile(5 10 15 25 50 75 85 90 95)"
   ]
  },
  {
   "cell_type": "markdown",
   "metadata": {},
   "source": [
    "## Part d"
   ]
  },
  {
   "cell_type": "code",
   "execution_count": 7,
   "metadata": {},
   "outputs": [
    {
     "name": "stdout",
     "output_type": "stream",
     "text": [
      "\n",
      "                                                       -- Binom. Interp. --\n",
      "    Variable |       Obs  Percentile    Centile        [95% Conf. Interval]\n",
      "-------------+-------------------------------------------------------------\n",
      "y0_1math_c~e |       781       93.6          40              36          44\n"
     ]
    }
   ],
   "source": [
    "centile y0_1math_change if treat==1, centile(93.6)"
   ]
  },
  {
   "cell_type": "markdown",
   "metadata": {},
   "source": [
    "## Part e"
   ]
  },
  {
   "cell_type": "code",
   "execution_count": 8,
   "metadata": {},
   "outputs": [],
   "source": [
    "qui mean y0_1math_change if treat==1 & missing_y1math==0 & y0_1math_change < 40\n",
    "scalar l_b = _b[y0_1math_change]\n",
    "qui count if treat==1 & missing_y1math==0 & y0_1math_change < 40\n",
    "scalar l_b_count = r(N)\n",
    "qui count if treat==1"
   ]
  },
  {
   "cell_type": "code",
   "execution_count": 9,
   "metadata": {},
   "outputs": [
    {
     "name": "stdout",
     "output_type": "stream",
     "text": [
      "3.701513\n"
     ]
    }
   ],
   "source": [
    "disp %8.6f l_b"
   ]
  },
  {
   "cell_type": "code",
   "execution_count": 10,
   "metadata": {},
   "outputs": [
    {
     "name": "stdout",
     "output_type": "stream",
     "text": [
      "0.2450675\n"
     ]
    }
   ],
   "source": [
    "disp %8.7f 1-l_b_count/r(N)"
   ]
  },
  {
   "cell_type": "markdown",
   "metadata": {},
   "source": [
    "## Part f"
   ]
  },
  {
   "cell_type": "code",
   "execution_count": 11,
   "metadata": {},
   "outputs": [
    {
     "name": "stdout",
     "output_type": "stream",
     "text": [
      "\n",
      "\n",
      "         -2.785134\n"
     ]
    }
   ],
   "source": [
    "qui mean y0_1math_change if treat==0 \n",
    "disp %18.6f l_b - _b[y0_1math_change]"
   ]
  },
  {
   "cell_type": "markdown",
   "metadata": {},
   "source": [
    "## part g"
   ]
  },
  {
   "cell_type": "code",
   "execution_count": 12,
   "metadata": {},
   "outputs": [
    {
     "name": "stdout",
     "output_type": "stream",
     "text": [
      "\n",
      "                                                       -- Binom. Interp. --\n",
      "    Variable |       Obs  Percentile    Centile        [95% Conf. Interval]\n",
      "-------------+-------------------------------------------------------------\n",
      "y0_1math_c~e |       781        6.4         -18             -21         -16\n"
     ]
    }
   ],
   "source": [
    "centile y0_1math_change if treat==1, centile(6.4)"
   ]
  },
  {
   "cell_type": "markdown",
   "metadata": {},
   "source": [
    "## part h"
   ]
  },
  {
   "cell_type": "code",
   "execution_count": 13,
   "metadata": {},
   "outputs": [
    {
     "name": "stdout",
     "output_type": "stream",
     "text": [
      "\n",
      "\n",
      "\n",
      "9.707586\n"
     ]
    }
   ],
   "source": [
    "qui mean y0_1math_change if treat==1 & missing_y1math==0 & y0_1math_change > -18\n",
    "scalar u_b = _b[y0_1math_change]\n",
    "disp %8.6f u_b"
   ]
  },
  {
   "cell_type": "code",
   "execution_count": 14,
   "metadata": {},
   "outputs": [
    {
     "name": "stdout",
     "output_type": "stream",
     "text": [
      "\n",
      "\n",
      "\n",
      "\n",
      "0.2471443\n"
     ]
    }
   ],
   "source": [
    "qui count if treat==1 & missing_y1math==0 & y0_1math_change > -18\n",
    "scalar u_b_count = r(N)\n",
    "qui count if treat==1\n",
    "disp %8.7f 1-u_b_count/r(N)"
   ]
  },
  {
   "cell_type": "markdown",
   "metadata": {},
   "source": [
    "## Part i"
   ]
  },
  {
   "cell_type": "code",
   "execution_count": 15,
   "metadata": {},
   "outputs": [
    {
     "name": "stdout",
     "output_type": "stream",
     "text": [
      "\n",
      "\n",
      "3.220939\n"
     ]
    }
   ],
   "source": [
    "qui mean y0_1math_change if treat==0 \n",
    "disp %8.6f u_b - _b[y0_1math_change]"
   ]
  }
 ],
 "metadata": {
  "kernelspec": {
   "display_name": "Stata",
   "language": "stata",
   "name": "stata"
  },
  "language_info": {
   "codemirror_mode": "stata",
   "file_extension": ".do",
   "mimetype": "text/x-stata",
   "name": "stata",
   "version": "15.1"
  }
 },
 "nbformat": 4,
 "nbformat_minor": 2
}
