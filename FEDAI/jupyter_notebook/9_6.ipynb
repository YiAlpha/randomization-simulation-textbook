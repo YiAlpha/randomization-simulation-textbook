{
 "cells": [
  {
   "cell_type": "markdown",
   "metadata": {},
   "source": [
    "# Problem 9.6"
   ]
  },
  {
   "cell_type": "markdown",
   "metadata": {},
   "source": [
    "## Part a"
   ]
  },
  {
   "cell_type": "code",
   "execution_count": 1,
   "metadata": {},
   "outputs": [],
   "source": [
    "qui import delim ./data/chapter09/Rind_Bordia_JASP_1996, clear"
   ]
  },
  {
   "cell_type": "code",
   "execution_count": 2,
   "metadata": {},
   "outputs": [
    {
     "name": "stdout",
     "output_type": "stream",
     "text": [
      "\n",
      "(89 missing values generated)\n",
      "\n",
      "\n",
      "\n",
      "\n",
      "\n",
      "\n",
      "Two-sample randomization test for theta=r(vardiff) of var_difference by Z\n",
      "\n",
      "Combinations:   5.19137106438e+25 = (89 choose 44)\n",
      "Assuming null=0\n",
      "Observed theta: 53.31\n",
      "\n",
      "Minimum time needed for exact test (h:m:s):  1.66e+18:00:00\n",
      "Reverting to Monte Carlo simulation.\n",
      "Mode: simulation (10000 repetitions)\n",
      "\n",
      "progress: |........................................|\n",
      "\n",
      " p=0.23448 [one-tailed test of Ho:  theta(Z==0)<=theta(Z==1)]\n",
      " p=0.76542 [one-tailed test of Ho:  theta(Z==0)>=theta(Z==1)]\n",
      " p=0.47205 [two-tailed test of Ho:  theta(Z==0)==theta(Z==1)]\n"
     ]
    }
   ],
   "source": [
    "gen Z =.\n",
    "qui replace Z = 1 if happyface==1\n",
    "qui replace Z = 0 if happyface==0\n",
    "\n",
    "rename tip Y\n",
    "\n",
    "capture program drop var_difference\n",
    "program define var_difference, rclass\n",
    "\tsum Y if Z==1, detail\n",
    "\tlocal var_treat = r(Var)\n",
    "\tsum Y if Z==0, detail\n",
    "\tlocal var_control = r(Var)\n",
    "\treturn scalar vardiff= `var_treat'-`var_control'\n",
    "end\n",
    "\n",
    "tsrtest Z r(vardiff): var_difference"
   ]
  },
  {
   "cell_type": "code",
   "execution_count": 3,
   "metadata": {},
   "outputs": [
    {
     "name": "stdout",
     "output_type": "stream",
     "text": [
      "  0.2345\n"
     ]
    }
   ],
   "source": [
    "//  p-value for var(Y1)>Var(Y0)\n",
    "di %8.4f r(uppertail) "
   ]
  },
  {
   "cell_type": "code",
   "execution_count": 4,
   "metadata": {},
   "outputs": [
    {
     "name": "stdout",
     "output_type": "stream",
     "text": [
      "   0.472\n"
     ]
    }
   ],
   "source": [
    "//  p-value for var(Y1)<>Var(Y0)\n",
    "di %8.3f r(twotail) "
   ]
  },
  {
   "cell_type": "markdown",
   "metadata": {},
   "source": [
    "## Part c"
   ]
  },
  {
   "cell_type": "code",
   "execution_count": 5,
   "metadata": {},
   "outputs": [
    {
     "name": "stdout",
     "output_type": "stream",
     "text": [
      "\n",
      "\n",
      "(89 missing values generated)\n",
      "\n",
      "(45 real changes made)\n",
      "\n",
      "(44 real changes made)\n",
      "\n"
     ]
    }
   ],
   "source": [
    "rename female female_factor\n",
    "gen female = .\n",
    "replace female = 1 if female_factor==1\n",
    "replace female = 0 if female_factor==0\n",
    "\n",
    "gen zfemale = Z*female"
   ]
  },
  {
   "cell_type": "code",
   "execution_count": 6,
   "metadata": {},
   "outputs": [
    {
     "name": "stdout",
     "output_type": "stream",
     "text": [
      "\n",
      "      Source |       SS           df       MS      Number of obs   =        89\n",
      "-------------+----------------------------------   F(3, 85)        =      9.32\n",
      "       Model |  3072.39611         3  1024.13204   Prob > F        =    0.0000\n",
      "    Residual |  9335.52582        85  109.829716   R-squared       =    0.2476\n",
      "-------------+----------------------------------   Adj R-squared   =    0.2211\n",
      "       Total |  12407.9219        88  140.999113   Root MSE        =     10.48\n",
      "\n",
      "------------------------------------------------------------------------------\n",
      "           Y |      Coef.   Std. Err.      t    P>|t|     [95% Conf. Interval]\n",
      "-------------+----------------------------------------------------------------\n",
      "           Z |  -3.629627   3.163098    -1.15   0.254    -9.918714     2.65946\n",
      "      female |   6.378199   3.163098     2.02   0.047      .089112    12.66729\n",
      "     zfemale |   8.887078   4.446646     2.00   0.049     .0459551     17.7282\n",
      "       _cons |   21.40571   2.286916     9.36   0.000     16.85871    25.95272\n",
      "------------------------------------------------------------------------------\n"
     ]
    }
   ],
   "source": [
    "//lmmodelint: regression with interaction between happyface and waitstaff sex\n",
    "regress Y Z female zfemale"
   ]
  },
  {
   "cell_type": "code",
   "execution_count": 7,
   "metadata": {},
   "outputs": [
    {
     "name": "stdout",
     "output_type": "stream",
     "text": [
      "\n",
      "      Source |       SS           df       MS      Number of obs   =        89\n",
      "-------------+----------------------------------   F(2, 86)        =     11.59\n",
      "       Model |  2633.69091         2  1316.84545   Prob > F        =    0.0000\n",
      "    Residual |  9774.23103        86  113.653849   R-squared       =    0.2123\n",
      "-------------+----------------------------------   Adj R-squared   =    0.1939\n",
      "       Total |  12407.9219        88  140.999113   Root MSE        =    10.661\n",
      "\n",
      "------------------------------------------------------------------------------\n",
      "           Y |      Coef.   Std. Err.      t    P>|t|     [95% Conf. Interval]\n",
      "-------------+----------------------------------------------------------------\n",
      "           Z |   .8673363   2.261535     0.38   0.702    -3.628446    5.363119\n",
      "      female |   10.87516   2.261535     4.81   0.000      6.37938    15.37094\n",
      "       _cons |   19.05503   1.995134     9.55   0.000     15.08883    23.02122\n",
      "------------------------------------------------------------------------------\n"
     ]
    }
   ],
   "source": [
    "//lmmodel: regression model without interaction\n",
    "regress Y Z female"
   ]
  },
  {
   "cell_type": "code",
   "execution_count": 8,
   "metadata": {},
   "outputs": [],
   "source": [
    "scalar coeff_z = _b[Z]\n",
    "cap drop Y0 Y1\n",
    "gen Y0 = Y - coeff_z * Z\n",
    "gen Y1 = Y + coeff_z*(1- Z)\n",
    "\n",
    "\n",
    "qui regress Y Z female zfemale\n",
    "qui test zfemale\t\t\n",
    "global f_obs = r(F)"
   ]
  },
  {
   "cell_type": "code",
   "execution_count": 9,
   "metadata": {},
   "outputs": [],
   "source": [
    "capture program drop wald_f\n",
    "program define wald_f, rclass\n",
    "\ttempvar Y_sim zsimfemale\n",
    "\tgen `Y_sim' = Y1 * Z + Y0 * (1 - Z)\n",
    "\tgen  `zsimfemale' = female*Z\n",
    "\tqui reg `Y_sim' Z female `zsimfemale'\n",
    "\ttest `zsimfemale'\n",
    "\treturn scalar f_sims = r(F)\n",
    "end"
   ]
  },
  {
   "cell_type": "code",
   "execution_count": 10,
   "metadata": {},
   "outputs": [
    {
     "name": "stdout",
     "output_type": "stream",
     "text": [
      "Two-sample randomization test for theta=r(f_sims) of wald_f by Z\n",
      "\n",
      "Combinations:   5.19137106438e+25 = (89 choose 44)\n",
      "Assuming null=0\n",
      "Observed theta: 3.994\n",
      "\n",
      "Minimum time needed for exact test (h:m:s):  6.84e+19:00:00\n",
      "Reverting to Monte Carlo simulation.\n",
      "Mode: simulation (10000 repetitions)\n",
      "\n",
      "progress: |........................................|\n",
      "\n",
      " p=0.04740 [one-tailed test of Ho:  theta(Z==0)<=theta(Z==1)]\n",
      " p=0.95250 [one-tailed test of Ho:  theta(Z==0)>=theta(Z==1)]\n",
      " p=0.04740 [two-tailed test of Ho:  theta(Z==0)==theta(Z==1)]\n",
      "\n",
      "Saving log file to 9_6_fsims.dta...done.\n"
     ]
    }
   ],
   "source": [
    "tsrtest Z r(f_sims) using 9_6_fsims.dta, overwrite: wald_f\t"
   ]
  },
  {
   "cell_type": "code",
   "execution_count": 11,
   "metadata": {},
   "outputs": [
    {
     "name": "stdout",
     "output_type": "stream",
     "text": [
      "  0.0474\n"
     ]
    }
   ],
   "source": [
    "di %8.4f r(uppertail)"
   ]
  }
 ],
 "metadata": {
  "kernelspec": {
   "display_name": "Stata",
   "language": "stata",
   "name": "stata"
  },
  "language_info": {
   "codemirror_mode": "stata",
   "file_extension": ".do",
   "mimetype": "text/x-stata",
   "name": "stata",
   "version": "15.1"
  }
 },
 "nbformat": 4,
 "nbformat_minor": 2
}
