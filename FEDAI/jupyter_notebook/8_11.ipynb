{
 "cells": [
  {
   "cell_type": "markdown",
   "metadata": {},
   "source": [
    "# Problem 8.11"
   ]
  },
  {
   "cell_type": "code",
   "execution_count": 1,
   "metadata": {},
   "outputs": [
    {
     "name": "stdout",
     "output_type": "stream",
     "text": [
      "\n",
      "\n",
      "number of observations (_N) was 0, now 16\n",
      "\n",
      "\n",
      "\n",
      "\n",
      "\n",
      "\n",
      "\n"
     ]
    }
   ],
   "source": [
    "clear\n",
    "qui set obs 16\n",
    "//(uncomment to install the package)\n",
    "//ssc install egenmore \n",
    "qui egen week = repeat(), values(\"2\")\n",
    "qui replace week = \"3\" in 9/l\n",
    "qui egen prob00 = fill(0.5,0.5)\n",
    "qui replace prob00=0.25 in 9/l\n",
    "qui egen prob01 = fill(0.25,0.25)\n",
    "qui egen prob11 = fill(0.25,0.25)\n",
    "qui replace prob11 = 0.5 in 9/l"
   ]
  },
  {
   "cell_type": "code",
   "execution_count": 5,
   "metadata": {},
   "outputs": [
    {
     "name": "stderr",
     "output_type": "stream",
     "text": [
      "stata_kernel error: code entered was incomplete.\n",
      "\n",
      "This usually means that a loop or program was not correctly terminated.\n",
      "This can also happen if you are in `#delimit ;` mode and did not end the\n",
      "command with `;`. Use `%delimit` to see the current delimiter mode and\n",
      "use `#delimit cr` to switch back to the default mode where `;` is\n",
      "unnecessary.\n"
     ]
    }
   ],
   "source": [
    "input int y str2 z\n",
    "9 \"11\"\n",
    "5 \"00\"\n",
    "2 \"01\"\n",
    "3 \"00\"\t\n",
    "3 \"00\"\n",
    "8 \"11\"\n",
    "3 \"00\"\n",
    "1 \"01\"\n",
    "4 \"11\"\n",
    "7 \"01\"\n",
    "10 \"11\"\n",
    "10 \"01\"\n",
    "3 \"00\"\n",
    "10 \"11\"\n",
    "4 \"00\"\n",
    "3 \"11\" end"
   ]
  },
  {
   "cell_type": "code",
   "execution_count": 6,
   "metadata": {},
   "outputs": [
    {
     "name": "stdout",
     "output_type": "stream",
     "text": [
      "\n",
      "(12 missing values generated)\n",
      "\n",
      "(12 real changes made)\n",
      "\n",
      "(12 missing values generated)\n",
      "\n",
      "\n",
      "(10 missing values generated)\n",
      "\n",
      "(0 real changes made)\n",
      "\n",
      "(10 missing values generated)\n",
      "\n",
      "\n",
      "\n",
      "1.5\n"
     ]
    }
   ],
   "source": [
    "gen prob01z = prob01 if z==\"01\"\n",
    "replace prob01z = prob01 if prob01z==.\n",
    "//difference in the way that R and STATA weighted mean functions\n",
    "gen y01z = y if z==\"01\"\n",
    "egen mean01 = wtmean(y01z), weight(1/prob01z)\n",
    "gen prob00z = prob00 if z==\"00\"\n",
    "replace prob00z = prob00 if prob01z==.\n",
    "gen y00z= y if z==\"00\"\n",
    "egen mean00 = wtmean(y00z), weight(1/prob00z)\n",
    "gen ate01_00 = mean01 - mean00\n",
    "disp ate01_00"
   ]
  },
  {
   "cell_type": "markdown",
   "metadata": {},
   "source": [
    "## Part b"
   ]
  },
  {
   "cell_type": "code",
   "execution_count": 7,
   "metadata": {},
   "outputs": [
    {
     "name": "stdout",
     "output_type": "stream",
     "text": [
      "\n",
      "(14 missing values generated)\n",
      "\n",
      "(14 missing values generated)\n",
      "\n",
      "(14 real changes made)\n",
      "\n",
      "\n",
      "(12 missing values generated)\n",
      "\n",
      "(12 real changes made)\n",
      "\n",
      "(12 missing values generated)\n",
      "\n",
      "\n",
      "\n",
      "\n",
      "5\n"
     ]
    }
   ],
   "source": [
    "gen prob01z2 = prob01 if z==\"01\" & week==\"2\"\n",
    "gen y11z2 = y if z==\"11\" & week==\"2\"\n",
    "replace prob01z2 = .25 if prob01z2==.\n",
    "egen mean11 = wtmean(y11z2), weight(1/prob01z2)\n",
    "gen prob00z2 = prob01 if z==\"00\" & week==\"2\"\n",
    "replace prob00z2 = prob01 if prob00z2==.\n",
    "gen y00z2 = y if z==\"00\" & week==\"2\"\n",
    "drop mean00\n",
    "egen mean00 = wtmean(y00z2), weight(1/prob00z2)\n",
    "\n",
    "gen ate11_00 = mean11 - mean00\n",
    "disp ate11_00"
   ]
  }
 ],
 "metadata": {
  "kernelspec": {
   "display_name": "Stata",
   "language": "stata",
   "name": "stata"
  },
  "language_info": {
   "codemirror_mode": "stata",
   "file_extension": ".do",
   "mimetype": "text/x-stata",
   "name": "stata",
   "version": "15.1"
  }
 },
 "nbformat": 4,
 "nbformat_minor": 2
}
