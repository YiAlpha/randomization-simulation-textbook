{
 "cells": [
  {
   "cell_type": "markdown",
   "metadata": {},
   "source": [
    "# Problem 3.8"
   ]
  },
  {
   "cell_type": "code",
   "execution_count": 1,
   "metadata": {},
   "outputs": [],
   "source": [
    "qui import delim ./data/chapter03/Titiunik_WorkingPaper_2010, clear\n",
    "set seed 1234567"
   ]
  },
  {
   "cell_type": "markdown",
   "metadata": {},
   "source": [
    "## Part a"
   ]
  },
  {
   "cell_type": "code",
   "execution_count": 2,
   "metadata": {},
   "outputs": [],
   "source": [
    "qui rename term2year D\n",
    "qui rename bills_introduced Y\n",
    "qui rename texas0_arkansas1 block"
   ]
  },
  {
   "cell_type": "code",
   "execution_count": 3,
   "metadata": {},
   "outputs": [],
   "source": [
    "qui tabstat Y if block ==0, by(D) stat(mean) save\t\n",
    "scalar ate_texas = el(r(Stat2),1,1) - el(r(Stat1),1,1)\n",
    "\n",
    "qui tabstat Y if block ==1, by(D) stat(mean) save\t\n",
    "scalar ate_ark = el(r(Stat2),1,1) - el(r(Stat1),1,1)"
   ]
  },
  {
   "cell_type": "code",
   "execution_count": 7,
   "metadata": {},
   "outputs": [
    {
     "name": "stdout",
     "output_type": "stream",
     "text": [
      "ate_texas =         -16.74167\n"
     ]
    }
   ],
   "source": [
    "di \"ate_texas =\"%18.5f ate_texas "
   ]
  },
  {
   "cell_type": "code",
   "execution_count": 8,
   "metadata": {},
   "outputs": [
    {
     "name": "stdout",
     "output_type": "stream",
     "text": [
      "ate_arkansas =         -10.09477\n"
     ]
    }
   ],
   "source": [
    "di \"ate_arkansas =\"%18.5f ate_ark"
   ]
  },
  {
   "cell_type": "markdown",
   "metadata": {},
   "source": [
    "## Part b"
   ]
  },
  {
   "cell_type": "code",
   "execution_count": 9,
   "metadata": {},
   "outputs": [],
   "source": [
    "qui tabstat Y if block ==0, by(D) stat(v n) save\t\n",
    "\n",
    "scalar se_texas = sqrt(el(r(Stat2),1,1)/el(r(Stat2),2,1) + /// \n",
    "\t\t\t\t\tel(r(Stat1),1,1)/el(r(Stat1),2,1))\n",
    "\t\t\t\t\t\n",
    "\n",
    "qui tabstat Y if block ==1, by(D) stat(v n) save\t\n",
    "\n",
    "scalar se_arkansas = sqrt(el(r(Stat2),1,1)/el(r(Stat2),2,1) + /// \n",
    "\t\t\t\t\tel(r(Stat1),1,1)/el(r(Stat1),2,1))"
   ]
  },
  {
   "cell_type": "code",
   "execution_count": 12,
   "metadata": {},
   "outputs": [
    {
     "name": "stdout",
     "output_type": "stream",
     "text": [
      "se_texas =          9.345871\n"
     ]
    }
   ],
   "source": [
    "di \"se_texas =\"%18.6f se_texas"
   ]
  },
  {
   "cell_type": "code",
   "execution_count": 13,
   "metadata": {},
   "outputs": [
    {
     "name": "stdout",
     "output_type": "stream",
     "text": [
      "se_arkansas =          3.395979\n"
     ]
    }
   ],
   "source": [
    "di \"se_arkansas =\"%18.6f se_arkansas"
   ]
  },
  {
   "cell_type": "markdown",
   "metadata": {},
   "source": [
    "## Part c"
   ]
  },
  {
   "cell_type": "code",
   "execution_count": 16,
   "metadata": {},
   "outputs": [
    {
     "name": "stdout",
     "output_type": "stream",
     "text": [
      "\n",
      "\n",
      "\n",
      "overall ate =          -13.2168\n"
     ]
    }
   ],
   "source": [
    "qui tabstat Y, by(block) stat(n) save\t\n",
    "\n",
    "scalar ate_overall = el(r(Stat1),1,1)/_N*ate_texas + /// \n",
    "\t\t\t\t\t el(r(Stat2),1,1)/_N*ate_ark\n",
    "\n",
    "di \"overall ate =\"%18.4f ate_overall"
   ]
  },
  {
   "cell_type": "markdown",
   "metadata": {},
   "source": [
    "## Part e"
   ]
  },
  {
   "cell_type": "code",
   "execution_count": 17,
   "metadata": {},
   "outputs": [
    {
     "name": "stdout",
     "output_type": "stream",
     "text": [
      "\n",
      "\n",
      "overall se =           4.74478\n"
     ]
    }
   ],
   "source": [
    "scalar se_overall = sqrt((el(r(Stat1),1,1)/_N)^2*se_texas^2 + /// \n",
    "\t\t\t\t\t\t (el(r(Stat2),1,1)/_N)^2*se_arkansas^2)\n",
    "\t\t\t\t\t\t \n",
    "di \"overall se =\"%18.5f se_overall"
   ]
  },
  {
   "cell_type": "markdown",
   "metadata": {},
   "source": [
    "## Part f"
   ]
  },
  {
   "cell_type": "code",
   "execution_count": 18,
   "metadata": {},
   "outputs": [],
   "source": [
    "// calculate probs under block assignment\n",
    "qui bysort block: egen probs=mean(D)\n",
    "\n",
    "cap program drop ate_block\t\n",
    "program define ate_block, rclass\n",
    "args Y D probs\n",
    "tempvar ipw\n",
    "gen `ipw' = .\n",
    "// calculate inverse probability weight under block assignment\n",
    "replace `ipw' = `D'/`probs' + (1-`D')/(1-`probs')\n",
    "qui reg `Y' `D' [iw=`ipw']\n",
    "return scalar ate=_b[`D']\n",
    "end "
   ]
  },
  {
   "cell_type": "code",
   "execution_count": 20,
   "metadata": {},
   "outputs": [
    {
     "name": "stdout",
     "output_type": "stream",
     "text": [
      "(66 missing values generated)\n",
      "(66 real changes made)\n",
      "\n",
      "      command:  ate_block Y D probs\n",
      "        _pm_1:  r(ate)\n",
      "  res. var(s):  D\n",
      "   Resampling:  Permuting D\n",
      "Clust. var(s):  __00000J\n",
      "     Clusters:  66\n",
      "Strata var(s):  block\n",
      "       Strata:  2\n",
      "\n",
      "------------------------------------------------------------------------------\n",
      "T            |     T(obs)       c       n   p=c/n   SE(p) [95% Conf. Interval]\n",
      "-------------+----------------------------------------------------------------\n",
      "       _pm_1 |   -13.2168      69   10000  0.0069  0.0008  .0053725   .0087244\n",
      "------------------------------------------------------------------------------\n",
      "Note: Confidence interval is with respect to p=c/n.\n",
      "Note: c = #{|T| >= |T(obs)|}\n"
     ]
    }
   ],
   "source": [
    "// ssc install ritest (to install ritest package)\n",
    "ritest D r(ate), strata(block) reps(10000) nodots: ///\n",
    "ate_block Y D probs"
   ]
  },
  {
   "cell_type": "code",
   "execution_count": 21,
   "metadata": {},
   "outputs": [
    {
     "name": "stdout",
     "output_type": "stream",
     "text": [
      "-13.216796\n"
     ]
    }
   ],
   "source": [
    "// ate\n",
    "di el(r(b),1,1)"
   ]
  },
  {
   "cell_type": "code",
   "execution_count": 22,
   "metadata": {},
   "outputs": [
    {
     "name": "stdout",
     "output_type": "stream",
     "text": [
      ".0069\n"
     ]
    }
   ],
   "source": [
    "// p.value.twosided\n",
    "di el(r(p),1,1)"
   ]
  }
 ],
 "metadata": {
  "kernelspec": {
   "display_name": "Stata",
   "language": "stata",
   "name": "stata"
  },
  "language_info": {
   "codemirror_mode": "stata",
   "file_extension": ".do",
   "mimetype": "text/x-stata",
   "name": "stata",
   "version": "15.1"
  }
 },
 "nbformat": 4,
 "nbformat_minor": 2
}
