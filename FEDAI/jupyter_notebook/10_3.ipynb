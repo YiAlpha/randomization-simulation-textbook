{
 "cells": [
  {
   "cell_type": "markdown",
   "metadata": {},
   "source": [
    "# Problem 10.3"
   ]
  },
  {
   "cell_type": "markdown",
   "metadata": {},
   "source": [
    "## Part j"
   ]
  },
  {
   "cell_type": "code",
   "execution_count": 1,
   "metadata": {},
   "outputs": [
    {
     "name": "stdout",
     "output_type": "stream",
     "text": [
      "\n",
      "\n",
      "\n",
      "             z       Y0M0       Y1M0       Y0M1       Y1M1         M0         M1\n"
     ]
    }
   ],
   "source": [
    "set more off\n",
    "input z Y0M0 Y1M0 Y0M1 Y1M1 M0 M1\n",
    "0 0 0 0 0 0 0 \n",
    "0 0 0 0 0 0 1\n",
    "0 0 0 0 0 1 1\n",
    "0 0 1 0 1 0 0\n",
    "0 0 1 0 1 0 1 \n",
    "0 0 1 0 1 1 1\n",
    "1 1 0 1 1 0 0\n",
    "1 1 0 1 1 0 1\n",
    "1 1 0 1 1 1 1\n",
    "1 0 1 1 1 0 0\n",
    "1 0 1 1 1 0 1\n",
    "1 0 1 1 1 1 1\n",
    "end"
   ]
  },
  {
   "cell_type": "code",
   "execution_count": 2,
   "metadata": {},
   "outputs": [
    {
     "name": "stdout",
     "output_type": "stream",
     "text": [
      "\n",
      "\n",
      "   stats |      Y0M0      Y1M0      Y0M1      Y1M1\n",
      "---------+----------------------------------------\n",
      "    mean |       .25        .5        .5       .75\n",
      "--------------------------------------------------\n",
      "\n",
      "(12 missing values generated)\n",
      "\n",
      "(12 missing values generated)\n"
     ]
    }
   ],
   "source": [
    "tabstat Y0M0 Y1M0 Y0M1 Y1M1, stat(mean)\t\n",
    "\n",
    "gen M = .\n",
    "gen Y = ."
   ]
  },
  {
   "cell_type": "code",
   "execution_count": 3,
   "metadata": {},
   "outputs": [],
   "source": [
    "//coefmat\n",
    "capture program drop coef\n",
    "program define coef, rclass\n",
    "\treplace M = M0*(1-z) + M1*z\n",
    "\treplace Y = Y0M0*(1-z)*(1-M) + Y1M0*(z)*(1-M) + Y0M1*(1-z)*(M) + Y1M1*(z)*(M)\t\n",
    "\tqui reg Y M z\n",
    "\treturn scalar coy = _b[_cons]\n",
    "\treturn scalar com = _b[M]\n",
    "\treturn scalar coz = _b[z]\n",
    "\treturn scalar nocoli = _se[z]\n",
    "end\n",
    "\n",
    "qui tsrtest z r(coy) using co_y.dta, overwrite: coef \n",
    "qui tsrtest z r(com) using co_m.dta, overwrite: coef\n",
    "qui tsrtest z r(coz) using co_z.dta, overwrite: coef \n",
    "qui tsrtest z r(nocoli) using nocoli.dta, overwrite: coef "
   ]
  },
  {
   "cell_type": "code",
   "execution_count": 4,
   "metadata": {},
   "outputs": [],
   "source": [
    "// tcoefmat\n",
    "capture program drop tcoef\n",
    "program define tcoef, rclass\n",
    "\treplace M = M0*(1-z) + M1*z\n",
    "\treplace Y = Y0M0*(1-z)*(1-M) + Y1M0*(z)*(1-M) + Y0M1*(1-z)*(M) + Y1M1*(z)*(M)\t\n",
    "\tqui reg Y z\n",
    "\treturn scalar tcoy = _b[_cons]\n",
    "\treturn scalar tcoz = _b[z]\n",
    "end\n",
    "\n",
    "qui tsrtest z r(tcoy) using tco_y.dta, overwrite: tcoef\n",
    "qui tsrtest z r(tcoz) using tco_z.dta, overwrite: tcoef "
   ]
  },
  {
   "cell_type": "code",
   "execution_count": 5,
   "metadata": {},
   "outputs": [],
   "source": [
    "// mcoefmat\n",
    "capture program drop mcoef\n",
    "program define mcoef, rclass\n",
    "\treplace M = M0*(1-z) + M1*z\n",
    "\tqui reg M z\n",
    "\treturn scalar mcom = _b[_cons]\n",
    "\treturn scalar mcoz = _b[z]\n",
    "end\n",
    "\n",
    "qui tsrtest z r(mcom) using mco_m.dta, overwrite: mcoef \n",
    "qui tsrtest z r(mcoz) using mco_z.dta, overwrite: mcoef"
   ]
  },
  {
   "cell_type": "code",
   "execution_count": 6,
   "metadata": {
    "scrolled": true
   },
   "outputs": [
    {
     "name": "stdout",
     "output_type": "stream",
     "text": [
      "\n",
      "\n",
      "\n",
      "\n",
      "\n",
      "\n",
      "\n",
      "\n",
      "\n",
      "\n",
      "\n",
      "\n",
      "\n",
      "\n",
      "\n",
      "\n",
      "   stats |      co_y      co_m      co_z\n",
      "---------+------------------------------\n",
      "    mean |       .25       .25       .25\n",
      "----------------------------------------\n",
      "\n"
     ]
    }
   ],
   "source": [
    "\n",
    "// colMeans(na.omit(coefmat))\n",
    "preserve\t\n",
    "qui use \"co_y.dta\", clear\n",
    "qui rename theta co_y\n",
    "\n",
    "qui merge 1:1 _n using \"co_m.dta\"\n",
    "qui rename theta co_m \n",
    "\n",
    "qui drop _merge\n",
    "qui merge 1:1 _n using \"co_z.dta\"\n",
    "qui rename theta co_z \n",
    "qui drop _merge\n",
    "\n",
    "//check colinearity\n",
    "qui merge 1:1 _n using \"nocoli.dta\"\n",
    "qui rename theta nocoli\n",
    "qui drop _merge\n",
    "\n",
    "\n",
    "qui drop if _n == 1 \n",
    "// omit instances of perfect colinearity between M and Z\n",
    "qui drop if nocoli==0\n",
    "\n",
    "tabstat co_y co_m co_z,stat(mean)\n",
    "\n",
    "restore"
   ]
  },
  {
   "cell_type": "code",
   "execution_count": 8,
   "metadata": {},
   "outputs": [
    {
     "name": "stdout",
     "output_type": "stream",
     "text": [
      "\n",
      "\n",
      "\n",
      "\n",
      "\n",
      "\n",
      "\n",
      "\n",
      "\n",
      "\n",
      "\n",
      "\n",
      "\n",
      "   stats |     tco_y     tco_z\n",
      "---------+--------------------\n",
      "    mean |  .3333333  .3333333\n",
      "------------------------------\n",
      "\n"
     ]
    }
   ],
   "source": [
    "// colMeans(na.omit(tcoefmat)))\n",
    "preserve\n",
    "qui use \"tco_y.dta\", clear\n",
    "qui rename theta tco_y\n",
    "\n",
    "qui merge 1:1 _n using \"tco_z.dta\"\n",
    "qui rename theta tco_z \n",
    "qui drop _merge\n",
    "\n",
    "qui /*check coli*/\n",
    "qui merge 1:1 _n using \"nocoli.dta\"\n",
    "qui rename theta nocoli\n",
    "qui drop _merge\n",
    "\n",
    "// drop the observation statistics\n",
    "qui drop if _n == 1 \n",
    "\n",
    "tabstat tco_y tco_z,stat(mean)\n",
    "restore"
   ]
  },
  {
   "cell_type": "code",
   "execution_count": 9,
   "metadata": {},
   "outputs": [
    {
     "name": "stdout",
     "output_type": "stream",
     "text": [
      "\n",
      "\n",
      "\n",
      "\n",
      "\n",
      "\n",
      "\n",
      "\n",
      "\n",
      "   stats |     mco_m     mco_z\n",
      "---------+--------------------\n",
      "    mean |  .3333333  .3333333\n",
      "------------------------------\n",
      "\n"
     ]
    }
   ],
   "source": [
    "//colMeans(na.omit(mcoefmat)))\n",
    "preserve\t\n",
    "qui use \"mco_m.dta\", clear\n",
    "qui rename theta mco_m\n",
    "\n",
    "qui merge 1:1 _n using \"mco_z.dta\"\n",
    "qui rename theta mco_z \n",
    "qui drop _merge\n",
    " \n",
    "// drop the observation statistics\n",
    "qui drop if _n == 1 \n",
    "tabstat mco_m mco_z,stat(mean)\n",
    "restore"
   ]
  },
  {
   "cell_type": "markdown",
   "metadata": {},
   "source": [
    "## Part k"
   ]
  },
  {
   "cell_type": "code",
   "execution_count": 10,
   "metadata": {},
   "outputs": [
    {
     "name": "stdout",
     "output_type": "stream",
     "text": [
      "\n",
      "\n",
      "\n",
      "\n",
      "\n",
      "\n",
      "\n",
      "\n",
      "\n",
      "\n",
      "\n",
      "\n",
      "\n",
      "\n",
      "    variable |      mean\n",
      "-------------+----------\n",
      "        asbs |   .082244\n",
      "------------------------\n",
      "\n"
     ]
    }
   ],
   "source": [
    "preserve\t \n",
    "\n",
    "qui use \"mco_z.dta\", clear\n",
    "qui rename theta mco_z \n",
    "\n",
    "qui merge 1:1 _n using \"co_z.dta\"\n",
    "qui rename theta co_z \n",
    "qui drop _merge \n",
    "\n",
    "// check colinearity\n",
    "qui merge 1:1 _n using \"nocoli.dta\"\n",
    "qui rename theta nocoli\n",
    "qui drop _merge\n",
    "\n",
    "qui gen asbs = mco_z*co_z\n",
    "qui drop if _n == 1 \n",
    "// omit instances of perfect colinearity between M and Z\n",
    "qui drop if nocoli==0\n",
    "\n",
    "\n",
    "tabstat asbs,stat(mean)\n",
    "restore"
   ]
  }
 ],
 "metadata": {
  "kernelspec": {
   "display_name": "Stata",
   "language": "stata",
   "name": "stata"
  },
  "language_info": {
   "codemirror_mode": "stata",
   "file_extension": ".do",
   "mimetype": "text/x-stata",
   "name": "stata",
   "version": "15.1"
  }
 },
 "nbformat": 4,
 "nbformat_minor": 2
}
