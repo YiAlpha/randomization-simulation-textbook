{
 "cells": [
  {
   "cell_type": "markdown",
   "metadata": {},
   "source": [
    "# Problem 4.9"
   ]
  },
  {
   "cell_type": "markdown",
   "metadata": {},
   "source": [
    "## part c"
   ]
  },
  {
   "cell_type": "code",
   "execution_count": 1,
   "metadata": {},
   "outputs": [
    {
     "name": "stdout",
     "output_type": "stream",
     "text": [
      "\n",
      "\n",
      "\n",
      "          ests  shareof~N\n",
      "\n",
      "\n",
      "\n",
      "Total estimation                  Number of obs   =          4\n",
      "\n",
      "--------------------------------------------------------------\n",
      "             |      Total   Std. Err.     [95% Conf. Interval]\n",
      "-------------+------------------------------------------------\n",
      " overall_ate |  -.0078273   .0090322     -.0365719    .0209173\n",
      "--------------------------------------------------------------\n"
     ]
    }
   ],
   "source": [
    "clear\n",
    "input ests shareoftotalN\n",
    ".00964 .049487\n",
    "-.007829 .1520981\n",
    "-.01362 .626616\n",
    ".008271 .171799\n",
    "end\n",
    "\n",
    "qui gen overall_ate = ests*shareoftotalN\n",
    "total(overall_ate)"
   ]
  },
  {
   "cell_type": "markdown",
   "metadata": {},
   "source": [
    "## part e"
   ]
  },
  {
   "cell_type": "code",
   "execution_count": 3,
   "metadata": {},
   "outputs": [
    {
     "name": "stdout",
     "output_type": "stream",
     "text": [
      "\n",
      "\n",
      "\n",
      "\n",
      "\n",
      "(sum of wgt is   1.8814e+06)\n",
      "\n",
      "      Source |       SS           df       MS      Number of obs   =   940,715\n",
      "-------------+----------------------------------   F(1, 940713)    =     57.98\n",
      "       Model |  14.4110635         1  14.4110635   Prob > F        =    0.0000\n",
      "    Residual |  233826.144   940,713  .248562679   R-squared       =    0.0001\n",
      "-------------+----------------------------------   Adj R-squared   =    0.0001\n",
      "       Total |  233840.555   940,714  .248577734   Root MSE        =    .49856\n",
      "\n",
      "------------------------------------------------------------------------------\n",
      "      vote02 |      Coef.   Std. Err.      t    P>|t|     [95% Conf. Interval]\n",
      "-------------+----------------------------------------------------------------\n",
      "      treat2 |   -.007828   .0010281    -7.61   0.000    -.0098429    -.005813\n",
      "       _cons |   .4661975   .0007269   641.31   0.000     .4647727    .4676223\n",
      "------------------------------------------------------------------------------\n"
     ]
    }
   ],
   "source": [
    "clear\n",
    "qui import delim ./data/chapter04/Gerber_Green_AAAPSS_2005, clear\n",
    "qui bysort strata: egen blockpr = mean(treat2)\n",
    "qui gen q = blockpr*treat2 + (1-blockpr)*(1-treat2)\n",
    "regress vote02 treat2 [aw=1/q]"
   ]
  }
 ],
 "metadata": {
  "kernelspec": {
   "display_name": "Stata",
   "language": "stata",
   "name": "stata"
  },
  "language_info": {
   "codemirror_mode": "stata",
   "file_extension": ".do",
   "mimetype": "text/x-stata",
   "name": "stata",
   "version": "15.1"
  }
 },
 "nbformat": 4,
 "nbformat_minor": 2
}
