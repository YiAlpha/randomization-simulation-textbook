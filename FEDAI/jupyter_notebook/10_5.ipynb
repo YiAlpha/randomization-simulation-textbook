{
 "cells": [
  {
   "cell_type": "markdown",
   "metadata": {},
   "source": [
    "# Problem 10.5"
   ]
  },
  {
   "cell_type": "code",
   "execution_count": 1,
   "metadata": {},
   "outputs": [
    {
     "name": "stdout",
     "output_type": "stream",
     "text": [
      "\n",
      "\n",
      "number of observations (_N) was 0, now 1,000\n",
      "\n",
      "\n",
      "(90 real changes made)\n",
      "\n",
      "(100 real changes made)\n",
      "\n",
      "\n",
      "(500 real changes made)\n",
      "\n",
      "\n",
      "(100 real changes made)\n",
      "\n",
      "(200 real changes made)\n",
      "\n",
      "\n",
      "      Source |       SS           df       MS      Number of obs   =     1,000\n",
      "-------------+----------------------------------   F(2, 997)       =    652.06\n",
      "       Model |       87.22         2       43.61   Prob > F        =    0.0000\n",
      "    Residual |       66.68       997  .066880642   R-squared       =    0.5667\n",
      "-------------+----------------------------------   Adj R-squared   =    0.5659\n",
      "       Total |       153.9       999  .154054054   Root MSE        =    .25861\n",
      "\n",
      "------------------------------------------------------------------------------\n",
      "           y |      Coef.   Std. Err.      t    P>|t|     [95% Conf. Interval]\n",
      "-------------+----------------------------------------------------------------\n",
      "           z |      -.112     .01676    -6.68   0.000     -.144889    -.079111\n",
      "           m |        .66   .0182867    36.09   0.000     .6241152    .6958848\n",
      "       _cons |       .048     .01213     3.96   0.000     .0241967    .0718033\n",
      "------------------------------------------------------------------------------\n"
     ]
    }
   ],
   "source": [
    "clear\n",
    "set obs 1000\n",
    "egen y = fill(0,0)\n",
    "replace y = 1 in 411/500\n",
    "replace y =1 in 901/1000\n",
    "egen z = fill(0,0)\n",
    "replace z = 1 in 501/1000\n",
    "egen m = fill(0,0)\n",
    "replace m = 1 in 401/500\n",
    "replace m = 1 in 801/1000\n",
    "regress y z m"
   ]
  }
 ],
 "metadata": {
  "kernelspec": {
   "display_name": "Stata",
   "language": "stata",
   "name": "stata"
  },
  "language_info": {
   "codemirror_mode": "stata",
   "file_extension": ".do",
   "mimetype": "text/x-stata",
   "name": "stata",
   "version": "15.1"
  }
 },
 "nbformat": 4,
 "nbformat_minor": 2
}
