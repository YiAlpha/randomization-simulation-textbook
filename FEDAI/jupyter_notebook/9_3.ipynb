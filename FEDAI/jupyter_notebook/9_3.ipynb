{
 "cells": [
  {
   "cell_type": "markdown",
   "metadata": {},
   "source": [
    "# Problem 9.3"
   ]
  },
  {
   "cell_type": "code",
   "execution_count": 1,
   "metadata": {},
   "outputs": [
    {
     "name": "stdout",
     "output_type": "stream",
     "text": [
      "\n",
      "\n",
      "number of observations (_N) was 0, now 8\n",
      "\n",
      "\n",
      "(4 real changes made)\n"
     ]
    }
   ],
   "source": [
    "clear\n",
    "set obs 8\n",
    "egen block = repeat(), values(\"A\")\n",
    "replace block =\"B\" in 5/8\n"
   ]
  },
  {
   "cell_type": "code",
   "execution_count": 3,
   "metadata": {},
   "outputs": [
    {
     "name": "stderr",
     "output_type": "stream",
     "text": [
      "stata_kernel error: code entered was incomplete.\n",
      "\n",
      "This usually means that a loop or program was not correctly terminated.\n",
      "This can also happen if you are in `#delimit ;` mode and did not end the\n",
      "command with `;`. Use `%delimit` to see the current delimiter mode and\n",
      "use `#delimit cr` to switch back to the default mode where `;` is\n",
      "unnecessary.\n"
     ]
    }
   ],
   "source": [
    "\tinput int y0 int y1\n",
    "\t0 2\n",
    "\t1 5\n",
    "\t1 3\n",
    "\t2 1\t\n",
    "\t2 3\n",
    "\t3 3\n",
    "\t4 9\n",
    "\t4 7 end"
   ]
  },
  {
   "cell_type": "code",
   "execution_count": 6,
   "metadata": {},
   "outputs": [],
   "source": [
    "// function to calculate population covariance\n",
    "cap program drop cov_pop\n",
    "program define cov_pop, rclass\n",
    "args x y\t\n",
    "tempvar xy_dev \n",
    "qui sum `x'\n",
    "local avg_x = r(mean)\n",
    "local length = r(N)\t\n",
    "\n",
    "qui sum `y'\n",
    "local avg_y = r(mean)\n",
    "\t\n",
    "gen `xy_dev' = (`x'-`avg_x')*(`y'-`avg_y')\n",
    "qui tabstat `xy_dev', stat(sum) save\n",
    "return scalar cor_pop = el(r(StatTotal),1,1)/`length'\n",
    "end\n",
    "\n",
    "qui egen rank_y1=rank(y1), unique\n",
    "qui gen id=_n"
   ]
  },
  {
   "cell_type": "code",
   "execution_count": 7,
   "metadata": {},
   "outputs": [
    {
     "name": "stdout",
     "output_type": "stream",
     "text": [
      "\n",
      "\n",
      "(8 real changes made)\n",
      "\n"
     ]
    }
   ],
   "source": [
    "vlookup id, generate(y1_lowtohigh) key(rank_y1) value(y1)\n",
    "replace id = 9-id\n",
    "vlookup id, generate(y1_hightolow) key(rank_y1) value(y1)"
   ]
  },
  {
   "cell_type": "code",
   "execution_count": 8,
   "metadata": {},
   "outputs": [
    {
     "name": "stdout",
     "output_type": "stream",
     "text": [
      "\n",
      "\n",
      "cov.min =  -3.141\n"
     ]
    }
   ],
   "source": [
    "cov_pop y0 y1_hightolow\n",
    "di \"cov.min =\"%8.3f r(cor_pop)"
   ]
  },
  {
   "cell_type": "code",
   "execution_count": 9,
   "metadata": {},
   "outputs": [
    {
     "name": "stdout",
     "output_type": "stream",
     "text": [
      "\n",
      "\n",
      "cov.min =   3.234\n"
     ]
    }
   ],
   "source": [
    "cov_pop y0 y1_lowtohigh\n",
    "di \"cov.min =\"%8.3f r(cor_pop)"
   ]
  },
  {
   "cell_type": "code",
   "execution_count": 10,
   "metadata": {},
   "outputs": [],
   "source": [
    "qui replace id=_n\n",
    "qui replace id=. if block==\"B\"\n",
    "qui egen rank_y1_A = rank(y1), unique by(block)\n",
    "qui replace rank_y1_A =. if block==\"B\"\n",
    "qui vlookup id, generate(y1_hightolow_block_A) key(rank_y1_A) value(y1)\n",
    "qui replace id = _n-4\n",
    "qui replace id =. if block==\"A\"\n",
    "qui egen rank_y1_B = rank(y1), unique by(block)\n",
    "qui replace rank_y1_B =. if block==\"A\"\n",
    "qui vlookup id, generate(y1_hightolow_block_B) key(rank_y1_B) value(y1)\n",
    "qui gen y1_hightolow_block = y1_hightolow_block_A\n",
    "qui replace y1_hightolow_block = y1_hightolow_block_B if block==\"B\"\n",
    "qui replace id=5-_n\n",
    "qui replace id=. if block==\"B\"\n",
    "qui vlookup id, generate(y1_lowtohigh_block_A) key(rank_y1_A) value(y1)\n",
    "qui replace id = 9-_n\n",
    "qui replace id =. if block==\"A\"\n",
    "qui vlookup id, generate(y1_lowtohigh_block_B) key(rank_y1_B) value(y1)\n",
    "qui gen y1_lowtohigh_block = y1_lowtohigh_block_A\n",
    "qui replace y1_lowtohigh_block = y1_lowtohigh_block_B if block==\"B\""
   ]
  },
  {
   "cell_type": "code",
   "execution_count": 11,
   "metadata": {},
   "outputs": [
    {
     "name": "stdout",
     "output_type": "stream",
     "text": [
      "\n",
      "\n",
      "cov.min = -0.0156\n"
     ]
    }
   ],
   "source": [
    "cov_pop y0 y1_lowtohigh_block\n",
    "di \"cov.min =\"%8.4f r(cor_pop)"
   ]
  },
  {
   "cell_type": "code",
   "execution_count": 12,
   "metadata": {},
   "outputs": [
    {
     "name": "stdout",
     "output_type": "stream",
     "text": [
      "\n",
      "\n",
      "cov.min =   2.984\n"
     ]
    }
   ],
   "source": [
    "cov_pop y0 y1_hightolow_block\n",
    "di \"cov.min =\"%8.3f r(cor_pop)"
   ]
  }
 ],
 "metadata": {
  "kernelspec": {
   "display_name": "Stata",
   "language": "stata",
   "name": "stata"
  },
  "language_info": {
   "codemirror_mode": "stata",
   "file_extension": ".do",
   "mimetype": "text/x-stata",
   "name": "stata",
   "version": "15.1"
  }
 },
 "nbformat": 4,
 "nbformat_minor": 2
}
