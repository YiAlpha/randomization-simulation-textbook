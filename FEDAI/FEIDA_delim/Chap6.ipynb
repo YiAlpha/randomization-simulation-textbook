{
 "cells": [
  {
   "cell_type": "markdown",
   "metadata": {},
   "source": [
    "# Chap 6"
   ]
  },
  {
   "cell_type": "code",
   "execution_count": 2,
   "metadata": {},
   "outputs": [],
   "source": [
    "library(foreign)\n",
    "\n",
    "teacherdata <- read.csv(\"Mullainathan_et_al_BookChapterSubset_2010.csv\")\n",
    "\n",
    "# Rename Variables\n",
    "ASSIGNED <- teacherdata$watch\n",
    "TREATED <- teacherdata$watchdps\n",
    "Y <- teacherdata$ochange"
   ]
  },
  {
   "cell_type": "markdown",
   "metadata": {},
   "source": [
    "### Box 6.3: Regression Estimate of the ITT_D"
   ]
  },
  {
   "cell_type": "code",
   "execution_count": 3,
   "metadata": {
    "scrolled": true
   },
   "outputs": [
    {
     "data": {
      "text/plain": [
       "\n",
       "Call:\n",
       "lm(formula = TREATED ~ ASSIGNED)\n",
       "\n",
       "Residuals:\n",
       "    Min      1Q  Median      3Q     Max \n",
       "-0.3663 -0.3663 -0.1616  0.6337  0.8384 \n",
       "\n",
       "Coefficients:\n",
       "            Estimate Std. Error t value Pr(>|t|)    \n",
       "(Intercept)  0.16162    0.01931   8.367  < 2e-16 ***\n",
       "ASSIGNED     0.20472    0.02718   7.532 1.12e-13 ***\n",
       "---\n",
       "Signif. codes:  0 ‘***’ 0.001 ‘**’ 0.01 ‘*’ 0.05 ‘.’ 0.1 ‘ ’ 1\n",
       "\n",
       "Residual standard error: 0.4297 on 998 degrees of freedom\n",
       "Multiple R-squared:  0.05379,\tAdjusted R-squared:  0.05284 \n",
       "F-statistic: 56.73 on 1 and 998 DF,  p-value: 1.116e-13\n"
      ]
     },
     "metadata": {},
     "output_type": "display_data"
    }
   ],
   "source": [
    "out.lm <- lm(TREATED ~ ASSIGNED)\n",
    "summary(out.lm)"
   ]
  },
  {
   "cell_type": "markdown",
   "metadata": {},
   "source": [
    "### Box 6.4: Regression Estimate of the ITT"
   ]
  },
  {
   "cell_type": "code",
   "execution_count": 4,
   "metadata": {
    "scrolled": false
   },
   "outputs": [
    {
     "data": {
      "text/plain": [
       "\n",
       "Call:\n",
       "lm(formula = Y ~ ASSIGNED)\n",
       "\n",
       "Residuals:\n",
       "    Min      1Q  Median      3Q     Max \n",
       "-0.4753 -0.4753 -0.4182  0.5248  0.5818 \n",
       "\n",
       "Coefficients:\n",
       "            Estimate Std. Error t value Pr(>|t|)    \n",
       "(Intercept)  0.41818    0.02233  18.725   <2e-16 ***\n",
       "ASSIGNED     0.05707    0.03143   1.816   0.0697 .  \n",
       "---\n",
       "Signif. codes:  0 ‘***’ 0.001 ‘**’ 0.01 ‘*’ 0.05 ‘.’ 0.1 ‘ ’ 1\n",
       "\n",
       "Residual standard error: 0.4969 on 998 degrees of freedom\n",
       "Multiple R-squared:  0.003293,\tAdjusted R-squared:  0.002294 \n",
       "F-statistic: 3.297 on 1 and 998 DF,  p-value: 0.06969\n"
      ]
     },
     "metadata": {},
     "output_type": "display_data"
    }
   ],
   "source": [
    "out.lm <- lm(Y ~ ASSIGNED)\n",
    "summary(out.lm)"
   ]
  },
  {
   "cell_type": "code",
   "execution_count": 8,
   "metadata": {},
   "outputs": [],
   "source": [
    "library(sem)"
   ]
  },
  {
   "cell_type": "markdown",
   "metadata": {},
   "source": [
    "### Box 6.5: 2SLS Regression Estimate of CACE "
   ]
  },
  {
   "cell_type": "code",
   "execution_count": 9,
   "metadata": {
    "scrolled": false
   },
   "outputs": [
    {
     "data": {
      "text/plain": [
       "\n",
       " 2SLS Estimates\n",
       "\n",
       "Model Formula: Y ~ TREATED\n",
       "\n",
       "Instruments: ~ASSIGNED\n",
       "\n",
       "Residuals:\n",
       "   Min. 1st Qu.  Median    Mean 3rd Qu.    Max. \n",
       "-0.6519 -0.3731 -0.3731  0.0000  0.6269  0.6269 \n",
       "\n",
       "             Estimate Std. Error t value Pr(>|t|)    \n",
       "(Intercept) 0.3731314  0.0434628 8.58508  < 2e-16 ***\n",
       "TREATED     0.2787494  0.1529948 1.82195 0.068761 .  \n",
       "---\n",
       "Signif. codes:  0 ‘***’ 0.001 ‘**’ 0.01 ‘*’ 0.05 ‘.’ 0.1 ‘ ’ 1\n",
       "\n",
       "Residual standard error: 0.4952064 on 998 degrees of freedom\n"
      ]
     },
     "metadata": {},
     "output_type": "display_data"
    }
   ],
   "source": [
    "out.tsls <- tsls(Y ~ TREATED, ~ ASSIGNED)\n",
    "summary(out.tsls)"
   ]
  },
  {
   "cell_type": "markdown",
   "metadata": {},
   "source": [
    "### Box 6.6"
   ]
  },
  {
   "cell_type": "code",
   "execution_count": 1,
   "metadata": {},
   "outputs": [],
   "source": [
    "library(foreign)"
   ]
  },
  {
   "cell_type": "code",
   "execution_count": 2,
   "metadata": {},
   "outputs": [],
   "source": [
    "simdata <- read.csv(\"GerberGreenBook_Chapter6_Simulated_Downstream_Data.csv\")"
   ]
  },
  {
   "cell_type": "code",
   "execution_count": 5,
   "metadata": {},
   "outputs": [
    {
     "data": {
      "text/plain": [
       "\n",
       "Call:\n",
       "lm(formula = Y ~ D + Z)\n",
       "\n",
       "Residuals:\n",
       "    Min      1Q  Median      3Q     Max \n",
       "-0.6689 -0.6102  0.3311  0.3898  0.8245 \n",
       "\n",
       "Coefficients:\n",
       "            Estimate Std. Error t value Pr(>|t|)    \n",
       "(Intercept)  0.23418    0.02061  11.363   <2e-16 ***\n",
       "D            0.43469    0.02416  17.990   <2e-16 ***\n",
       "Z           -0.05867    0.02158  -2.719   0.0066 ** \n",
       "---\n",
       "Signif. codes:  0 ‘***’ 0.001 ‘**’ 0.01 ‘*’ 0.05 ‘.’ 0.1 ‘ ’ 1\n",
       "\n",
       "Residual standard error: 0.4632 on 1997 degrees of freedom\n",
       "Multiple R-squared:  0.1416,\tAdjusted R-squared:  0.1408 \n",
       "F-statistic: 164.7 on 2 and 1997 DF,  p-value: < 2.2e-16\n"
      ]
     },
     "metadata": {},
     "output_type": "display_data"
    }
   ],
   "source": [
    "Z <- rep(simdata$z,simdata$wt)\n",
    "D <- rep(simdata$d,simdata$wt)\n",
    "Y <- rep(simdata$y,simdata$wt)\n",
    "\n",
    "# show biased regression of Y on D and Z\n",
    "(summary(lm(Y ~ D+Z)))"
   ]
  },
  {
   "cell_type": "code",
   "execution_count": 8,
   "metadata": {
    "scrolled": true
   },
   "outputs": [
    {
     "data": {
      "text/html": [
       "<table>\n",
       "<thead><tr><th></th><th scope=col>Estimate</th><th scope=col>Std. Error</th><th scope=col>t value</th><th scope=col>Pr(&gt;|t|)</th></tr></thead>\n",
       "<tbody>\n",
       "\t<tr><th scope=row>(Intercept)</th><td> 0.23418367 </td><td>0.02061000  </td><td>11.362621   </td><td>4.898133e-29</td></tr>\n",
       "\t<tr><th scope=row>D</th><td> 0.43469388 </td><td>0.02416360  </td><td>17.989618   </td><td>3.538618e-67</td></tr>\n",
       "\t<tr><th scope=row>Z</th><td>-0.05867347 </td><td>0.02157878  </td><td>-2.719035   </td><td>6.603925e-03</td></tr>\n",
       "</tbody>\n",
       "</table>\n"
      ],
      "text/latex": [
       "\\begin{tabular}{r|llll}\n",
       "  & Estimate & Std. Error & t value & Pr(>\\textbar{}t\\textbar{})\\\\\n",
       "\\hline\n",
       "\t(Intercept) &  0.23418367  & 0.02061000   & 11.362621    & 4.898133e-29\\\\\n",
       "\tD &  0.43469388  & 0.02416360   & 17.989618    & 3.538618e-67\\\\\n",
       "\tZ & -0.05867347  & 0.02157878   & -2.719035    & 6.603925e-03\\\\\n",
       "\\end{tabular}\n"
      ],
      "text/markdown": [
       "\n",
       "| <!--/--> | Estimate | Std. Error | t value | Pr(>|t|) |\n",
       "|---|---|---|---|---|\n",
       "| (Intercept) |  0.23418367  | 0.02061000   | 11.362621    | 4.898133e-29 |\n",
       "| D |  0.43469388  | 0.02416360   | 17.989618    | 3.538618e-67 |\n",
       "| Z | -0.05867347  | 0.02157878   | -2.719035    | 6.603925e-03 |\n",
       "\n"
      ],
      "text/plain": [
       "            Estimate    Std. Error t value   Pr(>|t|)    \n",
       "(Intercept)  0.23418367 0.02061000 11.362621 4.898133e-29\n",
       "D            0.43469388 0.02416360 17.989618 3.538618e-67\n",
       "Z           -0.05867347 0.02157878 -2.719035 6.603925e-03"
      ]
     },
     "metadata": {},
     "output_type": "display_data"
    }
   ],
   "source": [
    "coef(summary(lm(Y ~ D+Z)))"
   ]
  },
  {
   "cell_type": "markdown",
   "metadata": {},
   "source": [
    "## Stata"
   ]
  },
  {
   "cell_type": "code",
   "execution_count": 1,
   "metadata": {},
   "outputs": [
    {
     "name": "stdout",
     "output_type": "stream",
     "text": [
      "(3 vars, 1000 obs)\n"
     ]
    }
   ],
   "source": [
    "import  delimit Mullainathan_et_al_BookChapterSubset_2010,clear"
   ]
  },
  {
   "cell_type": "code",
   "execution_count": 2,
   "metadata": {},
   "outputs": [],
   "source": [
    "rename watch ASSIGNED\n",
    "rename watchdps TREATED\n",
    "rename ochange Y"
   ]
  },
  {
   "cell_type": "markdown",
   "metadata": {},
   "source": [
    "### Box 6.3"
   ]
  },
  {
   "cell_type": "code",
   "execution_count": 3,
   "metadata": {},
   "outputs": [
    {
     "name": "stdout",
     "output_type": "stream",
     "text": [
      "\n",
      "      Source |       SS           df       MS      Number of obs   =     1,000\n",
      "-------------+----------------------------------   F(1, 998)       =     56.73\n",
      "       Model |  10.4765702         1  10.4765702   Prob > F        =    0.0000\n",
      "    Residual |   184.29843       998  .184667765   R-squared       =    0.0538\n",
      "-------------+----------------------------------   Adj R-squared   =    0.0528\n",
      "       Total |     194.775       999   .19496997   Root MSE        =    .42973\n",
      "\n",
      "------------------------------------------------------------------------------\n",
      "     TREATED |      Coef.   Std. Err.      t    P>|t|     [95% Conf. Interval]\n",
      "-------------+----------------------------------------------------------------\n",
      "    ASSIGNED |   .2047205   .0271799     7.53   0.000     .1513842    .2580567\n",
      "       _cons |   .1616162   .0193149     8.37   0.000     .1237136    .1995187\n",
      "------------------------------------------------------------------------------\n"
     ]
    }
   ],
   "source": [
    "reg TREATED ASSIGNED"
   ]
  },
  {
   "cell_type": "markdown",
   "metadata": {},
   "source": [
    "### Box 6.4"
   ]
  },
  {
   "cell_type": "code",
   "execution_count": 4,
   "metadata": {},
   "outputs": [
    {
     "name": "stdout",
     "output_type": "stream",
     "text": [
      "\n",
      "      Source |       SS           df       MS      Number of obs   =     1,000\n",
      "-------------+----------------------------------   F(1, 998)       =      3.30\n",
      "       Model |  .814042304         1  .814042304   Prob > F        =    0.0697\n",
      "    Residual |  246.376958       998  .246870699   R-squared       =    0.0033\n",
      "-------------+----------------------------------   Adj R-squared   =    0.0023\n",
      "       Total |     247.191       999  .247438438   Root MSE        =    .49686\n",
      "\n",
      "------------------------------------------------------------------------------\n",
      "           Y |      Coef.   Std. Err.      t    P>|t|     [95% Conf. Interval]\n",
      "-------------+----------------------------------------------------------------\n",
      "    ASSIGNED |   .0570657   .0314258     1.82   0.070    -.0046025     .118734\n",
      "       _cons |   .4181818   .0223322    18.73   0.000     .3743583    .4620053\n",
      "------------------------------------------------------------------------------\n"
     ]
    }
   ],
   "source": [
    "reg Y ASSIGNED"
   ]
  },
  {
   "cell_type": "markdown",
   "metadata": {},
   "source": [
    "### Box 6.5"
   ]
  },
  {
   "cell_type": "code",
   "execution_count": 5,
   "metadata": {},
   "outputs": [
    {
     "name": "stdout",
     "output_type": "stream",
     "text": [
      "\n",
      "Instrumental variables (2SLS) regression          Number of obs   =      1,000\n",
      "                                                  Wald chi2(1)    =       3.33\n",
      "                                                  Prob > chi2     =     0.0682\n",
      "                                                  R-squared       =     0.0099\n",
      "                                                  Root MSE        =     .49471\n",
      "\n",
      "------------------------------------------------------------------------------\n",
      "           Y |      Coef.   Std. Err.      z    P>|z|     [95% Conf. Interval]\n",
      "-------------+----------------------------------------------------------------\n",
      "     TREATED |   .2787494   .1528417     1.82   0.068    -.0208149    .5783137\n",
      "       _cons |   .3731314   .0434193     8.59   0.000     .2880311    .4582317\n",
      "------------------------------------------------------------------------------\n",
      "Instrumented:  TREATED\n",
      "Instruments:   ASSIGNED\n"
     ]
    }
   ],
   "source": [
    "ivregress 2sls Y (TREATED =ASSIGNED)"
   ]
  },
  {
   "cell_type": "markdown",
   "metadata": {},
   "source": [
    "### Box 6.6"
   ]
  },
  {
   "cell_type": "code",
   "execution_count": 7,
   "metadata": {},
   "outputs": [
    {
     "name": "stdout",
     "output_type": "stream",
     "text": [
      "\n",
      "(11 vars, 32 obs)\n",
      "\n",
      "\n",
      "(10 zero counts ignored; observations not deleted)\n",
      "(1,978 observations created)\n",
      "\n",
      "(10 observations deleted)\n"
     ]
    }
   ],
   "source": [
    "import delim GerberGreenBook_Chapter6_Simulated_Downstream_Data, clear\n",
    "\n",
    "keep z d y wt\n",
    "expand wt\n",
    "drop if wt ==0\n",
    "\n",
    "\n"
   ]
  },
  {
   "cell_type": "code",
   "execution_count": 8,
   "metadata": {},
   "outputs": [
    {
     "name": "stdout",
     "output_type": "stream",
     "text": [
      "\n",
      "      Source |       SS           df       MS      Number of obs   =     2,000\n",
      "-------------+----------------------------------   F(2, 1997)      =    164.73\n",
      "       Model |  70.6923469         2  35.3461735   Prob > F        =    0.0000\n",
      "    Residual |  428.507653     1,997   .21457569   R-squared       =    0.1416\n",
      "-------------+----------------------------------   Adj R-squared   =    0.1408\n",
      "       Total |       499.2     1,999  .249724862   Root MSE        =    .46322\n",
      "\n",
      "------------------------------------------------------------------------------\n",
      "           y |      Coef.   Std. Err.      t    P>|t|     [95% Conf. Interval]\n",
      "-------------+----------------------------------------------------------------\n",
      "           d |   .4346939   .0241636    17.99   0.000     .3873054    .4820824\n",
      "           z |  -.0586735   .0215788    -2.72   0.007    -.1009928   -.0163542\n",
      "       _cons |   .2341837     .02061    11.36   0.000     .1937643     .274603\n",
      "------------------------------------------------------------------------------\n"
     ]
    }
   ],
   "source": [
    "reg y d z"
   ]
  },
  {
   "cell_type": "code",
   "execution_count": null,
   "metadata": {},
   "outputs": [],
   "source": []
  }
 ],
 "metadata": {
  "kernelspec": {
   "display_name": "R",
   "language": "R",
   "name": "ir"
  },
  "language_info": {
   "codemirror_mode": "r",
   "file_extension": ".r",
   "mimetype": "text/x-r-source",
   "name": "R",
   "pygments_lexer": "r",
   "version": "3.5.2"
  }
 },
 "nbformat": 4,
 "nbformat_minor": 2
}
