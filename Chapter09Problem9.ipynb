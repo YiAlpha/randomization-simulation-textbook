{
 "cells": [
  {
   "cell_type": "markdown",
   "metadata": {},
   "source": [
    "# Problem 9.9"
   ]
  },
  {
   "cell_type": "markdown",
   "metadata": {},
   "source": [
    "## Part c"
   ]
  },
  {
   "cell_type": "code",
   "execution_count": 1,
   "metadata": {},
   "outputs": [
    {
     "name": "stdout",
     "output_type": "stream",
     "text": [
      "(6 vars, 15300 obs)\n"
     ]
    }
   ],
   "source": [
    "import delim ./data/chapter09/Fieldhouse_et_al_unpublished_2010_expanded,clear"
   ]
  },
  {
   "cell_type": "code",
   "execution_count": 2,
   "metadata": {},
   "outputs": [
    {
     "name": "stdout",
     "output_type": "stream",
     "text": [
      "\n",
      "\n",
      "\n",
      "\n",
      "\n",
      "\n",
      "\n",
      "\n",
      "\n",
      "\n",
      "Instrumental variables (2SLS) regression          Number of obs   =     15,300\n",
      "                                                  Wald chi2(3)    =       3.38\n",
      "                                                  Prob > chi2     =     0.3367\n",
      "                                                  R-squared       =     0.0010\n",
      "                                                  Root MSE        =     .49001\n",
      "\n",
      "------------------------------------------------------------------------------------\n",
      "              vote |      Coef.   Std. Err.      z    P>|z|     [95% Conf. Interval]\n",
      "-------------------+----------------------------------------------------------------\n",
      "mail_phone_contact |   .0253338   .0282274     0.90   0.369    -.0299908    .0806584\n",
      "     phone_contact |  -.0001781   .0186117    -0.01   0.992    -.0366565    .0363002\n",
      "              mail |   .0060348   .0100671     0.60   0.549    -.0136962    .0257659\n",
      "             _cons |   .3969878    .006809    58.30   0.000     .3836424    .4103332\n",
      "------------------------------------------------------------------------------------\n",
      "Instrumented:  mail_phone_contact phone_contact\n",
      "Instruments:   mail phone_assign mail_phone_assign\n"
     ]
    }
   ],
   "source": [
    "rename m mail\n",
    "rename p phone_assign\n",
    "rename c phone_contact\n",
    "rename y vote\n",
    "rename c_m phone_contact_mail\n",
    "rename p_m phone_assign_mail\n",
    "\n",
    "\n",
    "gen mail_phone_contact = mail*phone_contact\n",
    "gen mail_phone_assign = mail*phone_assign\n",
    "\t\n",
    "ivregress 2sls vote mail ///\n",
    "(mail_phone_contact phone_contact = mail phone_assign mail_phone_assign)"
   ]
  }
 ],
 "metadata": {
  "kernelspec": {
   "display_name": "Stata",
   "language": "stata",
   "name": "stata"
  },
  "language_info": {
   "codemirror_mode": "stata",
   "file_extension": ".do",
   "mimetype": "text/x-stata",
   "name": "stata",
   "version": "15.1"
  }
 },
 "nbformat": 4,
 "nbformat_minor": 2
}
