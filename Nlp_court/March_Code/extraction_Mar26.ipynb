{
 "cells": [
  {
   "cell_type": "code",
   "execution_count": 1,
   "metadata": {},
   "outputs": [],
   "source": [
    "from pdfminer.pdfinterp import PDFResourceManager, PDFPageInterpreter\n",
    "from pdfminer.converter import TextConverter\n",
    "from pdfminer.layout import LAParams\n",
    "from pdfminer.pdfpage import PDFPage\n",
    "from io import BytesIO\n",
    "import glob\n",
    "import simplejson as json\n",
    "import re"
   ]
  },
  {
   "cell_type": "code",
   "execution_count": 2,
   "metadata": {},
   "outputs": [],
   "source": [
    "def read_pdf(resume_file): \n",
    "    resource_mgr = PDFResourceManager()\n",
    "    retstr = BytesIO()\n",
    "    codec = 'utf-8'\n",
    "    laparams = LAParams()\n",
    "    device = TextConverter(resource_mgr, retstr, codec=codec, laparams=laparams)\n",
    "    interpreter = PDFPageInterpreter(resource_mgr, device)\n",
    "    fp = open(resume_file, 'rb')\n",
    "    maxpages = 0\n",
    "    caching = True\n",
    "    pagenos = set()\n",
    "    \n",
    "    for page in PDFPage.get_pages(fp, pagenos, \n",
    "                                  maxpages=maxpages, \n",
    "                                  caching=caching, \n",
    "                                  check_extractable=True):\n",
    "        interpreter.process_page(page)\n",
    "\n",
    "    result_str = retstr.getvalue()\n",
    "    \n",
    "    fp.close()\n",
    "    device.close()\n",
    "    retstr.close()\n",
    "    \n",
    "    return result_str"
   ]
  },
  {
   "cell_type": "code",
   "execution_count": 3,
   "metadata": {},
   "outputs": [],
   "source": [
    "case_list = glob.glob('./case_test/*.pdf')"
   ]
  },
  {
   "cell_type": "code",
   "execution_count": 4,
   "metadata": {},
   "outputs": [
    {
     "data": {
      "text/plain": [
       "['./case_test/001 - Intellectual Ventures I LLC v Motorola Mobility LLC.pdf',\n",
       " './case_test/001 - In re Jobdiva Inc.pdf',\n",
       " './case_test/03 - Ashley Furniture Industries Inc v US.pdf']"
      ]
     },
     "execution_count": 4,
     "metadata": {},
     "output_type": "execute_result"
    }
   ],
   "source": [
    "case_list"
   ]
  },
  {
   "cell_type": "code",
   "execution_count": 5,
   "metadata": {},
   "outputs": [],
   "source": [
    "key = []\n",
    "value = []\n",
    "for case in case_list:\n",
    "    key.append(case.replace('./case_test/', '').replace('.pdf', ''))\n",
    "    value.append(read_pdf(case))"
   ]
  },
  {
   "cell_type": "code",
   "execution_count": 6,
   "metadata": {},
   "outputs": [
    {
     "data": {
      "text/plain": [
       "['001 - Intellectual Ventures I LLC v Motorola Mobility LLC',\n",
       " '001 - In re Jobdiva Inc',\n",
       " '03 - Ashley Furniture Industries Inc v US']"
      ]
     },
     "execution_count": 6,
     "metadata": {},
     "output_type": "execute_result"
    }
   ],
   "source": [
    "key"
   ]
  },
  {
   "cell_type": "markdown",
   "metadata": {},
   "source": [
    "# Extract Citation"
   ]
  },
  {
   "cell_type": "code",
   "execution_count": null,
   "metadata": {},
   "outputs": [],
   "source": [
    "import lexnlp.extract.en.citations\n",
    "import pandas as pd"
   ]
  },
  {
   "cell_type": "code",
   "execution_count": null,
   "metadata": {},
   "outputs": [],
   "source": [
    "for case_text in value:\n",
    "    text = case_text.decode(\"utf-8\") \n",
    "    cite_dict = list(lexnlp.extract.en.citations.get_citations(text, \n",
    "                                                              return_source=False,\n",
    "                                                              as_dict=True))\n",
    "    for cite in cite_dict:\n",
    "        del cite['page2']\n",
    "        del cite['court']\n",
    "    text_citation_df = pd.DataFrame.from_dict(cite_dict, dtype='str')\n",
    "    \n",
    "    "
   ]
  },
  {
   "cell_type": "code",
   "execution_count": 7,
   "metadata": {},
   "outputs": [],
   "source": [
    "text = value[0].decode(\"utf-8\") "
   ]
  },
  {
   "cell_type": "code",
   "execution_count": 16,
   "metadata": {},
   "outputs": [],
   "source": [
    "import lexnlp.extract.en.citations\n",
    "\n",
    "text_citation =list(lexnlp.extract.en.citations.get_citations(text, \n",
    "                                                              return_source=False,\n",
    "                                                              as_dict=True))"
   ]
  },
  {
   "cell_type": "code",
   "execution_count": 21,
   "metadata": {},
   "outputs": [
    {
     "data": {
      "text/plain": [
       "{'volume': 870,\n",
       " 'reporter': 'F.3d',\n",
       " 'reporter_full_name': 'Federal Reporter',\n",
       " 'page': 1320,\n",
       " 'year': 2017}"
      ]
     },
     "execution_count": 21,
     "metadata": {},
     "output_type": "execute_result"
    }
   ],
   "source": [
    "for cite in text_citation:\n",
    "    del cite['page2']\n",
    "    del cite['court']"
   ]
  },
  {
   "cell_type": "code",
   "execution_count": 48,
   "metadata": {},
   "outputs": [],
   "source": [
    "import pandas as pd"
   ]
  },
  {
   "cell_type": "code",
   "execution_count": 61,
   "metadata": {},
   "outputs": [],
   "source": [
    "text_citation_df = pd.DataFrame.from_dict(text_citation, dtype='str')"
   ]
  },
  {
   "cell_type": "code",
   "execution_count": 68,
   "metadata": {},
   "outputs": [],
   "source": [
    "text_citation_df = text_citation_df.assign(cite_str = text_citation_df[\"volume\"]+\" \"+\n",
    "                                          text_citation_df[\"reporter\"]+ \" \"+\n",
    "                                          text_citation_df[\"page\"]+ \" \")"
   ]
  },
  {
   "cell_type": "code",
   "execution_count": 73,
   "metadata": {},
   "outputs": [],
   "source": [
    "cite_str_text0 = list(text_citation_df[\"volume\"]+\" \"+\n",
    "                                          text_citation_df[\"reporter\"]+ \" \"+\n",
    "                                          text_citation_df[\"page\"])"
   ]
  },
  {
   "cell_type": "code",
   "execution_count": 75,
   "metadata": {},
   "outputs": [
    {
     "data": {
      "text/html": [
       "<div>\n",
       "<style scoped>\n",
       "    .dataframe tbody tr th:only-of-type {\n",
       "        vertical-align: middle;\n",
       "    }\n",
       "\n",
       "    .dataframe tbody tr th {\n",
       "        vertical-align: top;\n",
       "    }\n",
       "\n",
       "    .dataframe thead th {\n",
       "        text-align: right;\n",
       "    }\n",
       "</style>\n",
       "<table border=\"1\" class=\"dataframe\">\n",
       "  <thead>\n",
       "    <tr style=\"text-align: right;\">\n",
       "      <th></th>\n",
       "      <th>page</th>\n",
       "      <th>reporter</th>\n",
       "      <th>reporter_full_name</th>\n",
       "      <th>volume</th>\n",
       "      <th>year</th>\n",
       "      <th>cite_str</th>\n",
       "    </tr>\n",
       "  </thead>\n",
       "  <tbody>\n",
       "    <tr>\n",
       "      <th>0</th>\n",
       "      <td>1320</td>\n",
       "      <td>F.3d</td>\n",
       "      <td>Federal Reporter</td>\n",
       "      <td>870</td>\n",
       "      <td>2017.0</td>\n",
       "      <td>870 F.3d 1320</td>\n",
       "    </tr>\n",
       "    <tr>\n",
       "      <th>1</th>\n",
       "      <td>1320</td>\n",
       "      <td>F.3d</td>\n",
       "      <td>Federal Reporter</td>\n",
       "      <td>870</td>\n",
       "      <td>2017.0</td>\n",
       "      <td>870 F.3d 1320</td>\n",
       "    </tr>\n",
       "    <tr>\n",
       "      <th>2</th>\n",
       "      <td>1320</td>\n",
       "      <td>F.3d</td>\n",
       "      <td>Federal Reporter</td>\n",
       "      <td>870</td>\n",
       "      <td>2017.0</td>\n",
       "      <td>870 F.3d 1320</td>\n",
       "    </tr>\n",
       "    <tr>\n",
       "      <th>3</th>\n",
       "      <td>1197</td>\n",
       "      <td>F.3d</td>\n",
       "      <td>Federal Reporter</td>\n",
       "      <td>626</td>\n",
       "      <td>2010.0</td>\n",
       "      <td>626 F.3d 1197</td>\n",
       "    </tr>\n",
       "    <tr>\n",
       "      <th>4</th>\n",
       "      <td>447</td>\n",
       "      <td>F.3d</td>\n",
       "      <td>Federal Reporter</td>\n",
       "      <td>582</td>\n",
       "      <td>2009.0</td>\n",
       "      <td>582 F.3d 447</td>\n",
       "    </tr>\n",
       "    <tr>\n",
       "      <th>5</th>\n",
       "      <td>1336</td>\n",
       "      <td>F.3d</td>\n",
       "      <td>Federal Reporter</td>\n",
       "      <td>598</td>\n",
       "      <td>2010.0</td>\n",
       "      <td>598 F.3d 1336</td>\n",
       "    </tr>\n",
       "    <tr>\n",
       "      <th>6</th>\n",
       "      <td>1345</td>\n",
       "      <td>F.3d</td>\n",
       "      <td>Federal Reporter</td>\n",
       "      <td>659</td>\n",
       "      <td>NaN</td>\n",
       "      <td>659 F.3d 1345</td>\n",
       "    </tr>\n",
       "    <tr>\n",
       "      <th>7</th>\n",
       "      <td>1320</td>\n",
       "      <td>F.3d</td>\n",
       "      <td>Federal Reporter</td>\n",
       "      <td>870</td>\n",
       "      <td>2016.0</td>\n",
       "      <td>870 F.3d 1320</td>\n",
       "    </tr>\n",
       "    <tr>\n",
       "      <th>8</th>\n",
       "      <td>1303</td>\n",
       "      <td>F.3d</td>\n",
       "      <td>Federal Reporter</td>\n",
       "      <td>415</td>\n",
       "      <td>2005.0</td>\n",
       "      <td>415 F.3d 1303</td>\n",
       "    </tr>\n",
       "    <tr>\n",
       "      <th>9</th>\n",
       "      <td>1340</td>\n",
       "      <td>F.3d</td>\n",
       "      <td>Federal Reporter</td>\n",
       "      <td>157</td>\n",
       "      <td>1998.0</td>\n",
       "      <td>157 F.3d 1340</td>\n",
       "    </tr>\n",
       "    <tr>\n",
       "      <th>10</th>\n",
       "      <td>1295</td>\n",
       "      <td>F.3d</td>\n",
       "      <td>Federal Reporter</td>\n",
       "      <td>199</td>\n",
       "      <td>1999.0</td>\n",
       "      <td>199 F.3d 1295</td>\n",
       "    </tr>\n",
       "    <tr>\n",
       "      <th>11</th>\n",
       "      <td>1320</td>\n",
       "      <td>F.3d</td>\n",
       "      <td>Federal Reporter</td>\n",
       "      <td>870</td>\n",
       "      <td>2012.0</td>\n",
       "      <td>870 F.3d 1320</td>\n",
       "    </tr>\n",
       "    <tr>\n",
       "      <th>12</th>\n",
       "      <td>1314</td>\n",
       "      <td>F.3d</td>\n",
       "      <td>Federal Reporter</td>\n",
       "      <td>340</td>\n",
       "      <td>2003.0</td>\n",
       "      <td>340 F.3d 1314</td>\n",
       "    </tr>\n",
       "    <tr>\n",
       "      <th>13</th>\n",
       "      <td>831</td>\n",
       "      <td>F.3d</td>\n",
       "      <td>Federal Reporter</td>\n",
       "      <td>598</td>\n",
       "      <td>2010.0</td>\n",
       "      <td>598 F.3d 831</td>\n",
       "    </tr>\n",
       "    <tr>\n",
       "      <th>14</th>\n",
       "      <td>1305</td>\n",
       "      <td>F.3d</td>\n",
       "      <td>Federal Reporter</td>\n",
       "      <td>699</td>\n",
       "      <td>2012.0</td>\n",
       "      <td>699 F.3d 1305</td>\n",
       "    </tr>\n",
       "    <tr>\n",
       "      <th>15</th>\n",
       "      <td>1320</td>\n",
       "      <td>F.3d</td>\n",
       "      <td>Federal Reporter</td>\n",
       "      <td>870</td>\n",
       "      <td>2011.0</td>\n",
       "      <td>870 F.3d 1320</td>\n",
       "    </tr>\n",
       "    <tr>\n",
       "      <th>16</th>\n",
       "      <td>1282</td>\n",
       "      <td>F.3d</td>\n",
       "      <td>Federal Reporter</td>\n",
       "      <td>418</td>\n",
       "      <td>2005.0</td>\n",
       "      <td>418 F.3d 1282</td>\n",
       "    </tr>\n",
       "    <tr>\n",
       "      <th>17</th>\n",
       "      <td>1320</td>\n",
       "      <td>F.3d</td>\n",
       "      <td>Federal Reporter</td>\n",
       "      <td>870</td>\n",
       "      <td>2017.0</td>\n",
       "      <td>870 F.3d 1320</td>\n",
       "    </tr>\n",
       "    <tr>\n",
       "      <th>18</th>\n",
       "      <td>1320</td>\n",
       "      <td>F.3d</td>\n",
       "      <td>Federal Reporter</td>\n",
       "      <td>870</td>\n",
       "      <td>2017.0</td>\n",
       "      <td>870 F.3d 1320</td>\n",
       "    </tr>\n",
       "    <tr>\n",
       "      <th>19</th>\n",
       "      <td>1279</td>\n",
       "      <td>F.3d</td>\n",
       "      <td>Federal Reporter</td>\n",
       "      <td>631</td>\n",
       "      <td>2011.0</td>\n",
       "      <td>631 F.3d 1279</td>\n",
       "    </tr>\n",
       "    <tr>\n",
       "      <th>20</th>\n",
       "      <td>1320</td>\n",
       "      <td>F.3d</td>\n",
       "      <td>Federal Reporter</td>\n",
       "      <td>870</td>\n",
       "      <td>2017.0</td>\n",
       "      <td>870 F.3d 1320</td>\n",
       "    </tr>\n",
       "    <tr>\n",
       "      <th>21</th>\n",
       "      <td>1091</td>\n",
       "      <td>F.2d</td>\n",
       "      <td>Federal Reporter</td>\n",
       "      <td>800</td>\n",
       "      <td>1986.0</td>\n",
       "      <td>800 F.2d 1091</td>\n",
       "    </tr>\n",
       "    <tr>\n",
       "      <th>22</th>\n",
       "      <td>1322</td>\n",
       "      <td>F.3d</td>\n",
       "      <td>Federal Reporter</td>\n",
       "      <td>686</td>\n",
       "      <td>2012.0</td>\n",
       "      <td>686 F.3d 1322</td>\n",
       "    </tr>\n",
       "    <tr>\n",
       "      <th>23</th>\n",
       "      <td>398</td>\n",
       "      <td>U.S.</td>\n",
       "      <td>United States Supreme Court Reports</td>\n",
       "      <td>550</td>\n",
       "      <td>NaN</td>\n",
       "      <td>550 U.S. 398</td>\n",
       "    </tr>\n",
       "    <tr>\n",
       "      <th>24</th>\n",
       "      <td>1320</td>\n",
       "      <td>F.3d</td>\n",
       "      <td>Federal Reporter</td>\n",
       "      <td>870</td>\n",
       "      <td>1950.0</td>\n",
       "      <td>870 F.3d 1320</td>\n",
       "    </tr>\n",
       "    <tr>\n",
       "      <th>25</th>\n",
       "      <td>1320</td>\n",
       "      <td>F.3d</td>\n",
       "      <td>Federal Reporter</td>\n",
       "      <td>870</td>\n",
       "      <td>1951.0</td>\n",
       "      <td>870 F.3d 1320</td>\n",
       "    </tr>\n",
       "    <tr>\n",
       "      <th>26</th>\n",
       "      <td>1320</td>\n",
       "      <td>F.3d</td>\n",
       "      <td>Federal Reporter</td>\n",
       "      <td>870</td>\n",
       "      <td>NaN</td>\n",
       "      <td>870 F.3d 1320</td>\n",
       "    </tr>\n",
       "    <tr>\n",
       "      <th>27</th>\n",
       "      <td>1547</td>\n",
       "      <td>F.2d</td>\n",
       "      <td>Federal Reporter</td>\n",
       "      <td>892</td>\n",
       "      <td>NaN</td>\n",
       "      <td>892 F.2d 1547</td>\n",
       "    </tr>\n",
       "    <tr>\n",
       "      <th>28</th>\n",
       "      <td>21</td>\n",
       "      <td>F.3d</td>\n",
       "      <td>Federal Reporter</td>\n",
       "      <td>386</td>\n",
       "      <td>2004.0</td>\n",
       "      <td>386 F.3d 21</td>\n",
       "    </tr>\n",
       "    <tr>\n",
       "      <th>29</th>\n",
       "      <td>617</td>\n",
       "      <td>F.3d</td>\n",
       "      <td>Federal Reporter</td>\n",
       "      <td>229</td>\n",
       "      <td>2000.0</td>\n",
       "      <td>229 F.3d 617</td>\n",
       "    </tr>\n",
       "  </tbody>\n",
       "</table>\n",
       "</div>"
      ],
      "text/plain": [
       "    page reporter                   reporter_full_name volume    year  \\\n",
       "0   1320     F.3d                     Federal Reporter    870  2017.0   \n",
       "1   1320     F.3d                     Federal Reporter    870  2017.0   \n",
       "2   1320     F.3d                     Federal Reporter    870  2017.0   \n",
       "3   1197     F.3d                     Federal Reporter    626  2010.0   \n",
       "4    447     F.3d                     Federal Reporter    582  2009.0   \n",
       "5   1336     F.3d                     Federal Reporter    598  2010.0   \n",
       "6   1345     F.3d                     Federal Reporter    659     NaN   \n",
       "7   1320     F.3d                     Federal Reporter    870  2016.0   \n",
       "8   1303     F.3d                     Federal Reporter    415  2005.0   \n",
       "9   1340     F.3d                     Federal Reporter    157  1998.0   \n",
       "10  1295     F.3d                     Federal Reporter    199  1999.0   \n",
       "11  1320     F.3d                     Federal Reporter    870  2012.0   \n",
       "12  1314     F.3d                     Federal Reporter    340  2003.0   \n",
       "13   831     F.3d                     Federal Reporter    598  2010.0   \n",
       "14  1305     F.3d                     Federal Reporter    699  2012.0   \n",
       "15  1320     F.3d                     Federal Reporter    870  2011.0   \n",
       "16  1282     F.3d                     Federal Reporter    418  2005.0   \n",
       "17  1320     F.3d                     Federal Reporter    870  2017.0   \n",
       "18  1320     F.3d                     Federal Reporter    870  2017.0   \n",
       "19  1279     F.3d                     Federal Reporter    631  2011.0   \n",
       "20  1320     F.3d                     Federal Reporter    870  2017.0   \n",
       "21  1091     F.2d                     Federal Reporter    800  1986.0   \n",
       "22  1322     F.3d                     Federal Reporter    686  2012.0   \n",
       "23   398     U.S.  United States Supreme Court Reports    550     NaN   \n",
       "24  1320     F.3d                     Federal Reporter    870  1950.0   \n",
       "25  1320     F.3d                     Federal Reporter    870  1951.0   \n",
       "26  1320     F.3d                     Federal Reporter    870     NaN   \n",
       "27  1547     F.2d                     Federal Reporter    892     NaN   \n",
       "28    21     F.3d                     Federal Reporter    386  2004.0   \n",
       "29   617     F.3d                     Federal Reporter    229  2000.0   \n",
       "\n",
       "          cite_str  \n",
       "0   870 F.3d 1320   \n",
       "1   870 F.3d 1320   \n",
       "2   870 F.3d 1320   \n",
       "3   626 F.3d 1197   \n",
       "4    582 F.3d 447   \n",
       "5   598 F.3d 1336   \n",
       "6   659 F.3d 1345   \n",
       "7   870 F.3d 1320   \n",
       "8   415 F.3d 1303   \n",
       "9   157 F.3d 1340   \n",
       "10  199 F.3d 1295   \n",
       "11  870 F.3d 1320   \n",
       "12  340 F.3d 1314   \n",
       "13   598 F.3d 831   \n",
       "14  699 F.3d 1305   \n",
       "15  870 F.3d 1320   \n",
       "16  418 F.3d 1282   \n",
       "17  870 F.3d 1320   \n",
       "18  870 F.3d 1320   \n",
       "19  631 F.3d 1279   \n",
       "20  870 F.3d 1320   \n",
       "21  800 F.2d 1091   \n",
       "22  686 F.3d 1322   \n",
       "23   550 U.S. 398   \n",
       "24  870 F.3d 1320   \n",
       "25  870 F.3d 1320   \n",
       "26  870 F.3d 1320   \n",
       "27  892 F.2d 1547   \n",
       "28    386 F.3d 21   \n",
       "29   229 F.3d 617   "
      ]
     },
     "execution_count": 75,
     "metadata": {},
     "output_type": "execute_result"
    }
   ],
   "source": [
    "text_citation_df "
   ]
  },
  {
   "cell_type": "code",
   "execution_count": 22,
   "metadata": {},
   "outputs": [],
   "source": [
    "text_citation_list = list(text_citation)"
   ]
  },
  {
   "cell_type": "code",
   "execution_count": 30,
   "metadata": {},
   "outputs": [],
   "source": [
    "text_citation_list =list(lexnlp.extract.en.citations.get_citations(text, return_source=False,as_dict=False))"
   ]
  },
  {
   "cell_type": "code",
   "execution_count": 21,
   "metadata": {},
   "outputs": [
    {
     "name": "stderr",
     "output_type": "stream",
     "text": [
      "/anaconda/envs/nlp/lib/python3.6/site-packages/sklearn/base.py:311: UserWarning: Trying to unpickle estimator SelectKBest from version 0.19.0 when using version 0.19.1. This might lead to breaking code or invalid results. Use at your own risk.\n",
      "  UserWarning)\n",
      "/anaconda/envs/nlp/lib/python3.6/site-packages/sklearn/base.py:311: UserWarning: Trying to unpickle estimator LogisticRegressionCV from version 0.19.0 when using version 0.19.1. This might lead to breaking code or invalid results. Use at your own risk.\n",
      "  UserWarning)\n",
      "/anaconda/envs/nlp/lib/python3.6/site-packages/sklearn/base.py:311: UserWarning: Trying to unpickle estimator Pipeline from version 0.19.0 when using version 0.19.1. This might lead to breaking code or invalid results. Use at your own risk.\n",
      "  UserWarning)\n"
     ]
    }
   ],
   "source": [
    "import lexnlp.extract.en.dates"
   ]
  },
  {
   "cell_type": "code",
   "execution_count": 22,
   "metadata": {},
   "outputs": [
    {
     "name": "stdout",
     "output_type": "stream",
     "text": [
      "[datetime.date(2017, 9, 13), datetime.date(2010, 10, 5), datetime.date(1997, 11, 13), datetime.date(2012, 1, 13), datetime.date(2015, 3, 24), datetime.date(2019, 12, 1), datetime.date(2017, 3, 7)]\n"
     ]
    }
   ],
   "source": [
    "print(list(lexnlp.extract.en.dates.get_dates(text)))"
   ]
  },
  {
   "cell_type": "code",
   "execution_count": 36,
   "metadata": {},
   "outputs": [],
   "source": [
    "import lexnlp.extract.en.courts"
   ]
  },
  {
   "cell_type": "code",
   "execution_count": 40,
   "metadata": {},
   "outputs": [],
   "source": [
    "import lexnlp.extract.en.dict_entities"
   ]
  },
  {
   "cell_type": "code",
   "execution_count": 30,
   "metadata": {},
   "outputs": [],
   "source": [
    "import pandas"
   ]
  },
  {
   "cell_type": "code",
   "execution_count": 31,
   "metadata": {},
   "outputs": [],
   "source": [
    "court_df = pandas.read_csv(\"https://raw.githubusercontent.com/LexPredict/lexpredict-legal-dictionary/1.0.5/en/legal/us_courts.csv\")"
   ]
  },
  {
   "cell_type": "code",
   "execution_count": 43,
   "metadata": {},
   "outputs": [],
   "source": [
    "court_config_data = []\n",
    "for _, row in court_df.iterrows():\n",
    "    c = lexnlp.extract.en.dict_entities.entity_config(row[\"Court ID\"], row[\"Court Name\"], 0, row[\"Alias\"].split(\";\") if not pandas.isnull(row[\"Alias\"]) else [])\n",
    "    court_config_data.append(c)\n"
   ]
  },
  {
   "cell_type": "code",
   "execution_count": 44,
   "metadata": {},
   "outputs": [
    {
     "name": "stdout",
     "output_type": "stream",
     "text": [
      "entity= (14, 'Federal Circuit', 0, [('Federal Circuit', None, False, None), ('Fed. Cir.', None, False, None)])\n",
      "alias= ('Federal Circuit', None, False, None)\n",
      "entity= (117, 'United States Court of Appeals for the Federal Circuit', 0, [('United States Court of Appeals for the Federal Circuit', None, False, None), ('Federal Circuit', None, False, None), (' Fed. Cir.', None, False, None), ('C.A.F.C.', None, False, None), (' CAFC', None, False, None)])\n",
      "alias= ('Federal Circuit', None, False, None)\n",
      "entity= (29, 'District of Delaware', 0, [('District of Delaware', None, False, None), ('D. Del.', None, False, None)])\n",
      "alias= ('District of Delaware', None, False, None)\n",
      "entity= (120, 'District of Delaware', 0, [('District of Delaware', None, False, None), ('Bankr. D. Del.', None, False, None)])\n",
      "alias= ('District of Delaware', None, False, None)\n",
      "entity= (29, 'District of Delaware', 0, [('District of Delaware', None, False, None), ('D. Del.', None, False, None)])\n",
      "alias= ('District of Delaware', None, False, None)\n",
      "entity= (120, 'District of Delaware', 0, [('District of Delaware', None, False, None), ('Bankr. D. Del.', None, False, None)])\n",
      "alias= ('District of Delaware', None, False, None)\n",
      "entity= (29, 'District of Delaware', 0, [('District of Delaware', None, False, None), ('D. Del.', None, False, None)])\n",
      "alias= ('District of Delaware', None, False, None)\n",
      "entity= (120, 'District of Delaware', 0, [('District of Delaware', None, False, None), ('Bankr. D. Del.', None, False, None)])\n",
      "alias= ('District of Delaware', None, False, None)\n",
      "entity= (29, 'District of Delaware', 0, [('District of Delaware', None, False, None), ('D. Del.', None, False, None)])\n",
      "alias= ('District of Delaware', None, False, None)\n",
      "entity= (120, 'District of Delaware', 0, [('District of Delaware', None, False, None), ('Bankr. D. Del.', None, False, None)])\n",
      "alias= ('District of Delaware', None, False, None)\n",
      "entity= (29, 'District of Delaware', 0, [('District of Delaware', None, False, None), ('D. Del.', None, False, None)])\n",
      "alias= ('D. Del.', None, False, None)\n",
      "entity= (29, 'District of Delaware', 0, [('District of Delaware', None, False, None), ('D. Del.', None, False, None)])\n",
      "alias= ('D. Del.', None, False, None)\n",
      "entity= (29, 'District of Delaware', 0, [('District of Delaware', None, False, None), ('D. Del.', None, False, None)])\n",
      "alias= ('D. Del.', None, False, None)\n",
      "entity= (117, 'United States Court of Appeals for the Federal Circuit', 0, [('United States Court of Appeals for the Federal Circuit', None, False, None), ('Federal Circuit', None, False, None), (' Fed. Cir.', None, False, None), ('C.A.F.C.', None, False, None), (' CAFC', None, False, None)])\n",
      "alias= (' Fed. Cir.', None, False, None)\n",
      "entity= (117, 'United States Court of Appeals for the Federal Circuit', 0, [('United States Court of Appeals for the Federal Circuit', None, False, None), ('Federal Circuit', None, False, None), (' Fed. Cir.', None, False, None), ('C.A.F.C.', None, False, None), (' CAFC', None, False, None)])\n",
      "alias= (' Fed. Cir.', None, False, None)\n",
      "entity= (117, 'United States Court of Appeals for the Federal Circuit', 0, [('United States Court of Appeals for the Federal Circuit', None, False, None), ('Federal Circuit', None, False, None), (' Fed. Cir.', None, False, None), ('C.A.F.C.', None, False, None), (' CAFC', None, False, None)])\n",
      "alias= (' Fed. Cir.', None, False, None)\n",
      "entity= (117, 'United States Court of Appeals for the Federal Circuit', 0, [('United States Court of Appeals for the Federal Circuit', None, False, None), ('Federal Circuit', None, False, None), (' Fed. Cir.', None, False, None), ('C.A.F.C.', None, False, None), (' CAFC', None, False, None)])\n",
      "alias= (' Fed. Cir.', None, False, None)\n",
      "entity= (117, 'United States Court of Appeals for the Federal Circuit', 0, [('United States Court of Appeals for the Federal Circuit', None, False, None), ('Federal Circuit', None, False, None), (' Fed. Cir.', None, False, None), ('C.A.F.C.', None, False, None), (' CAFC', None, False, None)])\n",
      "alias= (' Fed. Cir.', None, False, None)\n",
      "entity= (117, 'United States Court of Appeals for the Federal Circuit', 0, [('United States Court of Appeals for the Federal Circuit', None, False, None), ('Federal Circuit', None, False, None), (' Fed. Cir.', None, False, None), ('C.A.F.C.', None, False, None), (' CAFC', None, False, None)])\n",
      "alias= (' Fed. Cir.', None, False, None)\n",
      "entity= (117, 'United States Court of Appeals for the Federal Circuit', 0, [('United States Court of Appeals for the Federal Circuit', None, False, None), ('Federal Circuit', None, False, None), (' Fed. Cir.', None, False, None), ('C.A.F.C.', None, False, None), (' CAFC', None, False, None)])\n",
      "alias= (' Fed. Cir.', None, False, None)\n",
      "entity= (117, 'United States Court of Appeals for the Federal Circuit', 0, [('United States Court of Appeals for the Federal Circuit', None, False, None), ('Federal Circuit', None, False, None), (' Fed. Cir.', None, False, None), ('C.A.F.C.', None, False, None), (' CAFC', None, False, None)])\n",
      "alias= (' Fed. Cir.', None, False, None)\n",
      "entity= (29, 'District of Delaware', 0, [('District of Delaware', None, False, None), ('D. Del.', None, False, None)])\n",
      "alias= ('D. Del.', None, False, None)\n",
      "entity= (117, 'United States Court of Appeals for the Federal Circuit', 0, [('United States Court of Appeals for the Federal Circuit', None, False, None), ('Federal Circuit', None, False, None), (' Fed. Cir.', None, False, None), ('C.A.F.C.', None, False, None), (' CAFC', None, False, None)])\n",
      "alias= (' Fed. Cir.', None, False, None)\n",
      "entity= (117, 'United States Court of Appeals for the Federal Circuit', 0, [('United States Court of Appeals for the Federal Circuit', None, False, None), ('Federal Circuit', None, False, None), (' Fed. Cir.', None, False, None), ('C.A.F.C.', None, False, None), (' CAFC', None, False, None)])\n",
      "alias= (' Fed. Cir.', None, False, None)\n",
      "entity= (117, 'United States Court of Appeals for the Federal Circuit', 0, [('United States Court of Appeals for the Federal Circuit', None, False, None), ('Federal Circuit', None, False, None), (' Fed. Cir.', None, False, None), ('C.A.F.C.', None, False, None), (' CAFC', None, False, None)])\n",
      "alias= (' Fed. Cir.', None, False, None)\n",
      "entity= (117, 'United States Court of Appeals for the Federal Circuit', 0, [('United States Court of Appeals for the Federal Circuit', None, False, None), ('Federal Circuit', None, False, None), (' Fed. Cir.', None, False, None), ('C.A.F.C.', None, False, None), (' CAFC', None, False, None)])\n",
      "alias= (' Fed. Cir.', None, False, None)\n",
      "entity= (117, 'United States Court of Appeals for the Federal Circuit', 0, [('United States Court of Appeals for the Federal Circuit', None, False, None), ('Federal Circuit', None, False, None), (' Fed. Cir.', None, False, None), ('C.A.F.C.', None, False, None), (' CAFC', None, False, None)])\n",
      "alias= (' Fed. Cir.', None, False, None)\n",
      "entity= (117, 'United States Court of Appeals for the Federal Circuit', 0, [('United States Court of Appeals for the Federal Circuit', None, False, None), ('Federal Circuit', None, False, None), (' Fed. Cir.', None, False, None), ('C.A.F.C.', None, False, None), (' CAFC', None, False, None)])\n",
      "alias= (' Fed. Cir.', None, False, None)\n",
      "entity= (117, 'United States Court of Appeals for the Federal Circuit', 0, [('United States Court of Appeals for the Federal Circuit', None, False, None), ('Federal Circuit', None, False, None), (' Fed. Cir.', None, False, None), ('C.A.F.C.', None, False, None), (' CAFC', None, False, None)])\n",
      "alias= (' Fed. Cir.', None, False, None)\n",
      "entity= (117, 'United States Court of Appeals for the Federal Circuit', 0, [('United States Court of Appeals for the Federal Circuit', None, False, None), ('Federal Circuit', None, False, None), (' Fed. Cir.', None, False, None), ('C.A.F.C.', None, False, None), (' CAFC', None, False, None)])\n",
      "alias= (' Fed. Cir.', None, False, None)\n",
      "entity= (117, 'United States Court of Appeals for the Federal Circuit', 0, [('United States Court of Appeals for the Federal Circuit', None, False, None), ('Federal Circuit', None, False, None), (' Fed. Cir.', None, False, None), ('C.A.F.C.', None, False, None), (' CAFC', None, False, None)])\n",
      "alias= (' Fed. Cir.', None, False, None)\n",
      "entity= (117, 'United States Court of Appeals for the Federal Circuit', 0, [('United States Court of Appeals for the Federal Circuit', None, False, None), ('Federal Circuit', None, False, None), (' Fed. Cir.', None, False, None), ('C.A.F.C.', None, False, None), (' CAFC', None, False, None)])\n",
      "alias= (' Fed. Cir.', None, False, None)\n",
      "entity= (2, 'First Circuit', 0, [('First Circuit', None, False, None), ('1st Circuit', None, False, None), (' 1st Cir.', None, False, None), (' First Cir.', None, False, None)])\n",
      "alias= (' 1st Cir.', None, False, None)\n",
      "entity= (8, 'Seventh Circuit', 0, [('Seventh Circuit', None, False, None), ('7th Circuit', None, False, None), (' 7th Cir.', None, False, None), (' Seventh Cir.', None, False, None)])\n",
      "alias= (' 7th Cir.', None, False, None)\n",
      "entity= (29, 'District of Delaware', 0, [('District of Delaware', None, False, None), ('D. Del.', None, False, None)])\n",
      "alias= ('D. Del.', None, False, None)\n"
     ]
    }
   ],
   "source": [
    "for entity, alias in lexnlp.extract.en.courts.get_courts(text, court_config_data):\n",
    "    print(\"entity=\", entity)\n",
    "    print(\"alias=\", alias)"
   ]
  },
  {
   "cell_type": "code",
   "execution_count": null,
   "metadata": {},
   "outputs": [],
   "source": []
  }
 ],
 "metadata": {
  "kernelspec": {
   "display_name": "Python 3",
   "language": "python",
   "name": "python3"
  },
  "language_info": {
   "codemirror_mode": {
    "name": "ipython",
    "version": 3
   },
   "file_extension": ".py",
   "mimetype": "text/x-python",
   "name": "python",
   "nbconvert_exporter": "python",
   "pygments_lexer": "ipython3",
   "version": "3.6.8"
  }
 },
 "nbformat": 4,
 "nbformat_minor": 2
}
