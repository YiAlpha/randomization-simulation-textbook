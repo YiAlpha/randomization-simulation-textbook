{
 "cells": [
  {
   "cell_type": "markdown",
   "metadata": {},
   "source": [
    "# Create Edge and  Node List\n",
    "\n",
    "1. Extract Court\n",
    "2. Create a edge list of the citation network\n",
    "3. Create a node list contains the case code, name and court"
   ]
  },
  {
   "cell_type": "markdown",
   "metadata": {},
   "source": [
    "### Read Case text data"
   ]
  },
  {
   "cell_type": "code",
   "execution_count": 1,
   "metadata": {},
   "outputs": [],
   "source": [
    "import json\n",
    "data = json.load(open('full_name_text.json', 'r'))\n",
    "file_name = data['file_name']\n",
    "raw_text = data['raw_text']"
   ]
  },
  {
   "cell_type": "code",
   "execution_count": 2,
   "metadata": {},
   "outputs": [
    {
     "data": {
      "text/plain": [
       "854"
      ]
     },
     "execution_count": 2,
     "metadata": {},
     "output_type": "execute_result"
    }
   ],
   "source": [
    "len(file_name)"
   ]
  },
  {
   "cell_type": "code",
   "execution_count": 3,
   "metadata": {},
   "outputs": [
    {
     "data": {
      "text/plain": [
       "854"
      ]
     },
     "execution_count": 3,
     "metadata": {},
     "output_type": "execute_result"
    }
   ],
   "source": [
    "len(raw_text)"
   ]
  },
  {
   "cell_type": "markdown",
   "metadata": {},
   "source": [
    "## 1. Extract Court"
   ]
  },
  {
   "cell_type": "code",
   "execution_count": 4,
   "metadata": {},
   "outputs": [],
   "source": [
    "from lexnlp.extract.en.dict_entities import get_entity_name, entity_config\n",
    "import lexnlp.extract.en.courts\n",
    "import pandas"
   ]
  },
  {
   "cell_type": "code",
   "execution_count": 5,
   "metadata": {},
   "outputs": [],
   "source": [
    "court_df = pandas.read_csv(\"https://raw.githubusercontent.com/LexPredict/lexpredict-legal-dictionary/1.0.5/en/legal/us_courts.csv\")"
   ]
  },
  {
   "cell_type": "code",
   "execution_count": 7,
   "metadata": {},
   "outputs": [],
   "source": [
    "# Create config objects\n",
    "court_config_data = []\n",
    "for _, row in court_df.iterrows():\n",
    "    c = entity_config(row[\"Court ID\"],row[\"Court Name\"],row[\"Court Type\"])\n",
    "    court_config_data.append(c)\n"
   ]
  },
  {
   "cell_type": "code",
   "execution_count": 8,
   "metadata": {},
   "outputs": [],
   "source": [
    "def get_court(text):\n",
    "    text_court =lexnlp.extract.en.courts.get_courts(text, court_config_data)\n",
    "    court_in_pdf = []   \n",
    "    for entity in text_court:\n",
    "        court_in_pdf.append(entity[0][1:3])\n",
    "    try:\n",
    "        return court_in_pdf[1]\n",
    "    except:\n",
    "        return (None, None)   "
   ]
  },
  {
   "cell_type": "code",
   "execution_count": 9,
   "metadata": {},
   "outputs": [],
   "source": [
    "court_list = []\n",
    "court_type = []\n",
    "for raw in raw_text:   \n",
    "    court = get_court(raw)[0]\n",
    "    court_list.append(court)\n",
    "    ctype = get_court(raw)[1]\n",
    "    court_type.append(ctype)\n"
   ]
  },
  {
   "cell_type": "code",
   "execution_count": 10,
   "metadata": {
    "scrolled": true
   },
   "outputs": [
    {
     "data": {
      "text/plain": [
       "854"
      ]
     },
     "execution_count": 10,
     "metadata": {},
     "output_type": "execute_result"
    }
   ],
   "source": [
    "len(court_list)"
   ]
  },
  {
   "cell_type": "code",
   "execution_count": 11,
   "metadata": {},
   "outputs": [
    {
     "data": {
      "text/plain": [
       "854"
      ]
     },
     "execution_count": 11,
     "metadata": {},
     "output_type": "execute_result"
    }
   ],
   "source": [
    "len(court_type)"
   ]
  },
  {
   "cell_type": "code",
   "execution_count": 12,
   "metadata": {
    "scrolled": true
   },
   "outputs": [],
   "source": [
    "court_na = []\n",
    "for i in range(len(file_name)):\n",
    "    if court_list[i] == None: \n",
    "        court_na.append(i)       "
   ]
  },
  {
   "cell_type": "code",
   "execution_count": 18,
   "metadata": {},
   "outputs": [
    {
     "data": {
      "text/plain": [
       "27"
      ]
     },
     "execution_count": 18,
     "metadata": {},
     "output_type": "execute_result"
    }
   ],
   "source": [
    "len(court_na)"
   ]
  },
  {
   "cell_type": "markdown",
   "metadata": {},
   "source": [
    "## 2. Create a edge list of the citation network"
   ]
  },
  {
   "cell_type": "code",
   "execution_count": 26,
   "metadata": {},
   "outputs": [],
   "source": [
    "import re\n",
    "# import a dictionary contains court information\n",
    "from reporters_db import EDITIONS\n",
    "for key in list(EDITIONS.keys()):\n",
    "    EDITIONS[key.replace(\" \", \"\")]=EDITIONS[key].replace(\" \", \"\")\n",
    "    \n",
    "# regular expression to describe citation pattern\n",
    "CITATION_PTN = r\"\"\"\n",
    "(?:[\\s,:\\(]|^)\n",
    "(\n",
    "(\\d+)\\s+\n",
    "({reporters})(\\s|[a-z])+\n",
    "(\\d+)\n",
    ")\n",
    "\"\"\".format(reporters='|'.join([re.escape(i) for i in EDITIONS]))\n",
    "CITATION_PTN_RE = re.compile(CITATION_PTN, re.IGNORECASE | re.MULTILINE | re.DOTALL | re.VERBOSE)\n"
   ]
  },
  {
   "cell_type": "code",
   "execution_count": 27,
   "metadata": {},
   "outputs": [],
   "source": [
    "def get_citations(raw_text):\n",
    "    result = CITATION_PTN_RE.findall(raw_text)\n",
    "    citations = []\n",
    "    for cite in result:\n",
    "        the_cite = cite[0].replace(\"at \", \"\").replace(\"  \",\" \").replace(\"  \",\" \").replace(\"\\n\", \" \")\n",
    "        if len(the_cite)<=30:\n",
    "            citations.append(the_cite)\n",
    "    # remove duplicated citations\n",
    "    citations = list(dict.fromkeys(citations))\n",
    "    return citations"
   ]
  },
  {
   "cell_type": "code",
   "execution_count": 28,
   "metadata": {},
   "outputs": [
    {
     "data": {
      "text/plain": [
       "854"
      ]
     },
     "execution_count": 28,
     "metadata": {},
     "output_type": "execute_result"
    }
   ],
   "source": [
    "len(raw_text)"
   ]
  },
  {
   "cell_type": "code",
   "execution_count": 29,
   "metadata": {},
   "outputs": [
    {
     "data": {
      "text/plain": [
       "854"
      ]
     },
     "execution_count": 29,
     "metadata": {},
     "output_type": "execute_result"
    }
   ],
   "source": [
    "len(file_name)"
   ]
  },
  {
   "cell_type": "code",
   "execution_count": 30,
   "metadata": {},
   "outputs": [],
   "source": [
    "import pandas as pd"
   ]
  },
  {
   "cell_type": "code",
   "execution_count": 31,
   "metadata": {},
   "outputs": [],
   "source": [
    "cite_dict = {}\n",
    "for i in range(len(file_name)):\n",
    "    cite_dict[file_name[i]] = get_citations(raw_text[i])"
   ]
  },
  {
   "cell_type": "code",
   "execution_count": 32,
   "metadata": {},
   "outputs": [],
   "source": [
    "# A list contain the case number of the PDF file\n",
    "case_number = []\n",
    "for i in range(len(file_name)):\n",
    "    # Case number is the first citation number in the citation list\n",
    "    case_number.append(cite_dict[file_name[i]][0])"
   ]
  },
  {
   "cell_type": "code",
   "execution_count": 33,
   "metadata": {},
   "outputs": [],
   "source": [
    "cite_number_dict = {}\n",
    "for i in range(len(file_name)):\n",
    "    cite_number_dict[case_number[i]] = cite_dict[file_name[i]]"
   ]
  },
  {
   "cell_type": "code",
   "execution_count": 34,
   "metadata": {},
   "outputs": [],
   "source": [
    "for key in case_number:\n",
    "    cite_number_dict[key] = cite_number_dict[key][1:]"
   ]
  },
  {
   "cell_type": "code",
   "execution_count": 35,
   "metadata": {},
   "outputs": [
    {
     "data": {
      "text/plain": [
       "854"
      ]
     },
     "execution_count": 35,
     "metadata": {},
     "output_type": "execute_result"
    }
   ],
   "source": [
    "len(case_number)"
   ]
  },
  {
   "cell_type": "code",
   "execution_count": 36,
   "metadata": {},
   "outputs": [
    {
     "data": {
      "text/plain": [
       "854"
      ]
     },
     "execution_count": 36,
     "metadata": {},
     "output_type": "execute_result"
    }
   ],
   "source": [
    "len(cite_number_dict)"
   ]
  },
  {
   "cell_type": "code",
   "execution_count": 40,
   "metadata": {},
   "outputs": [],
   "source": [
    "cite_df = pd.DataFrame.from_dict(cite_number_dict, orient='index')"
   ]
  },
  {
   "cell_type": "code",
   "execution_count": 41,
   "metadata": {},
   "outputs": [],
   "source": [
    "cite_df['file']= cite_df.index"
   ]
  },
  {
   "cell_type": "code",
   "execution_count": 42,
   "metadata": {},
   "outputs": [
    {
     "data": {
      "text/html": [
       "<div>\n",
       "<style scoped>\n",
       "    .dataframe tbody tr th:only-of-type {\n",
       "        vertical-align: middle;\n",
       "    }\n",
       "\n",
       "    .dataframe tbody tr th {\n",
       "        vertical-align: top;\n",
       "    }\n",
       "\n",
       "    .dataframe thead th {\n",
       "        text-align: right;\n",
       "    }\n",
       "</style>\n",
       "<table border=\"1\" class=\"dataframe\">\n",
       "  <thead>\n",
       "    <tr style=\"text-align: right;\">\n",
       "      <th></th>\n",
       "      <th>0</th>\n",
       "      <th>1</th>\n",
       "      <th>2</th>\n",
       "      <th>3</th>\n",
       "      <th>4</th>\n",
       "      <th>5</th>\n",
       "      <th>6</th>\n",
       "      <th>7</th>\n",
       "      <th>8</th>\n",
       "      <th>9</th>\n",
       "      <th>...</th>\n",
       "      <th>431</th>\n",
       "      <th>432</th>\n",
       "      <th>433</th>\n",
       "      <th>434</th>\n",
       "      <th>435</th>\n",
       "      <th>436</th>\n",
       "      <th>437</th>\n",
       "      <th>438</th>\n",
       "      <th>439</th>\n",
       "      <th>file</th>\n",
       "    </tr>\n",
       "  </thead>\n",
       "  <tbody>\n",
       "    <tr>\n",
       "      <th>725 F.3d 1356</th>\n",
       "      <td>598 F.3d 1294</td>\n",
       "      <td>427 F.3d 1375</td>\n",
       "      <td>598 F.3d 1308</td>\n",
       "      <td>605 F.3d 1330</td>\n",
       "      <td>212 F.3d 1272</td>\n",
       "      <td>699 F.3d 1340</td>\n",
       "      <td>679 F.3d 1372</td>\n",
       "      <td>699 F.3d 1348</td>\n",
       "      <td>699 F.3d 1349</td>\n",
       "      <td>713 F.2d 1530</td>\n",
       "      <td>...</td>\n",
       "      <td>None</td>\n",
       "      <td>None</td>\n",
       "      <td>None</td>\n",
       "      <td>None</td>\n",
       "      <td>None</td>\n",
       "      <td>None</td>\n",
       "      <td>None</td>\n",
       "      <td>None</td>\n",
       "      <td>None</td>\n",
       "      <td>725 F.3d 1356</td>\n",
       "    </tr>\n",
       "    <tr>\n",
       "      <th>878 F.3d 1041</th>\n",
       "      <td>649 F.3d 1276</td>\n",
       "      <td>323 F.3d 1354</td>\n",
       "      <td>649 F.3d 1290</td>\n",
       "      <td>269 F.3d 1369</td>\n",
       "      <td>290 U.S. 240</td>\n",
       "      <td>54 S.Ct. 146</td>\n",
       "      <td>78 L.Ed. 293</td>\n",
       "      <td>322 U.S. 238</td>\n",
       "      <td>64 S.Ct. 997</td>\n",
       "      <td>88 L.Ed. 1250</td>\n",
       "      <td>...</td>\n",
       "      <td>None</td>\n",
       "      <td>None</td>\n",
       "      <td>None</td>\n",
       "      <td>None</td>\n",
       "      <td>None</td>\n",
       "      <td>None</td>\n",
       "      <td>None</td>\n",
       "      <td>None</td>\n",
       "      <td>None</td>\n",
       "      <td>878 F.3d 1041</td>\n",
       "    </tr>\n",
       "    <tr>\n",
       "      <th>857 F.3d 1323</th>\n",
       "      <td>396 F.3d 1369</td>\n",
       "      <td>343 F.3d 1340</td>\n",
       "      <td>746 F.3d 995</td>\n",
       "      <td>637 F.3d 1344</td>\n",
       "      <td>695 F.3d 1247</td>\n",
       "      <td>281 F.3d 1261</td>\n",
       "      <td>992 F.2d 1204</td>\n",
       "      <td>476 F.2d 1357</td>\n",
       "      <td>992 F.2d 1207</td>\n",
       "      <td>2012 WL 423807</td>\n",
       "      <td>...</td>\n",
       "      <td>None</td>\n",
       "      <td>None</td>\n",
       "      <td>None</td>\n",
       "      <td>None</td>\n",
       "      <td>None</td>\n",
       "      <td>None</td>\n",
       "      <td>None</td>\n",
       "      <td>None</td>\n",
       "      <td>None</td>\n",
       "      <td>857 F.3d 1323</td>\n",
       "    </tr>\n",
       "    <tr>\n",
       "      <th>809 F.3d 1295</th>\n",
       "      <td>2014 WL 3805817</td>\n",
       "      <td>318 F.Supp. 1116</td>\n",
       "      <td>299 F.3d 1336</td>\n",
       "      <td>773 F.3d 1201</td>\n",
       "      <td>767 F.3d 1308</td>\n",
       "      <td>111 U.S. 120</td>\n",
       "      <td>4 S.Ct. 291</td>\n",
       "      <td>28 L.Ed. 371</td>\n",
       "      <td>802 F.3d 1283</td>\n",
       "      <td>767 F.3d 1328</td>\n",
       "      <td>...</td>\n",
       "      <td>None</td>\n",
       "      <td>None</td>\n",
       "      <td>None</td>\n",
       "      <td>None</td>\n",
       "      <td>None</td>\n",
       "      <td>None</td>\n",
       "      <td>None</td>\n",
       "      <td>None</td>\n",
       "      <td>None</td>\n",
       "      <td>809 F.3d 1295</td>\n",
       "    </tr>\n",
       "    <tr>\n",
       "      <th>709 F.3d 1124</th>\n",
       "      <td>2011 WL 1990748</td>\n",
       "      <td>2012 WL 254026</td>\n",
       "      <td>2012 WL 555092</td>\n",
       "      <td>558 F.3d 1368</td>\n",
       "      <td>641 F.3d 1352</td>\n",
       "      <td>628 F.3d 1143</td>\n",
       "      <td>960 F.2d 1020</td>\n",
       "      <td>839 F.2d 1544</td>\n",
       "      <td>960 F.2d 1042</td>\n",
       "      <td>90 F.3d 479</td>\n",
       "      <td>...</td>\n",
       "      <td>None</td>\n",
       "      <td>None</td>\n",
       "      <td>None</td>\n",
       "      <td>None</td>\n",
       "      <td>None</td>\n",
       "      <td>None</td>\n",
       "      <td>None</td>\n",
       "      <td>None</td>\n",
       "      <td>None</td>\n",
       "      <td>709 F.3d 1124</td>\n",
       "    </tr>\n",
       "  </tbody>\n",
       "</table>\n",
       "<p>5 rows × 441 columns</p>\n",
       "</div>"
      ],
      "text/plain": [
       "                             0                 1               2  \\\n",
       "725 F.3d 1356    598 F.3d 1294     427 F.3d 1375   598 F.3d 1308   \n",
       "878 F.3d 1041    649 F.3d 1276     323 F.3d 1354   649 F.3d 1290   \n",
       "857 F.3d 1323    396 F.3d 1369     343 F.3d 1340    746 F.3d 995   \n",
       "809 F.3d 1295  2014 WL 3805817  318 F.Supp. 1116   299 F.3d 1336   \n",
       "709 F.3d 1124  2011 WL 1990748    2012 WL 254026  2012 WL 555092   \n",
       "\n",
       "                           3              4              5              6  \\\n",
       "725 F.3d 1356  605 F.3d 1330  212 F.3d 1272  699 F.3d 1340  679 F.3d 1372   \n",
       "878 F.3d 1041  269 F.3d 1369   290 U.S. 240   54 S.Ct. 146   78 L.Ed. 293   \n",
       "857 F.3d 1323  637 F.3d 1344  695 F.3d 1247  281 F.3d 1261  992 F.2d 1204   \n",
       "809 F.3d 1295  773 F.3d 1201  767 F.3d 1308   111 U.S. 120    4 S.Ct. 291   \n",
       "709 F.3d 1124  558 F.3d 1368  641 F.3d 1352  628 F.3d 1143  960 F.2d 1020   \n",
       "\n",
       "                           7              8               9  ...   431   432  \\\n",
       "725 F.3d 1356  699 F.3d 1348  699 F.3d 1349   713 F.2d 1530  ...  None  None   \n",
       "878 F.3d 1041   322 U.S. 238   64 S.Ct. 997   88 L.Ed. 1250  ...  None  None   \n",
       "857 F.3d 1323  476 F.2d 1357  992 F.2d 1207  2012 WL 423807  ...  None  None   \n",
       "809 F.3d 1295   28 L.Ed. 371  802 F.3d 1283   767 F.3d 1328  ...  None  None   \n",
       "709 F.3d 1124  839 F.2d 1544  960 F.2d 1042     90 F.3d 479  ...  None  None   \n",
       "\n",
       "                433   434   435   436   437   438   439           file  \n",
       "725 F.3d 1356  None  None  None  None  None  None  None  725 F.3d 1356  \n",
       "878 F.3d 1041  None  None  None  None  None  None  None  878 F.3d 1041  \n",
       "857 F.3d 1323  None  None  None  None  None  None  None  857 F.3d 1323  \n",
       "809 F.3d 1295  None  None  None  None  None  None  None  809 F.3d 1295  \n",
       "709 F.3d 1124  None  None  None  None  None  None  None  709 F.3d 1124  \n",
       "\n",
       "[5 rows x 441 columns]"
      ]
     },
     "execution_count": 42,
     "metadata": {},
     "output_type": "execute_result"
    }
   ],
   "source": [
    "cite_df.head()"
   ]
  },
  {
   "cell_type": "code",
   "execution_count": 43,
   "metadata": {},
   "outputs": [],
   "source": [
    "citation_df= pd.melt(cite_df,id_vars=['file']). \\\n",
    "            drop(['variable'], axis=1).dropna(). \\\n",
    "            rename(index=str, columns={\"file\": \"from\",\n",
    "                                      \"value\":\"to\"})"
   ]
  },
  {
   "cell_type": "code",
   "execution_count": 48,
   "metadata": {},
   "outputs": [],
   "source": [
    "citation_df.to_csv(\"cite_egde.csv\", sep=',', encoding='utf-8', index=False)"
   ]
  },
  {
   "cell_type": "markdown",
   "metadata": {},
   "source": [
    "## 3. Create a node list contains the case code, name and court"
   ]
  },
  {
   "cell_type": "code",
   "execution_count": 45,
   "metadata": {},
   "outputs": [],
   "source": [
    "Nodes = pd.DataFrame(\n",
    "    {'case_code': case_number,\n",
    "     'case_name': file_name,\n",
    "     'court_from': court_list,\n",
    "     'court_type':court_type,\n",
    "    })\n"
   ]
  },
  {
   "cell_type": "code",
   "execution_count": 46,
   "metadata": {},
   "outputs": [
    {
     "data": {
      "text/html": [
       "<div>\n",
       "<style scoped>\n",
       "    .dataframe tbody tr th:only-of-type {\n",
       "        vertical-align: middle;\n",
       "    }\n",
       "\n",
       "    .dataframe tbody tr th {\n",
       "        vertical-align: top;\n",
       "    }\n",
       "\n",
       "    .dataframe thead th {\n",
       "        text-align: right;\n",
       "    }\n",
       "</style>\n",
       "<table border=\"1\" class=\"dataframe\">\n",
       "  <thead>\n",
       "    <tr style=\"text-align: right;\">\n",
       "      <th></th>\n",
       "      <th>case_code</th>\n",
       "      <th>case_name</th>\n",
       "      <th>court_from</th>\n",
       "      <th>court_type</th>\n",
       "    </tr>\n",
       "  </thead>\n",
       "  <tbody>\n",
       "    <tr>\n",
       "      <th>0</th>\n",
       "      <td>725 F.3d 1356</td>\n",
       "      <td>Apple Inc v International Trade Com'n</td>\n",
       "      <td>International Trade Commission</td>\n",
       "      <td>Federal Court</td>\n",
       "    </tr>\n",
       "    <tr>\n",
       "      <th>1</th>\n",
       "      <td>878 F.3d 1041</td>\n",
       "      <td>Regeneron Pharmaceuticals Inc v Merus NV</td>\n",
       "      <td>Southern District of New York</td>\n",
       "      <td>Federal District Court</td>\n",
       "    </tr>\n",
       "    <tr>\n",
       "      <th>2</th>\n",
       "      <td>857 F.3d 1323</td>\n",
       "      <td>Joseph Phelps Vineyards LLC v Fairmont Holding...</td>\n",
       "      <td>Trademark Trial and Appeal Board</td>\n",
       "      <td>Federal Court</td>\n",
       "    </tr>\n",
       "    <tr>\n",
       "      <th>3</th>\n",
       "      <td>809 F.3d 1295</td>\n",
       "      <td>Commonwealth Scientific and Indus Research Org...</td>\n",
       "      <td>Eastern District of Texas</td>\n",
       "      <td>Federal District Court</td>\n",
       "    </tr>\n",
       "    <tr>\n",
       "      <th>4</th>\n",
       "      <td>709 F.3d 1124</td>\n",
       "      <td>Radio Systems Corp v Lalor</td>\n",
       "      <td>Western District of Washington</td>\n",
       "      <td>Federal District Court</td>\n",
       "    </tr>\n",
       "  </tbody>\n",
       "</table>\n",
       "</div>"
      ],
      "text/plain": [
       "       case_code                                          case_name  \\\n",
       "0  725 F.3d 1356              Apple Inc v International Trade Com'n   \n",
       "1  878 F.3d 1041           Regeneron Pharmaceuticals Inc v Merus NV   \n",
       "2  857 F.3d 1323  Joseph Phelps Vineyards LLC v Fairmont Holding...   \n",
       "3  809 F.3d 1295  Commonwealth Scientific and Indus Research Org...   \n",
       "4  709 F.3d 1124                         Radio Systems Corp v Lalor   \n",
       "\n",
       "                         court_from              court_type  \n",
       "0    International Trade Commission           Federal Court  \n",
       "1     Southern District of New York  Federal District Court  \n",
       "2  Trademark Trial and Appeal Board           Federal Court  \n",
       "3         Eastern District of Texas  Federal District Court  \n",
       "4    Western District of Washington  Federal District Court  "
      ]
     },
     "execution_count": 46,
     "metadata": {},
     "output_type": "execute_result"
    }
   ],
   "source": [
    "Nodes.head()"
   ]
  },
  {
   "cell_type": "code",
   "execution_count": 47,
   "metadata": {},
   "outputs": [],
   "source": [
    "Nodes.to_csv(\"cite_node.csv\", sep='\\t', encoding='utf-8',index=False)"
   ]
  },
  {
   "cell_type": "code",
   "execution_count": null,
   "metadata": {
    "collapsed": true
   },
   "outputs": [],
   "source": []
  }
 ],
 "metadata": {
  "kernelspec": {
   "display_name": "Python 3",
   "language": "python",
   "name": "python3"
  },
  "language_info": {
   "codemirror_mode": {
    "name": "ipython",
    "version": 3
   },
   "file_extension": ".py",
   "mimetype": "text/x-python",
   "name": "python",
   "nbconvert_exporter": "python",
   "pygments_lexer": "ipython3",
   "version": "3.6.8"
  }
 },
 "nbformat": 4,
 "nbformat_minor": 2
}
