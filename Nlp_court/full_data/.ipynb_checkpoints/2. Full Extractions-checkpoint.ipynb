{
 "cells": [
  {
   "cell_type": "markdown",
   "metadata": {},
   "source": [
    "# Addtional Extraction for the Node List\n",
    "\n",
    "1. Case Result, \n",
    "2. Author of the opinion text\n",
    "3. Judge Panel\n",
    "4. Opinion text\n"
   ]
  },
  {
   "cell_type": "markdown",
   "metadata": {},
   "source": [
    "### Read text"
   ]
  },
  {
   "cell_type": "code",
   "execution_count": 1,
   "metadata": {},
   "outputs": [],
   "source": [
    "import json\n",
    "pdf2text = json.load(open(\"full_name_text.json\", 'r'))"
   ]
  },
  {
   "cell_type": "code",
   "execution_count": 2,
   "metadata": {},
   "outputs": [
    {
     "data": {
      "text/plain": [
       "dict_keys(['file_name', 'raw_text'])"
      ]
     },
     "execution_count": 2,
     "metadata": {},
     "output_type": "execute_result"
    }
   ],
   "source": [
    "pdf2text.keys()"
   ]
  },
  {
   "cell_type": "code",
   "execution_count": 3,
   "metadata": {},
   "outputs": [],
   "source": [
    "file_name = pdf2text['file_name']"
   ]
  },
  {
   "cell_type": "code",
   "execution_count": 4,
   "metadata": {},
   "outputs": [],
   "source": [
    "raw_text = pdf2text['raw_text']"
   ]
  },
  {
   "cell_type": "markdown",
   "metadata": {},
   "source": [
    "## 1. Case Result"
   ]
  },
  {
   "cell_type": "code",
   "execution_count": 5,
   "metadata": {},
   "outputs": [],
   "source": [
    "import re"
   ]
  },
  {
   "cell_type": "code",
   "execution_count": 6,
   "metadata": {},
   "outputs": [
    {
     "name": "stdout",
     "output_type": "stream",
     "text": [
      "VACATED–IN–PART AND REMANDED.\n"
     ]
    }
   ],
   "source": [
    "for layer in raw_text[10].split(\"\\n\"):\n",
    "    if re.search(r'(AFFIRMED|APPEAL|VACATED|REVERSED|DISMISSED|AMENDED)', layer) != None:\n",
    "        print(layer)"
   ]
  },
  {
   "cell_type": "code",
   "execution_count": 7,
   "metadata": {},
   "outputs": [],
   "source": [
    "decision = [None]*len(file_name)\n",
    "for i in range(len(file_name)):\n",
    "    for layer in raw_text[i].split(\"\\n\"):\n",
    "        if re.search('^(AFFIRMED|APPEAL|VACATED|REVERSED|DISMISSED|AMENDED)', layer) != None:\n",
    "            decision[i] = layer\n",
    "    "
   ]
  },
  {
   "cell_type": "code",
   "execution_count": 8,
   "metadata": {},
   "outputs": [],
   "source": [
    "de_no = []\n",
    "for i in range(len(decision)):\n",
    "    if decision[i] == None:\n",
    "        de_no.append(i) "
   ]
  },
  {
   "cell_type": "code",
   "execution_count": 9,
   "metadata": {},
   "outputs": [
    {
     "data": {
      "text/plain": [
       "64"
      ]
     },
     "execution_count": 9,
     "metadata": {},
     "output_type": "execute_result"
    }
   ],
   "source": [
    "len(de_no)"
   ]
  },
  {
   "cell_type": "code",
   "execution_count": 10,
   "metadata": {},
   "outputs": [],
   "source": [
    "for i in range(len(file_name)):\n",
    "    if decision[i] == None:\n",
    "        for layer in raw_text[i].split(\"\\n\"):\n",
    "            if re.search('(en banc.*denied\\.|MOTION|petition.*denied\\.|Remanded|Affirmed|reversed\\.|Vacated and remanded|Petition granted)', layer) != None:\n",
    "                decision[i] = layer"
   ]
  },
  {
   "cell_type": "code",
   "execution_count": 11,
   "metadata": {},
   "outputs": [],
   "source": [
    "de_no = []\n",
    "for i in range(len(decision)):\n",
    "    if decision[i] == None:\n",
    "        de_no.append(i) "
   ]
  },
  {
   "cell_type": "code",
   "execution_count": 12,
   "metadata": {
    "scrolled": true
   },
   "outputs": [
    {
     "data": {
      "text/plain": [
       "8"
      ]
     },
     "execution_count": 12,
     "metadata": {},
     "output_type": "execute_result"
    }
   ],
   "source": [
    "len(de_no)"
   ]
  },
  {
   "cell_type": "markdown",
   "metadata": {},
   "source": [
    "## 2. Author of the Opinion Text"
   ]
  },
  {
   "cell_type": "code",
   "execution_count": 13,
   "metadata": {},
   "outputs": [
    {
     "name": "stdout",
     "output_type": "stream",
     "text": [
      "LOURIE\n"
     ]
    }
   ],
   "source": [
    "for layer in raw_text[9].split(\"\\n\"):\n",
    "    if len(layer) <40 and \\\n",
    "    re.search(r'^(?!Before)(?!dissenting-in-part).*Judge.$', layer) != None:\n",
    "        print(layer.split(\",\")[0])"
   ]
  },
  {
   "cell_type": "code",
   "execution_count": 14,
   "metadata": {},
   "outputs": [],
   "source": [
    "author = [None]*len(file_name)\n",
    "for i in range(len(file_name)):\n",
    "    for layer in raw_text[i].split(\"\\n\"):\n",
    "        if len(layer) <40 and \\\n",
    "        re.search(r'^(?!Before)(?!dissenting-in-part).*Judge.$', layer) != None:\n",
    "            author[i] = layer.split(\",\")[0]"
   ]
  },
  {
   "cell_type": "code",
   "execution_count": 15,
   "metadata": {},
   "outputs": [],
   "source": [
    "author_judge = author\n",
    "for i in range(len(file_name)):\n",
    "    if author[i]!=None and len(author[i].split(\"  \"))>1:\n",
    "        author_judge[i] = author[i].split(\"  \")[-1]\n",
    "    \n",
    "    "
   ]
  },
  {
   "cell_type": "markdown",
   "metadata": {},
   "source": [
    "## 3. Judge Panel"
   ]
  },
  {
   "cell_type": "code",
   "execution_count": 16,
   "metadata": {},
   "outputs": [],
   "source": [
    "judge_panel = [None]*len(file_name)\n",
    "for i in range(len(file_name)):\n",
    "        for layer in raw_text[i].split(\"\\n\"):\n",
    "            if re.search(r'^Before(.*)Judge(.*)', layer) != None:\n",
    "                    judge_panel[i] = layer"
   ]
  },
  {
   "cell_type": "markdown",
   "metadata": {},
   "source": [
    "## 4. Opinion Text"
   ]
  },
  {
   "cell_type": "markdown",
   "metadata": {},
   "source": [
    "### Identify the start point of the opinion text"
   ]
  },
  {
   "cell_type": "code",
   "execution_count": 17,
   "metadata": {},
   "outputs": [],
   "source": [
    "op_start_layer = [None]*len(file_name)\n",
    "for i in range(len(file_name)):\n",
    "    for layer in raw_text[i].split(\"\\n\"):\n",
    "        if len(layer) <40 and \\\n",
    "        re.search(r'^(?!Before)(?!dissenting-in-part).*Judge.$', layer) != None:\n",
    "            op_start_layer[i] = layer"
   ]
  },
  {
   "cell_type": "code",
   "execution_count": 18,
   "metadata": {},
   "outputs": [],
   "source": [
    "start_index = [None]*len(file_name)\n",
    "for i in range(len(file_name)):\n",
    "    if op_start_layer[i] != None:\n",
    "        start_index[i] = (raw_text[i].split(\"\\n\").index(op_start_layer[i]))+1"
   ]
  },
  {
   "cell_type": "markdown",
   "metadata": {},
   "source": [
    "### Identify the end point of the opinion text"
   ]
  },
  {
   "cell_type": "code",
   "execution_count": 19,
   "metadata": {},
   "outputs": [],
   "source": [
    "op_end_layer = [None]*len(file_name)\n",
    "for i in range(len(file_name)):\n",
    "    for layer in raw_text[i].split(\"\\n\"):\n",
    "        if re.search('^(AFFIRMED|APPEAL|VACATED|REVERSED|DISMISSED|AMENDED)', layer) != None:\n",
    "            op_end_layer[i] = layer"
   ]
  },
  {
   "cell_type": "code",
   "execution_count": 20,
   "metadata": {},
   "outputs": [],
   "source": [
    "end_index = [None]*len(file_name)\n",
    "for i in range(len(file_name)):\n",
    "    if op_end_layer[i] != None:\n",
    "        end_index[i] = (raw_text[i].split(\"\\n\").index(op_end_layer[i]))"
   ]
  },
  {
   "cell_type": "markdown",
   "metadata": {},
   "source": [
    "### Extract the opinion text based on the anchor "
   ]
  },
  {
   "cell_type": "code",
   "execution_count": 21,
   "metadata": {},
   "outputs": [],
   "source": [
    "opinion_text = [None]*len(file_name)\n",
    "\n",
    "for i in range(len(file_name)):\n",
    "    if start_index[i] != None and end_index[i]!= None:\n",
    "        opinion_text[i]=''.join(raw_text[i].split(\"\\n\")[start_index[i]:end_index[i]])"
   ]
  },
  {
   "cell_type": "code",
   "execution_count": 22,
   "metadata": {},
   "outputs": [],
   "source": [
    "op_no = []\n",
    "for i in range(len(decision)):\n",
    "    if opinion_text[i] == None:\n",
    "        op_no.append(i) "
   ]
  },
  {
   "cell_type": "code",
   "execution_count": 23,
   "metadata": {},
   "outputs": [
    {
     "data": {
      "text/plain": [
       "83"
      ]
     },
     "execution_count": 23,
     "metadata": {},
     "output_type": "execute_result"
    }
   ],
   "source": [
    "len(op_no)"
   ]
  },
  {
   "cell_type": "markdown",
   "metadata": {},
   "source": [
    "## Store the Extractions as Meta Data"
   ]
  },
  {
   "cell_type": "markdown",
   "metadata": {},
   "source": [
    "### Append to the node list `.csv`"
   ]
  },
  {
   "cell_type": "code",
   "execution_count": 1,
   "metadata": {},
   "outputs": [],
   "source": [
    "import pandas as pd"
   ]
  },
  {
   "cell_type": "code",
   "execution_count": 26,
   "metadata": {},
   "outputs": [],
   "source": [
    "meta = pd.read_csv(\"cite_node.csv\", sep=\"\\t\")"
   ]
  },
  {
   "cell_type": "code",
   "execution_count": 27,
   "metadata": {
    "scrolled": true
   },
   "outputs": [
    {
     "data": {
      "text/html": [
       "<div>\n",
       "<style scoped>\n",
       "    .dataframe tbody tr th:only-of-type {\n",
       "        vertical-align: middle;\n",
       "    }\n",
       "\n",
       "    .dataframe tbody tr th {\n",
       "        vertical-align: top;\n",
       "    }\n",
       "\n",
       "    .dataframe thead th {\n",
       "        text-align: right;\n",
       "    }\n",
       "</style>\n",
       "<table border=\"1\" class=\"dataframe\">\n",
       "  <thead>\n",
       "    <tr style=\"text-align: right;\">\n",
       "      <th></th>\n",
       "      <th>case_code</th>\n",
       "      <th>case_name</th>\n",
       "      <th>court_from</th>\n",
       "      <th>court_type</th>\n",
       "    </tr>\n",
       "  </thead>\n",
       "  <tbody>\n",
       "    <tr>\n",
       "      <th>0</th>\n",
       "      <td>725 F.3d 1356</td>\n",
       "      <td>Apple Inc v International Trade Com'n</td>\n",
       "      <td>International Trade Commission</td>\n",
       "      <td>Federal Court</td>\n",
       "    </tr>\n",
       "    <tr>\n",
       "      <th>1</th>\n",
       "      <td>878 F.3d 1041</td>\n",
       "      <td>Regeneron Pharmaceuticals Inc v Merus NV</td>\n",
       "      <td>Southern District of New York</td>\n",
       "      <td>Federal District Court</td>\n",
       "    </tr>\n",
       "    <tr>\n",
       "      <th>2</th>\n",
       "      <td>857 F.3d 1323</td>\n",
       "      <td>Joseph Phelps Vineyards LLC v Fairmont Holding...</td>\n",
       "      <td>Trademark Trial and Appeal Board</td>\n",
       "      <td>Federal Court</td>\n",
       "    </tr>\n",
       "    <tr>\n",
       "      <th>3</th>\n",
       "      <td>809 F.3d 1295</td>\n",
       "      <td>Commonwealth Scientific and Indus Research Org...</td>\n",
       "      <td>Eastern District of Texas</td>\n",
       "      <td>Federal District Court</td>\n",
       "    </tr>\n",
       "    <tr>\n",
       "      <th>4</th>\n",
       "      <td>709 F.3d 1124</td>\n",
       "      <td>Radio Systems Corp v Lalor</td>\n",
       "      <td>Western District of Washington</td>\n",
       "      <td>Federal District Court</td>\n",
       "    </tr>\n",
       "  </tbody>\n",
       "</table>\n",
       "</div>"
      ],
      "text/plain": [
       "       case_code                                          case_name  \\\n",
       "0  725 F.3d 1356              Apple Inc v International Trade Com'n   \n",
       "1  878 F.3d 1041           Regeneron Pharmaceuticals Inc v Merus NV   \n",
       "2  857 F.3d 1323  Joseph Phelps Vineyards LLC v Fairmont Holding...   \n",
       "3  809 F.3d 1295  Commonwealth Scientific and Indus Research Org...   \n",
       "4  709 F.3d 1124                         Radio Systems Corp v Lalor   \n",
       "\n",
       "                         court_from              court_type  \n",
       "0    International Trade Commission           Federal Court  \n",
       "1     Southern District of New York  Federal District Court  \n",
       "2  Trademark Trial and Appeal Board           Federal Court  \n",
       "3         Eastern District of Texas  Federal District Court  \n",
       "4    Western District of Washington  Federal District Court  "
      ]
     },
     "execution_count": 27,
     "metadata": {},
     "output_type": "execute_result"
    }
   ],
   "source": [
    "meta.head()"
   ]
  },
  {
   "cell_type": "code",
   "execution_count": 28,
   "metadata": {},
   "outputs": [],
   "source": [
    "full_data = meta.assign(result = decision,\n",
    "                  author = author_judge,\n",
    "                  judge_panel = judge_panel)"
   ]
  },
  {
   "cell_type": "code",
   "execution_count": 18,
   "metadata": {},
   "outputs": [],
   "source": [
    "full_data.to_csv('extraction854.csv',index=False, sep='\\t')"
   ]
  },
  {
   "cell_type": "markdown",
   "metadata": {},
   "source": [
    "### Store `author`, `result`, `opinion text`  to json"
   ]
  },
  {
   "cell_type": "code",
   "execution_count": 31,
   "metadata": {},
   "outputs": [],
   "source": [
    "json.dump({'author': author_judge,\n",
    "           'decision': decision,\n",
    "           'opinion':opinion_text},open('decision_text.json','w'))"
   ]
  },
  {
   "cell_type": "code",
   "execution_count": 32,
   "metadata": {},
   "outputs": [],
   "source": [
    "import json"
   ]
  },
  {
   "cell_type": "code",
   "execution_count": 33,
   "metadata": {},
   "outputs": [],
   "source": [
    "op_data = json.load(open('decision_text.json','r'))"
   ]
  },
  {
   "cell_type": "code",
   "execution_count": 34,
   "metadata": {},
   "outputs": [
    {
     "data": {
      "text/plain": [
       "dict_keys(['author', 'decision', 'opinion'])"
      ]
     },
     "execution_count": 34,
     "metadata": {},
     "output_type": "execute_result"
    }
   ],
   "source": [
    "op_data.keys()"
   ]
  },
  {
   "cell_type": "code",
   "execution_count": 35,
   "metadata": {},
   "outputs": [
    {
     "data": {
      "text/plain": [
       "854"
      ]
     },
     "execution_count": 35,
     "metadata": {},
     "output_type": "execute_result"
    }
   ],
   "source": [
    "len(op_data['opinion'])"
   ]
  }
 ],
 "metadata": {
  "kernelspec": {
   "display_name": "Python 3",
   "language": "python",
   "name": "python3"
  },
  "language_info": {
   "codemirror_mode": {
    "name": "ipython",
    "version": 3
   },
   "file_extension": ".py",
   "mimetype": "text/x-python",
   "name": "python",
   "nbconvert_exporter": "python",
   "pygments_lexer": "ipython3",
   "version": "3.6.8"
  }
 },
 "nbformat": 4,
 "nbformat_minor": 2
}
