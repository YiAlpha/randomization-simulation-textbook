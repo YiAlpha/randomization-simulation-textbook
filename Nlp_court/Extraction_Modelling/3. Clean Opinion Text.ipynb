{
 "cells": [
  {
   "cell_type": "markdown",
   "metadata": {},
   "source": [
    "# Opinion Text Clean\n",
    "\n",
    "**Remove references, special characters, Thomson Reuters marks in the opinion text**"
   ]
  },
  {
   "cell_type": "markdown",
   "metadata": {},
   "source": [
    "### Load data"
   ]
  },
  {
   "cell_type": "code",
   "execution_count": 1,
   "metadata": {},
   "outputs": [],
   "source": [
    "import json\n",
    "full_data = json.load(open('decision_text.json', 'r'))"
   ]
  },
  {
   "cell_type": "code",
   "execution_count": 2,
   "metadata": {},
   "outputs": [
    {
     "data": {
      "text/plain": [
       "dict_keys(['author', 'decision', 'opinion', 'cleaned_text'])"
      ]
     },
     "execution_count": 2,
     "metadata": {},
     "output_type": "execute_result"
    }
   ],
   "source": [
    "full_data.keys()"
   ]
  },
  {
   "cell_type": "code",
   "execution_count": 5,
   "metadata": {},
   "outputs": [],
   "source": [
    "op_text = full_data['opinion']"
   ]
  },
  {
   "cell_type": "code",
   "execution_count": 6,
   "metadata": {},
   "outputs": [
    {
     "data": {
      "text/plain": [
       "'Apple appeals from the final decision of the International Trade Commission (ITC) that the asserted '"
      ]
     },
     "execution_count": 6,
     "metadata": {},
     "output_type": "execute_result"
    }
   ],
   "source": [
    "op_text[0][0:100]"
   ]
  },
  {
   "cell_type": "markdown",
   "metadata": {},
   "source": [
    "### Identify references"
   ]
  },
  {
   "cell_type": "code",
   "execution_count": 7,
   "metadata": {},
   "outputs": [],
   "source": [
    "import re\n",
    "from reporters_db import EDITIONS\n",
    "for key in list(EDITIONS.keys()):\n",
    "    EDITIONS[key.replace(\" \", \"\")]=EDITIONS[key].replace(\" \", \"\")"
   ]
  },
  {
   "cell_type": "code",
   "execution_count": 8,
   "metadata": {},
   "outputs": [],
   "source": [
    "# regular expression to describe citation pattern\n",
    "\n",
    "CITATION_PTN = r\"\"\"\n",
    "(?:[\\s,:\\(]|^)\n",
    "(\n",
    "(\\d+)\\s+\n",
    "({reporters})(\\s|[a-z])+\n",
    "(\\d+)\n",
    ")\n",
    "\"\"\".format(reporters='|'.join([re.escape(i) for i in EDITIONS]))\n",
    "CITATION_PTN_RE = re.compile(CITATION_PTN, re.IGNORECASE | re.MULTILINE | re.DOTALL | re.VERBOSE)"
   ]
  },
  {
   "cell_type": "code",
   "execution_count": 9,
   "metadata": {},
   "outputs": [],
   "source": [
    "# regular expression to describe regulation pattern\n",
    "REGULATION_PTN = r\"\"\"\n",
    "(\n",
    "(\\d+)\\s*\n",
    "(U\\.?S\\.?C\\.?|C\\.?F\\.?R\\.?)\\s*\n",
    "(Sec(?:tion|\\.)?|§)?\\s*\n",
    "(\\d+[\\da-zA-Z\\-]*)\n",
    ")\"\"\"\n",
    "REGULATION_PTN_RE = re.compile(REGULATION_PTN, \n",
    "                               re.IGNORECASE | re.MULTILINE | re.DOTALL | re.VERBOSE)\n",
    "\n",
    "PUBLIC_LAW_PTN = r\"\"\"\n",
    "(\n",
    "Pub(?:lic|\\.)\\s+L(?:aw|\\.)(?:\\s+No.?)?\\s+\\d+\\-\\d+\n",
    "|\n",
    "\\d+\\s+Stat\\.\\s+[\\d-]+\n",
    ")\n",
    "\"\"\"\n",
    "PUBLIC_LAW_PTN_RE = re.compile(PUBLIC_LAW_PTN, \n",
    "                               re.IGNORECASE | re.MULTILINE | re.DOTALL | re.VERBOSE)\n",
    "PUBLIC_LAW_SUB_RE = re.compile(r'.+?(\\d+\\-\\d+)',\n",
    "                               re.MULTILINE | re.DOTALL)\n",
    "\n",
    "\n"
   ]
  },
  {
   "cell_type": "code",
   "execution_count": 10,
   "metadata": {},
   "outputs": [],
   "source": [
    "FED_CIR_RE =  re.compile(r'\\(Fed.Cir.\\d*\\)', re.MULTILINE | re.DOTALL)"
   ]
  },
  {
   "cell_type": "code",
   "execution_count": 11,
   "metadata": {},
   "outputs": [],
   "source": [
    "MARK_RE = re.compile(r'©\\s\\d+\\sThomson Reuters.', re.MULTILINE | re.DOTALL)"
   ]
  },
  {
   "cell_type": "markdown",
   "metadata": {},
   "source": [
    "### Write a function to clean text\n",
    "Remove references, special characters, Thomson Reuters marks in the opinion text"
   ]
  },
  {
   "cell_type": "code",
   "execution_count": 50,
   "metadata": {},
   "outputs": [],
   "source": [
    "replacements = [\n",
    "    (CITATION_PTN_RE, ''), # remove other case reference\n",
    "    (REGULATION_PTN_RE, ''), # remove regulation reference\n",
    "    (PUBLIC_LAW_PTN_RE, ''), # remove public law reference\n",
    "    (FED_CIR_RE, ''), # remove Fed.Cir\n",
    "    (MARK_RE, ''), # remove Thomson Reuters mark\n",
    "    (r'[^\\w]', ' '), # remove special characters\n",
    "    (r'\\d+', ' '), # remove numbers\n",
    "    (r'\\s+[A-Za-z]{1,2}\\s+', ' '), # remove words with only one or two letters\n",
    "    (r'\\s+', ' '), # remove consecutive space\n",
    "    (r'\\s+[A-Za-z]{1,2}\\s+', ' '), # remove words with only one or two letters\n",
    "    (r'\\s+col\\s+', ' '), # remove 'col' references\n",
    "    (r'\\s+[A-Za-z]{1,2}\\s+', ' ') # remove words with only one or two letters\n",
    "]\n",
    "\n",
    "def clean_citation(input_str):\n",
    "    for old, new in replacements:\n",
    "        input_str = re.sub(old, new, input_str)\n",
    "    return input_str"
   ]
  },
  {
   "cell_type": "markdown",
   "metadata": {},
   "source": [
    "#### Test the `clean_citation` function"
   ]
  },
  {
   "cell_type": "code",
   "execution_count": 61,
   "metadata": {},
   "outputs": [
    {
     "data": {
      "text/plain": [
       "\"the asserted patents. After claim construction, the partiesstipulated to noninfringement of the ′140 and ′771 patents on the grounds that AgiLight's products do not include an“IDC connector” as construed by the court. The district court entered partial summary judgment consistent with theparties' stipulation. GE Lighting Solutions, LLC. v. AgiLight, Inc., C.A. No. 12–cv–00354–JG (N.D.Ohio Jan. 8, 2013),ECF No. 38. The district court also granted AgiLight's motion for summary judgment of noninfringement of the ′896and ′ 055 patents. GE Lighting Solutions, LLC. v. AgiLight, Inc., C.A. No. 12–cv00354–JG (N.D.Ohio Mar. 18, 2013),ECF No. 43 (Summary Judgment Order ). GE appeals. We have jurisdiction under 28 U.S.C. § 1295(a)(1).DISCUSSION[1] We review claim construction de novo. Lighting Ballast Control LLC v. Philips Elecs. N. Am. Corp., 744 F.3d 1272,1276–77 (Fed.Cir.2014) (en banc). We review the grant of summary judgment under the law of the relevant regionalcircuit. The Sixth Circuit reviews grants of summary judgment de novo. Moore v. Holbrook, 2 F.3d 697, 698 (6th Cir.1993).Summary judgment is appropriate when there is no genuine issue of material fact and the moving party is entitled tojudgment as a matter of law. Id.  The  ′140  and  ′771  patents 1   are  directed  to  light-emitting  diode  (LED)  string  lights  that  include  an  LED,  an[2]insulated  electrical  conductor  (i.e.,  wire),  and  an  insulation  displacement  connector  (IDC  connector).  ′140  patent,I. ′140 and ′771 Patents © 2018 Thomson Reuters. No claim to original U.S. Government Works.5\\x0cGE Ligh\""
      ]
     },
     "execution_count": 61,
     "metadata": {},
     "output_type": "execute_result"
    }
   ],
   "source": [
    "# Origional Text\n",
    "op_text[5][500:2100]"
   ]
  },
  {
   "cell_type": "code",
   "execution_count": 60,
   "metadata": {
    "scrolled": true
   },
   "outputs": [
    {
     "data": {
      "text/plain": [
       "'the asserted patents After claim construction the partiesstipulated noninfringement the and patents the grounds that AgiLight products not include IDC connector construed the court The district court entered partial summary judgment consistent with theparties stipulation Lighting Solutions LLC AgiLight Inc Ohio Jan ECF The district court also granted AgiLight motion for summary judgment noninfringement the and patents Lighting Solutions LLC AgiLight Inc Ohio Mar ECF Summary Judgment Order appeals have jurisdiction under DISCUSSION review claim construction novo Lighting Ballast Control LLC Philips Elecs Corp banc review the grant summary judgment under the law the relevant regionalcircuit The Sixth Circuit reviews grants summary judgment novo Moore Holbrook Cir Summary judgment appropriate when there genuine issue material fact and the moving party entitled tojudgment matter law The and patents are directed light emitting diode LED string lights that include LED insulated electrical conductor wire and insulation displacement connector IDC connector patent and Patents claim original Government Works Ligh'"
      ]
     },
     "execution_count": 60,
     "metadata": {},
     "output_type": "execute_result"
    }
   ],
   "source": [
    "# Cleaned Text\n",
    "clean_citation(op_text[5][500:2100])"
   ]
  },
  {
   "cell_type": "markdown",
   "metadata": {},
   "source": [
    "## Use `clean_citation` to clean all opinion text"
   ]
  },
  {
   "cell_type": "code",
   "execution_count": 62,
   "metadata": {},
   "outputs": [],
   "source": [
    "cleaned_text = [None]*len(op_text)\n",
    "\n",
    "for i in range(len(op_text)):\n",
    "    if op_text[i] != None:\n",
    "        cleaned_text[i]= clean_citation(op_text[i])"
   ]
  },
  {
   "cell_type": "markdown",
   "metadata": {},
   "source": [
    "# Write to json file"
   ]
  },
  {
   "cell_type": "code",
   "execution_count": 66,
   "metadata": {},
   "outputs": [],
   "source": [
    "full_data.update({'cleaned_text':cleaned_text})"
   ]
  },
  {
   "cell_type": "code",
   "execution_count": 67,
   "metadata": {},
   "outputs": [
    {
     "data": {
      "text/plain": [
       "dict_keys(['author', 'decision', 'opinion', 'cleaned_text'])"
      ]
     },
     "execution_count": 67,
     "metadata": {},
     "output_type": "execute_result"
    }
   ],
   "source": [
    "full_data.keys()"
   ]
  },
  {
   "cell_type": "code",
   "execution_count": 68,
   "metadata": {},
   "outputs": [],
   "source": [
    "json.dump(full_data, open('decision_text.json', 'w'))"
   ]
  },
  {
   "cell_type": "markdown",
   "metadata": {},
   "source": [
    "# Write to csv"
   ]
  },
  {
   "cell_type": "code",
   "execution_count": 69,
   "metadata": {},
   "outputs": [],
   "source": [
    "import pandas as pd"
   ]
  },
  {
   "cell_type": "code",
   "execution_count": 72,
   "metadata": {},
   "outputs": [],
   "source": [
    "text_import = pd.DataFrame(\n",
    "    {'cleaned_text': cleaned_text\n",
    "    })\n"
   ]
  },
  {
   "cell_type": "code",
   "execution_count": 74,
   "metadata": {},
   "outputs": [
    {
     "data": {
      "text/html": [
       "<div>\n",
       "<style scoped>\n",
       "    .dataframe tbody tr th:only-of-type {\n",
       "        vertical-align: middle;\n",
       "    }\n",
       "\n",
       "    .dataframe tbody tr th {\n",
       "        vertical-align: top;\n",
       "    }\n",
       "\n",
       "    .dataframe thead th {\n",
       "        text-align: right;\n",
       "    }\n",
       "</style>\n",
       "<table border=\"1\" class=\"dataframe\">\n",
       "  <thead>\n",
       "    <tr style=\"text-align: right;\">\n",
       "      <th></th>\n",
       "      <th>cleaned_text</th>\n",
       "    </tr>\n",
       "  </thead>\n",
       "  <tbody>\n",
       "    <tr>\n",
       "      <th>0</th>\n",
       "      <td>Apple appeals from the final decision the Inte...</td>\n",
       "    </tr>\n",
       "    <tr>\n",
       "      <th>1</th>\n",
       "      <td>None</td>\n",
       "    </tr>\n",
       "    <tr>\n",
       "      <th>2</th>\n",
       "      <td>None</td>\n",
       "    </tr>\n",
       "    <tr>\n",
       "      <th>3</th>\n",
       "      <td>Following bench trial damages the district cou...</td>\n",
       "    </tr>\n",
       "    <tr>\n",
       "      <th>4</th>\n",
       "      <td>claim original Government Works Radio Systems...</td>\n",
       "    </tr>\n",
       "  </tbody>\n",
       "</table>\n",
       "</div>"
      ],
      "text/plain": [
       "                                        cleaned_text\n",
       "0  Apple appeals from the final decision the Inte...\n",
       "1                                               None\n",
       "2                                               None\n",
       "3  Following bench trial damages the district cou...\n",
       "4   claim original Government Works Radio Systems..."
      ]
     },
     "execution_count": 74,
     "metadata": {},
     "output_type": "execute_result"
    }
   ],
   "source": [
    "text_import.head()"
   ]
  },
  {
   "cell_type": "code",
   "execution_count": 75,
   "metadata": {},
   "outputs": [],
   "source": [
    "text_import.to_csv('cleaned_text.csv',sep='\\t')"
   ]
  }
 ],
 "metadata": {
  "kernelspec": {
   "display_name": "Python 3",
   "language": "python",
   "name": "python3"
  },
  "language_info": {
   "codemirror_mode": {
    "name": "ipython",
    "version": 3
   },
   "file_extension": ".py",
   "mimetype": "text/x-python",
   "name": "python",
   "nbconvert_exporter": "python",
   "pygments_lexer": "ipython3",
   "version": "3.6.8"
  }
 },
 "nbformat": 4,
 "nbformat_minor": 2
}
