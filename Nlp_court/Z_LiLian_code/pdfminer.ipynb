{
 "cells": [
  {
   "cell_type": "code",
   "execution_count": 1,
   "metadata": {},
   "outputs": [],
   "source": [
    "from pdfminer.pdfinterp import PDFResourceManager, PDFPageInterpreter\n",
    "from pdfminer.converter import TextConverter\n",
    "from pdfminer.layout import LAParams\n",
    "from pdfminer.pdfpage import PDFPage\n",
    "from io import BytesIO\n",
    "import glob\n",
    "import json\n",
    "import re"
   ]
  },
  {
   "cell_type": "code",
   "execution_count": 2,
   "metadata": {},
   "outputs": [],
   "source": [
    "# reading in a single pdf file and parsing the text from the file\n",
    "\n",
    "def pdf_to_text(pdf_path): \n",
    "    \n",
    "    # PDFminer standard steps\n",
    "    resource_mgr = PDFResourceManager()\n",
    "    retstr = BytesIO()\n",
    "    codec = 'utf-8'\n",
    "    laparams = LAParams()\n",
    "    device = TextConverter(resource_mgr, retstr, codec=codec, laparams=laparams)\n",
    "    interpreter = PDFPageInterpreter(resource_mgr, device)\n",
    "\n",
    "    # extract text from multi-page pdf\n",
    "    fp = open(pdf_path, 'rb')\n",
    "    maxpages = 0\n",
    "    caching = True\n",
    "    pagenos = set()\n",
    "    for page in PDFPage.get_pages(fp, pagenos, maxpages=maxpages, caching=caching, check_extractable=True):\n",
    "        interpreter.process_page(page)\n",
    "\n",
    "    result_str = retstr.getvalue()\n",
    "    \n",
    "    # clean up\n",
    "    fp.close()\n",
    "    device.close()\n",
    "    retstr.close()\n",
    "    \n",
    "    return result_str"
   ]
  },
  {
   "cell_type": "code",
   "execution_count": 14,
   "metadata": {},
   "outputs": [],
   "source": [
    "# a list of all file paths\n",
    "fp_list = glob.glob('/Users/liyannie/Dropbox/Westlaw_cases/*.pdf')\n",
    "case_dict = {}\n",
    "OUTPUT_FILE = 'amy_cases.json'\n",
    "\n",
    "for fp in fp_list:\n",
    "    key = fp.replace('/Users/liyannie/Dropbox/westlaw_revised/', '')\n",
    "    key = key.replace('.pdf', '')\n",
    "    key = re.sub(\"\\d\", '', key)\n",
    "    key = key.replace('-', '')\n",
    "    key = key.lstrip()\n",
    "    value = pdf_to_text(fp)\n",
    "    case_dict.update({key:value})\n"
   ]
  },
  {
   "cell_type": "code",
   "execution_count": 15,
   "metadata": {},
   "outputs": [
    {
     "data": {
      "text/plain": [
       "854"
      ]
     },
     "execution_count": 15,
     "metadata": {},
     "output_type": "execute_result"
    }
   ],
   "source": [
    "len(case_dict.keys())"
   ]
  },
  {
   "cell_type": "code",
   "execution_count": 16,
   "metadata": {},
   "outputs": [],
   "source": [
    "json.dump(case_dict, open(OUTPUT_FILE, 'w'))"
   ]
  },
  {
   "cell_type": "code",
   "execution_count": null,
   "metadata": {},
   "outputs": [],
   "source": []
  }
 ],
 "metadata": {
  "kernelspec": {
   "display_name": "Python 3",
   "language": "python",
   "name": "python3"
  },
  "language_info": {
   "codemirror_mode": {
    "name": "ipython",
    "version": 3
   },
   "file_extension": ".py",
   "mimetype": "text/x-python",
   "name": "python",
   "nbconvert_exporter": "python",
   "pygments_lexer": "ipython3",
   "version": "3.7.0"
  }
 },
 "nbformat": 4,
 "nbformat_minor": 2
}
