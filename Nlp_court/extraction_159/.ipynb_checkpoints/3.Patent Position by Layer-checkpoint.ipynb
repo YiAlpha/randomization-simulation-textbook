{
 "cells": [
  {
   "cell_type": "markdown",
   "metadata": {},
   "source": [
    "# Identify the Position of References by Layer analysis"
   ]
  },
  {
   "cell_type": "markdown",
   "metadata": {},
   "source": [
    "*Yi Yin*"
   ]
  },
  {
   "cell_type": "markdown",
   "metadata": {},
   "source": [
    "## Table of Contents\n",
    "\n",
    "1. Extract References\n",
    "2. Position of the References\n",
    "\n"
   ]
  },
  {
   "cell_type": "markdown",
   "metadata": {},
   "source": [
    "#### Environment Information\n",
    "\n",
    "- show the python version and system for this computer\n",
    "- help others who use this code to produce replicable result"
   ]
  },
  {
   "cell_type": "code",
   "execution_count": 2,
   "metadata": {},
   "outputs": [
    {
     "name": "stdout",
     "output_type": "stream",
     "text": [
      "{'commit_hash': '523ed2fe5',\n",
      " 'commit_source': 'installation',\n",
      " 'default_encoding': 'UTF-8',\n",
      " 'ipython_path': '/anaconda/envs/nlp/lib/python3.6/site-packages/IPython',\n",
      " 'ipython_version': '7.2.0',\n",
      " 'os_name': 'posix',\n",
      " 'platform': 'Darwin-18.5.0-x86_64-i386-64bit',\n",
      " 'sys_executable': '/anaconda/envs/nlp/bin/python',\n",
      " 'sys_platform': 'darwin',\n",
      " 'sys_version': '3.6.8 |Anaconda, Inc.| (default, Dec 29 2018, 19:04:46) \\n'\n",
      "                '[GCC 4.2.1 Compatible Clang 4.0.1 (tags/RELEASE_401/final)]'}\n"
     ]
    }
   ],
   "source": [
    "import IPython\n",
    "\n",
    "# Information of my Python version, computer system\n",
    "print(IPython.sys_info())"
   ]
  },
  {
   "cell_type": "markdown",
   "metadata": {},
   "source": [
    "#### Read PDF files"
   ]
  },
  {
   "cell_type": "code",
   "execution_count": 3,
   "metadata": {},
   "outputs": [],
   "source": [
    "# import pdfminer and to read PDF files\n",
    "from pdfminer.pdfinterp import PDFResourceManager, PDFPageInterpreter\n",
    "from pdfminer.converter import TextConverter\n",
    "from pdfminer.layout import LAParams\n",
    "from pdfminer.pdfpage import PDFPage\n",
    "\n",
    "# import io (input and output); BytesIO encode string to byte object\n",
    "from io import BytesIO\n",
    "\n",
    "# extract all file name in a folder, for the convenience of reading PDF files\n",
    "import glob\n",
    "\n",
    "# latter use to store cleaned string into json file\n",
    "import simplejson as json\n",
    "\n",
    "# re (regular expression) to find string with certain patterns\n",
    "import re"
   ]
  },
  {
   "cell_type": "markdown",
   "metadata": {},
   "source": [
    "#### A function to read PDF file:\n",
    " \n",
    "    pdf_file: the filename of PDF (including the path (i.e location) )\n",
    "    return: contentt of the PDF (string in Byte object,\n",
    "    remember we use BytesIO to encode our string result)\n"
   ]
  },
  {
   "cell_type": "code",
   "execution_count": 4,
   "metadata": {},
   "outputs": [],
   "source": [
    "def read_pdf(pdf_file):\n",
    "\n",
    "    resource_mgr = PDFResourceManager()\n",
    "    retstr = BytesIO()\n",
    "    codec = 'utf-8'\n",
    "    laparams = LAParams()\n",
    "    device = TextConverter(resource_mgr, retstr, codec=codec, laparams=laparams)\n",
    "    interpreter = PDFPageInterpreter(resource_mgr, device)\n",
    "    fp = open(pdf_file, 'rb')\n",
    "    maxpages = 0\n",
    "    caching = True\n",
    "    pagenos = set()\n",
    "    \n",
    "    for page in PDFPage.get_pages(fp, pagenos, \n",
    "                                  maxpages=maxpages, \n",
    "                                  caching=caching, \n",
    "                                  check_extractable=True):\n",
    "        interpreter.process_page(page)\n",
    "\n",
    "    result_str = retstr.getvalue()\n",
    "    \n",
    "    fp.close()\n",
    "    device.close()\n",
    "    retstr.close()\n",
    "    \n",
    "    return result_str"
   ]
  },
  {
   "cell_type": "code",
   "execution_count": 5,
   "metadata": {},
   "outputs": [],
   "source": [
    "case_list = glob.glob('./case_test/*.pdf')\n",
    "# a list to store the name of the pdf\n",
    "pdf_name = []\n",
    "# a list to store the content of the pdf\n",
    "pdf_content = []\n",
    "\n",
    "# a loop to read all the pdf and store their name and content to the respective list\n",
    "for case in case_list:\n",
    "    pdf_name.append(case.replace('./case_test/', '').replace('.pdf', ''))\n",
    "    pdf_content.append(read_pdf(case))"
   ]
  },
  {
   "cell_type": "code",
   "execution_count": 6,
   "metadata": {
    "scrolled": true
   },
   "outputs": [
    {
     "data": {
      "text/plain": [
       "b'Intellectual Ventures I LLC v. Motorola Mobility LLC, 870 F.3d 1320 (2017)\\n124 U.S.P.Q.2d 1129\\n\\n870 F.3d 1320\\n\\nUnited States Court of Appeals,\\n\\nFederal Circuit.\\n\\nINTELLECTUAL VENTURES I LLC, Intellectual Ventures II LLC, Plaintiffs\\xe2\\x80\\x93Appellees\\n\\nMOTOROLA MOBILITY LLC, fka Motorola Mobility, INC., Def'"
      ]
     },
     "execution_count": 6,
     "metadata": {},
     "output_type": "execute_result"
    }
   ],
   "source": [
    "pdf_content[0][:300]"
   ]
  },
  {
   "cell_type": "markdown",
   "metadata": {},
   "source": [
    "Decode the PDF contents"
   ]
  },
  {
   "cell_type": "code",
   "execution_count": 7,
   "metadata": {},
   "outputs": [],
   "source": [
    "court_text = []\n",
    "for content in pdf_content:\n",
    "    # decode every pdf file content, sepecify the decode style \"utf-8\"\n",
    "    # p.s. \"utf-8\" is the most commom encoding sytle today\n",
    "    decoded_content = content.decode(\"utf-8\") \n",
    "    court_text.append(decoded_content) "
   ]
  },
  {
   "cell_type": "code",
   "execution_count": 8,
   "metadata": {},
   "outputs": [
    {
     "data": {
      "text/plain": [
       "str"
      ]
     },
     "execution_count": 8,
     "metadata": {},
     "output_type": "execute_result"
    }
   ],
   "source": [
    "type(court_text[0])"
   ]
  },
  {
   "cell_type": "code",
   "execution_count": 16,
   "metadata": {
    "scrolled": true
   },
   "outputs": [
    {
     "data": {
      "text/plain": [
       "['001 - Intellectual Ventures I LLC v Motorola Mobility LLC',\n",
       " '051 - Ohio Willow Wood Co v Alps South LLC',\n",
       " '001 - In re Jobdiva Inc',\n",
       " '058 - Ericsson Inc v D-Link Systems Inc',\n",
       " '035 - Info-Hold Inc v Applied Media Technologies Corp',\n",
       " \"042 - Align Technology Inc v International Trade Com'n\",\n",
       " '03 - Ashley Furniture Industries Inc v US',\n",
       " '010 - KS Himpp v Hear-Wear Technologies LLC',\n",
       " '028 - Shenyang Yuanda Aluminum Industry Engineering Co Ltd v US']"
      ]
     },
     "execution_count": 16,
     "metadata": {},
     "output_type": "execute_result"
    }
   ],
   "source": [
    "pdf_name"
   ]
  },
  {
   "cell_type": "markdown",
   "metadata": {},
   "source": [
    "## 1. Extract Reference"
   ]
  },
  {
   "cell_type": "markdown",
   "metadata": {},
   "source": [
    "### 1.1. Extract US patent"
   ]
  },
  {
   "cell_type": "markdown",
   "metadata": {},
   "source": [
    "function to extract US patent"
   ]
  },
  {
   "cell_type": "code",
   "execution_count": 9,
   "metadata": {},
   "outputs": [],
   "source": [
    "import regex as re\n",
    "from typing import Generator"
   ]
  },
  {
   "cell_type": "code",
   "execution_count": 11,
   "metadata": {},
   "outputs": [],
   "source": [
    "US_PATENT = r\"\"\"\n",
    "(?P<block1>[0-9]{1})[\\,]?(?P<block2>[0-9]{3})[\\,]?(?P<block3>[0-9]{3})\n",
    "\"\"\"\n",
    "RE_PATENT = re.compile(US_PATENT, re.IGNORECASE | re.UNICODE | re.DOTALL | re.VERBOSE)"
   ]
  },
  {
   "cell_type": "code",
   "execution_count": 17,
   "metadata": {},
   "outputs": [],
   "source": [
    "def get_patent(text, return_sources=False) -> Generator:\n",
    "    \"\"\"\n",
    "    Find possible US patent references in the text.\n",
    "    :param text:\n",
    "    :param return_sources:\n",
    "    :return:\n",
    "    \"\"\"\n",
    "\n",
    "    # Iterate through all potential matches\n",
    "    for match in RE_PATENT.finditer(text):\n",
    "        # Get individual group matches\n",
    "        captures = match.capturesdict()\n",
    "        patent = \"{block1},{block2},{block3}\".format(block1=captures[\"block1\"].pop(),\n",
    "                                                  block2=captures[\"block2\"].pop(),\n",
    "                                                  block3=captures[\"block3\"].pop(),\n",
    "                                                  )\n",
    "\n",
    "        if return_sources:\n",
    "            yield patent, match.group()\n",
    "        else:\n",
    "            yield patent\n"
   ]
  },
  {
   "cell_type": "code",
   "execution_count": 30,
   "metadata": {},
   "outputs": [],
   "source": [
    "patent_list = []\n",
    "for text in court_text:\n",
    "    # extract patent number in a pdf file, store in a list\n",
    "    text_patent =list(get_patent(text))\n",
    "    # remove duplicated patent in the list\n",
    "    patent_list.append(list(dict.fromkeys(text_patent)))   "
   ]
  },
  {
   "cell_type": "markdown",
   "metadata": {},
   "source": [
    "### 1.2. Extract Citations"
   ]
  },
  {
   "cell_type": "code",
   "execution_count": 276,
   "metadata": {},
   "outputs": [],
   "source": [
    "from reporters_db import EDITIONS"
   ]
  },
  {
   "cell_type": "code",
   "execution_count": 277,
   "metadata": {},
   "outputs": [],
   "source": [
    "for key in list(EDITIONS.keys()):\n",
    "    EDITIONS[key.replace(\" \", \"\")]=EDITIONS[key].replace(\" \", \"\")"
   ]
  },
  {
   "cell_type": "code",
   "execution_count": 279,
   "metadata": {},
   "outputs": [],
   "source": [
    "import pandas as pd"
   ]
  },
  {
   "cell_type": "code",
   "execution_count": 280,
   "metadata": {},
   "outputs": [],
   "source": [
    "CITATION_PTN = r\"\"\"\n",
    "(?:[\\s,:\\(]|^)\n",
    "(\n",
    "(\\d+)\\s+\n",
    "({reporters})(\\s|[a-z])+\n",
    "(\\d+)\n",
    ")\n",
    "\"\"\".format(reporters='|'.join([re.escape(i) for i in EDITIONS]))\n",
    "CITATION_PTN_RE = re.compile(CITATION_PTN, re.IGNORECASE | re.MULTILINE | re.DOTALL | re.VERBOSE)"
   ]
  },
  {
   "cell_type": "code",
   "execution_count": 281,
   "metadata": {},
   "outputs": [],
   "source": [
    "result = CITATION_PTN_RE.findall(court_text[1])"
   ]
  },
  {
   "cell_type": "code",
   "execution_count": 284,
   "metadata": {},
   "outputs": [],
   "source": [
    "def extract_citations(text):\n",
    "    result = CITATION_PTN_RE.findall(text)\n",
    "    cite_all = []\n",
    "    for cite in result:\n",
    "        the_cite = cite[0].replace(\"at \", \"\").replace(\"  \",\" \").replace(\"  \",\" \").replace(\"\\n\", \" \")\n",
    "        if len(the_cite)<=30:\n",
    "            cite_all.append(the_cite)\n",
    "    return cite_all\n",
    "    "
   ]
  },
  {
   "cell_type": "code",
   "execution_count": 285,
   "metadata": {},
   "outputs": [],
   "source": [
    "cite_list = []\n",
    "for text in court_text:\n",
    "    text_citation = extract_citations(text)\n",
    "    \n",
    "    # cite_in_pdf is a list contains all the citations in a pdf file\n",
    "    cite_in_pdf = []\n",
    "    cite_in_pdf = list(dict.fromkeys(text_citation))\n",
    "        \n",
    "    # cite_list is a list contatins lists of citations for pdf files in the folder\n",
    "    cite_list.append(cite_in_pdf)\n",
    "        "
   ]
  },
  {
   "cell_type": "markdown",
   "metadata": {},
   "source": [
    "### 1.3. Extract Regulations"
   ]
  },
  {
   "cell_type": "code",
   "execution_count": 288,
   "metadata": {},
   "outputs": [],
   "source": [
    "import lexnlp.extract.en.regulations"
   ]
  },
  {
   "cell_type": "code",
   "execution_count": 289,
   "metadata": {},
   "outputs": [],
   "source": [
    "reg_list = []\n",
    "for text in court_text:\n",
    "    text_regulation =list(lexnlp.extract.en.regulations.get_regulations(text, \n",
    "                                                              return_source=False,\n",
    "                                                             as_dict=True))\n",
    "    \n",
    "    # reg_in_pdf is a list contains all the regulations in a pdf file\n",
    "    reg_in_pdf = []\n",
    "    for reg in text_regulation:\n",
    "        \n",
    "        # sotre every regulation in the pdf file to this container\n",
    "        reg_in_pdf.append(reg['regulation_code'])\n",
    "        \n",
    "        # remove duplicated regulations in a file\n",
    "        reg_in_pdf = list(dict.fromkeys(reg_in_pdf)) \n",
    "    \n",
    "    # reg_list is a list contatins lists of regulations for pdf files in the folder\n",
    "    reg_list.append(reg_in_pdf)"
   ]
  },
  {
   "cell_type": "code",
   "execution_count": 291,
   "metadata": {},
   "outputs": [],
   "source": [
    "reference_extract = pd.DataFrame(\n",
    "    {'file_name': pdf_name,\n",
    "     'citations': cite_list,\n",
    "     'regulations': reg_list,\n",
    "     'patents': patent_list,\n",
    "    })"
   ]
  },
  {
   "cell_type": "code",
   "execution_count": 292,
   "metadata": {},
   "outputs": [
    {
     "data": {
      "text/html": [
       "<div>\n",
       "<style scoped>\n",
       "    .dataframe tbody tr th:only-of-type {\n",
       "        vertical-align: middle;\n",
       "    }\n",
       "\n",
       "    .dataframe tbody tr th {\n",
       "        vertical-align: top;\n",
       "    }\n",
       "\n",
       "    .dataframe thead th {\n",
       "        text-align: right;\n",
       "    }\n",
       "</style>\n",
       "<table border=\"1\" class=\"dataframe\">\n",
       "  <thead>\n",
       "    <tr style=\"text-align: right;\">\n",
       "      <th></th>\n",
       "      <th>file_name</th>\n",
       "      <th>citations</th>\n",
       "      <th>regulations</th>\n",
       "      <th>patents</th>\n",
       "    </tr>\n",
       "  </thead>\n",
       "  <tbody>\n",
       "    <tr>\n",
       "      <th>0</th>\n",
       "      <td>001 - Intellectual Ventures I LLC v Motorola M...</td>\n",
       "      <td>[870 F.3d 1320, 176 F.Supp.3d 405, 72 F.Supp.3...</td>\n",
       "      <td>[28 USC § 1292, 35 USC § 112, 35 USC § 271, 35...</td>\n",
       "      <td>[5,379,340, 5,436,857, 5,553,145, 5,798,733, 7...</td>\n",
       "    </tr>\n",
       "    <tr>\n",
       "      <th>1</th>\n",
       "      <td>051 - Ohio Willow Wood Co v Alps South LLC</td>\n",
       "      <td>[813 F.3d 1350, 2012 WL 2196083, 2012 WL 32834...</td>\n",
       "      <td>[37 CFR § 1]</td>\n",
       "      <td>[2,196,083, 3,283,437, 3,309,635, 4,775,374, 5...</td>\n",
       "    </tr>\n",
       "    <tr>\n",
       "      <th>2</th>\n",
       "      <td>001 - In re Jobdiva Inc</td>\n",
       "      <td>[843 F.3d 936, 2015 WL 2170162, 2015 WL 354284...</td>\n",
       "      <td>[37 CFR § 2, 15 USC § 1125, 28 USC § 1295, 15 ...</td>\n",
       "      <td>[2,170,162, 3,542,849, 9,205,082, 2,851,917, 3...</td>\n",
       "    </tr>\n",
       "    <tr>\n",
       "      <th>3</th>\n",
       "      <td>058 - Ericsson Inc v D-Link Systems Inc</td>\n",
       "      <td>[773 F.3d 1201, 2013 WL 4046225, 1 packet out ...</td>\n",
       "      <td>[28 USC § 1295, 35 USC § 271, 35 USC § 284, 35...</td>\n",
       "      <td>[4,046,225, 6,424,625, 6,466,568, 6,772,215, 2...</td>\n",
       "    </tr>\n",
       "    <tr>\n",
       "      <th>4</th>\n",
       "      <td>035 - Info-Hold Inc v Applied Media Technologi...</td>\n",
       "      <td>[783 F.3d 1262, 2013 WL 1787007, 2012 WL 39303...</td>\n",
       "      <td>[28 USC § 1295]</td>\n",
       "      <td>[1,787,007, 5,991,374, 6,741,683, 3,930,376, 1...</td>\n",
       "    </tr>\n",
       "  </tbody>\n",
       "</table>\n",
       "</div>"
      ],
      "text/plain": [
       "                                           file_name  \\\n",
       "0  001 - Intellectual Ventures I LLC v Motorola M...   \n",
       "1         051 - Ohio Willow Wood Co v Alps South LLC   \n",
       "2                            001 - In re Jobdiva Inc   \n",
       "3            058 - Ericsson Inc v D-Link Systems Inc   \n",
       "4  035 - Info-Hold Inc v Applied Media Technologi...   \n",
       "\n",
       "                                           citations  \\\n",
       "0  [870 F.3d 1320, 176 F.Supp.3d 405, 72 F.Supp.3...   \n",
       "1  [813 F.3d 1350, 2012 WL 2196083, 2012 WL 32834...   \n",
       "2  [843 F.3d 936, 2015 WL 2170162, 2015 WL 354284...   \n",
       "3  [773 F.3d 1201, 2013 WL 4046225, 1 packet out ...   \n",
       "4  [783 F.3d 1262, 2013 WL 1787007, 2012 WL 39303...   \n",
       "\n",
       "                                         regulations  \\\n",
       "0  [28 USC § 1292, 35 USC § 112, 35 USC § 271, 35...   \n",
       "1                                       [37 CFR § 1]   \n",
       "2  [37 CFR § 2, 15 USC § 1125, 28 USC § 1295, 15 ...   \n",
       "3  [28 USC § 1295, 35 USC § 271, 35 USC § 284, 35...   \n",
       "4                                    [28 USC § 1295]   \n",
       "\n",
       "                                             patents  \n",
       "0  [5,379,340, 5,436,857, 5,553,145, 5,798,733, 7...  \n",
       "1  [2,196,083, 3,283,437, 3,309,635, 4,775,374, 5...  \n",
       "2  [2,170,162, 3,542,849, 9,205,082, 2,851,917, 3...  \n",
       "3  [4,046,225, 6,424,625, 6,466,568, 6,772,215, 2...  \n",
       "4  [1,787,007, 5,991,374, 6,741,683, 3,930,376, 1...  "
      ]
     },
     "execution_count": 292,
     "metadata": {},
     "output_type": "execute_result"
    }
   ],
   "source": [
    "reference_extract.head()"
   ]
  },
  {
   "cell_type": "code",
   "execution_count": 293,
   "metadata": {},
   "outputs": [],
   "source": [
    "reference_extract.to_csv(\"Apr11_extract.csv\", sep='\\t', encoding='utf-8')"
   ]
  },
  {
   "cell_type": "markdown",
   "metadata": {},
   "source": [
    "## 2. Position of the References"
   ]
  },
  {
   "cell_type": "code",
   "execution_count": 294,
   "metadata": {},
   "outputs": [],
   "source": [
    "from pdfminer.layout import LAParams\n",
    "from pdfminer.converter import PDFPageAggregator\n",
    "from pdfminer.pdfpage import PDFPage\n",
    "from pdfminer.layout import LTTextBoxHorizontal\n",
    "from pdfminer.pdfinterp import PDFResourceManager, PDFPageInterpreter"
   ]
  },
  {
   "cell_type": "code",
   "execution_count": 296,
   "metadata": {},
   "outputs": [],
   "source": [
    "document = open(case_list[0], 'rb')\n",
    "#Create resource manager\n",
    "rsrcmgr = PDFResourceManager()\n",
    "# Set parameters for analysis.\n",
    "laparams = LAParams()\n",
    "# Create a PDF page aggregator object.\n",
    "device = PDFPageAggregator(rsrcmgr, laparams=laparams)\n",
    "interpreter = PDFPageInterpreter(rsrcmgr, device)"
   ]
  },
  {
   "cell_type": "code",
   "execution_count": 297,
   "metadata": {},
   "outputs": [],
   "source": [
    "layout_text = []\n",
    "for page in PDFPage.get_pages(document):\n",
    "    interpreter.process_page(page)\n",
    "    # receive the LTPage object for the page.\n",
    "    layout = device.get_result()\n",
    "    for element in layout:\n",
    "        if isinstance(element, LTTextBoxHorizontal):\n",
    "            layout_text.append(element.get_text())"
   ]
  },
  {
   "cell_type": "code",
   "execution_count": 298,
   "metadata": {},
   "outputs": [
    {
     "data": {
      "text/plain": [
       "266"
      ]
     },
     "execution_count": 298,
     "metadata": {},
     "output_type": "execute_result"
    }
   ],
   "source": [
    "len(layout_text)"
   ]
  },
  {
   "cell_type": "code",
   "execution_count": 311,
   "metadata": {},
   "outputs": [
    {
     "name": "stdout",
     "output_type": "stream",
     "text": [
      "17\n",
      "\n"
     ]
    }
   ],
   "source": [
    "print(layout_text[265])"
   ]
  },
  {
   "cell_type": "code",
   "execution_count": 334,
   "metadata": {},
   "outputs": [],
   "source": [
    "patent_position = {}\n",
    "for layer in range(len(layout_text)):\n",
    "    # extract patent number in a pdf file, store in a list\n",
    "    text_patent =list(get_patent(layout_text[layer]))\n",
    "    # remove duplicated patent in the list\n",
    "    patent_position.update({layer/len(layout_text): text_patent}) "
   ]
  },
  {
   "cell_type": "code",
   "execution_count": 335,
   "metadata": {},
   "outputs": [],
   "source": [
    "patent_position = {i:j for i,j in patent_position.items() if j != []}"
   ]
  },
  {
   "cell_type": "code",
   "execution_count": 336,
   "metadata": {},
   "outputs": [
    {
     "data": {
      "text/plain": [
       "{0.22556390977443608: ['5,379,340',\n",
       "  '5,436,857',\n",
       "  '5,553,145',\n",
       "  '5,798,733',\n",
       "  '7,549,007'],\n",
       " 0.23684210526315788: ['7,810,144'],\n",
       " 0.2518796992481203: ['7,120,462'],\n",
       " 0.30451127819548873: ['7,810,144', '7,120,462'],\n",
       " 0.5413533834586466: ['5,379,340', '5,553,145'],\n",
       " 0.706766917293233: ['5,436,857', '7,549,007'],\n",
       " 0.9661654135338346: ['5,798,733']}"
      ]
     },
     "execution_count": 336,
     "metadata": {},
     "output_type": "execute_result"
    }
   ],
   "source": [
    "patent_position"
   ]
  },
  {
   "cell_type": "code",
   "execution_count": 341,
   "metadata": {},
   "outputs": [],
   "source": [
    "def get_patent_position(file):\n",
    "    document = open(file, 'rb')\n",
    "    #Create resource manager\n",
    "    rsrcmgr = PDFResourceManager()\n",
    "    # Set parameters for analysis.\n",
    "    laparams = LAParams()\n",
    "    # Create a PDF page aggregator object.\n",
    "    device = PDFPageAggregator(rsrcmgr, laparams=laparams)\n",
    "    interpreter = PDFPageInterpreter(rsrcmgr, device)\n",
    "\n",
    "    \n",
    "    layout_text = []\n",
    "    for page in PDFPage.get_pages(document):\n",
    "        interpreter.process_page(page)\n",
    "        # receive the LTPage object for the page.\n",
    "        layout = device.get_result()\n",
    "        for element in layout:\n",
    "            if isinstance(element, LTTextBoxHorizontal):\n",
    "                layout_text.append(element.get_text()) \n",
    "    \n",
    "    patent_position = {}\n",
    "    for layer in range(len(layout_text)):\n",
    "        # extract patent number in a pdf file, store in a list\n",
    "        text_patent =list(get_patent(layout_text[layer]))\n",
    "        # remove duplicated patent in the list\n",
    "        patent_position.update({layer/len(layout_text): text_patent}) \n",
    "    \n",
    "    patent_position = {i:j for i,j in patent_position.items() if j != []}\n",
    "    \n",
    "    return patent_position\n",
    "            \n",
    "\n",
    "        "
   ]
  },
  {
   "cell_type": "code",
   "execution_count": 342,
   "metadata": {},
   "outputs": [],
   "source": [
    "patent_position_list = []\n",
    "for file in case_list:\n",
    "    patent_and_position = get_patent_position(file)\n",
    "    patent_position_list.append(patent_and_position)"
   ]
  },
  {
   "cell_type": "code",
   "execution_count": 343,
   "metadata": {},
   "outputs": [
    {
     "data": {
      "text/plain": [
       "9"
      ]
     },
     "execution_count": 343,
     "metadata": {},
     "output_type": "execute_result"
    }
   ],
   "source": [
    "len(patent_position_list)"
   ]
  },
  {
   "cell_type": "code",
   "execution_count": 344,
   "metadata": {},
   "outputs": [
    {
     "data": {
      "text/plain": [
       "{0.22556390977443608: ['5,379,340',\n",
       "  '5,436,857',\n",
       "  '5,553,145',\n",
       "  '5,798,733',\n",
       "  '7,549,007'],\n",
       " 0.23684210526315788: ['7,810,144'],\n",
       " 0.2518796992481203: ['7,120,462'],\n",
       " 0.30451127819548873: ['7,810,144', '7,120,462'],\n",
       " 0.5413533834586466: ['5,379,340', '5,553,145'],\n",
       " 0.706766917293233: ['5,436,857', '7,549,007'],\n",
       " 0.9661654135338346: ['5,798,733']}"
      ]
     },
     "execution_count": 344,
     "metadata": {},
     "output_type": "execute_result"
    }
   ],
   "source": [
    "patent_position_list[0]"
   ]
  },
  {
   "cell_type": "code",
   "execution_count": 346,
   "metadata": {},
   "outputs": [
    {
     "data": {
      "text/plain": [
       "'001 - Intellectual Ventures I LLC v Motorola Mobility LLC'"
      ]
     },
     "execution_count": 346,
     "metadata": {},
     "output_type": "execute_result"
    }
   ],
   "source": [
    "pdf_name[0]"
   ]
  },
  {
   "cell_type": "code",
   "execution_count": 347,
   "metadata": {},
   "outputs": [
    {
     "data": {
      "text/plain": [
       "{0.06878306878306878: ['2,196,083', '3,283,437', '3,309,635', '4,775,374'],\n",
       " 0.3439153439153439: ['5,830,237'],\n",
       " 0.38095238095238093: ['6,964,688', '7,291,182', '8,523,951'],\n",
       " 0.455026455026455: ['5,830,237'],\n",
       " 0.6666666666666666: ['6,964,688', '7,291,182', '8,523,951'],\n",
       " 0.8941798941798942: ['6,964,688', '7,291,182']}"
      ]
     },
     "execution_count": 347,
     "metadata": {},
     "output_type": "execute_result"
    }
   ],
   "source": [
    "patent_position_list[1]"
   ]
  },
  {
   "cell_type": "code",
   "execution_count": 348,
   "metadata": {},
   "outputs": [
    {
     "data": {
      "text/plain": [
       "'./case_test/001 - Intellectual Ventures I LLC v Motorola Mobility LLC.pdf'"
      ]
     },
     "execution_count": 348,
     "metadata": {},
     "output_type": "execute_result"
    }
   ],
   "source": [
    "case_list[0]"
   ]
  }
 ],
 "metadata": {
  "kernelspec": {
   "display_name": "Python 3",
   "language": "python",
   "name": "python3"
  },
  "language_info": {
   "codemirror_mode": {
    "name": "ipython",
    "version": 3
   },
   "file_extension": ".py",
   "mimetype": "text/x-python",
   "name": "python",
   "nbconvert_exporter": "python",
   "pygments_lexer": "ipython3",
   "version": "3.6.8"
  }
 },
 "nbformat": 4,
 "nbformat_minor": 2
}
