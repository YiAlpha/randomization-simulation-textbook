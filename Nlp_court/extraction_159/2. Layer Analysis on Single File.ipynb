{
 "cells": [
  {
   "cell_type": "markdown",
   "metadata": {},
   "source": [
    "# Layer Analysis on Single File"
   ]
  },
  {
   "cell_type": "code",
   "execution_count": 1,
   "metadata": {
    "collapsed": true
   },
   "outputs": [],
   "source": [
    "# import io (input and output); BytesIO encode string to byte object\n",
    "from io import BytesIO\n",
    "# extract all file name in a folder, for the convenience of reading PDF files\n",
    "import glob\n",
    "# re (regular expression) to find string with certain patterns\n",
    "import re"
   ]
  },
  {
   "cell_type": "code",
   "execution_count": 2,
   "metadata": {
    "collapsed": true
   },
   "outputs": [],
   "source": [
    "case_list = glob.glob('./case_test/*.pdf')"
   ]
  },
  {
   "cell_type": "code",
   "execution_count": 3,
   "metadata": {},
   "outputs": [
    {
     "data": {
      "text/plain": [
       "['./case_test/001 - Intellectual Ventures I LLC v Motorola Mobility LLC.pdf',\n",
       " './case_test/051 - Ohio Willow Wood Co v Alps South LLC.pdf',\n",
       " './case_test/001 - In re Jobdiva Inc.pdf',\n",
       " './case_test/058 - Ericsson Inc v D-Link Systems Inc.pdf',\n",
       " './case_test/035 - Info-Hold Inc v Applied Media Technologies Corp.pdf',\n",
       " \"./case_test/042 - Align Technology Inc v International Trade Com'n.pdf\",\n",
       " './case_test/03 - Ashley Furniture Industries Inc v US.pdf',\n",
       " './case_test/010 - KS Himpp v Hear-Wear Technologies LLC.pdf',\n",
       " './case_test/028 - Shenyang Yuanda Aluminum Industry Engineering Co Ltd v US.pdf']"
      ]
     },
     "execution_count": 3,
     "metadata": {},
     "output_type": "execute_result"
    }
   ],
   "source": [
    "case_list"
   ]
  },
  {
   "cell_type": "code",
   "execution_count": 6,
   "metadata": {
    "collapsed": true
   },
   "outputs": [],
   "source": [
    "from pdfminer.layout import LAParams\n",
    "from pdfminer.converter import PDFPageAggregator\n",
    "from pdfminer.pdfpage import PDFPage\n",
    "from pdfminer.layout import LTTextBoxHorizontal\n",
    "from pdfminer.pdfinterp import PDFResourceManager, PDFPageInterpreter"
   ]
  },
  {
   "cell_type": "markdown",
   "metadata": {},
   "source": [
    "#### Device Configure for PDF reader"
   ]
  },
  {
   "cell_type": "code",
   "execution_count": 17,
   "metadata": {
    "collapsed": true
   },
   "outputs": [],
   "source": [
    "#Create resource manager\n",
    "rsrcmgr = PDFResourceManager()\n",
    "# Set parameters for analysis.\n",
    "laparams = LAParams()\n",
    "# Create a PDF page aggregator object.\n",
    "device = PDFPageAggregator(rsrcmgr, laparams=laparams)\n",
    "interpreter = PDFPageInterpreter(rsrcmgr, device)"
   ]
  },
  {
   "cell_type": "code",
   "execution_count": 18,
   "metadata": {
    "collapsed": true
   },
   "outputs": [],
   "source": [
    "document = open(case_list[3], 'rb')"
   ]
  },
  {
   "cell_type": "code",
   "execution_count": 19,
   "metadata": {
    "collapsed": true
   },
   "outputs": [],
   "source": [
    "layout_text = []\n",
    "# maxpages to set the number of page you want to read for the pdf file\n",
    "for page in PDFPage.get_pages(document,maxpages=0):\n",
    "    interpreter.process_page(page)\n",
    "    # receive the LTPage object for the page.\n",
    "    layout = device.get_result()\n",
    "    for element in layout:\n",
    "        if isinstance(element, LTTextBoxHorizontal):\n",
    "            layout_text.append(element.get_text())"
   ]
  },
  {
   "cell_type": "code",
   "execution_count": 10,
   "metadata": {
    "collapsed": true
   },
   "outputs": [],
   "source": [
    "def print_layout(layout_text):\n",
    "    for i in range(len(layout_text)):\n",
    "        print('{} {} {}'.format('------------- Layer', i, \" ---------------\" ))\n",
    "        print(layout_text[i])"
   ]
  },
  {
   "cell_type": "code",
   "execution_count": 22,
   "metadata": {},
   "outputs": [
    {
     "data": {
      "text/plain": [
       "'Opinion\\n'"
      ]
     },
     "execution_count": 22,
     "metadata": {},
     "output_type": "execute_result"
    }
   ],
   "source": [
    "layout_text[278]"
   ]
  },
  {
   "cell_type": "code",
   "execution_count": 12,
   "metadata": {},
   "outputs": [
    {
     "name": "stdout",
     "output_type": "stream",
     "text": [
      "ERICSSON, INC., Telefonaktiebolaget LM Ericsson, and Wi–Fi One, LLC, Plaintiffs–Appellees,\n",
      "\n"
     ]
    }
   ],
   "source": [
    "for layer in layout_text:\n",
    "    if layer.find(\"Plaintiff\") != -1:\n",
    "        print(layer)"
   ]
  },
  {
   "cell_type": "code",
   "execution_count": 13,
   "metadata": {},
   "outputs": [
    {
     "name": "stdout",
     "output_type": "stream",
     "text": [
      "Corporation, and Gateway, Inc., Defendants–Appellants,\n",
      "\n",
      "Dell, Inc., Defendant–Appellant,\n",
      "\n",
      "Toshiba America Information Systems, Inc. and Toshiba Corporation, Defendants–Appellants,\n",
      "\n",
      "Belkin International, Inc., Defendant.\n",
      "\n"
     ]
    }
   ],
   "source": [
    "for layer in layout_text:\n",
    "    if layer.find(\"Defendant\") != -1:\n",
    "        print(layer)"
   ]
  },
  {
   "cell_type": "code",
   "execution_count": 14,
   "metadata": {
    "collapsed": true
   },
   "outputs": [],
   "source": [
    "for layer in layout_text:\n",
    "    if layer.find(\"Decided\") != -1:\n",
    "        print(layer)"
   ]
  },
  {
   "cell_type": "code",
   "execution_count": 15,
   "metadata": {
    "scrolled": false
   },
   "outputs": [
    {
     "name": "stdout",
     "output_type": "stream",
     "text": [
      "Synopsis\n",
      "Background: Patentee commenced action against competitors, alleging infringement of patents generally relating to Wi–\n",
      "Fi technology employed by electronic devices to wirelessly access the Internet. The United States District Court for the\n",
      "Eastern District of Texas, Leonard Davis, J., 2013 WL 4046225, denied competitor's post-judgment motions after a jury\n",
      "verdict in the patentee's favor and upheld the jury's infringement and validity findings and refused to grant a new trial.\n",
      "Competitors appealed.\n",
      "\n"
     ]
    }
   ],
   "source": [
    "for layer in layout_text:\n",
    "    if layer.find(\"Synopsis\") != -1:\n",
    "        print(layer)"
   ]
  },
  {
   "cell_type": "code",
   "execution_count": 16,
   "metadata": {},
   "outputs": [
    {
     "name": "stdout",
     "output_type": "stream",
     "text": [
      "Affirmed in part, reversed in part, vacated in part, and remanded.\n",
      "\n"
     ]
    }
   ],
   "source": [
    "for layer in layout_text:\n",
    "    if re.search('(Reversed|Affirmed)', layer) != None:\n",
    "        print(layer)"
   ]
  },
  {
   "cell_type": "code",
   "execution_count": 56,
   "metadata": {
    "collapsed": true
   },
   "outputs": [],
   "source": [
    "string = \"Affirmed in part and reversed in part.\"\n",
    "\n",
    "# check if 'Python' is at the beginning\n",
    "match = re.search('Reversed', string)"
   ]
  },
  {
   "cell_type": "code",
   "execution_count": 58,
   "metadata": {},
   "outputs": [
    {
     "data": {
      "text/plain": [
       "True"
      ]
     },
     "execution_count": 58,
     "metadata": {},
     "output_type": "execute_result"
    }
   ],
   "source": [
    "match==None"
   ]
  },
  {
   "cell_type": "code",
   "execution_count": 20,
   "metadata": {},
   "outputs": [
    {
     "name": "stdout",
     "output_type": "stream",
     "text": [
      "Before O'MALLEY, TARANTO, and HUGHES, Circuit Judges.\n",
      "\n"
     ]
    }
   ],
   "source": [
    "for layer in layout_text:\n",
    "    if re.search('(Before)(.*)(Judges.)', layer) != None:\n",
    "        print(layer)"
   ]
  },
  {
   "cell_type": "code",
   "execution_count": null,
   "metadata": {
    "collapsed": true
   },
   "outputs": [],
   "source": [
    "for layer in layout_text:\n",
    "    if layer == 'Opinion\\n':\n",
    "layout_text.index('Opinion\\n')"
   ]
  },
  {
   "cell_type": "code",
   "execution_count": 24,
   "metadata": {},
   "outputs": [
    {
     "data": {
      "text/plain": [
       "\"O'MALLEY, Circuit Judge.\\n\""
      ]
     },
     "execution_count": 24,
     "metadata": {},
     "output_type": "execute_result"
    }
   ],
   "source": [
    "layout_text[layout_text.index('Opinion\\n')+1]"
   ]
  },
  {
   "cell_type": "code",
   "execution_count": 7,
   "metadata": {
    "collapsed": true
   },
   "outputs": [],
   "source": [
    "layout_text = []\n",
    "for page in PDFPage.get_pages(document):\n",
    "    interpreter.process_page(page)\n",
    "    # receive the LTPage object for the page.\n",
    "    layout = device.get_result()\n",
    "    for element in layout:\n",
    "        if isinstance(element, LTTextBoxHorizontal):\n",
    "            layout_text.append(element.get_text())"
   ]
  },
  {
   "cell_type": "code",
   "execution_count": 9,
   "metadata": {
    "collapsed": true
   },
   "outputs": [],
   "source": [
    "def decompose_layer(file):\n",
    "    document = open(file, 'rb')\n",
    "#     #Create resource manager\n",
    "#     rsrcmgr = PDFResourceManager()\n",
    "#     # Set parameters for analysis.\n",
    "#     laparams = LAParams()\n",
    "#     # Create a PDF page aggregator object.\n",
    "#     device = PDFPageAggregator(rsrcmgr, laparams=laparams)\n",
    "#     interpreter = PDFPageInterpreter(rsrcmgr, device)\n",
    "\n",
    "    layout_text = []\n",
    "    for page in PDFPage.get_pages(document):\n",
    "        interpreter.process_page(page)\n",
    "        # receive the LTPage object for the page.\n",
    "        layout = device.get_result()\n",
    "        for element in layout:\n",
    "            if isinstance(element, LTTextBoxHorizontal):\n",
    "                layout_text.append(element.get_text())\n",
    "                \n",
    "    return layout_text"
   ]
  },
  {
   "cell_type": "code",
   "execution_count": 11,
   "metadata": {
    "collapsed": true
   },
   "outputs": [],
   "source": [
    "def write_layout(layout_text, filename):\n",
    "    file = open(filename,'w') \n",
    "    for i in range(len(layout_text)):\n",
    "        file.write('{} {} {}'.format('------------- Layer', i, \" ---------------\\n\" ))\n",
    "        file.write(layout_text[i])\n",
    "    file.close() "
   ]
  },
  {
   "cell_type": "code",
   "execution_count": 15,
   "metadata": {
    "collapsed": true
   },
   "outputs": [],
   "source": [
    "for file in case_list[0:3]:\n",
    "    layout_text = decompose_layer(file)\n",
    "    file_name ='{}{}'.format(file.replace(\"./\",\"\").replace(\".pdf\",\"\"),\".txt\")\n",
    "    write_layout(layout_text, file_name)    "
   ]
  }
 ],
 "metadata": {
  "kernelspec": {
   "display_name": "Python 3",
   "language": "python",
   "name": "python3"
  },
  "language_info": {
   "codemirror_mode": {
    "name": "ipython",
    "version": 3
   },
   "file_extension": ".py",
   "mimetype": "text/x-python",
   "name": "python",
   "nbconvert_exporter": "python",
   "pygments_lexer": "ipython3",
   "version": "3.6.8"
  }
 },
 "nbformat": 4,
 "nbformat_minor": 2
}
