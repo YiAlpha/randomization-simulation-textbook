{
 "cells": [
  {
   "cell_type": "code",
   "execution_count": 1,
   "metadata": {},
   "outputs": [],
   "source": [
    "import json\n",
    "import pandas as pd\n",
    "import re"
   ]
  },
  {
   "cell_type": "markdown",
   "metadata": {},
   "source": [
    "- Case no (here 746 F.3d 1045)\n",
    "- Federal Circuit\n",
    "- Name of Case \n",
    "- Case No (here no 2013-1239)\n",
    "- Date\n",
    "- Synapsis (Here the background paragraph)\n",
    "- author (here the author linked in blue- O’Malley- this may be hard to do so not a big deal if hard to do\n",
    "- Holdings: holdings para\n",
    "- Result: here, affirmed impart vacated and remanded; it is usually the line after Holdings\n",
    "-  the judge panel; later in the opinion they list the judges (note Before and then list the judges name)\n",
    "- Also right above that they list the lawyers\n",
    "- eliminate the cases that start with “In Re” from analysis"
   ]
  },
  {
   "cell_type": "code",
   "execution_count": 2,
   "metadata": {},
   "outputs": [],
   "source": [
    "cases = json.load(open('/Users/liyannie/Desktop/Fall_2018_Courses/RA/amy_cases.json', 'r'))"
   ]
  },
  {
   "cell_type": "code",
   "execution_count": 3,
   "metadata": {},
   "outputs": [
    {
     "data": {
      "text/plain": [
       "854"
      ]
     },
     "execution_count": 3,
     "metadata": {},
     "output_type": "execute_result"
    }
   ],
   "source": [
    "len(cases.keys())"
   ]
  },
  {
   "cell_type": "code",
   "execution_count": 6,
   "metadata": {},
   "outputs": [],
   "source": [
    "names = []\n",
    "texts = []\n",
    "for key, value in cases.items():\n",
    "    key = key.replace('/Users/liyannie/Dropbox/Westlaw_cases/', '')\n",
    "    key = key.replace('.pdf', '')\n",
    "    key = re.sub(\"\\d\", '', key)\n",
    "    key = key.replace('-', '')\n",
    "    key = key.lstrip()\n",
    "    names.append(key)\n",
    "    texts.append(value)\n",
    "dict1 = {'names': names, 'texts':texts} \n",
    "df = pd.DataFrame({'texts':texts}, index = names)"
   ]
  },
  {
   "cell_type": "code",
   "execution_count": 7,
   "metadata": {},
   "outputs": [
    {
     "data": {
      "text/html": [
       "<div>\n",
       "<style scoped>\n",
       "    .dataframe tbody tr th:only-of-type {\n",
       "        vertical-align: middle;\n",
       "    }\n",
       "\n",
       "    .dataframe tbody tr th {\n",
       "        vertical-align: top;\n",
       "    }\n",
       "\n",
       "    .dataframe thead th {\n",
       "        text-align: right;\n",
       "    }\n",
       "</style>\n",
       "<table border=\"1\" class=\"dataframe\">\n",
       "  <thead>\n",
       "    <tr style=\"text-align: right;\">\n",
       "      <th></th>\n",
       "      <th>texts</th>\n",
       "    </tr>\n",
       "  </thead>\n",
       "  <tbody>\n",
       "    <tr>\n",
       "      <th>Apple Inc v International Trade Com'n</th>\n",
       "      <td>Apple Inc. v. International Trade Com'n, 725 F...</td>\n",
       "    </tr>\n",
       "    <tr>\n",
       "      <th>Regeneron Pharmaceuticals Inc v Merus NV</th>\n",
       "      <td>Regeneron Pharmaceuticals, Inc. v. Merus N.V.,...</td>\n",
       "    </tr>\n",
       "    <tr>\n",
       "      <th>Joseph Phelps Vineyards LLC v Fairmont Holdings LLC</th>\n",
       "      <td>Joseph Phelps Vineyards, LLC v. Fairmont Holdi...</td>\n",
       "    </tr>\n",
       "    <tr>\n",
       "      <th>Commonwealth Scientific and Indus Research Organisation v Cisco Systems In</th>\n",
       "      <td>Commonwealth Scientific and Indus. Research Or...</td>\n",
       "    </tr>\n",
       "    <tr>\n",
       "      <th>Radio Systems Corp v Lalor</th>\n",
       "      <td>Radio Systems Corp. v. Lalor, 709 F.3d 1124 (2...</td>\n",
       "    </tr>\n",
       "  </tbody>\n",
       "</table>\n",
       "</div>"
      ],
      "text/plain": [
       "                                                                                                texts\n",
       "Apple Inc v International Trade Com'n               Apple Inc. v. International Trade Com'n, 725 F...\n",
       "Regeneron Pharmaceuticals Inc v Merus NV            Regeneron Pharmaceuticals, Inc. v. Merus N.V.,...\n",
       "Joseph Phelps Vineyards LLC v Fairmont Holdings...  Joseph Phelps Vineyards, LLC v. Fairmont Holdi...\n",
       "Commonwealth Scientific and Indus Research Orga...  Commonwealth Scientific and Indus. Research Or...\n",
       "Radio Systems Corp v Lalor                          Radio Systems Corp. v. Lalor, 709 F.3d 1124 (2..."
      ]
     },
     "execution_count": 7,
     "metadata": {},
     "output_type": "execute_result"
    }
   ],
   "source": [
    "df.head()"
   ]
  },
  {
   "cell_type": "code",
   "execution_count": 8,
   "metadata": {},
   "outputs": [
    {
     "data": {
      "text/plain": [
       "(854, 1)"
      ]
     },
     "execution_count": 8,
     "metadata": {},
     "output_type": "execute_result"
    }
   ],
   "source": [
    "df.shape"
   ]
  },
  {
   "cell_type": "markdown",
   "metadata": {},
   "source": [
    "# eliminate cases start with \"in re\""
   ]
  },
  {
   "cell_type": "code",
   "execution_count": 9,
   "metadata": {},
   "outputs": [
    {
     "data": {
      "text/html": [
       "<div>\n",
       "<style scoped>\n",
       "    .dataframe tbody tr th:only-of-type {\n",
       "        vertical-align: middle;\n",
       "    }\n",
       "\n",
       "    .dataframe tbody tr th {\n",
       "        vertical-align: top;\n",
       "    }\n",
       "\n",
       "    .dataframe thead th {\n",
       "        text-align: right;\n",
       "    }\n",
       "</style>\n",
       "<table border=\"1\" class=\"dataframe\">\n",
       "  <thead>\n",
       "    <tr style=\"text-align: right;\">\n",
       "      <th></th>\n",
       "      <th>texts</th>\n",
       "      <th>In_re</th>\n",
       "    </tr>\n",
       "  </thead>\n",
       "  <tbody>\n",
       "    <tr>\n",
       "      <th>Apple Inc v International Trade Com'n</th>\n",
       "      <td>Apple Inc. v. International Trade Com'n, 725 F...</td>\n",
       "      <td>N</td>\n",
       "    </tr>\n",
       "    <tr>\n",
       "      <th>Regeneron Pharmaceuticals Inc v Merus NV</th>\n",
       "      <td>Regeneron Pharmaceuticals, Inc. v. Merus N.V.,...</td>\n",
       "      <td>N</td>\n",
       "    </tr>\n",
       "    <tr>\n",
       "      <th>Joseph Phelps Vineyards LLC v Fairmont Holdings LLC</th>\n",
       "      <td>Joseph Phelps Vineyards, LLC v. Fairmont Holdi...</td>\n",
       "      <td>N</td>\n",
       "    </tr>\n",
       "    <tr>\n",
       "      <th>Commonwealth Scientific and Indus Research Organisation v Cisco Systems In</th>\n",
       "      <td>Commonwealth Scientific and Indus. Research Or...</td>\n",
       "      <td>N</td>\n",
       "    </tr>\n",
       "    <tr>\n",
       "      <th>Radio Systems Corp v Lalor</th>\n",
       "      <td>Radio Systems Corp. v. Lalor, 709 F.3d 1124 (2...</td>\n",
       "      <td>N</td>\n",
       "    </tr>\n",
       "    <tr>\n",
       "      <th>GE Lighting Solutions LLC v AgiLight Inc</th>\n",
       "      <td>GE Lighting Solutions, LLC v. AgiLight, Inc., ...</td>\n",
       "      <td>N</td>\n",
       "    </tr>\n",
       "    <tr>\n",
       "      <th>United Construction Products Inc v Tile Tech Inc</th>\n",
       "      <td>United Construction Products, Inc. v. Tile Tec...</td>\n",
       "      <td>N</td>\n",
       "    </tr>\n",
       "    <tr>\n",
       "      <th>Rosebud LMS Inc v Adobe Systems Inc</th>\n",
       "      <td>Rosebud LMS Inc. v. Adobe Systems Inc., 812 F....</td>\n",
       "      <td>N</td>\n",
       "    </tr>\n",
       "    <tr>\n",
       "      <th>Norgren Inc v International Trade Com'n</th>\n",
       "      <td>Norgren Inc. v. International Trade Com'n, 699...</td>\n",
       "      <td>N</td>\n",
       "    </tr>\n",
       "    <tr>\n",
       "      <th>UltimatePointer LLC v Nintendo Co Ltd</th>\n",
       "      <td>UltimatePointer, L.L.C. v. Nintendo Co., Ltd.,...</td>\n",
       "      <td>N</td>\n",
       "    </tr>\n",
       "  </tbody>\n",
       "</table>\n",
       "</div>"
      ],
      "text/plain": [
       "                                                                                                texts  \\\n",
       "Apple Inc v International Trade Com'n               Apple Inc. v. International Trade Com'n, 725 F...   \n",
       "Regeneron Pharmaceuticals Inc v Merus NV            Regeneron Pharmaceuticals, Inc. v. Merus N.V.,...   \n",
       "Joseph Phelps Vineyards LLC v Fairmont Holdings...  Joseph Phelps Vineyards, LLC v. Fairmont Holdi...   \n",
       "Commonwealth Scientific and Indus Research Orga...  Commonwealth Scientific and Indus. Research Or...   \n",
       "Radio Systems Corp v Lalor                          Radio Systems Corp. v. Lalor, 709 F.3d 1124 (2...   \n",
       "GE Lighting Solutions LLC v AgiLight Inc            GE Lighting Solutions, LLC v. AgiLight, Inc., ...   \n",
       "United Construction Products Inc v Tile Tech Inc    United Construction Products, Inc. v. Tile Tec...   \n",
       "Rosebud LMS Inc v Adobe Systems Inc                 Rosebud LMS Inc. v. Adobe Systems Inc., 812 F....   \n",
       "Norgren Inc v International Trade Com'n             Norgren Inc. v. International Trade Com'n, 699...   \n",
       "UltimatePointer LLC v Nintendo Co Ltd               UltimatePointer, L.L.C. v. Nintendo Co., Ltd.,...   \n",
       "\n",
       "                                                   In_re  \n",
       "Apple Inc v International Trade Com'n                  N  \n",
       "Regeneron Pharmaceuticals Inc v Merus NV               N  \n",
       "Joseph Phelps Vineyards LLC v Fairmont Holdings...     N  \n",
       "Commonwealth Scientific and Indus Research Orga...     N  \n",
       "Radio Systems Corp v Lalor                             N  \n",
       "GE Lighting Solutions LLC v AgiLight Inc               N  \n",
       "United Construction Products Inc v Tile Tech Inc       N  \n",
       "Rosebud LMS Inc v Adobe Systems Inc                    N  \n",
       "Norgren Inc v International Trade Com'n                N  \n",
       "UltimatePointer LLC v Nintendo Co Ltd                  N  "
      ]
     },
     "execution_count": 9,
     "metadata": {},
     "output_type": "execute_result"
    }
   ],
   "source": [
    "in_re = []\n",
    "for name in df.index:\n",
    "    if name.startswith('In re') == True:\n",
    "        in_re.append('Y')\n",
    "    else:\n",
    "        in_re.append('N')\n",
    "df['In_re'] = pd.Series(in_re).values\n",
    "df.head(10)"
   ]
  },
  {
   "cell_type": "code",
   "execution_count": 10,
   "metadata": {},
   "outputs": [],
   "source": [
    "df = df.loc[df.In_re != 'Y']"
   ]
  },
  {
   "cell_type": "code",
   "execution_count": 11,
   "metadata": {},
   "outputs": [
    {
     "data": {
      "text/plain": [
       "(765, 2)"
      ]
     },
     "execution_count": 11,
     "metadata": {},
     "output_type": "execute_result"
    }
   ],
   "source": [
    "df.shape"
   ]
  },
  {
   "cell_type": "code",
   "execution_count": 12,
   "metadata": {},
   "outputs": [
    {
     "data": {
      "text/plain": [
       "N    765\n",
       "Name: In_re, dtype: int64"
      ]
     },
     "execution_count": 12,
     "metadata": {},
     "output_type": "execute_result"
    }
   ],
   "source": [
    "df.In_re.value_counts()"
   ]
  },
  {
   "cell_type": "code",
   "execution_count": 13,
   "metadata": {},
   "outputs": [
    {
     "data": {
      "text/plain": [
       "str"
      ]
     },
     "execution_count": 13,
     "metadata": {},
     "output_type": "execute_result"
    }
   ],
   "source": [
    "a = df.texts[0]\n",
    "type(a)"
   ]
  },
  {
   "cell_type": "code",
   "execution_count": 14,
   "metadata": {},
   "outputs": [
    {
     "data": {
      "text/html": [
       "<div>\n",
       "<style scoped>\n",
       "    .dataframe tbody tr th:only-of-type {\n",
       "        vertical-align: middle;\n",
       "    }\n",
       "\n",
       "    .dataframe tbody tr th {\n",
       "        vertical-align: top;\n",
       "    }\n",
       "\n",
       "    .dataframe thead th {\n",
       "        text-align: right;\n",
       "    }\n",
       "</style>\n",
       "<table border=\"1\" class=\"dataframe\">\n",
       "  <thead>\n",
       "    <tr style=\"text-align: right;\">\n",
       "      <th></th>\n",
       "      <th>texts</th>\n",
       "      <th>In_re</th>\n",
       "    </tr>\n",
       "  </thead>\n",
       "  <tbody>\n",
       "    <tr>\n",
       "      <th>Apple Inc v International Trade Com'n</th>\n",
       "      <td>Apple Inc. v. International Trade Com'n, 725 F...</td>\n",
       "      <td>N</td>\n",
       "    </tr>\n",
       "    <tr>\n",
       "      <th>Regeneron Pharmaceuticals Inc v Merus NV</th>\n",
       "      <td>Regeneron Pharmaceuticals, Inc. v. Merus N.V.,...</td>\n",
       "      <td>N</td>\n",
       "    </tr>\n",
       "    <tr>\n",
       "      <th>Joseph Phelps Vineyards LLC v Fairmont Holdings LLC</th>\n",
       "      <td>Joseph Phelps Vineyards, LLC v. Fairmont Holdi...</td>\n",
       "      <td>N</td>\n",
       "    </tr>\n",
       "    <tr>\n",
       "      <th>Commonwealth Scientific and Indus Research Organisation v Cisco Systems In</th>\n",
       "      <td>Commonwealth Scientific and Indus. Research Or...</td>\n",
       "      <td>N</td>\n",
       "    </tr>\n",
       "    <tr>\n",
       "      <th>Radio Systems Corp v Lalor</th>\n",
       "      <td>Radio Systems Corp. v. Lalor, 709 F.3d 1124 (2...</td>\n",
       "      <td>N</td>\n",
       "    </tr>\n",
       "  </tbody>\n",
       "</table>\n",
       "</div>"
      ],
      "text/plain": [
       "                                                                                                texts  \\\n",
       "Apple Inc v International Trade Com'n               Apple Inc. v. International Trade Com'n, 725 F...   \n",
       "Regeneron Pharmaceuticals Inc v Merus NV            Regeneron Pharmaceuticals, Inc. v. Merus N.V.,...   \n",
       "Joseph Phelps Vineyards LLC v Fairmont Holdings...  Joseph Phelps Vineyards, LLC v. Fairmont Holdi...   \n",
       "Commonwealth Scientific and Indus Research Orga...  Commonwealth Scientific and Indus. Research Or...   \n",
       "Radio Systems Corp v Lalor                          Radio Systems Corp. v. Lalor, 709 F.3d 1124 (2...   \n",
       "\n",
       "                                                   In_re  \n",
       "Apple Inc v International Trade Com'n                  N  \n",
       "Regeneron Pharmaceuticals Inc v Merus NV               N  \n",
       "Joseph Phelps Vineyards LLC v Fairmont Holdings...     N  \n",
       "Commonwealth Scientific and Indus Research Orga...     N  \n",
       "Radio Systems Corp v Lalor                             N  "
      ]
     },
     "execution_count": 14,
     "metadata": {},
     "output_type": "execute_result"
    }
   ],
   "source": [
    "df.head()"
   ]
  },
  {
   "cell_type": "markdown",
   "metadata": {},
   "source": [
    "# extract case name and 1st case number"
   ]
  },
  {
   "cell_type": "code",
   "execution_count": 15,
   "metadata": {},
   "outputs": [],
   "source": [
    "def name_number(df):\n",
    "    name_number = []\n",
    "    for text in df.texts:\n",
    "        name_num1 = re.findall(r'\\A.*', text)\n",
    "        name_number.append(name_num1)\n",
    "    return name_number"
   ]
  },
  {
   "cell_type": "markdown",
   "metadata": {},
   "source": [
    "# extract court"
   ]
  },
  {
   "cell_type": "code",
   "execution_count": null,
   "metadata": {},
   "outputs": [],
   "source": []
  },
  {
   "cell_type": "markdown",
   "metadata": {},
   "source": [
    "# extract 2nd case number"
   ]
  },
  {
   "cell_type": "code",
   "execution_count": 16,
   "metadata": {},
   "outputs": [],
   "source": [
    "def case_num2(df):\n",
    "    case_num2 = []\n",
    "    for text in df.texts:\n",
    "        case_num = re.match(r'((.*\\n){4})Synopsis', text)[0]\n",
    "        case_num2.append(case_num)\n",
    "    return case_num2"
   ]
  },
  {
   "cell_type": "code",
   "execution_count": 185,
   "metadata": {},
   "outputs": [
    {
     "ename": "TypeError",
     "evalue": "'NoneType' object is not subscriptable",
     "output_type": "error",
     "traceback": [
      "\u001b[0;31m---------------------------------------------------------------------------\u001b[0m",
      "\u001b[0;31mTypeError\u001b[0m                                 Traceback (most recent call last)",
      "\u001b[0;32m<ipython-input-185-2042e623901c>\u001b[0m in \u001b[0;36m<module>\u001b[0;34m()\u001b[0m\n\u001b[0;32m----> 1\u001b[0;31m \u001b[0mcase_num\u001b[0m \u001b[0;34m=\u001b[0m \u001b[0mre\u001b[0m\u001b[0;34m.\u001b[0m\u001b[0mmatch\u001b[0m\u001b[0;34m(\u001b[0m\u001b[0;34mr'((.*\\n){4})Synopsis'\u001b[0m\u001b[0;34m,\u001b[0m \u001b[0ma\u001b[0m\u001b[0;34m)\u001b[0m\u001b[0;34m[\u001b[0m\u001b[0;36m0\u001b[0m\u001b[0;34m]\u001b[0m\u001b[0;34m\u001b[0m\u001b[0m\n\u001b[0m\u001b[1;32m      2\u001b[0m \u001b[0mcase_num\u001b[0m\u001b[0;34m\u001b[0m\u001b[0m\n",
      "\u001b[0;31mTypeError\u001b[0m: 'NoneType' object is not subscriptable"
     ]
    }
   ],
   "source": [
    "case_num = re.match(r'((.*\\n){4})Synopsis', a)[0]\n",
    "case_num"
   ]
  },
  {
   "cell_type": "markdown",
   "metadata": {},
   "source": [
    "# extract date"
   ]
  },
  {
   "cell_type": "code",
   "execution_count": 17,
   "metadata": {},
   "outputs": [],
   "source": [
    "def date(df):\n",
    "    date = []\n",
    "    for text in df.texts:\n",
    "        date = re.match(r'((.*\\n){2})Synopsis', text)[0]\n",
    "        date.append(date)\n",
    "    return date"
   ]
  },
  {
   "cell_type": "markdown",
   "metadata": {},
   "source": [
    "# extract synopsis/background"
   ]
  },
  {
   "cell_type": "code",
   "execution_count": 18,
   "metadata": {},
   "outputs": [],
   "source": [
    "def background(df):\n",
    "    backgrounds = []\n",
    "    for text in df.texts:\n",
    "        background = re.findall(r'Synopsis(.*?)Holding', text, re.DOTALL)\n",
    "        backgrounds.append(background)\n",
    "    return backgrounds"
   ]
  },
  {
   "cell_type": "code",
   "execution_count": 263,
   "metadata": {},
   "outputs": [
    {
     "data": {
      "text/plain": [
       "215"
      ]
     },
     "execution_count": 263,
     "metadata": {},
     "output_type": "execute_result"
    }
   ],
   "source": [
    "len(background(df))"
   ]
  },
  {
   "cell_type": "code",
   "execution_count": null,
   "metadata": {},
   "outputs": [],
   "source": []
  },
  {
   "cell_type": "markdown",
   "metadata": {},
   "source": [
    "# extract author"
   ]
  },
  {
   "cell_type": "code",
   "execution_count": 19,
   "metadata": {},
   "outputs": [],
   "source": [
    "def author(df):\n",
    "    authors = []\n",
    "    for text in df.texts:\n",
    "        author = re.findall(r'Holdings: The Court of Appeals,(.*?) Judge', text, re.DOTALL)\n",
    "        authors.append(author)\n",
    "    return authors"
   ]
  },
  {
   "cell_type": "code",
   "execution_count": 313,
   "metadata": {},
   "outputs": [
    {
     "data": {
      "text/plain": [
       "215"
      ]
     },
     "execution_count": 313,
     "metadata": {},
     "output_type": "execute_result"
    }
   ],
   "source": [
    "len(author(df))"
   ]
  },
  {
   "cell_type": "markdown",
   "metadata": {},
   "source": [
    "# extract holdings & results"
   ]
  },
  {
   "cell_type": "code",
   "execution_count": 20,
   "metadata": {},
   "outputs": [],
   "source": [
    "def holding(df):\n",
    "    holdings = []\n",
    "    for text in df.texts:\n",
    "        holding = re.findall(r'Holding(.*?)West Headnotes', text, re.DOTALL)\n",
    "        holdings.append(holding)\n",
    "    return holdings"
   ]
  },
  {
   "cell_type": "code",
   "execution_count": 273,
   "metadata": {},
   "outputs": [
    {
     "data": {
      "text/plain": [
       "215"
      ]
     },
     "execution_count": 273,
     "metadata": {},
     "output_type": "execute_result"
    }
   ],
   "source": [
    "len(holding(df))"
   ]
  },
  {
   "cell_type": "code",
   "execution_count": null,
   "metadata": {},
   "outputs": [],
   "source": []
  },
  {
   "cell_type": "markdown",
   "metadata": {},
   "source": [
    "# extract judge panel and lawyers"
   ]
  },
  {
   "cell_type": "code",
   "execution_count": 21,
   "metadata": {},
   "outputs": [],
   "source": [
    "def lawyers_judge(df):\n",
    "    lawyers_judges = []\n",
    "    for text in df.texts:\n",
    "        lawyers_judge = re.findall(r'Attorneys and Law Firms(.*?)Opinion', text, re.DOTALL)\n",
    "        lawyers_judges.append(lawyers_judge)\n",
    "    return lawyers_judges"
   ]
  },
  {
   "cell_type": "code",
   "execution_count": 275,
   "metadata": {},
   "outputs": [
    {
     "data": {
      "text/plain": [
       "215"
      ]
     },
     "execution_count": 275,
     "metadata": {},
     "output_type": "execute_result"
    }
   ],
   "source": [
    "len(lawyers_judge(df))"
   ]
  },
  {
   "cell_type": "code",
   "execution_count": null,
   "metadata": {},
   "outputs": [],
   "source": []
  },
  {
   "cell_type": "markdown",
   "metadata": {},
   "source": [
    "# Compile into final DataFrame"
   ]
  },
  {
   "cell_type": "code",
   "execution_count": 22,
   "metadata": {},
   "outputs": [],
   "source": [
    "name_numbers = name_number(df)\n",
    "#case_num2 = case_num2(df)\n",
    "#date = date(df)\n",
    "backgrounds = background(df)\n",
    "authors = author(df)\n",
    "holdings = holding(df)\n",
    "lawyers_judges = lawyers_judge(df)"
   ]
  },
  {
   "cell_type": "code",
   "execution_count": 23,
   "metadata": {},
   "outputs": [],
   "source": [
    "final_dict = {'name_numbers': name_numbers, #'case_num2': case_num2,\n",
    "             #'date' : dates, 'background': backgrounds,\n",
    "             'author': authors, 'holding': holdings,\n",
    "             'lawyers_judge': lawyers_judges}\n",
    "final_df = pd.DataFrame(final_dict, index = df.index)"
   ]
  },
  {
   "cell_type": "code",
   "execution_count": 26,
   "metadata": {},
   "outputs": [
    {
     "data": {
      "text/html": [
       "<div>\n",
       "<style scoped>\n",
       "    .dataframe tbody tr th:only-of-type {\n",
       "        vertical-align: middle;\n",
       "    }\n",
       "\n",
       "    .dataframe tbody tr th {\n",
       "        vertical-align: top;\n",
       "    }\n",
       "\n",
       "    .dataframe thead th {\n",
       "        text-align: right;\n",
       "    }\n",
       "</style>\n",
       "<table border=\"1\" class=\"dataframe\">\n",
       "  <thead>\n",
       "    <tr style=\"text-align: right;\">\n",
       "      <th></th>\n",
       "      <th>name_numbers</th>\n",
       "      <th>author</th>\n",
       "      <th>holding</th>\n",
       "      <th>lawyers_judge</th>\n",
       "    </tr>\n",
       "  </thead>\n",
       "  <tbody>\n",
       "    <tr>\n",
       "      <th>Apple Inc v International Trade Com'n</th>\n",
       "      <td>[Apple Inc. v. International Trade Com'n, 725 ...</td>\n",
       "      <td>[ Moore, Circuit]</td>\n",
       "      <td>[s: The Court of Appeals, Moore, Circuit Judge...</td>\n",
       "      <td>[\\n\\n*1359  E. Joshua Rosenkranz, Orrick, Herr...</td>\n",
       "    </tr>\n",
       "    <tr>\n",
       "      <th>Regeneron Pharmaceuticals Inc v Merus NV</th>\n",
       "      <td>[Regeneron Pharmaceuticals, Inc. v. Merus N.V....</td>\n",
       "      <td>[]</td>\n",
       "      <td>[]</td>\n",
       "      <td>[]</td>\n",
       "    </tr>\n",
       "    <tr>\n",
       "      <th>Joseph Phelps Vineyards LLC v Fairmont Holdings LLC</th>\n",
       "      <td>[Joseph Phelps Vineyards, LLC v. Fairmont Hold...</td>\n",
       "      <td>[]</td>\n",
       "      <td>[s, LLC, 857 F.3d 1323 (2017)\\n122 U.S.P.Q.2d ...</td>\n",
       "      <td>[\\n\\nTHOMAS SCHNECK, Law Offices of Thomas Sch...</td>\n",
       "    </tr>\n",
       "    <tr>\n",
       "      <th>Commonwealth Scientific and Indus Research Organisation v Cisco Systems In</th>\n",
       "      <td>[Commonwealth Scientific and Indus. Research O...</td>\n",
       "      <td>[ Prost, Chief]</td>\n",
       "      <td>[s: The Court of Appeals, Prost, Chief Judge, ...</td>\n",
       "      <td>[\\n\\n*1297  Michael Ng, Kobre &amp; Kim LLP, San F...</td>\n",
       "    </tr>\n",
       "    <tr>\n",
       "      <th>Radio Systems Corp v Lalor</th>\n",
       "      <td>[Radio Systems Corp. v. Lalor, 709 F.3d 1124 (...</td>\n",
       "      <td>[ Moore, Circuit]</td>\n",
       "      <td>[s: The Court of Appeals, Moore, Circuit Judge...</td>\n",
       "      <td>[\\n\\n*1125  R. Bradford Brittian, Merchant &amp; G...</td>\n",
       "    </tr>\n",
       "    <tr>\n",
       "      <th>GE Lighting Solutions LLC v AgiLight Inc</th>\n",
       "      <td>[GE Lighting Solutions, LLC v. AgiLight, Inc.,...</td>\n",
       "      <td>[ Moore, Circuit]</td>\n",
       "      <td>[s: The Court of Appeals, Moore, Circuit Judge...</td>\n",
       "      <td>[\\n\\n*1307  Richard L. Rainey, Executive Couns...</td>\n",
       "    </tr>\n",
       "    <tr>\n",
       "      <th>United Construction Products Inc v Tile Tech Inc</th>\n",
       "      <td>[United Construction Products, Inc. v. Tile Te...</td>\n",
       "      <td>[ Wallach, Circuit]</td>\n",
       "      <td>[s: The Court of Appeals, Wallach, Circuit Jud...</td>\n",
       "      <td>[\\n\\nDAVID  VON  GUNTEN,  von  Gunten  Law  LL...</td>\n",
       "    </tr>\n",
       "    <tr>\n",
       "      <th>Rosebud LMS Inc v Adobe Systems Inc</th>\n",
       "      <td>[Rosebud LMS Inc. v. Adobe Systems Inc., 812 F...</td>\n",
       "      <td>[ Moore, Circuit]</td>\n",
       "      <td>[s: The Court of Appeals, Moore, Circuit Judge...</td>\n",
       "      <td>[\\n\\n*1072   Justin  Chen,  Ahmad,  Zavitsanos...</td>\n",
       "    </tr>\n",
       "    <tr>\n",
       "      <th>Norgren Inc v International Trade Com'n</th>\n",
       "      <td>[Norgren Inc. v. International Trade Com'n, 69...</td>\n",
       "      <td>[ Linn, Circuit]</td>\n",
       "      <td>[s: The Court of Appeals, Linn, Circuit Judge,...</td>\n",
       "      <td>[\\n\\n*1319  Carl F. Manthei, The Ollila Law Gr...</td>\n",
       "    </tr>\n",
       "    <tr>\n",
       "      <th>UltimatePointer LLC v Nintendo Co Ltd</th>\n",
       "      <td>[UltimatePointer, L.L.C. v. Nintendo Co., Ltd....</td>\n",
       "      <td>[ Lourie, Circuit]</td>\n",
       "      <td>[s: The Court of Appeals, Lourie, Circuit Judg...</td>\n",
       "      <td>[\\n\\n*818   Charles  John  Rogers,  Conley  Ro...</td>\n",
       "    </tr>\n",
       "    <tr>\n",
       "      <th>Allergan Inc v Apotex Inc</th>\n",
       "      <td>[Allergan, Inc. v. Apotex Inc., 754 F.3d 952 (...</td>\n",
       "      <td>[ Prost, Chief]</td>\n",
       "      <td>[s: The Court of Appeals, Prost, Chief Judge, ...</td>\n",
       "      <td>[\\n\\n*955  Jonathan E. Singer, Fish &amp; Richards...</td>\n",
       "    </tr>\n",
       "    <tr>\n",
       "      <th>South Alabama Medical Science Foundation v Gnosis SPA</th>\n",
       "      <td>[South Alabama Medical Science Foundation v. G...</td>\n",
       "      <td>[]</td>\n",
       "      <td>[:] The Court of Appeals, Hughes, Circuit Judg...</td>\n",
       "      <td>[\\n\\n*824  Thomas J. Parker, Alston &amp; Bird LLP...</td>\n",
       "    </tr>\n",
       "    <tr>\n",
       "      <th>Pacific Coast Marine Windshields Ltd v Malibu Boats LLC</th>\n",
       "      <td>[Pacific Coast Marine Windshields Ltd. v. Mali...</td>\n",
       "      <td>[ Dyk, Circuit]</td>\n",
       "      <td>[s: The Court of Appeals, Dyk, Circuit Judge, ...</td>\n",
       "      <td>[\\n\\n*697  Robert E. Rohde, Rohde &amp; Van Kampen...</td>\n",
       "    </tr>\n",
       "    <tr>\n",
       "      <th>Yeda Research and Development Co Ltd v Abbott GMBH And Co KG</th>\n",
       "      <td>[Yeda Research and Development Co., Ltd. v. Ab...</td>\n",
       "      <td>[]</td>\n",
       "      <td>[:] The Court of Appeals, Reyna, Circuit Judge...</td>\n",
       "      <td>[\\n\\nMATTHEW  NIELSEN,  Marshall,  Gerstein  &amp;...</td>\n",
       "    </tr>\n",
       "    <tr>\n",
       "      <th>Intellectual Ventures I LLC v Capital One Bank (USA)</th>\n",
       "      <td>[Intellectual Ventures I LLC v. Capital One Ba...</td>\n",
       "      <td>[ Dyk, Circuit]</td>\n",
       "      <td>[s: The Court of Appeals, Dyk, Circuit Judge, ...</td>\n",
       "      <td>[\\n\\n*1365  Nickolas Bohl, Feinberg Day Albert...</td>\n",
       "    </tr>\n",
       "    <tr>\n",
       "      <th>Shenyang Yuanda Aluminum Industry Engineering Co Ltd v US</th>\n",
       "      <td>[Shenyang Yuanda Aluminum Industry Engineering...</td>\n",
       "      <td>[ Wallach, Circuit]</td>\n",
       "      <td>[s: The Court of Appeals, Wallach, Circuit Jud...</td>\n",
       "      <td>[\\n\\n*1352  Thomas M. Beline, Cassidy Levy Ken...</td>\n",
       "    </tr>\n",
       "    <tr>\n",
       "      <th>Allergan Inc v Athena Cosmetics Inc</th>\n",
       "      <td>[Allergan, Inc. v. Athena Cosmetics, Inc., 738...</td>\n",
       "      <td>[ Moore, Circuit]</td>\n",
       "      <td>[s: The Court of Appeals, Moore, Circuit Judge...</td>\n",
       "      <td>[\\n\\n*1352  Mark A. Perry, Gibson, Dunn &amp; Crut...</td>\n",
       "    </tr>\n",
       "    <tr>\n",
       "      <th>Triton Tech of Texas LLC v Nintendo of America Inc</th>\n",
       "      <td>[Triton Tech of Texas, LLC v. Nintendo of Amer...</td>\n",
       "      <td>[]</td>\n",
       "      <td>[:] The Court of Appeals, Moore, Circuit Judge...</td>\n",
       "      <td>[\\n\\n*1376  James F. McDonough, III, Heninger ...</td>\n",
       "    </tr>\n",
       "    <tr>\n",
       "      <th>Sport Dimension Inc v Coleman Co Inc</th>\n",
       "      <td>[Sport Dimension, Inc. v. Coleman Co., Inc., 8...</td>\n",
       "      <td>[ Stoll, Circuit]</td>\n",
       "      <td>[s: The Court of Appeals, Stoll, Circuit Judge...</td>\n",
       "      <td>[\\n\\n*1317  Yuri Mikulka, Manatt, Phelps &amp; Phi...</td>\n",
       "    </tr>\n",
       "    <tr>\n",
       "      <th>Skky Inc v MindGeek sarl</th>\n",
       "      <td>[Skky, Inc. v. MindGeek, s.a.r.l., 859 F.3d 10...</td>\n",
       "      <td>[ Lourie, Circuit]</td>\n",
       "      <td>[s: The Court of Appeals, Lourie, Circuit Judg...</td>\n",
       "      <td>[\\n\\nRONALD  JAMES  SCHUTZ,  Robins  Kaplan  L...</td>\n",
       "    </tr>\n",
       "  </tbody>\n",
       "</table>\n",
       "</div>"
      ],
      "text/plain": [
       "                                                                                         name_numbers  \\\n",
       "Apple Inc v International Trade Com'n               [Apple Inc. v. International Trade Com'n, 725 ...   \n",
       "Regeneron Pharmaceuticals Inc v Merus NV            [Regeneron Pharmaceuticals, Inc. v. Merus N.V....   \n",
       "Joseph Phelps Vineyards LLC v Fairmont Holdings...  [Joseph Phelps Vineyards, LLC v. Fairmont Hold...   \n",
       "Commonwealth Scientific and Indus Research Orga...  [Commonwealth Scientific and Indus. Research O...   \n",
       "Radio Systems Corp v Lalor                          [Radio Systems Corp. v. Lalor, 709 F.3d 1124 (...   \n",
       "GE Lighting Solutions LLC v AgiLight Inc            [GE Lighting Solutions, LLC v. AgiLight, Inc.,...   \n",
       "United Construction Products Inc v Tile Tech Inc    [United Construction Products, Inc. v. Tile Te...   \n",
       "Rosebud LMS Inc v Adobe Systems Inc                 [Rosebud LMS Inc. v. Adobe Systems Inc., 812 F...   \n",
       "Norgren Inc v International Trade Com'n             [Norgren Inc. v. International Trade Com'n, 69...   \n",
       "UltimatePointer LLC v Nintendo Co Ltd               [UltimatePointer, L.L.C. v. Nintendo Co., Ltd....   \n",
       "Allergan Inc v Apotex Inc                           [Allergan, Inc. v. Apotex Inc., 754 F.3d 952 (...   \n",
       "South Alabama Medical Science Foundation v Gnos...  [South Alabama Medical Science Foundation v. G...   \n",
       "Pacific Coast Marine Windshields Ltd v Malibu B...  [Pacific Coast Marine Windshields Ltd. v. Mali...   \n",
       "Yeda Research and Development Co Ltd v Abbott G...  [Yeda Research and Development Co., Ltd. v. Ab...   \n",
       "Intellectual Ventures I LLC v Capital One Bank ...  [Intellectual Ventures I LLC v. Capital One Ba...   \n",
       "Shenyang Yuanda Aluminum Industry Engineering C...  [Shenyang Yuanda Aluminum Industry Engineering...   \n",
       "Allergan Inc v Athena Cosmetics Inc                 [Allergan, Inc. v. Athena Cosmetics, Inc., 738...   \n",
       "Triton Tech of Texas LLC v Nintendo of America Inc  [Triton Tech of Texas, LLC v. Nintendo of Amer...   \n",
       "Sport Dimension Inc v Coleman Co Inc                [Sport Dimension, Inc. v. Coleman Co., Inc., 8...   \n",
       "Skky Inc v MindGeek sarl                            [Skky, Inc. v. MindGeek, s.a.r.l., 859 F.3d 10...   \n",
       "\n",
       "                                                                 author  \\\n",
       "Apple Inc v International Trade Com'n                 [ Moore, Circuit]   \n",
       "Regeneron Pharmaceuticals Inc v Merus NV                             []   \n",
       "Joseph Phelps Vineyards LLC v Fairmont Holdings...                   []   \n",
       "Commonwealth Scientific and Indus Research Orga...      [ Prost, Chief]   \n",
       "Radio Systems Corp v Lalor                            [ Moore, Circuit]   \n",
       "GE Lighting Solutions LLC v AgiLight Inc              [ Moore, Circuit]   \n",
       "United Construction Products Inc v Tile Tech Inc    [ Wallach, Circuit]   \n",
       "Rosebud LMS Inc v Adobe Systems Inc                   [ Moore, Circuit]   \n",
       "Norgren Inc v International Trade Com'n                [ Linn, Circuit]   \n",
       "UltimatePointer LLC v Nintendo Co Ltd                [ Lourie, Circuit]   \n",
       "Allergan Inc v Apotex Inc                               [ Prost, Chief]   \n",
       "South Alabama Medical Science Foundation v Gnos...                   []   \n",
       "Pacific Coast Marine Windshields Ltd v Malibu B...      [ Dyk, Circuit]   \n",
       "Yeda Research and Development Co Ltd v Abbott G...                   []   \n",
       "Intellectual Ventures I LLC v Capital One Bank ...      [ Dyk, Circuit]   \n",
       "Shenyang Yuanda Aluminum Industry Engineering C...  [ Wallach, Circuit]   \n",
       "Allergan Inc v Athena Cosmetics Inc                   [ Moore, Circuit]   \n",
       "Triton Tech of Texas LLC v Nintendo of America Inc                   []   \n",
       "Sport Dimension Inc v Coleman Co Inc                  [ Stoll, Circuit]   \n",
       "Skky Inc v MindGeek sarl                             [ Lourie, Circuit]   \n",
       "\n",
       "                                                                                              holding  \\\n",
       "Apple Inc v International Trade Com'n               [s: The Court of Appeals, Moore, Circuit Judge...   \n",
       "Regeneron Pharmaceuticals Inc v Merus NV                                                           []   \n",
       "Joseph Phelps Vineyards LLC v Fairmont Holdings...  [s, LLC, 857 F.3d 1323 (2017)\\n122 U.S.P.Q.2d ...   \n",
       "Commonwealth Scientific and Indus Research Orga...  [s: The Court of Appeals, Prost, Chief Judge, ...   \n",
       "Radio Systems Corp v Lalor                          [s: The Court of Appeals, Moore, Circuit Judge...   \n",
       "GE Lighting Solutions LLC v AgiLight Inc            [s: The Court of Appeals, Moore, Circuit Judge...   \n",
       "United Construction Products Inc v Tile Tech Inc    [s: The Court of Appeals, Wallach, Circuit Jud...   \n",
       "Rosebud LMS Inc v Adobe Systems Inc                 [s: The Court of Appeals, Moore, Circuit Judge...   \n",
       "Norgren Inc v International Trade Com'n             [s: The Court of Appeals, Linn, Circuit Judge,...   \n",
       "UltimatePointer LLC v Nintendo Co Ltd               [s: The Court of Appeals, Lourie, Circuit Judg...   \n",
       "Allergan Inc v Apotex Inc                           [s: The Court of Appeals, Prost, Chief Judge, ...   \n",
       "South Alabama Medical Science Foundation v Gnos...  [:] The Court of Appeals, Hughes, Circuit Judg...   \n",
       "Pacific Coast Marine Windshields Ltd v Malibu B...  [s: The Court of Appeals, Dyk, Circuit Judge, ...   \n",
       "Yeda Research and Development Co Ltd v Abbott G...  [:] The Court of Appeals, Reyna, Circuit Judge...   \n",
       "Intellectual Ventures I LLC v Capital One Bank ...  [s: The Court of Appeals, Dyk, Circuit Judge, ...   \n",
       "Shenyang Yuanda Aluminum Industry Engineering C...  [s: The Court of Appeals, Wallach, Circuit Jud...   \n",
       "Allergan Inc v Athena Cosmetics Inc                 [s: The Court of Appeals, Moore, Circuit Judge...   \n",
       "Triton Tech of Texas LLC v Nintendo of America Inc  [:] The Court of Appeals, Moore, Circuit Judge...   \n",
       "Sport Dimension Inc v Coleman Co Inc                [s: The Court of Appeals, Stoll, Circuit Judge...   \n",
       "Skky Inc v MindGeek sarl                            [s: The Court of Appeals, Lourie, Circuit Judg...   \n",
       "\n",
       "                                                                                        lawyers_judge  \n",
       "Apple Inc v International Trade Com'n               [\\n\\n*1359  E. Joshua Rosenkranz, Orrick, Herr...  \n",
       "Regeneron Pharmaceuticals Inc v Merus NV                                                           []  \n",
       "Joseph Phelps Vineyards LLC v Fairmont Holdings...  [\\n\\nTHOMAS SCHNECK, Law Offices of Thomas Sch...  \n",
       "Commonwealth Scientific and Indus Research Orga...  [\\n\\n*1297  Michael Ng, Kobre & Kim LLP, San F...  \n",
       "Radio Systems Corp v Lalor                          [\\n\\n*1125  R. Bradford Brittian, Merchant & G...  \n",
       "GE Lighting Solutions LLC v AgiLight Inc            [\\n\\n*1307  Richard L. Rainey, Executive Couns...  \n",
       "United Construction Products Inc v Tile Tech Inc    [\\n\\nDAVID  VON  GUNTEN,  von  Gunten  Law  LL...  \n",
       "Rosebud LMS Inc v Adobe Systems Inc                 [\\n\\n*1072   Justin  Chen,  Ahmad,  Zavitsanos...  \n",
       "Norgren Inc v International Trade Com'n             [\\n\\n*1319  Carl F. Manthei, The Ollila Law Gr...  \n",
       "UltimatePointer LLC v Nintendo Co Ltd               [\\n\\n*818   Charles  John  Rogers,  Conley  Ro...  \n",
       "Allergan Inc v Apotex Inc                           [\\n\\n*955  Jonathan E. Singer, Fish & Richards...  \n",
       "South Alabama Medical Science Foundation v Gnos...  [\\n\\n*824  Thomas J. Parker, Alston & Bird LLP...  \n",
       "Pacific Coast Marine Windshields Ltd v Malibu B...  [\\n\\n*697  Robert E. Rohde, Rohde & Van Kampen...  \n",
       "Yeda Research and Development Co Ltd v Abbott G...  [\\n\\nMATTHEW  NIELSEN,  Marshall,  Gerstein  &...  \n",
       "Intellectual Ventures I LLC v Capital One Bank ...  [\\n\\n*1365  Nickolas Bohl, Feinberg Day Albert...  \n",
       "Shenyang Yuanda Aluminum Industry Engineering C...  [\\n\\n*1352  Thomas M. Beline, Cassidy Levy Ken...  \n",
       "Allergan Inc v Athena Cosmetics Inc                 [\\n\\n*1352  Mark A. Perry, Gibson, Dunn & Crut...  \n",
       "Triton Tech of Texas LLC v Nintendo of America Inc  [\\n\\n*1376  James F. McDonough, III, Heninger ...  \n",
       "Sport Dimension Inc v Coleman Co Inc                [\\n\\n*1317  Yuri Mikulka, Manatt, Phelps & Phi...  \n",
       "Skky Inc v MindGeek sarl                            [\\n\\nRONALD  JAMES  SCHUTZ,  Robins  Kaplan  L...  "
      ]
     },
     "execution_count": 26,
     "metadata": {},
     "output_type": "execute_result"
    }
   ],
   "source": [
    "final_df.head(20)"
   ]
  },
  {
   "cell_type": "code",
   "execution_count": 27,
   "metadata": {},
   "outputs": [],
   "source": [
    "final_df.to_csv('/Users/liyannie/Desktop/Fall_2018_Courses/RA/extraction.csv')"
   ]
  },
  {
   "cell_type": "code",
   "execution_count": null,
   "metadata": {},
   "outputs": [],
   "source": []
  }
 ],
 "metadata": {
  "kernelspec": {
   "display_name": "Python 3",
   "language": "python",
   "name": "python3"
  },
  "language_info": {
   "codemirror_mode": {
    "name": "ipython",
    "version": 3
   },
   "file_extension": ".py",
   "mimetype": "text/x-python",
   "name": "python",
   "nbconvert_exporter": "python",
   "pygments_lexer": "ipython3",
   "version": "3.7.0"
  }
 },
 "nbformat": 4,
 "nbformat_minor": 2
}
