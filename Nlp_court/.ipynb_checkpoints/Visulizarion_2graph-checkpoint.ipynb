{
 "cells": [
  {
   "cell_type": "markdown",
   "metadata": {},
   "source": [
    "## Visulization"
   ]
  },
  {
   "cell_type": "markdown",
   "metadata": {},
   "source": [
    "## 1. Most Frequent Citation"
   ]
  },
  {
   "cell_type": "code",
   "execution_count": 1,
   "metadata": {},
   "outputs": [],
   "source": [
    "import pandas as pd"
   ]
  },
  {
   "cell_type": "code",
   "execution_count": 4,
   "metadata": {},
   "outputs": [],
   "source": [
    "citation159 = pd.read_csv(\"citation159.csv\", sep=\"\\t\", index_col=0)"
   ]
  },
  {
   "cell_type": "code",
   "execution_count": 5,
   "metadata": {},
   "outputs": [
    {
     "data": {
      "text/html": [
       "<div>\n",
       "<style scoped>\n",
       "    .dataframe tbody tr th:only-of-type {\n",
       "        vertical-align: middle;\n",
       "    }\n",
       "\n",
       "    .dataframe tbody tr th {\n",
       "        vertical-align: top;\n",
       "    }\n",
       "\n",
       "    .dataframe thead th {\n",
       "        text-align: right;\n",
       "    }\n",
       "</style>\n",
       "<table border=\"1\" class=\"dataframe\">\n",
       "  <thead>\n",
       "    <tr style=\"text-align: right;\">\n",
       "      <th></th>\n",
       "      <th>file</th>\n",
       "      <th>citaion</th>\n",
       "    </tr>\n",
       "  </thead>\n",
       "  <tbody>\n",
       "    <tr>\n",
       "      <th>0</th>\n",
       "      <td>052 - Nuance Communications Inc v ABBYY USA So...</td>\n",
       "      <td>813 F.3d 1368</td>\n",
       "    </tr>\n",
       "    <tr>\n",
       "      <th>1</th>\n",
       "      <td>021 - Intellectual Ventures I LLC v Erie Indem...</td>\n",
       "      <td>850 F.3d 1315</td>\n",
       "    </tr>\n",
       "    <tr>\n",
       "      <th>2</th>\n",
       "      <td>040 - Sioux Honey Ass'n v Hartford Fire Ins Co</td>\n",
       "      <td>672 F.3d 1041</td>\n",
       "    </tr>\n",
       "    <tr>\n",
       "      <th>3</th>\n",
       "      <td>021 - Aspex Eyewear Inc v Zenni Optical Inc</td>\n",
       "      <td>713 F.3d 1377</td>\n",
       "    </tr>\n",
       "    <tr>\n",
       "      <th>4</th>\n",
       "      <td>056 - Soverain Software LLC v Newegg Inc</td>\n",
       "      <td>728 F.3d 1332</td>\n",
       "    </tr>\n",
       "  </tbody>\n",
       "</table>\n",
       "</div>"
      ],
      "text/plain": [
       "                                                file        citaion\n",
       "0  052 - Nuance Communications Inc v ABBYY USA So...  813 F.3d 1368\n",
       "1  021 - Intellectual Ventures I LLC v Erie Indem...  850 F.3d 1315\n",
       "2     040 - Sioux Honey Ass'n v Hartford Fire Ins Co  672 F.3d 1041\n",
       "3        021 - Aspex Eyewear Inc v Zenni Optical Inc  713 F.3d 1377\n",
       "4           056 - Soverain Software LLC v Newegg Inc  728 F.3d 1332"
      ]
     },
     "execution_count": 5,
     "metadata": {},
     "output_type": "execute_result"
    }
   ],
   "source": [
    "citation159.head()"
   ]
  },
  {
   "cell_type": "code",
   "execution_count": 23,
   "metadata": {},
   "outputs": [],
   "source": [
    "cite10 = citation159.groupby(['citaion']).count().nlargest(10, 'file').\\\n",
    "rename(index=str, columns={\"file\": \"times\"}).assign(cite = cite10.index)"
   ]
  },
  {
   "cell_type": "code",
   "execution_count": 24,
   "metadata": {},
   "outputs": [
    {
     "data": {
      "text/html": [
       "<div>\n",
       "<style scoped>\n",
       "    .dataframe tbody tr th:only-of-type {\n",
       "        vertical-align: middle;\n",
       "    }\n",
       "\n",
       "    .dataframe tbody tr th {\n",
       "        vertical-align: top;\n",
       "    }\n",
       "\n",
       "    .dataframe thead th {\n",
       "        text-align: right;\n",
       "    }\n",
       "</style>\n",
       "<table border=\"1\" class=\"dataframe\">\n",
       "  <thead>\n",
       "    <tr style=\"text-align: right;\">\n",
       "      <th></th>\n",
       "      <th>times</th>\n",
       "      <th>cite</th>\n",
       "    </tr>\n",
       "    <tr>\n",
       "      <th>citaion</th>\n",
       "      <th></th>\n",
       "      <th></th>\n",
       "    </tr>\n",
       "  </thead>\n",
       "  <tbody>\n",
       "    <tr>\n",
       "      <th>415 F.3d 1303</th>\n",
       "      <td>33</td>\n",
       "      <td>415 F.3d 1303</td>\n",
       "    </tr>\n",
       "    <tr>\n",
       "      <th>127 S.Ct. 1727</th>\n",
       "      <td>20</td>\n",
       "      <td>127 S.Ct. 1727</td>\n",
       "    </tr>\n",
       "    <tr>\n",
       "      <th>15 L.Ed.2d 545</th>\n",
       "      <td>20</td>\n",
       "      <td>15 L.Ed.2d 545</td>\n",
       "    </tr>\n",
       "    <tr>\n",
       "      <th>167 L.Ed.2d 705</th>\n",
       "      <td>20</td>\n",
       "      <td>167 L.Ed.2d 705</td>\n",
       "    </tr>\n",
       "    <tr>\n",
       "      <th>383 U.S. 1</th>\n",
       "      <td>20</td>\n",
       "      <td>383 U.S. 1</td>\n",
       "    </tr>\n",
       "    <tr>\n",
       "      <th>550 U.S. 398</th>\n",
       "      <td>20</td>\n",
       "      <td>550 U.S. 398</td>\n",
       "    </tr>\n",
       "    <tr>\n",
       "      <th>86 S.Ct. 684</th>\n",
       "      <td>20</td>\n",
       "      <td>86 S.Ct. 684</td>\n",
       "    </tr>\n",
       "    <tr>\n",
       "      <th>135 S.Ct. 831</th>\n",
       "      <td>19</td>\n",
       "      <td>135 S.Ct. 831</td>\n",
       "    </tr>\n",
       "    <tr>\n",
       "      <th>131 S.Ct. 2238</th>\n",
       "      <td>14</td>\n",
       "      <td>131 S.Ct. 2238</td>\n",
       "    </tr>\n",
       "    <tr>\n",
       "      <th>138 F.3d 1448</th>\n",
       "      <td>14</td>\n",
       "      <td>138 F.3d 1448</td>\n",
       "    </tr>\n",
       "  </tbody>\n",
       "</table>\n",
       "</div>"
      ],
      "text/plain": [
       "                 times             cite\n",
       "citaion                                \n",
       "415 F.3d 1303       33    415 F.3d 1303\n",
       "127 S.Ct. 1727      20   127 S.Ct. 1727\n",
       "15 L.Ed.2d 545      20   15 L.Ed.2d 545\n",
       "167 L.Ed.2d 705     20  167 L.Ed.2d 705\n",
       "383 U.S. 1          20       383 U.S. 1\n",
       "550 U.S. 398        20     550 U.S. 398\n",
       "86 S.Ct. 684        20     86 S.Ct. 684\n",
       "135 S.Ct. 831       19    135 S.Ct. 831\n",
       "131 S.Ct. 2238      14   131 S.Ct. 2238\n",
       "138 F.3d 1448       14    138 F.3d 1448"
      ]
     },
     "execution_count": 24,
     "metadata": {},
     "output_type": "execute_result"
    }
   ],
   "source": [
    "cite10"
   ]
  },
  {
   "cell_type": "code",
   "execution_count": 6,
   "metadata": {},
   "outputs": [],
   "source": [
    "import matplotlib.pyplot as plt\n",
    "import seaborn as sns"
   ]
  },
  {
   "cell_type": "code",
   "execution_count": 66,
   "metadata": {},
   "outputs": [],
   "source": [
    "sns.set(rc={'figure.figsize':(9,5)}, \n",
    "        style = \"whitegrid\", \n",
    "        font=\"Times New Roman\",\n",
    "       font_scale=1.1)"
   ]
  },
  {
   "cell_type": "code",
   "execution_count": 98,
   "metadata": {
    "scrolled": true
   },
   "outputs": [
    {
     "data": {
      "image/png": "[encoded data removed]",
      "text/plain": [
       "<Figure size 648x360 with 1 Axes>"
      ]
     },
     "metadata": {},
     "output_type": "display_data"
    }
   ],
   "source": [
    "cite_freq = sns.barplot(x=\"times\",y=\"cite\", data=cite10). \\\n",
    "            set_title('Top 10 Cited Citations')"
   ]
  },
  {
   "cell_type": "code",
   "execution_count": 68,
   "metadata": {},
   "outputs": [],
   "source": [
    "cite_freq.figure.savefig(\"cite_freq.png\",quality=95,dpi=400,bbox_inches = 'tight')"
   ]
  },
  {
   "cell_type": "markdown",
   "metadata": {},
   "source": [
    "## Regulations"
   ]
  },
  {
   "cell_type": "code",
   "execution_count": 3,
   "metadata": {},
   "outputs": [],
   "source": [
    "regulations159 = pd.read_csv('regulation159.csv', sep=\"\\t\", index_col=0)"
   ]
  },
  {
   "cell_type": "code",
   "execution_count": 6,
   "metadata": {},
   "outputs": [
    {
     "data": {
      "text/html": [
       "<div>\n",
       "<style scoped>\n",
       "    .dataframe tbody tr th:only-of-type {\n",
       "        vertical-align: middle;\n",
       "    }\n",
       "\n",
       "    .dataframe tbody tr th {\n",
       "        vertical-align: top;\n",
       "    }\n",
       "\n",
       "    .dataframe thead th {\n",
       "        text-align: right;\n",
       "    }\n",
       "</style>\n",
       "<table border=\"1\" class=\"dataframe\">\n",
       "  <thead>\n",
       "    <tr style=\"text-align: right;\">\n",
       "      <th></th>\n",
       "      <th>file</th>\n",
       "      <th>regulation</th>\n",
       "    </tr>\n",
       "  </thead>\n",
       "  <tbody>\n",
       "    <tr>\n",
       "      <th>0</th>\n",
       "      <td>052 - Nuance Communications Inc v ABBYY USA So...</td>\n",
       "      <td>28 USC § 1295</td>\n",
       "    </tr>\n",
       "    <tr>\n",
       "      <th>1</th>\n",
       "      <td>021 - Intellectual Ventures I LLC v Erie Indem...</td>\n",
       "      <td>35 USC § 101</td>\n",
       "    </tr>\n",
       "    <tr>\n",
       "      <th>2</th>\n",
       "      <td>040 - Sioux Honey Ass'n v Hartford Fire Ins Co</td>\n",
       "      <td>19 USC § 1675c</td>\n",
       "    </tr>\n",
       "    <tr>\n",
       "      <th>3</th>\n",
       "      <td>100 - In re Geller</td>\n",
       "      <td>15 USC § 1052</td>\n",
       "    </tr>\n",
       "    <tr>\n",
       "      <th>4</th>\n",
       "      <td>08 - Boeri v US</td>\n",
       "      <td>26 CFR § 1</td>\n",
       "    </tr>\n",
       "  </tbody>\n",
       "</table>\n",
       "</div>"
      ],
      "text/plain": [
       "                                                file      regulation\n",
       "0  052 - Nuance Communications Inc v ABBYY USA So...   28 USC § 1295\n",
       "1  021 - Intellectual Ventures I LLC v Erie Indem...    35 USC § 101\n",
       "2     040 - Sioux Honey Ass'n v Hartford Fire Ins Co  19 USC § 1675c\n",
       "3                                 100 - In re Geller   15 USC § 1052\n",
       "4                                    08 - Boeri v US      26 CFR § 1"
      ]
     },
     "execution_count": 6,
     "metadata": {},
     "output_type": "execute_result"
    }
   ],
   "source": [
    "regulations159.head()"
   ]
  },
  {
   "cell_type": "code",
   "execution_count": 8,
   "metadata": {},
   "outputs": [],
   "source": [
    "reg10 = regulations159.groupby(['regulation']).count().nlargest(10, 'file').\\\n",
    "rename(index=str, columns={\"file\": \"times\"})\n",
    "reg10 = reg10.assign(reg = reg10.index)"
   ]
  },
  {
   "cell_type": "code",
   "execution_count": 9,
   "metadata": {},
   "outputs": [
    {
     "data": {
      "text/html": [
       "<div>\n",
       "<style scoped>\n",
       "    .dataframe tbody tr th:only-of-type {\n",
       "        vertical-align: middle;\n",
       "    }\n",
       "\n",
       "    .dataframe tbody tr th {\n",
       "        vertical-align: top;\n",
       "    }\n",
       "\n",
       "    .dataframe thead th {\n",
       "        text-align: right;\n",
       "    }\n",
       "</style>\n",
       "<table border=\"1\" class=\"dataframe\">\n",
       "  <thead>\n",
       "    <tr style=\"text-align: right;\">\n",
       "      <th></th>\n",
       "      <th>times</th>\n",
       "      <th>reg</th>\n",
       "    </tr>\n",
       "    <tr>\n",
       "      <th>regulation</th>\n",
       "      <th></th>\n",
       "      <th></th>\n",
       "    </tr>\n",
       "  </thead>\n",
       "  <tbody>\n",
       "    <tr>\n",
       "      <th>28 USC § 1295</th>\n",
       "      <td>119</td>\n",
       "      <td>28 USC § 1295</td>\n",
       "    </tr>\n",
       "    <tr>\n",
       "      <th>35 USC § 103</th>\n",
       "      <td>30</td>\n",
       "      <td>35 USC § 103</td>\n",
       "    </tr>\n",
       "    <tr>\n",
       "      <th>35 USC § 112</th>\n",
       "      <td>26</td>\n",
       "      <td>35 USC § 112</td>\n",
       "    </tr>\n",
       "    <tr>\n",
       "      <th>35 USC § 271</th>\n",
       "      <td>20</td>\n",
       "      <td>35 USC § 271</td>\n",
       "    </tr>\n",
       "    <tr>\n",
       "      <th>125 Stat. 284</th>\n",
       "      <td>17</td>\n",
       "      <td>125 Stat. 284</td>\n",
       "    </tr>\n",
       "    <tr>\n",
       "      <th>35 USC § 101</th>\n",
       "      <td>12</td>\n",
       "      <td>35 USC § 101</td>\n",
       "    </tr>\n",
       "    <tr>\n",
       "      <th>35 USC § 102</th>\n",
       "      <td>12</td>\n",
       "      <td>35 USC § 102</td>\n",
       "    </tr>\n",
       "    <tr>\n",
       "      <th>28 USC § 1292</th>\n",
       "      <td>9</td>\n",
       "      <td>28 USC § 1292</td>\n",
       "    </tr>\n",
       "    <tr>\n",
       "      <th>35 USC § 284</th>\n",
       "      <td>9</td>\n",
       "      <td>35 USC § 284</td>\n",
       "    </tr>\n",
       "    <tr>\n",
       "      <th>37 CFR § 1</th>\n",
       "      <td>9</td>\n",
       "      <td>37 CFR § 1</td>\n",
       "    </tr>\n",
       "  </tbody>\n",
       "</table>\n",
       "</div>"
      ],
      "text/plain": [
       "               times            reg\n",
       "regulation                         \n",
       "28 USC § 1295    119  28 USC § 1295\n",
       "35 USC § 103      30   35 USC § 103\n",
       "35 USC § 112      26   35 USC § 112\n",
       "35 USC § 271      20   35 USC § 271\n",
       "125 Stat. 284     17  125 Stat. 284\n",
       "35 USC § 101      12   35 USC § 101\n",
       "35 USC § 102      12   35 USC § 102\n",
       "28 USC § 1292      9  28 USC § 1292\n",
       "35 USC § 284       9   35 USC § 284\n",
       "37 CFR § 1         9     37 CFR § 1"
      ]
     },
     "execution_count": 9,
     "metadata": {},
     "output_type": "execute_result"
    }
   ],
   "source": [
    "reg10 "
   ]
  },
  {
   "cell_type": "code",
   "execution_count": 10,
   "metadata": {},
   "outputs": [],
   "source": [
    "import matplotlib.pyplot as plt\n",
    "import seaborn as sns"
   ]
  },
  {
   "cell_type": "code",
   "execution_count": 11,
   "metadata": {},
   "outputs": [],
   "source": [
    "sns.set(rc={'figure.figsize':(9,5)}, \n",
    "        style = \"whitegrid\", \n",
    "        font=\"Times New Roman\",\n",
    "       font_scale=1.1)"
   ]
  },
  {
   "cell_type": "code",
   "execution_count": 13,
   "metadata": {},
   "outputs": [
    {
     "data": {
      "image/png": "[encoded data removed]",
      "text/plain": [
       "<Figure size 648x360 with 1 Axes>"
      ]
     },
     "metadata": {},
     "output_type": "display_data"
    }
   ],
   "source": [
    "reg_freq = sns.barplot(x=\"times\",y=\"reg\", data=reg10). \\\n",
    "            set_title('Top 10 Cited Regulations')"
   ]
  },
  {
   "cell_type": "code",
   "execution_count": 14,
   "metadata": {},
   "outputs": [],
   "source": [
    "reg_freq.figure.savefig(\"reg_freq.png\",quality=95,dpi=400,bbox_inches = 'tight')"
   ]
  },
  {
   "cell_type": "code",
   "execution_count": null,
   "metadata": {},
   "outputs": [],
   "source": []
  }
 ],
 "metadata": {
  "kernelspec": {
   "display_name": "Python 3",
   "language": "python",
   "name": "python3"
  },
  "language_info": {
   "codemirror_mode": {
    "name": "ipython",
    "version": 3
   },
   "file_extension": ".py",
   "mimetype": "text/x-python",
   "name": "python",
   "nbconvert_exporter": "python",
   "pygments_lexer": "ipython3",
   "version": "3.6.8"
  }
 },
 "nbformat": 4,
 "nbformat_minor": 2
}
