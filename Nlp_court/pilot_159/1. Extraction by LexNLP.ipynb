{
 "cells": [
  {
   "cell_type": "markdown",
   "metadata": {},
   "source": [
    "# Table of Contents\n",
    "\n",
    "1. Enviroment Information\n",
    "2. Read PDF files\n",
    "3. Extract Citations e.g `870 F.3d 1320`\n",
    "4. Case Number of the PDF file\n",
    "5. Extract Regulations e.g `28 USC § 1292`\n",
    "6. Extract Courts \n",
    "7. Court for this PDF file\n",
    "8. Extract Date for the PDF\n",
    "9. Case number `xxxx-xxxx`\n",
    "\n",
    "10. Wrap up to Data Frame and write CSV file"
   ]
  },
  {
   "cell_type": "markdown",
   "metadata": {},
   "source": [
    "### 1. Environment Information\n",
    "\n",
    "- show the python version and system for this computer\n",
    "- help others who use this code to produce replicable result"
   ]
  },
  {
   "cell_type": "code",
   "execution_count": 1,
   "metadata": {
    "scrolled": true
   },
   "outputs": [
    {
     "name": "stdout",
     "output_type": "stream",
     "text": [
      "{'commit_hash': '523ed2fe5',\n",
      " 'commit_source': 'installation',\n",
      " 'default_encoding': 'UTF-8',\n",
      " 'ipython_path': '/anaconda/envs/nlp/lib/python3.6/site-packages/IPython',\n",
      " 'ipython_version': '7.2.0',\n",
      " 'os_name': 'posix',\n",
      " 'platform': 'Darwin-18.5.0-x86_64-i386-64bit',\n",
      " 'sys_executable': '/anaconda/envs/nlp/bin/python',\n",
      " 'sys_platform': 'darwin',\n",
      " 'sys_version': '3.6.8 |Anaconda, Inc.| (default, Dec 29 2018, 19:04:46) \\n'\n",
      "                '[GCC 4.2.1 Compatible Clang 4.0.1 (tags/RELEASE_401/final)]'}\n"
     ]
    }
   ],
   "source": [
    "import IPython\n",
    "\n",
    "# Information of my Python version, computer system\n",
    "print(IPython.sys_info())"
   ]
  },
  {
   "cell_type": "markdown",
   "metadata": {},
   "source": [
    "### 2.Read PDF files"
   ]
  },
  {
   "cell_type": "code",
   "execution_count": 2,
   "metadata": {},
   "outputs": [],
   "source": [
    "# import pdfminer and to read PDF files\n",
    "from pdfminer.pdfinterp import PDFResourceManager, PDFPageInterpreter\n",
    "from pdfminer.converter import TextConverter\n",
    "from pdfminer.layout import LAParams\n",
    "from pdfminer.pdfpage import PDFPage\n",
    "\n",
    "# import io (input and output); BytesIO encode string to byte object\n",
    "from io import BytesIO\n",
    "\n",
    "# extract all file name in a folder, for the convenience of reading PDF files\n",
    "import glob\n",
    "\n",
    "# latter use to store cleaned string into json file\n",
    "import simplejson as json\n",
    "\n",
    "# re (regular expression) to find string with certain patterns\n",
    "import re"
   ]
  },
  {
   "cell_type": "markdown",
   "metadata": {},
   "source": [
    "#### A function to read PDF file:\n",
    " \n",
    "    pdf_file: the filename of PDF (including the path (i.e location) )\n",
    "    return: contentt of the PDF (string in Byte object,\n",
    "    remember we use BytesIO to encode our string result)\n"
   ]
  },
  {
   "cell_type": "code",
   "execution_count": 3,
   "metadata": {},
   "outputs": [],
   "source": [
    "def read_pdf(pdf_file):\n",
    "\n",
    "    resource_mgr = PDFResourceManager()\n",
    "    retstr = BytesIO()\n",
    "    codec = 'utf-8'\n",
    "    laparams = LAParams()\n",
    "    device = TextConverter(resource_mgr, retstr, codec=codec, laparams=laparams)\n",
    "    interpreter = PDFPageInterpreter(resource_mgr, device)\n",
    "    fp = open(pdf_file, 'rb')\n",
    "    maxpages = 0\n",
    "    caching = True\n",
    "    pagenos = set()\n",
    "    \n",
    "    for page in PDFPage.get_pages(fp, pagenos, \n",
    "                                  maxpages=maxpages, \n",
    "                                  caching=caching, \n",
    "                                  check_extractable=True):\n",
    "        interpreter.process_page(page)\n",
    "\n",
    "    result_str = retstr.getvalue()\n",
    "    \n",
    "    fp.close()\n",
    "    device.close()\n",
    "    retstr.close()\n",
    "    \n",
    "    return result_str"
   ]
  },
  {
   "cell_type": "markdown",
   "metadata": {},
   "source": [
    "Create a list contains all the PDF files we want to read"
   ]
  },
  {
   "cell_type": "code",
   "execution_count": 224,
   "metadata": {},
   "outputs": [],
   "source": [
    "case_list = glob.glob('./Cases/*.pdf')"
   ]
  },
  {
   "cell_type": "markdown",
   "metadata": {},
   "source": [
    "We can print the PDF files list to inspect.\n",
    "\n",
    "The list contains all the PDF files name in a folder"
   ]
  },
  {
   "cell_type": "code",
   "execution_count": 227,
   "metadata": {},
   "outputs": [
    {
     "data": {
      "text/plain": [
       "['./Cases/052 - Nuance Communications Inc v ABBYY USA Software House Inc.pdf',\n",
       " './Cases/021 - Intellectual Ventures I LLC v Erie Indemnity Company.pdf',\n",
       " \"./Cases/040 - Sioux Honey Ass'n v Hartford Fire Ins Co.pdf\",\n",
       " './Cases/021 - Aspex Eyewear Inc v Zenni Optical Inc.pdf',\n",
       " './Cases/056 - Soverain Software LLC v Newegg Inc.pdf',\n",
       " './Cases/100 - In re Geller.pdf',\n",
       " './Cases/08 - Boeri v US.pdf',\n",
       " './Cases/080 - Harmonic Inc v Avid Technology Inc.pdf',\n",
       " './Cases/095 - Ethicon EndoSurgery Inc v Covidien LP.pdf',\n",
       " './Cases/039 - OIP Technologies Inc v Amazoncom Inc.pdf']"
      ]
     },
     "execution_count": 227,
     "metadata": {},
     "output_type": "execute_result"
    }
   ],
   "source": [
    "case_list[0:10]"
   ]
  },
  {
   "cell_type": "markdown",
   "metadata": {},
   "source": [
    "#### A for loop to read all the PDF files in `case_list`"
   ]
  },
  {
   "cell_type": "code",
   "execution_count": 228,
   "metadata": {},
   "outputs": [],
   "source": [
    "# a list to store the name of the pdf\n",
    "pdf_name = []\n",
    "# a list to store the content of the pdf\n",
    "pdf_content = []\n",
    "\n",
    "# a loop to read all the pdf and store their name and content to the respective list\n",
    "for case in case_list:\n",
    "    pdf_name.append(case.replace('./Cases/', '').replace('.pdf', ''))\n",
    "    pdf_content.append(read_pdf(case))"
   ]
  },
  {
   "cell_type": "code",
   "execution_count": 229,
   "metadata": {
    "scrolled": true
   },
   "outputs": [
    {
     "data": {
      "text/plain": [
       "['./Cases/052 - Nuance Communications Inc v ABBYY USA Software House Inc',\n",
       " './Cases/021 - Intellectual Ventures I LLC v Erie Indemnity Company',\n",
       " \"./Cases/040 - Sioux Honey Ass'n v Hartford Fire Ins Co\",\n",
       " './Cases/021 - Aspex Eyewear Inc v Zenni Optical Inc',\n",
       " './Cases/056 - Soverain Software LLC v Newegg Inc',\n",
       " './Cases/100 - In re Geller',\n",
       " './Cases/08 - Boeri v US',\n",
       " './Cases/080 - Harmonic Inc v Avid Technology Inc',\n",
       " './Cases/095 - Ethicon EndoSurgery Inc v Covidien LP',\n",
       " './Cases/039 - OIP Technologies Inc v Amazoncom Inc']"
      ]
     },
     "execution_count": 229,
     "metadata": {},
     "output_type": "execute_result"
    }
   ],
   "source": [
    "# we can inspect the pdf names\n",
    "pdf_name[0:10]"
   ]
  },
  {
   "cell_type": "code",
   "execution_count": 230,
   "metadata": {},
   "outputs": [
    {
     "data": {
      "text/plain": [
       "b'Nuance Communications, Inc. v. ABBYY USA Software House, Inc., 813 F.3d 1368 (2016)\\n117 U.S.P.Q.2d 1944\\n\\n813 F.3d 1368\\n\\nUnited States Court of Appeals,\\n\\nFederal Circuit.\\n\\nNUANCE COMMUNICATIONS, INC., a Delaware Corporation, Plaintiff\\xe2\\x80\\x93Appellant\\n\\nv.\\n\\nABBYY USA SOFTWARE HOUSE, INC., A California Corp'"
      ]
     },
     "execution_count": 230,
     "metadata": {},
     "output_type": "execute_result"
    }
   ],
   "source": [
    "# the first 300 cahracters of'001 - Intellectual Ventures I LLC v Motorola Mobility LLC'\n",
    "pdf_content[0][:300]"
   ]
  },
  {
   "cell_type": "markdown",
   "metadata": {},
   "source": [
    "**Above is the content of the first pdf file**\n",
    "('001 - Intellectual Ventures I LLC v Motorola Mobility LLC')\n",
    "\n",
    "You can compare the PDF file with the string above, basically, python process the PDF file into raw string format, e.g `\\n` means a new line, `\\xe2\\x80\\x93` is a maker of byte encoding\n",
    "\n",
    "Note the first letter b\".....(content)\" indicate this is a byte string (remember we use BytesIO to specify the string to be stored in a byte object, for the convenience of encoding.)"
   ]
  },
  {
   "cell_type": "markdown",
   "metadata": {},
   "source": [
    "### 3. Extract Citation"
   ]
  },
  {
   "cell_type": "markdown",
   "metadata": {},
   "source": [
    "There are multiple citation (references) in a legal court case, come with a format like `870 F.3d 1320`\n",
    "\n",
    "- `870` is the volumn \n",
    "- `F.3d` is the reporter \n",
    "- `1320` is the page"
   ]
  },
  {
   "cell_type": "markdown",
   "metadata": {},
   "source": [
    "`lexnlp` is a module deal with legal domain-specific text, we can use `lexnlp` to help us extract citations from the pdf content.\n",
    "\n",
    "For more information about `lexnlp`, go to the documentation website:\n",
    "https://lexpredict-lexnlp.readthedocs.io/en/docs-0.1.6/index.html"
   ]
  },
  {
   "cell_type": "markdown",
   "metadata": {},
   "source": [
    "`pandas` (i.e. Python Data Analysis Library) is a module to manipulate data tables. After extract information from the PDF contents, `pandas` is used to create data frame to store the information."
   ]
  },
  {
   "cell_type": "code",
   "execution_count": 231,
   "metadata": {},
   "outputs": [],
   "source": [
    "# import the function in lexnlp module to extract citations\n",
    "import lexnlp.extract.en.citations\n",
    "\n",
    "# store extracted information into dataframe\n",
    "import pandas as pd"
   ]
  },
  {
   "cell_type": "markdown",
   "metadata": {},
   "source": [
    "Before the extraction, we have to decode out byte string object to literal string. Remember that our PDF content come with `b`\".....(literal content)\", since python read the PDF to byte object"
   ]
  },
  {
   "cell_type": "code",
   "execution_count": 232,
   "metadata": {},
   "outputs": [],
   "source": [
    "court_text = []\n",
    "for content in pdf_content:\n",
    "    # decode every pdf file content, sepecify the decode style \"utf-8\"\n",
    "    # p.s. \"utf-8\" is the most commom encoding sytle today\n",
    "    decoded_content = content.decode(\"utf-8\") \n",
    "    court_text.append(decoded_content) "
   ]
  },
  {
   "cell_type": "code",
   "execution_count": 233,
   "metadata": {},
   "outputs": [
    {
     "data": {
      "text/plain": [
       "'Nuance Communications, Inc. v. ABBYY USA Software House, Inc., 813 F.3d 1368 (2016)\\n117 U.S.P.Q.2d 1944\\n\\n813 F.3d 1368\\n\\nUnited States Court of Appeals,\\n\\nFederal Circuit.\\n\\nNUANCE COMMUNICATIONS, INC., a Delaware Corporation, Plaintiff–Appellant\\n\\nv.\\n\\nABBYY USA SOFTWARE HOUSE, INC., A California Corpor'"
      ]
     },
     "execution_count": 233,
     "metadata": {},
     "output_type": "execute_result"
    }
   ],
   "source": [
    "# Decoded the first 300 cahracters of \n",
    "# '001 - Intellectual Ventures I LLC v Motorola Mobility LLC'\n",
    "court_text[0][:300]"
   ]
  },
  {
   "cell_type": "markdown",
   "metadata": {},
   "source": [
    "After decoding, we can see the `b` was removed (the decoding is more than removing the `b` behind the scenes, `b` is a notation for *byte* object)"
   ]
  },
  {
   "cell_type": "code",
   "execution_count": 234,
   "metadata": {},
   "outputs": [],
   "source": [
    "cite_list = []\n",
    "for text in court_text:\n",
    "    text_citation =list(lexnlp.extract.en.citations.get_citations(text, \n",
    "                                                              return_source=False,\n",
    "                                                              as_dict=True))\n",
    "    \n",
    "    # cite_in_pdf is a list contains all the citations in a pdf file\n",
    "    cite_in_pdf = []\n",
    "    for cite in text_citation:\n",
    "        # sotre every citation in the pdf file to this container\n",
    "        cite_in_pdf.append(str(cite['volume']) + \" \" + cite['reporter'] + \n",
    "                           \" \" + str(cite['page']))\n",
    "        \n",
    "        # remove duplicated citations in a file\n",
    "        cite_in_pdf = list(dict.fromkeys(cite_in_pdf))\n",
    "        \n",
    "    # cite_list is a list contatins lists of citations for pdf files in the folder\n",
    "    cite_list.append(cite_in_pdf)\n",
    "        \n",
    "    "
   ]
  },
  {
   "cell_type": "code",
   "execution_count": 235,
   "metadata": {},
   "outputs": [
    {
     "data": {
      "text/plain": [
       "['813 F.3d 1368',\n",
       " '805 F.3d 1368',\n",
       " '467 F.3d 1355',\n",
       " '299 F.3d 1313',\n",
       " '639 F.3d 1303']"
      ]
     },
     "execution_count": 235,
     "metadata": {},
     "output_type": "execute_result"
    }
   ],
   "source": [
    "# citations in the first pdf files\n",
    "cite_list[0]"
   ]
  },
  {
   "cell_type": "markdown",
   "metadata": {},
   "source": [
    "### 4. Case Number of the PDF file"
   ]
  },
  {
   "cell_type": "code",
   "execution_count": 236,
   "metadata": {},
   "outputs": [],
   "source": [
    "# A list contain the case number of the PDF file\n",
    "case_number = []\n",
    "for cites in cite_list:\n",
    "    # Case number is the first citation number in the citation list\n",
    "    case_number.append(cites[0])"
   ]
  },
  {
   "cell_type": "code",
   "execution_count": 263,
   "metadata": {},
   "outputs": [
    {
     "data": {
      "text/plain": [
       "['813 F.3d 1368',\n",
       " '850 F.3d 1315',\n",
       " '672 F.3d 1041',\n",
       " '713 F.3d 1377',\n",
       " '728 F.3d 1332',\n",
       " '751 F.3d 1355']"
      ]
     },
     "execution_count": 263,
     "metadata": {},
     "output_type": "execute_result"
    }
   ],
   "source": [
    "case_number[0:6]"
   ]
  },
  {
   "cell_type": "markdown",
   "metadata": {},
   "source": [
    "### 5. Extract Regulations"
   ]
  },
  {
   "cell_type": "code",
   "execution_count": 238,
   "metadata": {
    "scrolled": true
   },
   "outputs": [],
   "source": [
    "# import the function in lexnlp module to extract regulations\n",
    "import lexnlp.extract.en.regulations"
   ]
  },
  {
   "cell_type": "code",
   "execution_count": 239,
   "metadata": {},
   "outputs": [],
   "source": [
    "reg_list = []\n",
    "for text in court_text:\n",
    "    text_regulation =list(lexnlp.extract.en.regulations.get_regulations(text, \n",
    "                                                              return_source=False,\n",
    "                                                             as_dict=True))\n",
    "    \n",
    "    # reg_in_pdf is a list contains all the regulations in a pdf file\n",
    "    reg_in_pdf = []\n",
    "    for reg in text_regulation:\n",
    "        \n",
    "        # sotre every regulation in the pdf file to this container\n",
    "        reg_in_pdf.append(reg['regulation_code'])\n",
    "        \n",
    "        # remove duplicated regulations in a file\n",
    "        reg_in_pdf = list(dict.fromkeys(reg_in_pdf)) \n",
    "    \n",
    "    # reg_list is a list contatins lists of regulations for pdf files in the folder\n",
    "    reg_list.append(reg_in_pdf)\n"
   ]
  },
  {
   "cell_type": "code",
   "execution_count": 240,
   "metadata": {},
   "outputs": [
    {
     "data": {
      "text/plain": [
       "['28 USC § 1295']"
      ]
     },
     "execution_count": 240,
     "metadata": {},
     "output_type": "execute_result"
    }
   ],
   "source": [
    "# regulations in the first pdf file\n",
    "reg_list[0]"
   ]
  },
  {
   "cell_type": "markdown",
   "metadata": {},
   "source": [
    "### 6. Extract Courts "
   ]
  },
  {
   "cell_type": "code",
   "execution_count": 241,
   "metadata": {},
   "outputs": [],
   "source": [
    "# Load court configuration data automatically from LexPredict legal dictionaries\n",
    "from lexnlp.extract.en.dict_entities import get_entity_name, entity_config\n",
    "import lexnlp.extract.en.courts\n",
    "import pandas\n",
    "text = court_text[0]\n",
    "court_df = pandas.read_csv(\"https://raw.githubusercontent.com/LexPredict/lexpredict-legal-dictionary/1.0.5/en/legal/us_courts.csv\")\n",
    "# Create config objects\n",
    "\n",
    "court_config_data = []\n",
    "for _, row in court_df.iterrows():\n",
    "    c = entity_config(row[\"Court ID\"],row[\"Court Name\"],row[\"Court Type\"])\n",
    "    court_config_data.append(c)\n",
    "\n",
    "court_in_pdf = []    \n",
    "for entity in lexnlp.extract.en.courts.get_courts(text, court_config_data):\n",
    "    court_in_pdf.append(entity[0][1:3])\n",
    "    # remove duplicated regulations in a file\n",
    "    court_in_pdf = list(dict.fromkeys(court_in_pdf)) \n"
   ]
  },
  {
   "cell_type": "code",
   "execution_count": 242,
   "metadata": {},
   "outputs": [],
   "source": [
    "court_list = []\n",
    "for text in court_text:\n",
    "    text_court =lexnlp.extract.en.courts.get_courts(text, court_config_data)\n",
    "    \n",
    "    # court_in_pdf is a list contains all the courts in a pdf file\n",
    "    court_in_pdf = []    \n",
    "    for entity in text_court:\n",
    "        \n",
    "        # sotre every court in the pdf file to this container\n",
    "        court_in_pdf.append(entity[0][1:3])\n",
    "        \n",
    "        # remove duplicated courts in a file\n",
    "        court_in_pdf = list(dict.fromkeys(court_in_pdf))  \n",
    "    \n",
    "    # reg_list is a list contatins lists of regulations for pdf files in the folder\n",
    "    court_list.append(court_in_pdf)\n"
   ]
  },
  {
   "cell_type": "code",
   "execution_count": 262,
   "metadata": {},
   "outputs": [
    {
     "data": {
      "text/plain": [
       "[[('Federal Circuit', 'Appellate Court'),\n",
       "  ('Northern District of California', 'Federal District Court'),\n",
       "  ('Northern District of California', 'Bankruptcy Court')],\n",
       " [('Federal Circuit', 'Appellate Court'),\n",
       "  ('Western District of Pennsylvania', 'Federal District Court'),\n",
       "  ('Western District of Pennsylvania', 'Bankruptcy Court'),\n",
       "  ('Third Circuit', 'Appellate Court')],\n",
       " [('Federal Circuit', 'Appellate Court'),\n",
       "  ('United States Court of International Trade', 'Federal Court'),\n",
       "  ('International Trade Commission', 'Federal Court')],\n",
       " [('Federal Circuit', 'Appellate Court'),\n",
       "  ('Southern District of Florida', 'Federal District Court'),\n",
       "  ('Southern District of Florida', 'Bankruptcy Court'),\n",
       "  ('Eleventh Circuit', 'Appellate Court')],\n",
       " [('Federal Circuit', 'Appellate Court'),\n",
       "  ('Eastern District of Texas', 'Federal District Court'),\n",
       "  ('Eastern District of Texas', 'Bankruptcy Court')],\n",
       " [('Federal Circuit', 'Appellate Court'),\n",
       "  ('Trademark Trial and Appeal Board', 'Federal Court')]]"
      ]
     },
     "execution_count": 262,
     "metadata": {},
     "output_type": "execute_result"
    }
   ],
   "source": [
    "court_list[0:6]"
   ]
  },
  {
   "cell_type": "markdown",
   "metadata": {},
   "source": [
    "### 7. Court for this PDF file"
   ]
  },
  {
   "cell_type": "code",
   "execution_count": 244,
   "metadata": {},
   "outputs": [],
   "source": [
    "# A list contain the courts appeared in the PDF file\n",
    "court_for_this_file = []\n",
    "for courts in court_list:\n",
    "    # Court for this PDF file is the first court in the court list\n",
    "    court_for_this_file.append(courts[0])"
   ]
  },
  {
   "cell_type": "code",
   "execution_count": 260,
   "metadata": {
    "scrolled": true
   },
   "outputs": [
    {
     "data": {
      "text/plain": [
       "[('Federal Circuit', 'Appellate Court'),\n",
       " ('Federal Circuit', 'Appellate Court'),\n",
       " ('Federal Circuit', 'Appellate Court'),\n",
       " ('Federal Circuit', 'Appellate Court'),\n",
       " ('Federal Circuit', 'Appellate Court'),\n",
       " ('Federal Circuit', 'Appellate Court'),\n",
       " ('Federal Circuit', 'Appellate Court'),\n",
       " ('Federal Circuit', 'Appellate Court'),\n",
       " ('Federal Circuit', 'Appellate Court'),\n",
       " ('Federal Circuit', 'Appellate Court')]"
      ]
     },
     "execution_count": 260,
     "metadata": {},
     "output_type": "execute_result"
    }
   ],
   "source": [
    "court_for_this_file[0:10]"
   ]
  },
  {
   "cell_type": "markdown",
   "metadata": {},
   "source": [
    "### 8. Extract Date"
   ]
  },
  {
   "cell_type": "code",
   "execution_count": 246,
   "metadata": {},
   "outputs": [],
   "source": [
    "import lexnlp.extract.en.dates"
   ]
  },
  {
   "cell_type": "code",
   "execution_count": 254,
   "metadata": {
    "scrolled": false
   },
   "outputs": [],
   "source": [
    "dates_for_pdf = []\n",
    "for text in court_text:\n",
    "    date_list =list(lexnlp.extract.en.dates.get_dates(text))\n",
    "    if len(date_list)>=1:\n",
    "        dates_for_pdf.append(date_list[0])\n",
    "    else: \n",
    "        dates_for_pdf.append(None)\n",
    "        \n",
    "    "
   ]
  },
  {
   "cell_type": "code",
   "execution_count": 259,
   "metadata": {
    "scrolled": true
   },
   "outputs": [
    {
     "data": {
      "text/plain": [
       "[datetime.date(2016, 2, 22),\n",
       " datetime.date(2017, 3, 7),\n",
       " datetime.date(2012, 2, 7),\n",
       " datetime.date(2013, 4, 19),\n",
       " datetime.date(2035, 2, 1),\n",
       " datetime.date(2014, 5, 13),\n",
       " datetime.date(2013, 2, 1),\n",
       " datetime.date(2016, 3, 1),\n",
       " datetime.date(2016, 6, 22),\n",
       " datetime.date(2015, 6, 11)]"
      ]
     },
     "execution_count": 259,
     "metadata": {},
     "output_type": "execute_result"
    }
   ],
   "source": [
    "dates_for_pdf[0:10]"
   ]
  },
  {
   "cell_type": "markdown",
   "metadata": {},
   "source": [
    "### 9. Case No `xxxx-xxxx`"
   ]
  },
  {
   "cell_type": "code",
   "execution_count": 266,
   "metadata": {},
   "outputs": [],
   "source": [
    "case_num_xxx = []\n",
    "pattern = re.compile('[0-9]{4}[–|-][0-9]{3,4}', flags=re.DOTALL)\n",
    "for text in court_text:\n",
    "    num = re.findall(pattern,text)\n",
    "    if len(num)>=1:\n",
    "        case_num_xxx.append(num[0])\n",
    "    else: \n",
    "        case_num_xxx.append(None)\n",
    "\n",
    "   "
   ]
  },
  {
   "cell_type": "code",
   "execution_count": 269,
   "metadata": {
    "scrolled": true
   },
   "outputs": [
    {
     "data": {
      "text/plain": [
       "159"
      ]
     },
     "execution_count": 269,
     "metadata": {},
     "output_type": "execute_result"
    }
   ],
   "source": [
    "len(case_num_xxx)"
   ]
  },
  {
   "cell_type": "markdown",
   "metadata": {},
   "source": [
    "### synopsis (and other titled part)"
   ]
  },
  {
   "cell_type": "code",
   "execution_count": 160,
   "metadata": {},
   "outputs": [],
   "source": [
    "synopsis = []\n",
    "pattern = re.compile('\\nBackground:\\s(.*?)\\n\\n', flags=re.DOTALL)\n",
    "for text in court_text:\n",
    "    background = re.search(pattern,text).group(1)\n",
    "    synopsis.append(background)\n",
    "    "
   ]
  },
  {
   "cell_type": "markdown",
   "metadata": {},
   "source": [
    "## 10. Wrap up to Data Frame"
   ]
  },
  {
   "cell_type": "markdown",
   "metadata": {},
   "source": [
    "So for we have\n",
    "- `pdf_name`, \n",
    "- `cite_list`, \n",
    "- `case_number`,\n",
    "- `reg_list`, \n",
    "- `court_list`,\n",
    "- `court_for_this_file`,\n",
    "- `dates_for_pdf`,\n",
    "- `case_num_xxx`"
   ]
  },
  {
   "cell_type": "code",
   "execution_count": 277,
   "metadata": {},
   "outputs": [],
   "source": [
    "# all the lists contains extracted information\n",
    "varlist =[pdf_name,\n",
    "cite_list,\n",
    "case_number,\n",
    "reg_list,\n",
    "court_list,\n",
    "court_for_this_file,\n",
    "dates_for_pdf,\n",
    "case_num_xxx]"
   ]
  },
  {
   "cell_type": "code",
   "execution_count": 278,
   "metadata": {},
   "outputs": [
    {
     "name": "stdout",
     "output_type": "stream",
     "text": [
      "159\n",
      "159\n",
      "159\n",
      "159\n",
      "159\n",
      "159\n",
      "159\n",
      "159\n"
     ]
    }
   ],
   "source": [
    "# check the length of the lists\n",
    "for var in varlist:\n",
    "    print(len(var))"
   ]
  },
  {
   "cell_type": "markdown",
   "metadata": {},
   "source": [
    "A data frame contains the meta data of the court case in the PDF file"
   ]
  },
  {
   "cell_type": "code",
   "execution_count": 279,
   "metadata": {},
   "outputs": [],
   "source": [
    "metadata = pd.DataFrame(\n",
    "    {'file_name': pdf_name,\n",
    "     'case_number': case_number,\n",
    "     'court':court_for_this_file,\n",
    "     'dates':dates_for_pdf,\n",
    "     'num_x_x':case_num_xxx\n",
    "    })"
   ]
  },
  {
   "cell_type": "code",
   "execution_count": 280,
   "metadata": {
    "scrolled": true
   },
   "outputs": [
    {
     "data": {
      "text/html": [
       "<div>\n",
       "<style scoped>\n",
       "    .dataframe tbody tr th:only-of-type {\n",
       "        vertical-align: middle;\n",
       "    }\n",
       "\n",
       "    .dataframe tbody tr th {\n",
       "        vertical-align: top;\n",
       "    }\n",
       "\n",
       "    .dataframe thead th {\n",
       "        text-align: right;\n",
       "    }\n",
       "</style>\n",
       "<table border=\"1\" class=\"dataframe\">\n",
       "  <thead>\n",
       "    <tr style=\"text-align: right;\">\n",
       "      <th></th>\n",
       "      <th>file_name</th>\n",
       "      <th>case_number</th>\n",
       "      <th>court</th>\n",
       "      <th>dates</th>\n",
       "      <th>num_x_x</th>\n",
       "    </tr>\n",
       "  </thead>\n",
       "  <tbody>\n",
       "    <tr>\n",
       "      <th>0</th>\n",
       "      <td>052 - Nuance Communications Inc v ABBYY USA So...</td>\n",
       "      <td>813 F.3d 1368</td>\n",
       "      <td>(Federal Circuit, Appellate Court)</td>\n",
       "      <td>2016-02-22</td>\n",
       "      <td>2014–1629</td>\n",
       "    </tr>\n",
       "    <tr>\n",
       "      <th>1</th>\n",
       "      <td>021 - Intellectual Ventures I LLC v Erie Indem...</td>\n",
       "      <td>850 F.3d 1315</td>\n",
       "      <td>(Federal Circuit, Appellate Court)</td>\n",
       "      <td>2017-03-07</td>\n",
       "      <td>2016-1128</td>\n",
       "    </tr>\n",
       "    <tr>\n",
       "      <th>2</th>\n",
       "      <td>040 - Sioux Honey Ass'n v Hartford Fire Ins Co</td>\n",
       "      <td>672 F.3d 1041</td>\n",
       "      <td>(Federal Circuit, Appellate Court)</td>\n",
       "      <td>2012-02-07</td>\n",
       "      <td>2011–1040</td>\n",
       "    </tr>\n",
       "    <tr>\n",
       "      <th>3</th>\n",
       "      <td>021 - Aspex Eyewear Inc v Zenni Optical Inc</td>\n",
       "      <td>713 F.3d 1377</td>\n",
       "      <td>(Federal Circuit, Appellate Court)</td>\n",
       "      <td>2013-04-19</td>\n",
       "      <td>2012–1318</td>\n",
       "    </tr>\n",
       "    <tr>\n",
       "      <th>4</th>\n",
       "      <td>056 - Soverain Software LLC v Newegg Inc</td>\n",
       "      <td>728 F.3d 1332</td>\n",
       "      <td>(Federal Circuit, Appellate Court)</td>\n",
       "      <td>2035-02-01</td>\n",
       "      <td>2011–1009</td>\n",
       "    </tr>\n",
       "  </tbody>\n",
       "</table>\n",
       "</div>"
      ],
      "text/plain": [
       "                                           file_name    case_number  \\\n",
       "0  052 - Nuance Communications Inc v ABBYY USA So...  813 F.3d 1368   \n",
       "1  021 - Intellectual Ventures I LLC v Erie Indem...  850 F.3d 1315   \n",
       "2     040 - Sioux Honey Ass'n v Hartford Fire Ins Co  672 F.3d 1041   \n",
       "3        021 - Aspex Eyewear Inc v Zenni Optical Inc  713 F.3d 1377   \n",
       "4           056 - Soverain Software LLC v Newegg Inc  728 F.3d 1332   \n",
       "\n",
       "                                court       dates    num_x_x  \n",
       "0  (Federal Circuit, Appellate Court)  2016-02-22  2014–1629  \n",
       "1  (Federal Circuit, Appellate Court)  2017-03-07  2016-1128  \n",
       "2  (Federal Circuit, Appellate Court)  2012-02-07  2011–1040  \n",
       "3  (Federal Circuit, Appellate Court)  2013-04-19  2012–1318  \n",
       "4  (Federal Circuit, Appellate Court)  2035-02-01  2011–1009  "
      ]
     },
     "execution_count": 280,
     "metadata": {},
     "output_type": "execute_result"
    }
   ],
   "source": [
    "metadata.head()"
   ]
  },
  {
   "cell_type": "markdown",
   "metadata": {},
   "source": [
    "Save the data frame to CSV file"
   ]
  },
  {
   "cell_type": "code",
   "execution_count": 286,
   "metadata": {},
   "outputs": [],
   "source": [
    "metadata.to_csv(\"meta_file.csv\", sep='\\t', encoding='utf-8')"
   ]
  },
  {
   "cell_type": "markdown",
   "metadata": {},
   "source": [
    "A data frame contains the reference list of the court case in the PDF file"
   ]
  },
  {
   "cell_type": "code",
   "execution_count": 282,
   "metadata": {},
   "outputs": [],
   "source": [
    "reference_extract = pd.DataFrame(\n",
    "    {'file_name': pdf_name,\n",
    "     'citations': cite_list,\n",
    "     'regulations': reg_list,\n",
    "     'courts':court_list,\n",
    "    })"
   ]
  },
  {
   "cell_type": "code",
   "execution_count": 283,
   "metadata": {},
   "outputs": [
    {
     "data": {
      "text/html": [
       "<div>\n",
       "<style scoped>\n",
       "    .dataframe tbody tr th:only-of-type {\n",
       "        vertical-align: middle;\n",
       "    }\n",
       "\n",
       "    .dataframe tbody tr th {\n",
       "        vertical-align: top;\n",
       "    }\n",
       "\n",
       "    .dataframe thead th {\n",
       "        text-align: right;\n",
       "    }\n",
       "</style>\n",
       "<table border=\"1\" class=\"dataframe\">\n",
       "  <thead>\n",
       "    <tr style=\"text-align: right;\">\n",
       "      <th></th>\n",
       "      <th>file_name</th>\n",
       "      <th>citations</th>\n",
       "      <th>regulations</th>\n",
       "      <th>courts</th>\n",
       "    </tr>\n",
       "  </thead>\n",
       "  <tbody>\n",
       "    <tr>\n",
       "      <th>0</th>\n",
       "      <td>052 - Nuance Communications Inc v ABBYY USA So...</td>\n",
       "      <td>[813 F.3d 1368, 805 F.3d 1368, 467 F.3d 1355, ...</td>\n",
       "      <td>[28 USC § 1295]</td>\n",
       "      <td>[(Federal Circuit, Appellate Court), (Northern...</td>\n",
       "    </tr>\n",
       "    <tr>\n",
       "      <th>1</th>\n",
       "      <td>021 - Intellectual Ventures I LLC v Erie Indem...</td>\n",
       "      <td>[850 F.3d 1315, 444 F.3d 1337, 718 P.2d 920, 5...</td>\n",
       "      <td>[35 USC § 101, 28 USC § 1295, 35 USC § 261]</td>\n",
       "      <td>[(Federal Circuit, Appellate Court), (Western ...</td>\n",
       "    </tr>\n",
       "    <tr>\n",
       "      <th>2</th>\n",
       "      <td>040 - Sioux Honey Ass'n v Hartford Fire Ins Co</td>\n",
       "      <td>[672 F.3d 1041, 200 F.3d 1369, 517 F.3d 1319, ...</td>\n",
       "      <td>[19 USC § 1675c, 19 USC § 1675, 28 USC § 1295,...</td>\n",
       "      <td>[(Federal Circuit, Appellate Court), (United S...</td>\n",
       "    </tr>\n",
       "    <tr>\n",
       "      <th>3</th>\n",
       "      <td>021 - Aspex Eyewear Inc v Zenni Optical Inc</td>\n",
       "      <td>[713 F.3d 1377, 439 U.S. 322, 342 F.3d 1320, 6...</td>\n",
       "      <td>[]</td>\n",
       "      <td>[(Federal Circuit, Appellate Court), (Southern...</td>\n",
       "    </tr>\n",
       "    <tr>\n",
       "      <th>4</th>\n",
       "      <td>056 - Soverain Software LLC v Newegg Inc</td>\n",
       "      <td>[728 F.3d 1332, 705 F.3d 1333, 2013 WL 2631445...</td>\n",
       "      <td>[]</td>\n",
       "      <td>[(Federal Circuit, Appellate Court), (Eastern ...</td>\n",
       "    </tr>\n",
       "  </tbody>\n",
       "</table>\n",
       "</div>"
      ],
      "text/plain": [
       "                                           file_name  \\\n",
       "0  052 - Nuance Communications Inc v ABBYY USA So...   \n",
       "1  021 - Intellectual Ventures I LLC v Erie Indem...   \n",
       "2     040 - Sioux Honey Ass'n v Hartford Fire Ins Co   \n",
       "3        021 - Aspex Eyewear Inc v Zenni Optical Inc   \n",
       "4           056 - Soverain Software LLC v Newegg Inc   \n",
       "\n",
       "                                           citations  \\\n",
       "0  [813 F.3d 1368, 805 F.3d 1368, 467 F.3d 1355, ...   \n",
       "1  [850 F.3d 1315, 444 F.3d 1337, 718 P.2d 920, 5...   \n",
       "2  [672 F.3d 1041, 200 F.3d 1369, 517 F.3d 1319, ...   \n",
       "3  [713 F.3d 1377, 439 U.S. 322, 342 F.3d 1320, 6...   \n",
       "4  [728 F.3d 1332, 705 F.3d 1333, 2013 WL 2631445...   \n",
       "\n",
       "                                         regulations  \\\n",
       "0                                    [28 USC § 1295]   \n",
       "1        [35 USC § 101, 28 USC § 1295, 35 USC § 261]   \n",
       "2  [19 USC § 1675c, 19 USC § 1675, 28 USC § 1295,...   \n",
       "3                                                 []   \n",
       "4                                                 []   \n",
       "\n",
       "                                              courts  \n",
       "0  [(Federal Circuit, Appellate Court), (Northern...  \n",
       "1  [(Federal Circuit, Appellate Court), (Western ...  \n",
       "2  [(Federal Circuit, Appellate Court), (United S...  \n",
       "3  [(Federal Circuit, Appellate Court), (Southern...  \n",
       "4  [(Federal Circuit, Appellate Court), (Eastern ...  "
      ]
     },
     "execution_count": 283,
     "metadata": {},
     "output_type": "execute_result"
    }
   ],
   "source": [
    "reference_extract.head()"
   ]
  },
  {
   "cell_type": "code",
   "execution_count": 285,
   "metadata": {},
   "outputs": [],
   "source": [
    "reference_extract.to_csv(\"reference_extract.csv\", sep='\\t', encoding='utf-8')"
   ]
  },
  {
   "cell_type": "code",
   "execution_count": null,
   "metadata": {},
   "outputs": [],
   "source": []
  }
 ],
 "metadata": {
  "kernelspec": {
   "display_name": "Python 3",
   "language": "python",
   "name": "python3"
  },
  "language_info": {
   "codemirror_mode": {
    "name": "ipython",
    "version": 3
   },
   "file_extension": ".py",
   "mimetype": "text/x-python",
   "name": "python",
   "nbconvert_exporter": "python",
   "pygments_lexer": "ipython3",
   "version": "3.6.8"
  }
 },
 "nbformat": 4,
 "nbformat_minor": 2
}
