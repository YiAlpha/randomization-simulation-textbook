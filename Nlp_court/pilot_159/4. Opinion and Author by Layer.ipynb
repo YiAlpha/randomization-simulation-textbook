{
 "cells": [
  {
   "cell_type": "markdown",
   "metadata": {},
   "source": [
    "# Extract Opinion Text, Author, Judge Panel by Layers\n",
    "\n",
    "1. Extract Opinion Text\n",
    "2. Extract Author\n",
    "3. Extract Judge Panel"
   ]
  },
  {
   "cell_type": "markdown",
   "metadata": {},
   "source": [
    "### Load Text"
   ]
  },
  {
   "cell_type": "code",
   "execution_count": 1,
   "metadata": {},
   "outputs": [],
   "source": [
    "import json\n",
    "pdf2text = json.load(open(\"pdf2text159.json\", 'r'))"
   ]
  },
  {
   "cell_type": "code",
   "execution_count": 2,
   "metadata": {},
   "outputs": [],
   "source": [
    "file_name = pdf2text['file_name']"
   ]
  },
  {
   "cell_type": "code",
   "execution_count": 4,
   "metadata": {},
   "outputs": [],
   "source": [
    "layouts = pdf2text['layouts']"
   ]
  },
  {
   "cell_type": "code",
   "execution_count": 5,
   "metadata": {},
   "outputs": [],
   "source": [
    "raw_text = pdf2text['raw_text']"
   ]
  },
  {
   "cell_type": "code",
   "execution_count": 8,
   "metadata": {},
   "outputs": [],
   "source": [
    "import re"
   ]
  },
  {
   "cell_type": "code",
   "execution_count": 9,
   "metadata": {},
   "outputs": [
    {
     "name": "stdout",
     "output_type": "stream",
     "text": [
      "Opinion\n",
      "\n"
     ]
    }
   ],
   "source": [
    "for layer in layouts[5]:\n",
    "    if re.search('Opinion\\n', layer) != None:\n",
    "        print(layer)"
   ]
  },
  {
   "cell_type": "code",
   "execution_count": 24,
   "metadata": {},
   "outputs": [
    {
     "data": {
      "text/plain": [
       "98"
      ]
     },
     "execution_count": 24,
     "metadata": {},
     "output_type": "execute_result"
    }
   ],
   "source": [
    "layouts[5].index('All Citations\\n')"
   ]
  },
  {
   "cell_type": "markdown",
   "metadata": {},
   "source": [
    "## Extract Opinion Text"
   ]
  },
  {
   "cell_type": "code",
   "execution_count": 12,
   "metadata": {},
   "outputs": [],
   "source": [
    "opinion_index = []\n",
    "for layer in layouts:\n",
    "    try:\n",
    "        opinion_index.append(layer.index('Opinion\\n'))\n",
    "    except:\n",
    "        opinion_index.append(None)"
   ]
  },
  {
   "cell_type": "code",
   "execution_count": 25,
   "metadata": {},
   "outputs": [],
   "source": [
    "allci_index = []\n",
    "for layer in layouts:\n",
    "    try:\n",
    "        allci_index.append(layer.index('All Citations\\n'))\n",
    "    except:\n",
    "        allci_index.append(None)"
   ]
  },
  {
   "cell_type": "code",
   "execution_count": 52,
   "metadata": {},
   "outputs": [],
   "source": [
    "no_opinion = []\n",
    "for i in range(len(opinion_index)):\n",
    "    if opinion_index[i] == None:\n",
    "        no_opinion.append(i)"
   ]
  },
  {
   "cell_type": "code",
   "execution_count": 51,
   "metadata": {},
   "outputs": [
    {
     "name": "stdout",
     "output_type": "stream",
     "text": [
      "4 34 ON PETITION FOR REHEARING\n",
      " 056 - Soverain Software LLC v Newegg Inc \n",
      "\n",
      "8 14 ON PETITION FOR REHEARING EN BANC\n",
      " 095 - Ethicon EndoSurgery Inc v Covidien LP \n",
      "\n",
      "137 55 ON PETITION FOR REHEARING\n",
      " 059 - InterDigital Communications LLC v International Trade Com'n \n",
      "\n",
      "152 18 ON PETITION FOR REHEARING EN BANC\n",
      " 026 - Commil USA LLC v Cisco Systems Inc \n",
      "\n"
     ]
    }
   ],
   "source": [
    "for i in no_opinion:\n",
    "    for layer in layouts[i]:\n",
    "        if re.search('^ON PETITION FOR REHEARING.*\\n', layer) != None:\n",
    "            print(i, layouts[i].index(layer), layer, file_name[i], '\\n')\n",
    "            opinion_index[i] = layouts[i].index(layer)\n",
    "            "
   ]
  },
  {
   "cell_type": "code",
   "execution_count": null,
   "metadata": {},
   "outputs": [],
   "source": [
    "no_opinion = []\n",
    "for i in range(len(opinion_index)):\n",
    "    if opinion_index[i] == None:\n",
    "        no_opinion.append(i)"
   ]
  },
  {
   "cell_type": "code",
   "execution_count": 57,
   "metadata": {},
   "outputs": [
    {
     "name": "stdout",
     "output_type": "stream",
     "text": [
      "10 98 Opinion\n",
      "Kaneka Corporation sued Defendants Xiamen Kingdomway Group Company, Pacific Rainbow International Inc., and\n",
      "Shenzhou Biology and Technology Co., Ltd., in the Central District of California, alleging infringement of U.S. Patent\n",
      "No. 7,910,340 (the ′340 Patent). The district court granted summary judgment of noninfringement based on the district\n",
      "court's claim construction. Kaneka appealed. For the reasons that follow, we affirm-in-part, vacate-in-part, and remand.\n",
      " 051 - Kaneka Corp v Xiamen Kingdomway Group Co \n",
      "\n",
      "95 73 Opinion\n",
      "Watson Laboratories, Inc.—Florida (“Watson”) appeals from the decisions of the United States District Court for the\n",
      "District of Nevada (i) holding that the subject matter of the asserted claims of Ferring B.V.'s (“Ferring”) U.S. Patents\n",
      "7,947,739 (the “′739 patent”), 8,022,106 (the “′106 patent”), and 8,273,795 (the “′795 patent”) would not have been\n",
      "obvious under 35 U.S.C. § 103, (ii) finding that Watson's generic tranexamic acid product infringed those claims under\n",
      "35 U.S.C. § 271, consequently (iii) ordering the U.S. Food and Drug Administration (“FDA”) to reset the approval date\n",
      "of Watson's Abbreviated New Drug Application (“ANDA”) 20–2093 and (iv) permanently enjoining the manufacture,\n",
      "use, sale, or offer for sale of Watson's generic product. See Ferring  *1403  B.V. v. Watson Labs., Inc.—Fla., No. 11–\n",
      "0481 (D.Nev. Apr. 14, 2014), ECF No. 524 (“Final Order ”); J.A. 325–27. We conclude that the district court did not err\n",
      " 032 - Ferring BV v Watson Laboratories Inc-Florida \n",
      "\n"
     ]
    }
   ],
   "source": [
    "for i in no_opinion:\n",
    "    for layer in layouts[i]:\n",
    "        if re.search('^Opinion\\n', layer) != None:\n",
    "            print(i, layouts[i].index(layer), layer, file_name[i], '\\n')\n",
    "            opinion_index[i] = layouts[i].index(layer)            "
   ]
  },
  {
   "cell_type": "code",
   "execution_count": 58,
   "metadata": {},
   "outputs": [],
   "source": [
    "no_opinion = []\n",
    "for i in range(len(opinion_index)):\n",
    "    if opinion_index[i] == None:\n",
    "        no_opinion.append(i)"
   ]
  },
  {
   "cell_type": "code",
   "execution_count": 59,
   "metadata": {},
   "outputs": [
    {
     "data": {
      "text/plain": [
       "[14, 19, 20, 27, 33, 40, 60, 66, 91, 96, 104, 138, 141, 149]"
      ]
     },
     "execution_count": 59,
     "metadata": {},
     "output_type": "execute_result"
    }
   ],
   "source": [
    "no_opinion"
   ]
  },
  {
   "cell_type": "code",
   "execution_count": 60,
   "metadata": {},
   "outputs": [
    {
     "data": {
      "text/plain": [
       "'041 - Memorylink Corp v Motorola Inc'"
      ]
     },
     "execution_count": 60,
     "metadata": {},
     "output_type": "execute_result"
    }
   ],
   "source": [
    "file_name[14]"
   ]
  },
  {
   "cell_type": "code",
   "execution_count": 64,
   "metadata": {
    "scrolled": false
   },
   "outputs": [
    {
     "name": "stdout",
     "output_type": "stream",
     "text": [
      "14 17 ORDER\n",
      " 041 - Memorylink Corp v Motorola Inc \n",
      "\n",
      "19 32 ORDER\n",
      " 085 - Fairchild (Taiwan) Corporation v Power Integrations Inc \n",
      "\n",
      "33 22 ORDER\n",
      " 095 - ClearCorrect Operating LLC v International Trade Com'n \n",
      "\n",
      "40 41 ORDER\n",
      " 014 - In re Procter And Gamble Co \n",
      "\n",
      "66 18 ORDER\n",
      " 079 - Nobelbiz Inc v Global Connect LLC \n",
      "\n",
      "96 77 ORDER\n",
      " 029 - In re Cray Inc \n",
      "\n",
      "104 42 ORDER\n",
      " 057 - In re Barnes And Noble Inc \n",
      "\n",
      "149 20 ORDER\n",
      " 073 - SAS Institute Inc v Complementsoft LLC \n",
      "\n"
     ]
    }
   ],
   "source": [
    "for i in no_opinion:\n",
    "    for layer in layouts[i]:\n",
    "        if re.search('^ORDER\\n', layer) != None:\n",
    "            print(i, layouts[i].index(layer), layer, file_name[i], '\\n')\n",
    "            opinion_index[i] = layouts[i].index(layer)            "
   ]
  },
  {
   "cell_type": "code",
   "execution_count": 65,
   "metadata": {},
   "outputs": [],
   "source": [
    "no_opinion = []\n",
    "for i in range(len(opinion_index)):\n",
    "    if opinion_index[i] == None:\n",
    "        no_opinion.append(i)"
   ]
  },
  {
   "cell_type": "code",
   "execution_count": 66,
   "metadata": {},
   "outputs": [
    {
     "data": {
      "text/plain": [
       "[20, 27, 60, 91, 138, 141]"
      ]
     },
     "execution_count": 66,
     "metadata": {},
     "output_type": "execute_result"
    }
   ],
   "source": [
    "no_opinion"
   ]
  },
  {
   "cell_type": "code",
   "execution_count": 68,
   "metadata": {},
   "outputs": [
    {
     "data": {
      "text/plain": [
       "'064 - GTNX Inc v INTTRA Inc'"
      ]
     },
     "execution_count": 68,
     "metadata": {},
     "output_type": "execute_result"
    }
   ],
   "source": [
    "file_name[27]"
   ]
  },
  {
   "cell_type": "code",
   "execution_count": 74,
   "metadata": {},
   "outputs": [
    {
     "name": "stdout",
     "output_type": "stream",
     "text": [
      "20 153 BACKGROUND\n",
      " 078 - Versata Development Group Inc v SAP America Inc \n",
      "\n",
      "27 54 BACKGROUND\n",
      " 064 - GTNX Inc v INTTRA Inc \n",
      "\n",
      "60 66 BACKGROUND\n",
      " 004 - Preston v Marathon Oil Co \n",
      "\n"
     ]
    }
   ],
   "source": [
    "for i in no_opinion:\n",
    "    for layer in layouts[i]:\n",
    "        if re.search('^BACKGROUND\\n', layer) != None:\n",
    "            print(i, layouts[i].index(layer), layer, file_name[i], '\\n')\n",
    "            opinion_index[i] = layouts[i].index(layer)            "
   ]
  },
  {
   "cell_type": "code",
   "execution_count": 75,
   "metadata": {},
   "outputs": [],
   "source": [
    "no_opinion = []\n",
    "for i in range(len(opinion_index)):\n",
    "    if opinion_index[i] == None:\n",
    "        no_opinion.append(i)"
   ]
  },
  {
   "cell_type": "code",
   "execution_count": 163,
   "metadata": {},
   "outputs": [
    {
     "data": {
      "text/plain": [
       "[91, 138, 141]"
      ]
     },
     "execution_count": 163,
     "metadata": {},
     "output_type": "execute_result"
    }
   ],
   "source": [
    "no_opinion"
   ]
  },
  {
   "cell_type": "code",
   "execution_count": 164,
   "metadata": {
    "scrolled": true
   },
   "outputs": [
    {
     "name": "stdout",
     "output_type": "stream",
     "text": [
      "91 61 GAJARSA, Circuit Judge.\n",
      " 037 - Bard Peripheral Vascular Inc v WL Gore And Associates Inc \n",
      "\n",
      "138 72 Taranto, Circuit Judge.\n",
      " 090 - In re Micron Technology Inc \n",
      "\n",
      "141 31 PLAGER, Circuit Judge.\n",
      " 053 - Versata Development Group Inc v Lee \n",
      "\n"
     ]
    }
   ],
   "source": [
    "for i in no_opinion:\n",
    "    for layer in layouts[i]:\n",
    "        if re.search('^.*Circuit Judge.\\n$', layer) != None:\n",
    "            print(i, layouts[i].index(layer), layer, file_name[i], '\\n')\n",
    "            opinion_index[i] = layouts[i].index(layer)            "
   ]
  },
  {
   "cell_type": "code",
   "execution_count": 167,
   "metadata": {},
   "outputs": [],
   "source": [
    "no_opinion = []\n",
    "for i in range(len(opinion_index)):\n",
    "    if opinion_index[i] == None:\n",
    "        no_opinion.append(i)"
   ]
  },
  {
   "cell_type": "code",
   "execution_count": 168,
   "metadata": {
    "scrolled": true
   },
   "outputs": [
    {
     "data": {
      "text/plain": [
       "[]"
      ]
     },
     "execution_count": 168,
     "metadata": {},
     "output_type": "execute_result"
    }
   ],
   "source": [
    "no_opinion"
   ]
  },
  {
   "cell_type": "code",
   "execution_count": 178,
   "metadata": {},
   "outputs": [],
   "source": [
    "opinion_text = []\n",
    "\n",
    "for f, i, j in zip(range(len(file_name)),opinion_index, allci_index):\n",
    "    opinion_text.append(''.join(layouts[f][i:j]))\n",
    "    \n",
    "    "
   ]
  },
  {
   "cell_type": "code",
   "execution_count": 183,
   "metadata": {},
   "outputs": [],
   "source": [
    "json.dump({'opinion_text': opinion_text},open('opinion_text.json', 'w'))"
   ]
  },
  {
   "cell_type": "markdown",
   "metadata": {},
   "source": [
    "## Author"
   ]
  },
  {
   "cell_type": "code",
   "execution_count": 104,
   "metadata": {
    "scrolled": true
   },
   "outputs": [],
   "source": [
    "judge_list = [None]*len(file_name)\n",
    "for i in range(len(file_name)):\n",
    "    for layer in layouts[i]:\n",
    "        if re.search(r'^(?!Before).*Judge.\\n$', layer) != None:\n",
    "            if len(layer)<30:\n",
    "                judge_list[i] = layer"
   ]
  },
  {
   "cell_type": "markdown",
   "metadata": {},
   "source": [
    "## Judge Panel"
   ]
  },
  {
   "cell_type": "code",
   "execution_count": 147,
   "metadata": {},
   "outputs": [],
   "source": [
    "judge_panel = [None]*len(file_name)\n",
    "for i in range(len(file_name)):\n",
    "        for layer in layouts[i]:\n",
    "            if re.search(r'^Before(.*)Judge(.*)', layer) != None:\n",
    "                    judge_panel[i] = layer"
   ]
  },
  {
   "cell_type": "code",
   "execution_count": 148,
   "metadata": {
    "scrolled": true
   },
   "outputs": [
    {
     "name": "stdout",
     "output_type": "stream",
     "text": [
      "53 022 - Advanced Fiber Technologies (AFT) Trust v J And L Fiber Services Inc\n",
      "147 055 - Vederi LLC v Google Inc\n"
     ]
    }
   ],
   "source": [
    "for i in range(len(file_name)):\n",
    "    if judge_panel[i] == None:\n",
    "        print(i,file_name[i])"
   ]
  },
  {
   "cell_type": "code",
   "execution_count": 152,
   "metadata": {},
   "outputs": [],
   "source": [
    "for i in range(len(file_name)):\n",
    "    if judge_panel[i] == None:\n",
    "        for layer in layouts[i]:\n",
    "            if re.search(r'.*Before.*Judges.*\\n$', layer) != None:\n",
    "                    judge_panel[i] = layer"
   ]
  },
  {
   "cell_type": "code",
   "execution_count": 153,
   "metadata": {},
   "outputs": [],
   "source": [
    "for i in range(len(file_name)):\n",
    "    if judge_panel[i] == None:\n",
    "        print(i,file_name[i])"
   ]
  },
  {
   "cell_type": "code",
   "execution_count": 154,
   "metadata": {},
   "outputs": [],
   "source": [
    "import pandas as pd"
   ]
  },
  {
   "cell_type": "code",
   "execution_count": 155,
   "metadata": {},
   "outputs": [],
   "source": [
    "meta = pd.read_csv(\"case_mate.csv\", sep='\\t')"
   ]
  },
  {
   "cell_type": "code",
   "execution_count": 157,
   "metadata": {},
   "outputs": [],
   "source": [
    "meta['judge_panel'] = judge_panel"
   ]
  },
  {
   "cell_type": "code",
   "execution_count": 161,
   "metadata": {},
   "outputs": [],
   "source": [
    "meta.to_csv(\"case_mate.csv\",index=False, sep = '\\t')"
   ]
  },
  {
   "cell_type": "code",
   "execution_count": null,
   "metadata": {},
   "outputs": [],
   "source": []
  }
 ],
 "metadata": {
  "kernelspec": {
   "display_name": "Python 3",
   "language": "python",
   "name": "python3"
  },
  "language_info": {
   "codemirror_mode": {
    "name": "ipython",
    "version": 3
   },
   "file_extension": ".py",
   "mimetype": "text/x-python",
   "name": "python",
   "nbconvert_exporter": "python",
   "pygments_lexer": "ipython3",
   "version": "3.6.8"
  }
 },
 "nbformat": 4,
 "nbformat_minor": 2
}
