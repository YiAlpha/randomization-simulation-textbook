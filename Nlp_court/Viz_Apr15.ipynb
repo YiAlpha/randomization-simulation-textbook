{
 "cells": [
  {
   "cell_type": "markdown",
   "metadata": {},
   "source": [
    "## Visulization"
   ]
  },
  {
   "cell_type": "markdown",
   "metadata": {},
   "source": [
    "## 1. Most Frequent Citation"
   ]
  },
  {
   "cell_type": "code",
   "execution_count": 1,
   "metadata": {},
   "outputs": [],
   "source": [
    "import pandas as pd"
   ]
  },
  {
   "cell_type": "code",
   "execution_count": 4,
   "metadata": {},
   "outputs": [],
   "source": [
    "citation159 = pd.read_csv(\"citation159.csv\", sep=\"\\t\", index_col=0)"
   ]
  },
  {
   "cell_type": "code",
   "execution_count": 5,
   "metadata": {},
   "outputs": [
    {
     "data": {
      "text/html": [
       "<div>\n",
       "<style scoped>\n",
       "    .dataframe tbody tr th:only-of-type {\n",
       "        vertical-align: middle;\n",
       "    }\n",
       "\n",
       "    .dataframe tbody tr th {\n",
       "        vertical-align: top;\n",
       "    }\n",
       "\n",
       "    .dataframe thead th {\n",
       "        text-align: right;\n",
       "    }\n",
       "</style>\n",
       "<table border=\"1\" class=\"dataframe\">\n",
       "  <thead>\n",
       "    <tr style=\"text-align: right;\">\n",
       "      <th></th>\n",
       "      <th>file</th>\n",
       "      <th>citaion</th>\n",
       "    </tr>\n",
       "  </thead>\n",
       "  <tbody>\n",
       "    <tr>\n",
       "      <th>0</th>\n",
       "      <td>052 - Nuance Communications Inc v ABBYY USA So...</td>\n",
       "      <td>813 F.3d 1368</td>\n",
       "    </tr>\n",
       "    <tr>\n",
       "      <th>1</th>\n",
       "      <td>021 - Intellectual Ventures I LLC v Erie Indem...</td>\n",
       "      <td>850 F.3d 1315</td>\n",
       "    </tr>\n",
       "    <tr>\n",
       "      <th>2</th>\n",
       "      <td>040 - Sioux Honey Ass'n v Hartford Fire Ins Co</td>\n",
       "      <td>672 F.3d 1041</td>\n",
       "    </tr>\n",
       "    <tr>\n",
       "      <th>3</th>\n",
       "      <td>021 - Aspex Eyewear Inc v Zenni Optical Inc</td>\n",
       "      <td>713 F.3d 1377</td>\n",
       "    </tr>\n",
       "    <tr>\n",
       "      <th>4</th>\n",
       "      <td>056 - Soverain Software LLC v Newegg Inc</td>\n",
       "      <td>728 F.3d 1332</td>\n",
       "    </tr>\n",
       "  </tbody>\n",
       "</table>\n",
       "</div>"
      ],
      "text/plain": [
       "                                                file        citaion\n",
       "0  052 - Nuance Communications Inc v ABBYY USA So...  813 F.3d 1368\n",
       "1  021 - Intellectual Ventures I LLC v Erie Indem...  850 F.3d 1315\n",
       "2     040 - Sioux Honey Ass'n v Hartford Fire Ins Co  672 F.3d 1041\n",
       "3        021 - Aspex Eyewear Inc v Zenni Optical Inc  713 F.3d 1377\n",
       "4           056 - Soverain Software LLC v Newegg Inc  728 F.3d 1332"
      ]
     },
     "execution_count": 5,
     "metadata": {},
     "output_type": "execute_result"
    }
   ],
   "source": [
    "citation159.head()"
   ]
  },
  {
   "cell_type": "code",
   "execution_count": 23,
   "metadata": {},
   "outputs": [],
   "source": [
    "cite10 = citation159.groupby(['citaion']).count().nlargest(10, 'file').\\\n",
    "rename(index=str, columns={\"file\": \"times\"}).assign(cite = cite10.index)"
   ]
  },
  {
   "cell_type": "code",
   "execution_count": 24,
   "metadata": {},
   "outputs": [
    {
     "data": {
      "text/html": [
       "<div>\n",
       "<style scoped>\n",
       "    .dataframe tbody tr th:only-of-type {\n",
       "        vertical-align: middle;\n",
       "    }\n",
       "\n",
       "    .dataframe tbody tr th {\n",
       "        vertical-align: top;\n",
       "    }\n",
       "\n",
       "    .dataframe thead th {\n",
       "        text-align: right;\n",
       "    }\n",
       "</style>\n",
       "<table border=\"1\" class=\"dataframe\">\n",
       "  <thead>\n",
       "    <tr style=\"text-align: right;\">\n",
       "      <th></th>\n",
       "      <th>times</th>\n",
       "      <th>cite</th>\n",
       "    </tr>\n",
       "    <tr>\n",
       "      <th>citaion</th>\n",
       "      <th></th>\n",
       "      <th></th>\n",
       "    </tr>\n",
       "  </thead>\n",
       "  <tbody>\n",
       "    <tr>\n",
       "      <th>415 F.3d 1303</th>\n",
       "      <td>33</td>\n",
       "      <td>415 F.3d 1303</td>\n",
       "    </tr>\n",
       "    <tr>\n",
       "      <th>127 S.Ct. 1727</th>\n",
       "      <td>20</td>\n",
       "      <td>127 S.Ct. 1727</td>\n",
       "    </tr>\n",
       "    <tr>\n",
       "      <th>15 L.Ed.2d 545</th>\n",
       "      <td>20</td>\n",
       "      <td>15 L.Ed.2d 545</td>\n",
       "    </tr>\n",
       "    <tr>\n",
       "      <th>167 L.Ed.2d 705</th>\n",
       "      <td>20</td>\n",
       "      <td>167 L.Ed.2d 705</td>\n",
       "    </tr>\n",
       "    <tr>\n",
       "      <th>383 U.S. 1</th>\n",
       "      <td>20</td>\n",
       "      <td>383 U.S. 1</td>\n",
       "    </tr>\n",
       "    <tr>\n",
       "      <th>550 U.S. 398</th>\n",
       "      <td>20</td>\n",
       "      <td>550 U.S. 398</td>\n",
       "    </tr>\n",
       "    <tr>\n",
       "      <th>86 S.Ct. 684</th>\n",
       "      <td>20</td>\n",
       "      <td>86 S.Ct. 684</td>\n",
       "    </tr>\n",
       "    <tr>\n",
       "      <th>135 S.Ct. 831</th>\n",
       "      <td>19</td>\n",
       "      <td>135 S.Ct. 831</td>\n",
       "    </tr>\n",
       "    <tr>\n",
       "      <th>131 S.Ct. 2238</th>\n",
       "      <td>14</td>\n",
       "      <td>131 S.Ct. 2238</td>\n",
       "    </tr>\n",
       "    <tr>\n",
       "      <th>138 F.3d 1448</th>\n",
       "      <td>14</td>\n",
       "      <td>138 F.3d 1448</td>\n",
       "    </tr>\n",
       "  </tbody>\n",
       "</table>\n",
       "</div>"
      ],
      "text/plain": [
       "                 times             cite\n",
       "citaion                                \n",
       "415 F.3d 1303       33    415 F.3d 1303\n",
       "127 S.Ct. 1727      20   127 S.Ct. 1727\n",
       "15 L.Ed.2d 545      20   15 L.Ed.2d 545\n",
       "167 L.Ed.2d 705     20  167 L.Ed.2d 705\n",
       "383 U.S. 1          20       383 U.S. 1\n",
       "550 U.S. 398        20     550 U.S. 398\n",
       "86 S.Ct. 684        20     86 S.Ct. 684\n",
       "135 S.Ct. 831       19    135 S.Ct. 831\n",
       "131 S.Ct. 2238      14   131 S.Ct. 2238\n",
       "138 F.3d 1448       14    138 F.3d 1448"
      ]
     },
     "execution_count": 24,
     "metadata": {},
     "output_type": "execute_result"
    }
   ],
   "source": [
    "cite10"
   ]
  },
  {
   "cell_type": "code",
   "execution_count": 6,
   "metadata": {},
   "outputs": [],
   "source": [
    "import matplotlib.pyplot as plt\n",
    "import seaborn as sns"
   ]
  },
  {
   "cell_type": "code",
   "execution_count": 66,
   "metadata": {},
   "outputs": [],
   "source": [
    "sns.set(rc={'figure.figsize':(9,5)}, \n",
    "        style = \"whitegrid\", \n",
    "        font=\"Times New Roman\",\n",
    "       font_scale=1.1)"
   ]
  },
  {
   "cell_type": "code",
   "execution_count": 98,
   "metadata": {
    "scrolled": true
   },
   "outputs": [
    {
     "data": {
      "image/png": "[encoded data removed]",
      "text/plain": [
       "<Figure size 648x360 with 1 Axes>"
      ]
     },
     "metadata": {},
     "output_type": "display_data"
    }
   ],
   "source": [
    "cite_freq = sns.barplot(x=\"times\",y=\"cite\", data=cite10). \\\n",
    "            set_title('Top 10 Cited Citations')"
   ]
  },
  {
   "cell_type": "code",
   "execution_count": 68,
   "metadata": {},
   "outputs": [],
   "source": [
    "cite_freq.figure.savefig(\"cite_freq.png\",quality=95,dpi=400,bbox_inches = 'tight')"
   ]
  },
  {
   "cell_type": "markdown",
   "metadata": {},
   "source": [
    "## Author"
   ]
  },
  {
   "cell_type": "code",
   "execution_count": 149,
   "metadata": {},
   "outputs": [],
   "source": [
    "import json\n",
    "import regex as re"
   ]
  },
  {
   "cell_type": "code",
   "execution_count": 3,
   "metadata": {},
   "outputs": [],
   "source": [
    "pdf2text = json.load(open('pdf2text159.json', 'r'))"
   ]
  },
  {
   "cell_type": "code",
   "execution_count": 6,
   "metadata": {},
   "outputs": [
    {
     "data": {
      "text/plain": [
       "dict_keys(['file_name', 'layouts', 'raw_text'])"
      ]
     },
     "execution_count": 6,
     "metadata": {},
     "output_type": "execute_result"
    }
   ],
   "source": [
    "pdf2text.keys()"
   ]
  },
  {
   "cell_type": "code",
   "execution_count": 8,
   "metadata": {},
   "outputs": [],
   "source": [
    "files = pdf2text['file_name']"
   ]
  },
  {
   "cell_type": "code",
   "execution_count": 11,
   "metadata": {},
   "outputs": [],
   "source": [
    "file_layers = pdf2text['layouts']"
   ]
  },
  {
   "cell_type": "code",
   "execution_count": 13,
   "metadata": {},
   "outputs": [],
   "source": [
    "file_text = pdf2text['raw_text']"
   ]
  },
  {
   "cell_type": "code",
   "execution_count": 16,
   "metadata": {},
   "outputs": [],
   "source": [
    "del pdf2text"
   ]
  },
  {
   "cell_type": "code",
   "execution_count": 167,
   "metadata": {},
   "outputs": [],
   "source": [
    "def get_hold_text(file_layer):\n",
    "    result = []\n",
    "    for layer in file_layer:\n",
    "        if re.search('[\\[]?(Holding)s*[\\:]', layer) != None:\n",
    "            result.append(layer)\n",
    "    return(result)"
   ]
  },
  {
   "cell_type": "code",
   "execution_count": 168,
   "metadata": {},
   "outputs": [],
   "source": [
    "holds = []\n",
    "for file_layer in file_layers:\n",
    "    hold = get_hold_text(file_layer)\n",
    "    holds.append(hold)  "
   ]
  },
  {
   "cell_type": "code",
   "execution_count": 171,
   "metadata": {},
   "outputs": [
    {
     "name": "stdout",
     "output_type": "stream",
     "text": [
      "8\n",
      "14\n",
      "33\n",
      "66\n",
      "149\n",
      "152\n"
     ]
    }
   ],
   "source": [
    "for i in range(len(holds)):\n",
    "    if holds[i] == []:\n",
    "        print(i)"
   ]
  },
  {
   "cell_type": "code",
   "execution_count": 175,
   "metadata": {},
   "outputs": [
    {
     "data": {
      "text/plain": [
       "['Nobelbiz, Inc. v. Global Connect, L.L.C., 876 F.3d 1326 (2017)\\n125 U.S.P.Q.2d 1367\\n',\n",
       " '876 F.3d 1326\\n',\n",
       " 'United States Court of Appeals,\\n',\n",
       " 'Federal Circuit.\\n',\n",
       " 'NOBELBIZ, INC., Plaintiff-Appellee\\n',\n",
       " 'v.\\n',\n",
       " 'GLOBAL CONNECT, L.L.C., T C N, Inc., Defendants-Appellants\\n',\n",
       " '2016-1104\\n',\n",
       " '|\\n',\n",
       " '2016-1105\\n',\n",
       " '|\\n',\n",
       " 'December 8, 2017\\n',\n",
       " 'Appeals  from  the  United  States  District  Court  for  the  Eastern  District  of  Texas  in  Nos.  6:12-cv-00244-RWS,\\n6:12-cv-00247-RWS,  6:13-cv-00804-MHS,  and  6:13-cv-00805-MHS,  Judge  Robert  Schroeder  III,  Judge  Michael  H.\\nSchneider.\\nON PETITION FOR REHEARING EN BANC\\n',\n",
       " 'Attorneys and Law Firms\\n',\n",
       " 'RALPH A. DENGLER, Venable LLP, New York, NY, filed a petition for rehearing en banc for plaintiff-appellee.\\nAlso  represented  by  GIANNA  CRICCO-LIZZA;  MEGAN  S.  WOODWORTH,  Washington,  DC;  WILLIAM  A.\\nHECTOR, San Francisco, CA.\\n',\n",
       " 'CLINTON EARL DUKE, Durham Jones & Pinegar, Salt Lake City, UT, filed a response to the petition for defend-\\nants-appellants. Also represented by LYNDON BRADSHAW.\\n',\n",
       " \"Before Prost, Chief Judge, Newman, Lourie, Dyk, Moore, O'Malley, Reyna, Wallach, Taranto, Chen, Hughes, and\\nStoll, Circuit Judges.\\n\",\n",
       " 'Per Curiam.\\n',\n",
       " 'ORDER\\n',\n",
       " 'A petition for rehearing en banc was filed by appellee NobelBiz, Inc., and a response thereto was invited by the court\\nand filed by appellants Global Connect, L.L.C. and T C N, Inc. The petition for rehearing was first referred to the panel\\nthat heard the appeal, and thereafter, the petition for rehearing and response were referred to the circuit judges who are\\nin regular active service. A poll was requested, taken, and failed.\\n',\n",
       " 'Upon consideration thereof,\\n',\n",
       " 'IT IS ORDERED THAT:\\n',\n",
       " 'The petition for panel rehearing is denied.\\n',\n",
       " 'The petition for rehearing en banc is denied.\\n',\n",
       " 'The mandate of the court will issue on December 15, 2017.\\n',\n",
       " ' © 2018 Thomson Reuters. No claim to original U.S. Government Works.\\n',\n",
       " '1\\n',\n",
       " 'Nobelbiz, Inc. v. Global Connect, L.L.C., 876 F.3d 1326 (2017)\\n125 U.S.P.Q.2d 1367\\n',\n",
       " \"O'Malley, Circuit Judge, with whom Newman and Reyna, Circuit Judges, join, dissents from the denial of the petition\\nfor rehearing en banc.\\nThe panel majority in this case held that the district court erred by adopting a plain-and-ordinary-meaning construction\\nfor several non-technical terms, and by purportedly allowing the parties' experts and counsel to make arguments to the\\njury about what those simple terms mean. See NobelBiz, Inc. v. Glob. Connect, L.L.C., 701 Fed.Appx. 994, 997–99 (Fed.\\nCir. 2017). I agree with Judge Newman, who dissented from that holding, that the majority erred by turning what is\\nfundamentally  *1327  a factual question for the jury regarding whether the accused systems and features infringe the\\npatent claims into a legal one for the court—and ultimately this court—to resolve. 1  See id. at 999–1001 (Newman, J.,\\ndissenting). And, by relying on O2 Micro International Ltd. v. Beyond Innovation Technology Co., 521 F.3d 1351 (Fed.\\nCir. 2008), to support its holding, the majority has added to the growing confusion regarding the scope of that decision.\\nIn the nearly ten years since O2 Micro issued, this court has stretched its holding well beyond the factual circumstances\\nat issue there. In so doing, we have caused unnecessary difficulties for district courts, which must manage these already\\ndifficult-enough cases, and have intruded on the jury's fact-finding role. It is time we provide much-needed guidance en\\nbanc about O2 Micro's reach. I dissent from the court's order declining the opportunity to do so in this case.\\n\",\n",
       " \"O2 Micro involved technology related to DC-to-AC converter circuits for controlling the amount of power delivered\\nto cold cathode fluorescent lamps used to back-light laptop screens. Id. at 1354. During the claim construction phase\\nof the case, the parties presented a clear dispute to the district court regarding the meaning of the term “only if” in the\\nclaim limitation “a feedback control loop circuit ... adapted to generate a second signal pulse signal for controlling the\\nconduction state of said second plurality of switches only if said feedback signal is above a predetermined threshold.”\\nId. at 1356, 1360–61. The plaintiff asserted that the claims would be understood by one of ordinary skill in the art to\\nonly apply to “the steady state operation of the switching circuit,” while the defend-ants argued that the claims apply\\nat all times, with no exception. Id. at 1360. Thus, the parties disputed “not the meaning of the words themselves, but\\nthe scope that should be encompassed by th[e] claim language.” Id. at 1361. The district court acknowledged the parties'\\ndispute but declined to resolve it, giving the term a plain-and-ordinary-meaning construction instead. Id. This left the\\nparties to argue about claim scope to the jury. See id. at 1362 (“O2 Micro also brought the inventor of the patents-in-\\nsuit to testify regarding the meaning of ‘only if’[.]”).\\n\",\n",
       " 'The technology at issue here, by contrast, is much different, and, in fact, simpler. The patents relate to a method for\\nprocessing a communication between a first party and a second party. See NobelBiz, 701 Fed.Appx. at 996. The terms\\nat issue—“replacement telephone number,” “modify caller identification data of the call originator,” and “outbound\\ncall”—are less technical than the term at issue in O2 Micro. And, at least for two of those terms, the parties did not dispute\\nhow a skilled artisan would understand their scope. Instead, the parties disputed only whether a formal construction\\nwas required. See id. Finally, the expert testimony in this case reveals that neither expert opined specifically about the\\nmeaning of the claim terms, nor did they contend that the terms have complex or technical meanings to one of skill in the\\nart. The experts merely expressed their own views about whether the allegedly infringing systems read on those terms.\\nThis case is therefore distinguishable from O2 Micro.\\n',\n",
       " \"Beyond this case, O2 Micro has caused difficulties for courts and litigants alike. O2 Micro's general rule is easy enough to\\nstate in the abstract: “When ... parties raise an actual dispute regarding the proper scope of the [ ] claims, the court, not the\\njury, must resolve that dispute.”  *1328  O2 Micro, 521 F.3d at 1360. We have not articulated, however, what constitutes\\nan “actual dispute” in this context. While we expect district courts to distinguish bona fide infringement arguments from\\nthose masquerading as claim construction disputes, we have not provided the lower courts with effective guidance to do\\nso. As a result, courts have struggled to strike the delicate balance between ensuring that they do not permit the jury to\\ndetermine claim scope, on the one hand, and ensuring that they do not encroach upon the constitutionally man-dated\\nfunction of the jury to find facts, on the other.\\n\",\n",
       " ' © 2018 Thomson Reuters. No claim to original U.S. Government Works.\\n',\n",
       " '2\\n',\n",
       " 'Nobelbiz, Inc. v. Global Connect, L.L.C., 876 F.3d 1326 (2017)\\n125 U.S.P.Q.2d 1367\\n',\n",
       " 'One court recently expressed frustration over O2 Micro and the confusion surrounding it, citing to the panel decision in\\nthis case as an example of the “trap” that O2 Micro has set for district courts:\\n',\n",
       " 'O2 Micro problems are difficult to evaluate with any confidence during pretrial (or trial, for that\\nmatter) because it is frequently impossible to delineate between a pure claim construction argument\\nand a noninfringement argument. Yet juries are summoned, trials are held, and verdicts are reached,\\nonly to have the case fall in the O2 Micro trap on appeal. See, e.g., NobelBiz, Inc. v. Glob. Connect,\\nL.L.C., No. 2016-1104 [701 Fed.Appx. 994], 2017 WL 3044641 (Fed. Cir. July 19, 2017). Short of\\nholding both a jury trial and an identical bench trial in every patent case, there is not a clear path\\naround O2 Micro.\\n',\n",
       " 'Huawei Techs. Co. v. T-Mobile US, Inc., No. 2:16-CV-00052-JRG-RSP, 2017 WL 4070592, at *1 (E.D. Tex. Aug. 29,\\n2017), adopted, 2017 WL 4049251 (E.D. Tex. Sept. 13, 2017). Without additional guidance from our court, district courts\\nwill continue to fall into this trap.\\n',\n",
       " \"Furthermore, our case law has applied O2 Micro inconsistently. We have, at times, found that when a term is non-\\ntechnical and within the ken of an average juror, there is no actual dispute under O2 Micro, and therefore no need for\\ncourt intervention. See, e.g., GPNE Corp. v. Apple Inc., 830 F.3d 1365, 1371–73 (Fed. Cir. 2016) (finding no O2 Micro\\nviolation where the district court declined to construe the term “pager,” and determining that the real dispute was about\\nallowing the defendant “to make certain arguments to the jury”); Summit 6, LLC v. Samsung Elecs. Co., 802 F.3d 1283,\\n1291 (Fed. Cir. 2015) (finding that the district court did not err in declining to construe the disputed term, which was\\nitself “comprised of commonly used terms; each is used in common parlance and has no special meaning in the art”);\\nActiveVideo Networks, Inc. v. Verizon Commc'ns, Inc., 694 F.3d 1312, 1326 (Fed. Cir. 2012) (finding that the district court\\ndid not err under O2 Micro in concluding that “superimposing” claim terms “have plain meanings that do not require\\nadditional construction”); see also Union Carbide Chems. & Plastics Tech. Corp. v. Shell Oil Co., 425 F.3d 1366, 1377\\n(Fed. Cir. 2005) (“Because the claim language does not require a particular form of testing, this inquiry is not a claim\\nconstruction question, which this court reviews de novo. Rather, this court reviews this inquiry as a question of fact.”),\\noverruled on other grounds by Cardiac Pacemakers, Inc. v. St. Jude Med., Inc., 576 F.3d 1348 (Fed. Cir. 2009).\\n\",\n",
       " 'At other times, however, we have found that such a construction leaves the scope of the claims unanswered, as in this\\ncase. See, e.g., NobelBiz, 701 Fed.Appx. at 997–99; Eon Corp. IP Holdings LLC v. Silver Spring Networks, Inc., 815 F.3d\\n1314, 1319–20 (Fed. Cir. 2016) (finding that the district court erred by instructing the jury that the terms “portable” and\\n“mobile” should be given their plain and ordinary meanings).\\n',\n",
       " \"*1329  It is unsurprising, therefore, that district courts have themselves struggled to find a consistent approach for\\nresolving  O2  Micro  issues.  Compare  Unwired  Planet,  LLC  v.  Google  Inc.,  No.  3:12-cv-00504-MMD-VPC,  2014  WL\\n7012497, at *10–30 (D. Nev. Dec. 12, 2014) (holding that O2 Micro required the court to reject plain-and-ordinary-\\nmeaning constructions), aff'd in part, 660 Fed.Appx. 974 (Fed. Cir. 2016), with Unwired Planet, LLC v. Square, Inc.,\\nNo. 3:13-cv-00579-RCJ-WGC, 2014 WL 4966033, at *2 (D. Nev. Oct. 3, 2014) (citing O2 Micro for the proposition that\\n“a district court is not obligated to construe terms with ordinary meanings, lest trial courts be inundated with requests\\nto parse the meaning of every word in the asserted claims”); see also Peter E. Gratzinger, After O2 Micro: The Court's\\nEvolving Duty to Map Words to Things, 32 Santa Clara High Tech. L.J. 141, 142–43 (2015–2016) (noting that, despite\\nthe “seemingly simple premise” articulated in O2 Micro, “there is wide variation in how district courts interpret and\\nimplement the duty to resolve claim construction disputes”); Matthew Chivvis, Patents: When the “Plain and Ordinary”\\nMeaning Is Neither Plain Nor Ordinary, N.Y. L.J., Aug. 11, 2016, at 1 (“The U.S. Court of Appeals for the Federal\\nCircuit's decisions provide conflicting guidance on the duty to construe a term when the plain and ordinary meaning is\\ndisputed. The lack of a clear rule has allowed district courts to vary widely in how they handle claim construction in\\nthese circumstances.”).\\n\",\n",
       " ' © 2018 Thomson Reuters. No claim to original U.S. Government Works.\\n',\n",
       " '3\\n',\n",
       " 'Nobelbiz, Inc. v. Global Connect, L.L.C., 876 F.3d 1326 (2017)\\n125 U.S.P.Q.2d 1367\\n',\n",
       " 'Our lack of clarity about the reach of O2 Micro has also led courts to stray from general principles of orderly case\\nmanagement, making patent litigation needlessly more expensive and inefficient. Litigants often invoke O2 Micro to\\njustify belated claim constructions presented long after court-ordered deadlines. See Huawei Techs., 2017 WL 4070592,\\nat *1 (noting that “one party or another argues in virtually every patent case approaching trial” that the court “must\\nensure that ... late-breaking claim construction dispute [s] [are] not presented to the jury”); Opticurrent, LLC v. Power\\nIntegrations, Inc., No. 2:16-CV-325, 2017 WL 1383979, at *10 (E.D. Tex. Apr. 18, 2017) (construing a claim term to\\navoid “late-breaking disputes lodged under the guise of” O2 Micro, despite the fact that the term “has no special meaning\\nother than its plain meaning”).\\n',\n",
       " \"And,  even  though  district  courts  maintain  broad  discretion  to  manage  their  dockets,  many  courts  apparently  feel\\ncompelled by O2 Micro to resolve such disputes, no matter how late they are raised and no matter how simple the question\\nposed for consideration by the jury might seem. See, e.g., Tyco Healthcare Grp. LP v. Applied Med. Res. Corp., No. 9:06-\\nCV-151, 2009 WL 1883423, at *1, 9 (E.D. Tex. June 30, 2009) (in view of O2 Micro, allowing the defendant to modify its\\nproposed construction “long after the Markman hearing had been conducted”); see also Pressure Prods. Med. Supplies,\\nInc. v. Greatbatch Ltd., 599 F.3d 1308, 1315–16 (Fed. Cir. 2010) (finding that the district court's adjustment of a prior\\nconstruction in response to cross-examination at trial was consistent with the trial court's duty under O2 Micro). District\\ncourts' reading of O2 Micro as preventing them from enforcing their own deadlines effectively places “sand in the gears of\\nthe overall trial process” and disincentivizes litigants from crystallizing their disputes early in the case. Packet Intelligence\\nLLC v. NetScout Sys., Inc., No. 2:16-CV-230-JRG, 2017 WL 2531591, at *2 n.2 (E.D. Tex. Apr. 27, 2017) (denying\\nplaintiff's request to add products, in part because of the effect that a late O2 Micro dispute would have on the litigation).\\n\",\n",
       " \"*1330  We should clarify the scope of O2 Micro's reach, and, at the very least, clarify under what circumstances a plain-\\nand-ordinary-meaning dispute is an “actual” one within the meaning of O2 Micro. The fact that parties' experts might\\nproffer differing definitions of a term's plain and ordinary meaning to a jury should not be enough to justify removing\\nthat question from the jury's consideration. This case presents the opportunity for us to clarify the confusion our case\\nlaw has created. For these reasons, I respectfully dissent from the denial of rehearing en banc.\\n\",\n",
       " 'All Citations\\n',\n",
       " '876 F.3d 1326 (Mem), 125 U.S.P.Q.2d 1367\\n',\n",
       " 'Footnotes\\n1\\n',\n",
       " \"I will not repeat the thoughtful points spelled out in Judge Newman's panel dissent—I could not state them more clearly. I\\ndo adopt them by reference, however.\\n\",\n",
       " 'End of Document\\n',\n",
       " '© 2018 Thomson Reuters. No claim to original U.S. Government Works.\\n',\n",
       " ' © 2018 Thomson Reuters. No claim to original U.S. Government Works.\\n',\n",
       " '4\\n']"
      ]
     },
     "execution_count": 175,
     "metadata": {},
     "output_type": "execute_result"
    }
   ],
   "source": [
    "file_layers[66]"
   ]
  },
  {
   "cell_type": "code",
   "execution_count": 172,
   "metadata": {},
   "outputs": [
    {
     "data": {
      "text/plain": [
       "[8, 14, 33, 149, 152]"
      ]
     },
     "execution_count": 172,
     "metadata": {},
     "output_type": "execute_result"
    }
   ],
   "source": [
    "en_banc_set"
   ]
  },
  {
   "cell_type": "code",
   "execution_count": 173,
   "metadata": {},
   "outputs": [],
   "source": [
    "en_banc_set = []\n",
    "for i in range(len(holds)):\n",
    "    if holds[i] == []:\n",
    "        en_banc_set.append(i)\n",
    "        en_banc = []\n",
    "        for layer in file_layers[i]:\n",
    "            if re.search('(\\.*)(the)\\s(petition)(s\\s|\\s)(for)\\s(rehearing)\\s(en)\\s(banc)\\.\\n', layer) != None:\n",
    "                en_banc.append(layer)\n",
    "        holds[i]= [en_banc[0]]\n",
    "                "
   ]
  },
  {
   "cell_type": "code",
   "execution_count": 174,
   "metadata": {},
   "outputs": [
    {
     "data": {
      "text/plain": [
       "[8, 14, 33, 66, 149, 152]"
      ]
     },
     "execution_count": 174,
     "metadata": {},
     "output_type": "execute_result"
    }
   ],
   "source": [
    "en_banc_set"
   ]
  },
  {
   "cell_type": "code",
   "execution_count": 130,
   "metadata": {},
   "outputs": [],
   "source": [
    "for i in range(len(holds)):\n",
    "    if len(holds[i])>1:\n",
    "        only_one = [holds[i][0]]\n",
    "        holds[i] = only_one"
   ]
  },
  {
   "cell_type": "code",
   "execution_count": 131,
   "metadata": {},
   "outputs": [],
   "source": [
    "for i in range(len(holds)):\n",
    "    if len(holds[i])>1:\n",
    "        print(i)"
   ]
  },
  {
   "cell_type": "code",
   "execution_count": 166,
   "metadata": {},
   "outputs": [
    {
     "name": "stdout",
     "output_type": "stream",
     "text": [
      "[Holding:]  The  Court  of  Appeals,  Newman,  Circuit  Judge,  705  F.3d  1333,reversed  in  part  and  vacated  in  part,  and\n",
      "after granting rehearing, 515 Fed.Appx. 883, held that dependent “shopping cart” claim was invalid on the ground of\n",
      "obviousness.\n",
      "\n"
     ]
    }
   ],
   "source": [
    "for layer in file_layers[4]:\n",
    "    if re.search('[\\[]?(Holding)s*[\\:]', layer) != None:\n",
    "        print(layer)"
   ]
  },
  {
   "cell_type": "code",
   "execution_count": 133,
   "metadata": {},
   "outputs": [
    {
     "data": {
      "text/plain": [
       "[['Holdings: The Court of Appeals, Prost, Chief Judge, held that:\\n'],\n",
       " ['Holdings: The Court of Appeals, Prost, Chief Judge, held that:\\n'],\n",
       " ['Holdings: The Court of Appeals, Prost, Circuit Judge, held that:\\n'],\n",
       " ['[Holding:] The Court of Appeals, Newman, Circuit Judge, held that licensor and sublicensee were collateral estopped\\nfrom asserting their infringement claims.\\n'],\n",
       " ['[Holding:]  The  Court  of  Appeals,  Newman,  Circuit  Judge,  705  F.3d  1333,reversed  in  part  and  vacated  in  part,  and\\nafter granting rehearing, 515 Fed.Appx. 883, held that dependent “shopping cart” claim was invalid on the ground of\\nobviousness.\\n'],\n",
       " ['[Holding:] The Court of Appeals, Wallach, Circuit Judge, held that substantial evidence supported refusal by Board to\\nregister mark.\\n'],\n",
       " ['Holdings: The Court of Appeals, Clevenger, Circuit Judge, held that:\\n'],\n",
       " ['Holdings: The Court of Appeals, Stoll, Circuit Judge, held that:\\n'],\n",
       " ['Newman, Circuit Judge, dissents from the denial of the petition for rehearing en banc.\\n'],\n",
       " ['[Holding:] The Court of Appeals, Hughes, Circuit Judge, held that the patent involved no more than an abstract idea\\ncoupled with routine data-gathering steps and conventional computer activity.\\n'],\n",
       " ['Holdings: The Court of Appeals, Reyna, Circuit Judge, held that:\\n'],\n",
       " ['Holdings: The Court of Appeals, Wallach, Circuit Judge, held that:\\n'],\n",
       " ['[Holding:] The Court of Appeals, Reyna, Circuit Judge, held that prior art did not disclose “a value that is representative\\nof an amount of time to transpire after which the memory device outputs the first amount of data,” and thus did not\\nanticipate patent.\\n'],\n",
       " ['[Holding:] The Court of Appeals, Taranto, Circuit Judge, held that reissue application did not meet “error” requirement.\\n'],\n",
       " [\"O'MALLEY, Circuit Judge, dissents from the denial of the petition for rehearing en banc.\\n\"],\n",
       " [\"Holdings: The Court of Appeals, O'Malley, Circuit Judge, held that:\\n\"],\n",
       " ['[Holding:] The Court of Appeals, Newman, Circuit Judge, held that patent was not directed at patent-eligible subject\\nmatter.\\n'],\n",
       " ['Holdings: The Court of Appeals, Newman, Circuit Judge, held that:\\n'],\n",
       " ['Holdings: The Court of Appeals, Linn, Circuit Judge, held that:\\n'],\n",
       " ['[Holding:] The Court of Appeals, Reyna, Circuit Judge, held that alleged infringer was barred from bringing invalidity\\nchallenge in inter partes reexamination.\\n'],\n",
       " ['Holdings: The Court of Appeals, Plager, Circuit Judge, held that:\\n'],\n",
       " ['Holdings: The Court of Appeals, Moore, Circuit Judge, held that:\\n'],\n",
       " ['[Holding:] The Court of Appeals, Rader, Chief Judge, held that claimed invention of a particular internet and computer-\\nbased method for monetizing copyrighted products was not manifestly abstract so as to be ineligible for patent protection.\\n'],\n",
       " ['Holdings: On referral by an appellate panel, the Court of Appeals, en banc, Prost, Circuit Judge, held that:\\n'],\n",
       " ['Holdings: The Court of Appeals, Chen, Circuit Judge, held that:\\n'],\n",
       " ['Holdings: The Court of Appeals, Dyk, Circuit Judge, held that:\\n'],\n",
       " ['Holdings: The Court of Appeals, Lourie, Circuit Judge, held that:\\n'],\n",
       " ['Holdings: The Court of Appeals, Taranto, Circuit Judge, held that:\\n'],\n",
       " ['Holdings: The Court of Appeals, Lourie, Circuit Judge, held that:\\n'],\n",
       " ['Holdings: The Court of Appeals, Dyk, Circuit Judge, held that:\\n'],\n",
       " ['Holdings: The Court of Appeals, Wallach, Circuit Judge, held that:\\n'],\n",
       " ['Holdings: The Court of Appeals, Plager, Circuit Judge, held that:\\n'],\n",
       " ['Holdings: The Court of Appeals, Dyk, Circuit Judge, held that:\\n'],\n",
       " [\"PROST, Chief Judge, and O'MALLEY, Circuit Judge, with whom WALLACH, Circuit Judge, joins, concur in the\\ndenial of the petitions for rehearing en banc.\\n\"],\n",
       " ['SANDOZ, INC., Sun Pharmaceutical Industries, Ltd., Synthon BV, Synthon Holdings\\n'],\n",
       " ['Holdings: The Court of Appeals, Reyna, Circuit Judge, held that:\\n'],\n",
       " [\"Holdings: The Court of Appeals, O'Malley, Circuit Judge, held that:\\n\"],\n",
       " [\"Holdings: The Court of Appeals, O'Malley, Circuit Judge, held that:\\n\"],\n",
       " ['Holdings: On remand, the Court of Appeals, Lourie, Circuit Judge, held that:\\n'],\n",
       " ['Holdings: The Court of Appeals, Moore, Circuit Judge, held that:\\n'],\n",
       " ['[Holding:] The Court of Appeals, Taranto, Circuit Judge, held that decision to institute an inter partes review of patents\\nis not immediately reviewable through the extraordinary means of mandamus.\\n'],\n",
       " ['Holdings: The Court of Appeals, Lourie, J., held that:\\n'],\n",
       " ['Holdings: Patentee appealed The Court of Appeals, Prost, Circuit Judge, held that:\\n'],\n",
       " ['Holdings: The Court of Appeals, Taranto, Circuit Judge, held that:\\n'],\n",
       " ['Holdings: The Court of Appeals, Taranto, Circuit Judge, held that:\\n'],\n",
       " ['Holdings: The Court of Appeals, Taranto, Circuit Judge, held that:\\n'],\n",
       " ['[Holding:] The Court of Appeals, Clevenger, Circuit Judge, held that government failed to exhaust its administrative\\nremedies with respect to negligence claim.\\n'],\n",
       " ['Holdings: The Court of Appeals, Taranto, Circuit Judge, held that:\\n'],\n",
       " ['Holdings: The Court of Appeals, Prost, Circuit Judge, held that:\\n'],\n",
       " ['Holdings: The Court of Appeals, Linn, Circuit Judge, held that:\\n'],\n",
       " ['[Holding:] The Court of Appeals, Taranto, Circuit Judge, held that competitor was not entitled to arbitration.\\n'],\n",
       " ['Holdings: The Court of Appeals, Rader, Chief Judge, held that:\\n'],\n",
       " ['Holdings: The Court of Appeals, Plager, Circuit Judge, held that:\\n'],\n",
       " ['Holdings: The Court of Appeals, Lourie, Circuit Judge, held that:\\n'],\n",
       " ['Holdings: The Court of Appeals, Wallach, Circuit Judge, held that:\\n'],\n",
       " ['Holdings: The Court of Appeals, Dyk, Circuit Judge, held that:\\n'],\n",
       " [\"[Holding:] The Court of Appeals, Dyk, Circuit Judge, held that business's claims did not “arise under” federal patent\\nlaw, as would provide basis for removal of claims.\\n\"],\n",
       " ['Holdings: The Court of Appeals, Wallach, Circuit Judge, held that:\\n'],\n",
       " [\"[Holding:] The Court of Appeals, O'Malley, Circuit Judge, held that importer was subject to same rate of antidumping\\nduty based on adverse facts available (AFA) to all members of PRC that did not prove their independence from PRC.\\n\"],\n",
       " ['Holdings: The Court of Appeals, Bryson, Circuit Judge, held that:\\n'],\n",
       " [\"Holdings: The Court of Appeals, O'Malley, Circuit Judge, held that:\\n\"],\n",
       " ['Holdings: The Court of Appeals, Federal Circuit, held that:\\n'],\n",
       " ['Holdings: The Court of Appeals, Dyk, Circuit Judge, held that:\\n'],\n",
       " ['Holdings: The Court of Appeals, Stoll, Circuit Judge, held that:\\n'],\n",
       " ['Holdings: The Court of Appeals, Dyk, Circuit Judge, held that:\\n'],\n",
       " ['Holdings: The Court of Appeals, Gajarsa, Circuit Judge, held that:\\n'],\n",
       " ['At other times, however, we have found that such a construction leaves the scope of the claims unanswered, as in this\\ncase. See, e.g., NobelBiz, 701 Fed.Appx. at 997–99; Eon Corp. IP Holdings LLC v. Silver Spring Networks, Inc., 815 F.3d\\n1314, 1319–20 (Fed. Cir. 2016) (finding that the district court erred by instructing the jury that the terms “portable” and\\n“mobile” should be given their plain and ordinary meanings).\\n'],\n",
       " ['Holdings: The Court of Appeals, Reyna, Circuit Judge, held that:\\n'],\n",
       " ['Holdings: The Court of Appeals, Linn, Circuit Judge, held that:\\n'],\n",
       " ['[Holding:] The Court of Appeals, Prost, Circuit Judge, held that Commerce reasonably determined that importer and\\nproducer was not entitled to duty drawback adjustment.\\n'],\n",
       " ['Holdings: The Court of Appeals, Dyk, Circuit Judge, held that:\\n'],\n",
       " ['Holdings: The Court of Appeals, Prost, Chief Judge, held that:\\n'],\n",
       " ['Holdings: The Court of Appeals, Prost, Circuit Judge, held that:\\n'],\n",
       " ['Holdings: The Court of Appeals, Rader, Chief Judge, held that:\\n'],\n",
       " ['Holdings: On remand and on rehearing en banc, the Court of Appeals held that:\\n'],\n",
       " [\"Holdings: The Court of Appeals, O'Malley, Circuit Judge, held that:\\n\"],\n",
       " ['Holdings: The Court of Appeals, Prost, Chief Judge, held that:\\n'],\n",
       " ['[Holding:] The Court of Appeals, Taranto, Circuit Judge, held that competitor did not show by clear and convincing\\nevidence that “effective for catalyzing” or “effective to catalyze” language in patent was indefinite.\\n'],\n",
       " ['Holdings: The Court of Appeals, Newman, Circuit Judge, held that:\\n'],\n",
       " [\"[Holding:] The Court of Appeals, Lourie, Circuit Judge, held that importer's beta-carotene product was classifiable as\\nprovitamins unmixed.\\n\"],\n",
       " [\"Holdings: The Court of Appeals, O'Malley, Circuit Judge, held that:\\n\"],\n",
       " ['Holdings: The Court of Appeals, Taranto, Circuit Judge, held that:\\n'],\n",
       " ['Chrysler Holding, LLC, Defendant,\\n'],\n",
       " ['Holdings: The Court of Appeals, Prost, Chief Judge, held that:\\n'],\n",
       " [\"[Holding:]  The  Court  of  Appeals,  O'Malley,  Circuit  Judge,  held  that  patent  owner  was  not  entitled  to  infringement\\ndamages prior to issuance of reexamination certificate for patent.\\n\"],\n",
       " [\"[Holding:] The Court of Appeals, Moore, Circuit Judge, held that substantial evidence supported Board's determination\\nthat claims would have been obvious over prior art.\\n\"],\n",
       " ['Holdings: The Court of Appeals, Prost, Circuit Judge, held that:\\n'],\n",
       " ['Holdings: The Court of Appeals, Wallach, Circuit Judge, held that:\\n'],\n",
       " ['Holdings: On remand, the Court of Appeals, Prost, Chief Judge, held that:\\n'],\n",
       " ['[Holding:] The Court of Appeals, Lourie, Circuit Judge, held that substantial evidence supported findings that claims\\nof patent requiring that hemodialysis machines interface to prompt the user for entry of specific data were invalid for\\nobviousness.\\n'],\n",
       " ['Holdings: The Court of Appeals, Hughes, Circuit Judge, held that:\\n'],\n",
       " ['Holdings: The Court of Appeals, Gajarsa, Circuit Judge, granted petition and held that, as matters of first impression:\\n'],\n",
       " ['Holdings: The Court of Appeals, Reyna, Circuit Judge, held that:\\n'],\n",
       " ['Holdings: The Court of Appeals, Hughes, Circuit Judge, held that:\\n'],\n",
       " ['Holdings: The Court of Appeals, Newman, Circuit Judge, held that:\\n'],\n",
       " ['Holdings: The Court of Appeals, Lourie, Circuit Judge, held that:\\n'],\n",
       " ['[Holding:] The Court of Appeals, Lourie, Circuit Judge, held that venue was not proper in the home a sales executive\\nof competitor.\\n'],\n",
       " ['Holdings: The Court of Appeals, Prost, Circuit Judge, held that:\\n'],\n",
       " ['Holdings: The Court of Appeals, Lourie, Circuit Judge, held that:\\n'],\n",
       " ['[Holding:] The Court of Appeals, Stoll, Circuit Judge, held that question of whether owner of JOBDIVA service mark,\\nthrough its software, performed personnel placement and recruitment services and whether consumers would associate\\nthat mark with personnel placement and recruitment services, regardless of whether steps of service were performed by\\nsoftware, was factual determination to which bright-line rule could not be applied.\\n'],\n",
       " ['Holdings: The Court of Appeals, Chen, Circuit Judge, held that:\\n'],\n",
       " [\"Holdings: The Court of Appeals, O'Malley, Circuit Judge, held that:\\n\"],\n",
       " ['[Holding:] The Court of Appeals, Reyna, Circuit Judge, held that divisional patents were not entitled to patent term\\nadjustments based on delays in prosecution of their parent application.\\n'],\n",
       " ['Holdings: The Court of Appeals, Taranto, Circuit Judge, held that:\\n'],\n",
       " ['[Holding:] The Court of Appeals, Reyna, Circuit Judge, held that district court acted within its discretion in denying\\nmotion to transfer venue.\\n'],\n",
       " ['[Holding:] The Court of Appeals, Lourie, Circuit Judge, held that Department of Commerce exceeded its authority by\\nordering the suspension of liquidation retroactive.\\n'],\n",
       " ['[Holding:] The Court of Appeals, Stoll, Circuit Judge, held that “virtually free from interference” was not indefinite, but\\nrather meant that the claimed invention did not allow for eavesdropping.\\n'],\n",
       " ['Holdings: The Court of Appeals, Prost, Circuit Judge, held that:\\n'],\n",
       " ['Holdings: The Court of Appeals, Rader, Chief Judge, held that:\\n'],\n",
       " ['Holdings: The Court of Appeals, Lourie, Circuit Judge, held that:\\n'],\n",
       " ['Holdings: The Court of Appeals, Linn, Circuit Judge, held that:\\n'],\n",
       " ['Holdings: The Court of Appeals, Hughes, Circuit Judge, held that:\\n'],\n",
       " ['Holdings: The Court of Appeals, Dyk, Circuit Judge, held that:\\n'],\n",
       " ['[Holding:] The Court of Appeals, Stoll, Circuit Judge, held that claims were directed to patent-eligible subject matter of\\nimproved computer memory system, not to abstract idea of categorical data storage.\\n'],\n",
       " ['Holdings: The Court of Appeals, Hughes, Circuit Judge, held that:\\n'],\n",
       " ['[Holding:] The Court of Appeals, Moore, Circuit Judge, held that specification did not limit scope of the invention to\\ncollating unit that achieved singular purpose of storing prescription containers.\\n'],\n",
       " ['[Holding:] The Court of Appeals, Reyna, Circuit Judge, held that the term “transmit” was not limited to server-initiated\\ntransmissions.\\n'],\n",
       " ['Holdings: The Court of Appeals, Prost, Chief Judge, held that:\\n'],\n",
       " ['[Holding:] The Court of Appeals, Wallach, Circuit Judge, held that entries were classifiable under HTSUS provision for\\nprepared mixed vegetables.\\n'],\n",
       " ['Holdings: The Court of Appeals, Prost, Chief Judge, held that:\\n'],\n",
       " ['Holdings: On remand, the Court of Appeals, Hughes, Circuit Judge, held that:\\n'],\n",
       " ['Multilayer Stretch Cling Film Holdings, Inc. v. Berry Plastics..., 831 F.3d 1350 (2016)\\n119 U.S.P.Q.2d 1773\\n'],\n",
       " [\"[Holding:] The Court of Appeals, Taranto, Circuit Judge, held that veteran's failure to appeal from denial portion within\\n120 days barred subsequent review of claim.\\n\"],\n",
       " ['Holdings: The Court of Appeals, Prost, Chief Judge, held that:\\n'],\n",
       " [\"[Holding:] The Court of Appeals, Lourie, Circuit Judge, held that Board erred in dismissing requester's cross-appeal for\\nlack of jurisdiction.\\n\"],\n",
       " ['Holdings: The Court of Appeals, Chen, Circuit Judge, held that:\\n'],\n",
       " ['Holdings: The Court of Appeals, Lourie, Circuit Judge, held that:\\n'],\n",
       " ['Holdings: The Court of Appeals, Taranto, Circuit Judge, held that:\\n'],\n",
       " ['[Holding:] The Court of Appeals, Moore, Circuit Judge, held that producers did not qualify for funds collected as part\\nof antidumping duty order.\\n'],\n",
       " ['Holdings: The Court of Appeals, Reyna, Circuit Judge, held that:\\n'],\n",
       " ['[Holding:] The Court of Appeals, Dyk, Circuit Judge, held that patent owner failed to establish likelihood of success on\\nmerits of infringement claim.\\n'],\n",
       " [\"[Holding:] The Court of Appeals, Clevenger, Circuit Judge, held that Board committed no legal error in its assessment\\nof the functionality of applicant's proposed mark, and substantial evidence supported the Board's findings of fact.\\n\"],\n",
       " ['Holdings: The Court of Appeals, Prost, Circuit Judge, held that:\\n'],\n",
       " ['Holdings: On hearing en banc, the Court of Appeals, Taranto, Circuit Judge, held that:\\n'],\n",
       " ['[Holding:] The Court of Appeals, Lourie, Circuit Judge, held that the Board of Patent Appeals and Interferences did not\\nfail to consider the knowledge of a person having ordinary skill in the art in rejecting claim that the patent was obvious.\\n'],\n",
       " ['Holdings: The Court of Appeals, Moore, Circuit Judge, held that:\\n'],\n",
       " ['[Holding:] The Court of Appeals, Moore, Circuit Judge, held that patent was invalid for indefiniteness.\\n'],\n",
       " [\"[Holding:] The Court of Appeals, Bryson, Circuit Judge, held that substantial investment in research and development\\nof intellectual property in cellular telephone industry was “with respect to the articles protected by the patent,” within\\nmeaning of Tariff Act's “domestic industry” requirement for exclusion of infringing products.\\n\"],\n",
       " ['Holdings: The Court of Appeals, Taranto, Circuit Judge, held that:\\n'],\n",
       " ['Holdings: The Court of Appeals, Taranto, Circuit Judge, held that:\\n'],\n",
       " [\"[Holding:]The Court of Appeals, Wallach, Circuit Judge, held that company lacked standing to seek judicial review of\\nBoard's decision.\\n\"],\n",
       " ['Holding: The Court of Appeals, Plager, Circuit Judge, held that district court lacked subject matter jurisdiction over suit.\\n'],\n",
       " ['Holdings: The Court of Appeals, Dyk, Circuit Judge, held that:\\n'],\n",
       " ['Holdings: The Court of Appeals, Schall, Circuit Judge, held that:\\n'],\n",
       " [\"Holding: The Court of Appeals, Prost, Circuit Judge, held that substantial evidence supported Commission's finding that\\npatent owner did not satisfy the Tariff Act's domestic industry requirement.\\n\"],\n",
       " [\"Holdings: The Court of Appeals, O'Malley, Circuit Judge, held that:\\n\"],\n",
       " ['Holdings: The Court of Appeals, Wallach, Circuit Judge, held that:\\n'],\n",
       " ['[Holding:] The Court of Appeals, Rader, Chief Judge, held that terms “images depicting views of objects in a geographic\\narea, the views being substantially elevations of the objects in the geographic area” meant front or side views of objects.\\n'],\n",
       " ['Holdings: The Court of Appeals, Moore, Circuit Judge, held that:\\n'],\n",
       " ['Newman, Circuit Judge, dissents from the denial of the petition for rehearing en banc.\\n'],\n",
       " ['[Holding:] The Court of Appeals held that allegations in complaint failed to support exercise of personal jurisdiction.\\n'],\n",
       " ['[Holding:] The Court of Appeals, Stoll, Circuit Judge, held that claims directed to rules for conducting wagering game\\nwere not patent-eligible.\\n'],\n",
       " ['*700  REYNA, Circuit Judge, with whom RADER, Chief Judge, NEWMAN, LOURIE, and, WALLACH Circuit\\nJudges, join, dissents from the denial of the petition for rehearing en banc.\\n'],\n",
       " ['Holdings: The Court of Appeals, Taranto, Circuit Judge, held that:\\n'],\n",
       " ['Holdings: The Court of Appeals, Lourie, Circuit Judge, held that:\\n'],\n",
       " ['Holdings: The Court of Appeals, Dyk, Circuit Judge, held that:\\n'],\n",
       " ['[Holding:] The Court of Appeals, Wallach, Circuit Judge, held that proper tariff classification for the bud vases was\\nunder provision for “[g]lassware of a kind used for table, kitchen, toilet, office, indoor decoration or similar purposes.”\\n'],\n",
       " ['Comcast IP Holdings I LLC v. Sprint Communications..., 850 F.3d 1302 (2017)\\n121 U.S.P.Q.2d 1906\\n'],\n",
       " [\"[Holding:]  The  Court  of  Appeals,  Reyna,  Circuit  Judge,  held  that  ITC's  interpretation  of  statutory  provision  that\\nprohibited only specified acts involving articles that infringed a patent was reasonable and entitled to Chevron deference.\\n\"]]"
      ]
     },
     "execution_count": 133,
     "metadata": {},
     "output_type": "execute_result"
    }
   ],
   "source": [
    "holds"
   ]
  },
  {
   "cell_type": "code",
   "execution_count": null,
   "metadata": {},
   "outputs": [],
   "source": []
  }
 ],
 "metadata": {
  "kernelspec": {
   "display_name": "Python 3",
   "language": "python",
   "name": "python3"
  },
  "language_info": {
   "codemirror_mode": {
    "name": "ipython",
    "version": 3
   },
   "file_extension": ".py",
   "mimetype": "text/x-python",
   "name": "python",
   "nbconvert_exporter": "python",
   "pygments_lexer": "ipython3",
   "version": "3.6.8"
  }
 },
 "nbformat": 4,
 "nbformat_minor": 2
}
