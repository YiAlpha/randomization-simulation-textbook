{
 "cells": [
  {
   "cell_type": "markdown",
   "metadata": {},
   "source": [
    "# Opinion Text Clean"
   ]
  },
  {
   "cell_type": "markdown",
   "metadata": {},
   "source": [
    "## Load data"
   ]
  },
  {
   "cell_type": "code",
   "execution_count": 1,
   "metadata": {},
   "outputs": [],
   "source": [
    "import json\n",
    "full_data = json.load(open('decision_text.json', 'r'))"
   ]
  },
  {
   "cell_type": "code",
   "execution_count": 2,
   "metadata": {},
   "outputs": [
    {
     "data": {
      "text/plain": [
       "dict_keys(['author', 'decision', 'opinion', 'cleaned_text'])"
      ]
     },
     "execution_count": 2,
     "metadata": {},
     "output_type": "execute_result"
    }
   ],
   "source": [
    "full_data.keys()"
   ]
  },
  {
   "cell_type": "code",
   "execution_count": 3,
   "metadata": {},
   "outputs": [],
   "source": [
    "clean_text = full_data['cleaned_text']"
   ]
  },
  {
   "cell_type": "code",
   "execution_count": 3,
   "metadata": {},
   "outputs": [],
   "source": [
    "op_text = full_data['opinion']"
   ]
  },
  {
   "cell_type": "code",
   "execution_count": 4,
   "metadata": {},
   "outputs": [
    {
     "data": {
      "text/plain": [
       "'Apple appeals from the final decision of the International Trade Commission (ITC) that the asserted '"
      ]
     },
     "execution_count": 4,
     "metadata": {},
     "output_type": "execute_result"
    }
   ],
   "source": [
    "op_text[0][0:100]"
   ]
  },
  {
   "cell_type": "markdown",
   "metadata": {},
   "source": [
    "## Clean Text"
   ]
  },
  {
   "cell_type": "markdown",
   "metadata": {},
   "source": [
    "### Remove Citations"
   ]
  },
  {
   "cell_type": "code",
   "execution_count": 6,
   "metadata": {},
   "outputs": [],
   "source": [
    "import re\n",
    "from reporters_db import EDITIONS\n",
    "for key in list(EDITIONS.keys()):\n",
    "    EDITIONS[key.replace(\" \", \"\")]=EDITIONS[key].replace(\" \", \"\")\n",
    "# regular expression to describe citation pattern\n",
    "CITATION_PTN = r\"\"\"\n",
    "(?:[\\s,:\\(]|^)\n",
    "(\n",
    "(\\d+)\\s+\n",
    "({reporters})(\\s|[a-z])+\n",
    "(\\d+)\n",
    ")\n",
    "\"\"\".format(reporters='|'.join([re.escape(i) for i in EDITIONS]))\n",
    "CITATION_PTN_RE = re.compile(CITATION_PTN, re.IGNORECASE | re.MULTILINE | re.DOTALL | re.VERBOSE)"
   ]
  },
  {
   "cell_type": "code",
   "execution_count": 7,
   "metadata": {},
   "outputs": [],
   "source": [
    "REGULATION_PTN = r\"\"\"\n",
    "(\n",
    "(\\d+)\\s*\n",
    "(U\\.?S\\.?C\\.?|C\\.?F\\.?R\\.?)\\s*\n",
    "(Sec(?:tion|\\.)?|§)?\\s*\n",
    "(\\d+[\\da-zA-Z\\-]*)\n",
    ")\"\"\"\n",
    "REGULATION_PTN_RE = re.compile(REGULATION_PTN, \n",
    "                               re.IGNORECASE | re.MULTILINE | re.DOTALL | re.VERBOSE)\n",
    "\n",
    "PUBLIC_LAW_PTN = r\"\"\"\n",
    "(\n",
    "Pub(?:lic|\\.)\\s+L(?:aw|\\.)(?:\\s+No.?)?\\s+\\d+\\-\\d+\n",
    "|\n",
    "\\d+\\s+Stat\\.\\s+[\\d-]+\n",
    ")\n",
    "\"\"\"\n",
    "PUBLIC_LAW_PTN_RE = re.compile(PUBLIC_LAW_PTN, \n",
    "                               re.IGNORECASE | re.MULTILINE | re.DOTALL | re.VERBOSE)\n",
    "PUBLIC_LAW_SUB_RE = re.compile(r'.+?(\\d+\\-\\d+)',\n",
    "                               re.MULTILINE | re.DOTALL)\n",
    "\n",
    "\n"
   ]
  },
  {
   "cell_type": "code",
   "execution_count": 8,
   "metadata": {},
   "outputs": [],
   "source": [
    "FED_CIR_RE =  re.compile(r'\\(Fed.Cir.\\d*\\)', re.MULTILINE | re.DOTALL)"
   ]
  },
  {
   "cell_type": "code",
   "execution_count": 9,
   "metadata": {},
   "outputs": [],
   "source": [
    "MARK_RE = re.compile(r'©\\s\\d+\\sThomson Reuters.', re.MULTILINE | re.DOTALL)"
   ]
  },
  {
   "cell_type": "code",
   "execution_count": 10,
   "metadata": {},
   "outputs": [],
   "source": [
    "replacements = [\n",
    "    (CITATION_PTN_RE, ''),\n",
    "    (REGULATION_PTN_RE, ''),\n",
    "    (PUBLIC_LAW_PTN_RE, ''),\n",
    "    (FED_CIR_RE, ''),\n",
    "    (MARK_RE, ''),\n",
    "    (r'[^\\w]', ' '),\n",
    "    (r'\\d+', ' '),\n",
    "    (r'\\s+[A-Za-z]\\s+', ''),\n",
    "    (r'\\s+', ' ')\n",
    "]\n",
    "\n",
    "def clean_citation(input_str):\n",
    "    for old, new in replacements:\n",
    "        input_str = re.sub(old, new, input_str)\n",
    "    return input_str"
   ]
  },
  {
   "cell_type": "code",
   "execution_count": 11,
   "metadata": {},
   "outputs": [
    {
     "data": {
      "text/plain": [
       "854"
      ]
     },
     "execution_count": 11,
     "metadata": {},
     "output_type": "execute_result"
    }
   ],
   "source": [
    "len(op_text)"
   ]
  },
  {
   "cell_type": "code",
   "execution_count": 12,
   "metadata": {},
   "outputs": [],
   "source": [
    "cleaned_text = [None]*len(op_text)\n",
    "\n",
    "for i in range(len(op_text)):\n",
    "    if op_text[i] != None:\n",
    "        cleaned_text[i]= clean_citation(op_text[i])"
   ]
  },
  {
   "cell_type": "markdown",
   "metadata": {},
   "source": [
    "# Write to json file"
   ]
  },
  {
   "cell_type": "code",
   "execution_count": 14,
   "metadata": {},
   "outputs": [],
   "source": [
    "full_data.update({'cleaned_text':cleaned_text})"
   ]
  },
  {
   "cell_type": "code",
   "execution_count": 15,
   "metadata": {},
   "outputs": [
    {
     "data": {
      "text/plain": [
       "dict_keys(['author', 'decision', 'opinion', 'cleaned_text'])"
      ]
     },
     "execution_count": 15,
     "metadata": {},
     "output_type": "execute_result"
    }
   ],
   "source": [
    "full_data.keys()"
   ]
  },
  {
   "cell_type": "code",
   "execution_count": 16,
   "metadata": {},
   "outputs": [],
   "source": [
    "json.dump(full_data, open('decision_text.json', 'w'))"
   ]
  },
  {
   "cell_type": "markdown",
   "metadata": {},
   "source": [
    "# Write to csv"
   ]
  },
  {
   "cell_type": "code",
   "execution_count": 5,
   "metadata": {},
   "outputs": [],
   "source": [
    "import pandas as pd"
   ]
  },
  {
   "cell_type": "code",
   "execution_count": 7,
   "metadata": {},
   "outputs": [],
   "source": [
    "text_import = pd.DataFrame(\n",
    "    {'cleaned_text': clean_text\n",
    "    })\n"
   ]
  },
  {
   "cell_type": "code",
   "execution_count": 8,
   "metadata": {},
   "outputs": [
    {
     "data": {
      "text/plain": [
       "(854, 1)"
      ]
     },
     "execution_count": 8,
     "metadata": {},
     "output_type": "execute_result"
    }
   ],
   "source": [
    "text_import.shape"
   ]
  },
  {
   "cell_type": "code",
   "execution_count": 9,
   "metadata": {},
   "outputs": [],
   "source": [
    "text_import.to_csv('cleaned_text.csv',sep='\\t')"
   ]
  },
  {
   "cell_type": "code",
   "execution_count": null,
   "metadata": {},
   "outputs": [],
   "source": []
  }
 ],
 "metadata": {
  "kernelspec": {
   "display_name": "Python 3",
   "language": "python",
   "name": "python3"
  },
  "language_info": {
   "codemirror_mode": {
    "name": "ipython",
    "version": 3
   },
   "file_extension": ".py",
   "mimetype": "text/x-python",
   "name": "python",
   "nbconvert_exporter": "python",
   "pygments_lexer": "ipython3",
   "version": "3.6.8"
  }
 },
 "nbformat": 4,
 "nbformat_minor": 2
}
