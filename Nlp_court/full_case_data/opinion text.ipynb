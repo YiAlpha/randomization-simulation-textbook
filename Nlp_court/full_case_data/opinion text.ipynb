{
 "cells": [
  {
   "cell_type": "markdown",
   "metadata": {},
   "source": [
    "# Opinion"
   ]
  },
  {
   "cell_type": "markdown",
   "metadata": {},
   "source": [
    "## Load Text"
   ]
  },
  {
   "cell_type": "code",
   "execution_count": 1,
   "metadata": {},
   "outputs": [],
   "source": [
    "import json\n",
    "pdf2text = json.load(open(\"pdf2text159.json\", 'r'))"
   ]
  },
  {
   "cell_type": "code",
   "execution_count": 2,
   "metadata": {},
   "outputs": [],
   "source": [
    "file_name = pdf2text['file_name']"
   ]
  },
  {
   "cell_type": "code",
   "execution_count": 4,
   "metadata": {},
   "outputs": [],
   "source": [
    "layouts = pdf2text['layouts']"
   ]
  },
  {
   "cell_type": "code",
   "execution_count": 5,
   "metadata": {},
   "outputs": [],
   "source": [
    "raw_text = pdf2text['raw_text']"
   ]
  },
  {
   "cell_type": "code",
   "execution_count": 8,
   "metadata": {},
   "outputs": [],
   "source": [
    "import re"
   ]
  },
  {
   "cell_type": "code",
   "execution_count": 9,
   "metadata": {},
   "outputs": [
    {
     "name": "stdout",
     "output_type": "stream",
     "text": [
      "Opinion\n",
      "\n"
     ]
    }
   ],
   "source": [
    "for layer in layouts[5]:\n",
    "    if re.search('Opinion\\n', layer) != None:\n",
    "        print(layer)"
   ]
  },
  {
   "cell_type": "code",
   "execution_count": 24,
   "metadata": {},
   "outputs": [
    {
     "data": {
      "text/plain": [
       "98"
      ]
     },
     "execution_count": 24,
     "metadata": {},
     "output_type": "execute_result"
    }
   ],
   "source": [
    "layouts[5].index('All Citations\\n')"
   ]
  },
  {
   "cell_type": "markdown",
   "metadata": {},
   "source": [
    "# Opinion Retrive"
   ]
  },
  {
   "cell_type": "code",
   "execution_count": 12,
   "metadata": {},
   "outputs": [],
   "source": [
    "opinion_index = []\n",
    "for layer in layouts:\n",
    "    try:\n",
    "        opinion_index.append(layer.index('Opinion\\n'))\n",
    "    except:\n",
    "        opinion_index.append(None)"
   ]
  },
  {
   "cell_type": "code",
   "execution_count": 25,
   "metadata": {},
   "outputs": [],
   "source": [
    "allci_index = []\n",
    "for layer in layouts:\n",
    "    try:\n",
    "        allci_index.append(layer.index('All Citations\\n'))\n",
    "    except:\n",
    "        allci_index.append(None)"
   ]
  },
  {
   "cell_type": "code",
   "execution_count": 52,
   "metadata": {},
   "outputs": [],
   "source": [
    "no_opinion = []\n",
    "for i in range(len(opinion_index)):\n",
    "    if opinion_index[i] == None:\n",
    "        no_opinion.append(i)"
   ]
  },
  {
   "cell_type": "code",
   "execution_count": 51,
   "metadata": {},
   "outputs": [
    {
     "name": "stdout",
     "output_type": "stream",
     "text": [
      "4 34 ON PETITION FOR REHEARING\n",
      " 056 - Soverain Software LLC v Newegg Inc \n",
      "\n",
      "8 14 ON PETITION FOR REHEARING EN BANC\n",
      " 095 - Ethicon EndoSurgery Inc v Covidien LP \n",
      "\n",
      "137 55 ON PETITION FOR REHEARING\n",
      " 059 - InterDigital Communications LLC v International Trade Com'n \n",
      "\n",
      "152 18 ON PETITION FOR REHEARING EN BANC\n",
      " 026 - Commil USA LLC v Cisco Systems Inc \n",
      "\n"
     ]
    }
   ],
   "source": [
    "for i in no_opinion:\n",
    "    for layer in layouts[i]:\n",
    "        if re.search('^ON PETITION FOR REHEARING.*\\n', layer) != None:\n",
    "            print(i, layouts[i].index(layer), layer, file_name[i], '\\n')\n",
    "            opinion_index[i] = layouts[i].index(layer)\n",
    "            "
   ]
  },
  {
   "cell_type": "code",
   "execution_count": null,
   "metadata": {},
   "outputs": [],
   "source": [
    "no_opinion = []\n",
    "for i in range(len(opinion_index)):\n",
    "    if opinion_index[i] == None:\n",
    "        no_opinion.append(i)"
   ]
  },
  {
   "cell_type": "code",
   "execution_count": 57,
   "metadata": {},
   "outputs": [
    {
     "name": "stdout",
     "output_type": "stream",
     "text": [
      "10 98 Opinion\n",
      "Kaneka Corporation sued Defendants Xiamen Kingdomway Group Company, Pacific Rainbow International Inc., and\n",
      "Shenzhou Biology and Technology Co., Ltd., in the Central District of California, alleging infringement of U.S. Patent\n",
      "No. 7,910,340 (the ′340 Patent). The district court granted summary judgment of noninfringement based on the district\n",
      "court's claim construction. Kaneka appealed. For the reasons that follow, we affirm-in-part, vacate-in-part, and remand.\n",
      " 051 - Kaneka Corp v Xiamen Kingdomway Group Co \n",
      "\n",
      "95 73 Opinion\n",
      "Watson Laboratories, Inc.—Florida (“Watson”) appeals from the decisions of the United States District Court for the\n",
      "District of Nevada (i) holding that the subject matter of the asserted claims of Ferring B.V.'s (“Ferring”) U.S. Patents\n",
      "7,947,739 (the “′739 patent”), 8,022,106 (the “′106 patent”), and 8,273,795 (the “′795 patent”) would not have been\n",
      "obvious under 35 U.S.C. § 103, (ii) finding that Watson's generic tranexamic acid product infringed those claims under\n",
      "35 U.S.C. § 271, consequently (iii) ordering the U.S. Food and Drug Administration (“FDA”) to reset the approval date\n",
      "of Watson's Abbreviated New Drug Application (“ANDA”) 20–2093 and (iv) permanently enjoining the manufacture,\n",
      "use, sale, or offer for sale of Watson's generic product. See Ferring  *1403  B.V. v. Watson Labs., Inc.—Fla., No. 11–\n",
      "0481 (D.Nev. Apr. 14, 2014), ECF No. 524 (“Final Order ”); J.A. 325–27. We conclude that the district court did not err\n",
      " 032 - Ferring BV v Watson Laboratories Inc-Florida \n",
      "\n"
     ]
    }
   ],
   "source": [
    "for i in no_opinion:\n",
    "    for layer in layouts[i]:\n",
    "        if re.search('^Opinion\\n', layer) != None:\n",
    "            print(i, layouts[i].index(layer), layer, file_name[i], '\\n')\n",
    "            opinion_index[i] = layouts[i].index(layer)            "
   ]
  },
  {
   "cell_type": "code",
   "execution_count": 58,
   "metadata": {},
   "outputs": [],
   "source": [
    "no_opinion = []\n",
    "for i in range(len(opinion_index)):\n",
    "    if opinion_index[i] == None:\n",
    "        no_opinion.append(i)"
   ]
  },
  {
   "cell_type": "code",
   "execution_count": 59,
   "metadata": {},
   "outputs": [
    {
     "data": {
      "text/plain": [
       "[14, 19, 20, 27, 33, 40, 60, 66, 91, 96, 104, 138, 141, 149]"
      ]
     },
     "execution_count": 59,
     "metadata": {},
     "output_type": "execute_result"
    }
   ],
   "source": [
    "no_opinion"
   ]
  },
  {
   "cell_type": "code",
   "execution_count": 60,
   "metadata": {},
   "outputs": [
    {
     "data": {
      "text/plain": [
       "'041 - Memorylink Corp v Motorola Inc'"
      ]
     },
     "execution_count": 60,
     "metadata": {},
     "output_type": "execute_result"
    }
   ],
   "source": [
    "file_name[14]"
   ]
  },
  {
   "cell_type": "code",
   "execution_count": 64,
   "metadata": {},
   "outputs": [
    {
     "name": "stdout",
     "output_type": "stream",
     "text": [
      "14 17 ORDER\n",
      " 041 - Memorylink Corp v Motorola Inc \n",
      "\n",
      "19 32 ORDER\n",
      " 085 - Fairchild (Taiwan) Corporation v Power Integrations Inc \n",
      "\n",
      "33 22 ORDER\n",
      " 095 - ClearCorrect Operating LLC v International Trade Com'n \n",
      "\n",
      "40 41 ORDER\n",
      " 014 - In re Procter And Gamble Co \n",
      "\n",
      "66 18 ORDER\n",
      " 079 - Nobelbiz Inc v Global Connect LLC \n",
      "\n",
      "96 77 ORDER\n",
      " 029 - In re Cray Inc \n",
      "\n",
      "104 42 ORDER\n",
      " 057 - In re Barnes And Noble Inc \n",
      "\n",
      "149 20 ORDER\n",
      " 073 - SAS Institute Inc v Complementsoft LLC \n",
      "\n"
     ]
    }
   ],
   "source": [
    "for i in no_opinion:\n",
    "    for layer in layouts[i]:\n",
    "        if re.search('^ORDER\\n', layer) != None:\n",
    "            print(i, layouts[i].index(layer), layer, file_name[i], '\\n')\n",
    "            opinion_index[i] = layouts[i].index(layer)            "
   ]
  },
  {
   "cell_type": "code",
   "execution_count": 65,
   "metadata": {},
   "outputs": [],
   "source": [
    "no_opinion = []\n",
    "for i in range(len(opinion_index)):\n",
    "    if opinion_index[i] == None:\n",
    "        no_opinion.append(i)"
   ]
  },
  {
   "cell_type": "code",
   "execution_count": 66,
   "metadata": {},
   "outputs": [
    {
     "data": {
      "text/plain": [
       "[20, 27, 60, 91, 138, 141]"
      ]
     },
     "execution_count": 66,
     "metadata": {},
     "output_type": "execute_result"
    }
   ],
   "source": [
    "no_opinion"
   ]
  },
  {
   "cell_type": "code",
   "execution_count": 68,
   "metadata": {},
   "outputs": [
    {
     "data": {
      "text/plain": [
       "'064 - GTNX Inc v INTTRA Inc'"
      ]
     },
     "execution_count": 68,
     "metadata": {},
     "output_type": "execute_result"
    }
   ],
   "source": [
    "file_name[27]"
   ]
  },
  {
   "cell_type": "code",
   "execution_count": 74,
   "metadata": {},
   "outputs": [
    {
     "name": "stdout",
     "output_type": "stream",
     "text": [
      "20 153 BACKGROUND\n",
      " 078 - Versata Development Group Inc v SAP America Inc \n",
      "\n",
      "27 54 BACKGROUND\n",
      " 064 - GTNX Inc v INTTRA Inc \n",
      "\n",
      "60 66 BACKGROUND\n",
      " 004 - Preston v Marathon Oil Co \n",
      "\n"
     ]
    }
   ],
   "source": [
    "for i in no_opinion:\n",
    "    for layer in layouts[i]:\n",
    "        if re.search('^BACKGROUND\\n', layer) != None:\n",
    "            print(i, layouts[i].index(layer), layer, file_name[i], '\\n')\n",
    "            opinion_index[i] = layouts[i].index(layer)            "
   ]
  },
  {
   "cell_type": "code",
   "execution_count": 75,
   "metadata": {},
   "outputs": [],
   "source": [
    "no_opinion = []\n",
    "for i in range(len(opinion_index)):\n",
    "    if opinion_index[i] == None:\n",
    "        no_opinion.append(i)"
   ]
  },
  {
   "cell_type": "code",
   "execution_count": 163,
   "metadata": {},
   "outputs": [
    {
     "data": {
      "text/plain": [
       "[91, 138, 141]"
      ]
     },
     "execution_count": 163,
     "metadata": {},
     "output_type": "execute_result"
    }
   ],
   "source": [
    "no_opinion"
   ]
  },
  {
   "cell_type": "code",
   "execution_count": 164,
   "metadata": {
    "scrolled": true
   },
   "outputs": [
    {
     "name": "stdout",
     "output_type": "stream",
     "text": [
      "91 61 GAJARSA, Circuit Judge.\n",
      " 037 - Bard Peripheral Vascular Inc v WL Gore And Associates Inc \n",
      "\n",
      "138 72 Taranto, Circuit Judge.\n",
      " 090 - In re Micron Technology Inc \n",
      "\n",
      "141 31 PLAGER, Circuit Judge.\n",
      " 053 - Versata Development Group Inc v Lee \n",
      "\n"
     ]
    }
   ],
   "source": [
    "for i in no_opinion:\n",
    "    for layer in layouts[i]:\n",
    "        if re.search('^.*Circuit Judge.\\n$', layer) != None:\n",
    "            print(i, layouts[i].index(layer), layer, file_name[i], '\\n')\n",
    "            opinion_index[i] = layouts[i].index(layer)            "
   ]
  },
  {
   "cell_type": "code",
   "execution_count": 167,
   "metadata": {},
   "outputs": [],
   "source": [
    "no_opinion = []\n",
    "for i in range(len(opinion_index)):\n",
    "    if opinion_index[i] == None:\n",
    "        no_opinion.append(i)"
   ]
  },
  {
   "cell_type": "code",
   "execution_count": 168,
   "metadata": {
    "scrolled": true
   },
   "outputs": [
    {
     "data": {
      "text/plain": [
       "[]"
      ]
     },
     "execution_count": 168,
     "metadata": {},
     "output_type": "execute_result"
    }
   ],
   "source": [
    "no_opinion"
   ]
  },
  {
   "cell_type": "code",
   "execution_count": 178,
   "metadata": {},
   "outputs": [],
   "source": [
    "opinion_text = []\n",
    "\n",
    "for f, i, j in zip(range(len(file_name)),opinion_index, allci_index):\n",
    "    opinion_text.append(''.join(layouts[f][i:j]))\n",
    "    \n",
    "    "
   ]
  },
  {
   "cell_type": "code",
   "execution_count": 183,
   "metadata": {},
   "outputs": [],
   "source": [
    "json.dump({'opinion_text': opinion_text},open('opinion_text.json', 'w'))"
   ]
  },
  {
   "cell_type": "markdown",
   "metadata": {},
   "source": [
    "# judge"
   ]
  },
  {
   "cell_type": "code",
   "execution_count": 100,
   "metadata": {},
   "outputs": [
    {
     "name": "stdout",
     "output_type": "stream",
     "text": [
      "0 50 PROST, Chief Judge.\n",
      " 052 - Nuance Communications Inc v ABBYY USA Software House Inc \n",
      "\n",
      "1 148 Prost, Chief Judge.\n",
      " 021 - Intellectual Ventures I LLC v Erie Indemnity Company \n",
      "\n",
      "2 155 PROST, Circuit Judge.\n",
      " 040 - Sioux Honey Ass'n v Hartford Fire Ins Co \n",
      "\n",
      "3 46 NEWMAN, Circuit Judge.\n",
      " 021 - Aspex Eyewear Inc v Zenni Optical Inc \n",
      "\n",
      "5 48 WALLACH, Circuit Judge.\n",
      " 100 - In re Geller \n",
      "\n",
      "6 36 CLEVENGER, Circuit Judge.\n",
      " 08 - Boeri v US \n",
      "\n",
      "7 65 STOLL, Circuit Judge.\n",
      " 080 - Harmonic Inc v Avid Technology Inc \n",
      "\n",
      "9 51 HUGHES, Circuit Judge.\n",
      " 039 - OIP Technologies Inc v Amazoncom Inc \n",
      "\n",
      "11 81 Wallach, Circuit Judge.\n",
      " 091 - Novartis AG v Noven Pharmaceuticals Inc \n",
      "\n",
      "12 51 REYNA, Circuit Judge.\n",
      " 064 - In re Rambus Inc \n",
      "\n",
      "13 39 TARANTO, Circuit Judge.\n",
      " 073 - In re Dinsmore \n",
      "\n",
      "15 62 O'MALLEY, Circuit Judge.\n",
      " 075 - CEATS Inc v Continental Airlines Inc \n",
      "\n",
      "16 40 NEWMAN, Circuit Judge.\n",
      " 075 - Internet Patents Corp v Active Network Inc \n",
      "\n",
      "17 44 NEWMAN, Circuit Judge.\n",
      " 072 - JVC Kenwood Corp v Nero Inc \n",
      "\n",
      "18 75 LINN, Circuit Judge.\n",
      " 047 - Williamson v Citrix Online LLC \n",
      "\n",
      "19 30 Reyna, Circuit Judge.\n",
      " 085 - Fairchild (Taiwan) Corporation v Power Integrations Inc \n",
      "\n",
      "20 137 PLAGER, Circuit Judge.\n",
      " 078 - Versata Development Group Inc v SAP America Inc \n",
      "\n",
      "21 123 MOORE, Circuit Judge.\n",
      " 065 - Luminara Worldwide LLC v Liown Electronics Co Ltd \n",
      "\n",
      "22 90 RADER, Chief Judge.\n",
      " 051 - Ultramercial Inc v Hulu LLC \n",
      "\n",
      "23 86 PROST, Circuit Judge.\n",
      " 007 - Robert Bosch LLC v Pylon Mfg Corp \n",
      "\n",
      "24 107 Chen, Circuit Judge.\n",
      " 040 - Bosch Automotive Service Solutions LLC v Matal \n",
      "\n",
      "25 80 DYK, Circuit Judge.\n",
      " 001 - Intellectual Ventures I LLC v Motorola Mobility LLC \n",
      "\n",
      "26 91 LOURIE, Circuit Judge.\n",
      " 023 - Saffran v Johnson And Johnson \n",
      "\n",
      "27 48 TARANTO, Circuit Judge.\n",
      " 064 - GTNX Inc v INTTRA Inc \n",
      "\n",
      "28 77 Lourie, Circuit Judge.\n",
      " 025 - Medgraph Inc v Medtronic Inc \n",
      "\n",
      "29 156 DYK, Circuit Judge.\n",
      " 082 - Apple Inc v Samsung Electronics Co Ltd \n",
      "\n",
      "30 111 WALLACH, Circuit Judge.\n",
      " 030 - Gilead Sciences Inc v Lee \n",
      "\n",
      "31 100 PLAGER, Circuit Judge.\n",
      " 087 - Howmedica Osteonics Corp v Zimmer Inc \n",
      "\n",
      "32 141 Dyk, Circuit Judge.\n",
      " 058 - Xilinx Inc v Papst Licensing GmbH And Co KG \n",
      "\n",
      "34 153 LOURIE, Circuit Judge.\n",
      " 030 - Otsuka Pharmaceutical Co Ltd v Sandoz Inc \n",
      "\n",
      "35 100 REYNA, Circuit Judge.\n",
      " 025 - 3M Innovative Properties Co v Tredegar Corp \n",
      "\n",
      "36 78 O'MALLEY, Circuit Judge.\n",
      " 040 - Aevoe Corp v AE Tech Co Ltd \n",
      "\n",
      "37 96 O'MALLEY, Circuit Judge.\n",
      " 007 - In re Morsa \n",
      "\n",
      "38 97 Lourie, Circuit Judge.\n",
      " 020 - Halo Electronics Inc v Pulse Electronics Inc \n",
      "\n",
      "39 39 MOORE, Circuit Judge.\n",
      " 077 - In re Imes \n",
      "\n",
      "40 42 TARANTO, Circuit Judge.\n",
      " 014 - In re Procter And Gamble Co \n",
      "\n",
      "41 90 Lourie, Circuit Judge.\n",
      " 027 - David Netzer Consulting Engineer LLC v Shell Oil Company \n",
      "\n",
      "42 158 PROST, Circuit Judge.\n",
      " 054 - Aventis Pharma SA v Hospira Inc \n",
      "\n",
      "43 77 Taranto, Circuit Judge.\n",
      " 097 - In re NuVasive Inc \n",
      "\n",
      "44 103 Taranto, Circuit Judge.\n",
      " 037 - Sanofi v Watson Laboratories Inc \n",
      "\n",
      "45 53 Taranto, Circuit Judge.\n",
      " 092 - Amgen Inc v Apotex Inc \n",
      "\n",
      "46 46 CLEVENGER, Circuit Judge.\n",
      " 067 - US v Nitek Electronics Inc \n",
      "\n",
      "47 135 TARANTO, Circuit Judge.\n",
      " 086 - CBT Flint Partners LLC v Return Path Inc \n",
      "\n",
      "48 67 PROST, Circuit Judge.\n",
      " 094 - EnOcean GmbH v Face Intern Corp \n",
      "\n",
      "49 63 LINN, Circuit Judge.\n",
      " 058 - Lenscom Inc v 1-800 Contacts Inc \n",
      "\n",
      "50 70 Taranto, Circuit Judge.\n",
      " 074 - Evans v Building Materials Corporation of America \n",
      "\n",
      "51 148 RADER, Chief Judge.\n",
      " 042 - Broadcom Corp v Emulex Corp \n",
      "\n",
      "52 89 PLAGER, Circuit Judge.\n",
      " 026 - Flo Healthcare Solutions LLC v Kappos \n",
      "\n",
      "53 107 LOURIE, Circuit Judge.\n",
      " 022 - Advanced Fiber Technologies (AFT) Trust v J And L Fiber Services Inc \n",
      "\n",
      "54 63 WALLACH, Circuit Judge.\n",
      " 29 - Shell Oil Co v US \n",
      "\n",
      "55 69 Dyk, Circuit Judge.\n",
      " 093 - Wyandot Nation of Kansas v United States \n",
      "\n",
      "56 45 *1331  DYK, Circuit Judge.\n",
      " 075 - Forrester Environmental Services Inc v Wheelabrator Technologies Inc \n",
      "\n",
      "57 138 Wallach, Circuit Judge.\n",
      " 089 - Icon Health and Fitness Inc v Strava Inc \n",
      "\n",
      "58 48 O'Malley, Circuit Judge.\n",
      " 25 - Diamond Sawblades Manufacturers Coalition v United States \n",
      "\n",
      "59 80 BRYSON, Circuit Judge.\n",
      " 051 - Ohio Willow Wood Co v Alps South LLC \n",
      "\n",
      "60 61 O'MALLEY, Circuit Judge.\n",
      " 004 - Preston v Marathon Oil Co \n",
      "\n",
      "62 85 DYK, Circuit Judge.\n",
      " 028 - Arkema Inc v Honeywell Intern Inc \n",
      "\n",
      "63 110 Stoll, Circuit Judge.\n",
      " 093 - ClassCo Inc v Apple Inc \n",
      "\n",
      "64 149 DYK, Circuit Judge.\n",
      " 057 - Warsaw Orthopedic Inc v NuVasive Inc \n",
      "\n",
      "65 35 GAJARSA, Circuit Judge.\n",
      " 094 - Bard Peripheral Vascular Inc v WL Gore And Associates Inc \n",
      "\n",
      "67 79 Reyna, Circuit Judge.\n",
      " 070 - AdjustaCam LLC v Newegg Inc \n",
      "\n",
      "68 64 LINN, Circuit Judge.\n",
      " 078 - Retractable Technologies Inc v Becton Dickinson and Co \n",
      "\n",
      "69 56 Prost, Chief Judge.\n",
      " 097 - Maverick Tube Corporation v Toscelik Profil ve Sac Endustrisi AS \n",
      "\n",
      "70 71 DYK, Circuit Judge.\n",
      " 053 - Prometheus Laboratories Inc v Roxane Laboratories Inc \n",
      "\n",
      "71 65 PROST, Chief Judge.\n",
      " 081 - MAG Aerospace Industries Inc v BE Aerospace Inc \n",
      "\n",
      "72 63 PROST, Circuit Judge.\n",
      " 047 - In re Abbott Diabetes Care Inc \n",
      "\n",
      "73 134 RADER, Chief Judge.\n",
      " 011 - Douglas Dynamics LLC v Buyers Products Co \n",
      "\n",
      "75 326 O'MALLEY, Circuit Judge.\n",
      " 070 - Oracle America Inc v Google Inc \n",
      "\n",
      "76 36 PROST, Chief Judge.\n",
      " 089 - Belimo Automation AG v US \n",
      "\n",
      "77 64 Taranto, Circuit Judge.\n",
      " 034 - BASF Corporation v Johnson Matthey Inc \n",
      "\n",
      "78 78 Newman, Circuit Judge.\n",
      " 003 - Organik Kimya AS v Rohm and Haas Company \n",
      "\n",
      "79 42 LOURIE, Circuit Judge.\n",
      " 052 - Roche Vitamins Inc v US \n",
      "\n",
      "80 127 O'MALLEY, Circuit Judge.\n",
      " 020 - MarcTec LLC v Johnson And Johnson \n",
      "\n",
      "81 122 Taranto, Circuit Judge.\n",
      " 057 - Asetek Danmark AS v CMI USA Inc \n",
      "\n",
      "82 270 SCHALL, Circuit Judge.\n",
      " 040 - Taurus IP LLC v DaimlerChrysler Corp \n",
      "\n",
      "83 243 PROST, Chief Judge.\n",
      " 089 - Apple Inc v Samsung Electronics Co Ltd \n",
      "\n",
      "84 42 O'MALLEY, Circuit Judge.\n",
      " 081 - R8FL Carriers Inc v Qualcomm Inc \n",
      "\n",
      "85 41 MOORE, Circuit Judge.\n",
      " 035 - In re Droge \n",
      "\n",
      "86 91 PROST, Circuit Judge.\n",
      " 084 - Pei-Herng Hor v Ching-Wu Chu \n",
      "\n",
      "87 48 WALLACH, Circuit Judge.\n",
      " 061 - NeuroRepair Inc v The Nath Law Group \n",
      "\n",
      "88 118 Prost, Chief Judge.\n",
      " 018 - Stryker Corporation v Zimmer Inc \n",
      "\n",
      "89 60 LOURIE, Circuit Judge.\n",
      " 032 - In re Baxter Intern Inc \n",
      "\n",
      "90 124 Hughes, Circuit Judge.\n",
      " 008 - Alfred E Mann Foundation for Scientific Research v Cochlear Corporation \n",
      "\n",
      "91 61 GAJARSA, Circuit Judge.\n",
      " 037 - Bard Peripheral Vascular Inc v WL Gore And Associates Inc \n",
      "\n",
      "92 123 Reyna, Circuit Judge.\n",
      " 007 - McRO Inc v Bandai Namco Games America Inc \n",
      "\n",
      "93 75 HUGHES, Circuit Judge.\n",
      " 080 - Merck And Cie v Gnosis SPA \n",
      "\n",
      "94 85 NEWMAN, Circuit Judge.\n",
      " 009 - Elcommercecom Inc v SAP AG \n",
      "\n",
      "96 76 Lourie, Circuit Judge.\n",
      " 029 - In re Cray Inc \n",
      "\n",
      "97 140 PROST, Circuit Judge.\n",
      " 010 - Commil USA LLC v Cisco Systems Inc \n",
      "\n",
      "98 99 Lourie, Circuit Judge.\n",
      " 009 - Skky Inc v MindGeek sarl \n",
      "\n",
      "99 56 Stoll, Circuit Judge.\n",
      " 001 - In re Jobdiva Inc \n",
      "\n",
      "100 51 *904  Chen, Circuit Judge.\n",
      " 013 - In re Affinity Labs of Texas LLC \n",
      "\n",
      "101 279 O'MALLEY, Circuit Judge.\n",
      " 058 - Ericsson Inc v D-Link Systems Inc \n",
      "\n",
      "102 36 REYNA, Circuit Judge.\n",
      " 041 - Mohsenzadeh v Lee \n",
      "\n",
      "103 62 TARANTO, Circuit Judge.\n",
      " 066 - Dell Inc v Acceleron LLC \n",
      "\n",
      "104 40 REYNA, Circuit Judge.\n",
      " 057 - In re Barnes And Noble Inc \n",
      "\n",
      "105 46 LOURIE, Circuit Judge.\n",
      " 066 - AMS Associates Inc v US \n",
      "\n",
      "106 66 Stoll, Circuit Judge.\n",
      " 006 - One-E-Way Inc v International Trade Commission \n",
      "\n",
      "107 104 PROST, Circuit Judge.\n",
      " 033 - Accent Packaging Inc v Leggett And Platt Inc \n",
      "\n",
      "108 72 RADER, Chief Judge.\n",
      " 036 - Abbott Point of Care Inc v Epocal Inc \n",
      "\n",
      "109 137 LOURIE, Circuit Judge.\n",
      " 018 - K-TEC Inc v Vita-Mix Corp \n",
      "\n",
      "110 82 LINN, Circuit Judge.\n",
      " 048 - Amkor Technology Inc v International Trade Com'n \n",
      "\n",
      "111 86 HUGHES, Circuit Judge.\n",
      " 056 - StonCor Group Inc v Specialty Coatings Inc \n",
      "\n",
      "112 127 DYK, Circuit Judge.\n",
      " 044 - Abbvie Inc v Mathilda and Terence Kennedy Institute of Rheumatology Trust \n",
      "\n",
      "113 73 *1255  Stoll, Circuit Judge.\n",
      " 004 - Visual Memory LLC v NVIDIA Corporation \n",
      "\n",
      "114 90 HUGHES, Circuit Judge.\n",
      " 089 - In re TLI Communications LLC Patent Litigation \n",
      "\n",
      "115 58 *1338  Moore, Circuit Judge.\n",
      " 023 - ScriptPro LLC v Innovation Associates Inc \n",
      "\n",
      "116 56 REYNA, Circuit Judge.\n",
      " 035 - Info-Hold Inc v Applied Media Technologies Corp \n",
      "\n",
      "117 65 PROST, Chief Judge.\n",
      " 046 - EMD Millipore Corp v AllPure Technologies Inc \n",
      "\n",
      "118 63 WALLACH, Circuit Judge.\n",
      " 025 - RT Foods Inc v US \n",
      "\n",
      "119 172 Prost, Chief Judge.\n",
      " 024 - Eli Lilly and Company v Teva Parenteral Medicines Inc \n",
      "\n",
      "120 93 HUGHES, Circuit Judge.\n",
      " 066 - Shire Development LLC v Watson Pharmaceuticals Inc \n",
      "\n",
      "121 139 Dyk, Circuit Judge.\n",
      " 033 - Multilayer Stretch Cling Film Holdings Inc v Berry Plastics Corporation \n",
      "\n",
      "122 45 TARANTO, Circuit Judge.\n",
      " 31 - Tyrues v Shinseki \n",
      "\n",
      "123 96 PROST, Chief Judge.\n",
      " 047 - H-W Technology LC v Overstockcom Inc \n",
      "\n",
      "124 42 LOURIE, Circuit Judge.\n",
      " 035 - Airbus SAS v Firepass Corp \n",
      "\n",
      "125 56 CHEN, Circuit Judge.\n",
      " 042 - Align Technology Inc v International Trade Com'n \n",
      "\n",
      "127 65 Taranto, Circuit Judge.\n",
      " 074 - Rovalma SA v Bohler-Edelstahl GmbH And Co KG \n",
      "\n",
      "128 60 MOORE, Circuit Judge.\n",
      " 03 - Ashley Furniture Industries Inc v US \n",
      "\n",
      "129 55 REYNA, Circuit Judge.\n",
      " 062 - Marvin Furniture (Shanghai) Co Ltd v US \n",
      "\n",
      "130 106 DYK, Circuit Judge.\n",
      " 064 - Takeda Pharmaceuticals USA Inc v West-Ward Pharmaceutical Corp \n",
      "\n",
      "131 62 CLEVENGER, Circuit Judge.\n",
      " 081 - In re Becton Dickinson and Co \n",
      "\n",
      "132 68 PROST, Circuit Judge.\n",
      " 037 - Novo Nordisk AS v Caraco Pharmaceutical Laboratories Ltd \n",
      "\n",
      "133 144 TARANTO, Circuit Judge.\n",
      " 062 - Lexmark Intern Inc v Impression Products Inc \n",
      "\n",
      "134 61 LOURIE, Circuit Judge.\n",
      " 010 - KS Himpp v Hear-Wear Technologies LLC \n",
      "\n",
      "135 67 MOORE, Circuit Judge.\n",
      " 057 - Charles Mach Works Inc v Vermeer Mfg Co \n",
      "\n",
      "136 63 MOORE, Circuit Judge.\n",
      " 013 - Triton Tech of Texas LLC v Nintendo of America Inc \n",
      "\n",
      "137 54 BRYSON, Circuit Judge.\n",
      " 059 - InterDigital Communications LLC v International Trade Com'n \n",
      "\n",
      "138 72 Taranto, Circuit Judge.\n",
      " 090 - In re Micron Technology Inc \n",
      "\n",
      "139 70 TARANTO, Circuit Judge.\n",
      " 095 - ABB Turbo Systems AG v Turbousa Inc \n",
      "\n",
      "140 65 Wallach, Circuit Judge.\n",
      " 075 - Phigenix Inc v Immunogen Inc \n",
      "\n",
      "141 31 PLAGER, Circuit Judge.\n",
      " 053 - Versata Development Group Inc v Lee \n",
      "\n",
      "143 72 SCHALL, Circuit Judge.\n",
      " 036 - Starhome GmbH v AT And T Mobility LLC \n",
      "\n",
      "144 33 PROST, Circuit Judge.\n",
      " 029 - Motiva LLC v International Trade Com'n \n",
      "\n",
      "145 101 O'MALLEY, Circuit Judge.\n",
      " 058 - OSRAM Sylvania Inc v American Induction Technologies Inc \n",
      "\n",
      "146 63 WALLACH, Circuit Judge.\n",
      " 028 - Shenyang Yuanda Aluminum Industry Engineering Co Ltd v US \n",
      "\n",
      "147 52 RADER, Chief Judge.\n",
      " 055 - Vederi LLC v Google Inc \n",
      "\n",
      "148 60 MOORE, Circuit Judge.\n",
      " 085 - Clare v Chrysler Group LLC \n",
      "\n",
      "151 37 STOLL, Circuit Judge.\n",
      " 060 - In re Smith \n",
      "\n",
      "153 188 TARANTO, Circuit Judge.\n",
      " 077 - Carnegie Mellon University v Marvell Technology Group Ltd \n",
      "\n",
      "154 76 Lourie, Circuit Judge.\n",
      " 092 - Sonix Technology Co Ltd v Publications International Ltd \n",
      "\n",
      "155 85 DYK, Circuit Judge.\n",
      " 059 - Solvay SA v Honeywell Intern Inc \n",
      "\n",
      "156 61 WALLACH, Circuit Judge.\n",
      " 071 - Dependable Packaging Solutions Inc v US \n",
      "\n",
      "157 131 Chen, Circuit Judge.\n",
      " 003 - Comcast IP Holdings I LLC v Sprint Communications Company LP \n",
      "\n",
      "158 49 REYNA, Circuit Judge.\n",
      " 023 - Suprema Inc v International Trade Com'n \n",
      "\n"
     ]
    }
   ],
   "source": [
    "for i in range(len(file_name)):\n",
    "    for layer in layouts[i]:\n",
    "        if re.search(r'^(?!Before)(?!dissenting-in-part).*Judge.\\n$', layer) != None:\n",
    "            if len(layer)<30:\n",
    "                print(i, layouts[i].index(layer), layer, file_name[i], '\\n')"
   ]
  },
  {
   "cell_type": "code",
   "execution_count": 104,
   "metadata": {
    "scrolled": true
   },
   "outputs": [],
   "source": [
    "judge_list = [None]*len(file_name)\n",
    "for i in range(len(file_name)):\n",
    "    for layer in layouts[i]:\n",
    "        if re.search(r'^(?!Before).*Judge.\\n$', layer) != None:\n",
    "            if len(layer)<30:\n",
    "                judge_list[i] = layer"
   ]
  },
  {
   "cell_type": "markdown",
   "metadata": {},
   "source": [
    "# Judge Panel"
   ]
  },
  {
   "cell_type": "code",
   "execution_count": 147,
   "metadata": {},
   "outputs": [],
   "source": [
    "judge_panel = [None]*len(file_name)\n",
    "for i in range(len(file_name)):\n",
    "        for layer in layouts[i]:\n",
    "            if re.search(r'^Before(.*)Judge(.*)', layer) != None:\n",
    "                    judge_panel[i] = layer"
   ]
  },
  {
   "cell_type": "code",
   "execution_count": 148,
   "metadata": {
    "scrolled": true
   },
   "outputs": [
    {
     "name": "stdout",
     "output_type": "stream",
     "text": [
      "53 022 - Advanced Fiber Technologies (AFT) Trust v J And L Fiber Services Inc\n",
      "147 055 - Vederi LLC v Google Inc\n"
     ]
    }
   ],
   "source": [
    "for i in range(len(file_name)):\n",
    "    if judge_panel[i] == None:\n",
    "        print(i,file_name[i])"
   ]
  },
  {
   "cell_type": "code",
   "execution_count": 152,
   "metadata": {},
   "outputs": [],
   "source": [
    "for i in range(len(file_name)):\n",
    "    if judge_panel[i] == None:\n",
    "        for layer in layouts[i]:\n",
    "            if re.search(r'.*Before.*Judges.*\\n$', layer) != None:\n",
    "                    judge_panel[i] = layer"
   ]
  },
  {
   "cell_type": "code",
   "execution_count": 153,
   "metadata": {},
   "outputs": [],
   "source": [
    "for i in range(len(file_name)):\n",
    "    if judge_panel[i] == None:\n",
    "        print(i,file_name[i])"
   ]
  },
  {
   "cell_type": "code",
   "execution_count": 154,
   "metadata": {},
   "outputs": [],
   "source": [
    "import pandas as pd"
   ]
  },
  {
   "cell_type": "code",
   "execution_count": 155,
   "metadata": {},
   "outputs": [],
   "source": [
    "meta = pd.read_csv(\"case_mate.csv\", sep='\\t')"
   ]
  },
  {
   "cell_type": "code",
   "execution_count": 157,
   "metadata": {},
   "outputs": [],
   "source": [
    "meta['judge_panel'] = judge_panel"
   ]
  },
  {
   "cell_type": "code",
   "execution_count": 161,
   "metadata": {},
   "outputs": [],
   "source": [
    "meta.to_csv(\"case_mate.csv\",index=False, sep = '\\t')"
   ]
  },
  {
   "cell_type": "code",
   "execution_count": null,
   "metadata": {},
   "outputs": [],
   "source": []
  }
 ],
 "metadata": {
  "kernelspec": {
   "display_name": "Python 3",
   "language": "python",
   "name": "python3"
  },
  "language_info": {
   "codemirror_mode": {
    "name": "ipython",
    "version": 3
   },
   "file_extension": ".py",
   "mimetype": "text/x-python",
   "name": "python",
   "nbconvert_exporter": "python",
   "pygments_lexer": "ipython3",
   "version": "3.6.8"
  }
 },
 "nbformat": 4,
 "nbformat_minor": 2
}
