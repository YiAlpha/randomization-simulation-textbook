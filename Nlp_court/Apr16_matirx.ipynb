{
 "cells": [
  {
   "cell_type": "markdown",
   "metadata": {},
   "source": [
    "# Co-occurrence Viz"
   ]
  },
  {
   "cell_type": "code",
   "execution_count": 1,
   "metadata": {},
   "outputs": [],
   "source": [
    "import pandas as pd"
   ]
  },
  {
   "cell_type": "code",
   "execution_count": 77,
   "metadata": {},
   "outputs": [],
   "source": [
    "reference = pd.read_csv(\"reference_extract.csv\", \n",
    "                        sep=\"\\t\", \n",
    "                        index_col=0,\n",
    "                       converters={\"citations\": lambda x: x.strip(\"[]\").split(\", \"),\n",
    "                                  \"regulations\": lambda x: x.strip(\"[]\").split(\", \"),\n",
    "                                  \"courts\": lambda x: x.strip(\"[]\").split(\", \")})"
   ]
  },
  {
   "cell_type": "code",
   "execution_count": 80,
   "metadata": {
    "scrolled": true
   },
   "outputs": [
    {
     "data": {
      "text/plain": [
       "list"
      ]
     },
     "execution_count": 80,
     "metadata": {},
     "output_type": "execute_result"
    }
   ],
   "source": [
    "type(reference.iloc[0,1])"
   ]
  },
  {
   "cell_type": "code",
   "execution_count": 81,
   "metadata": {},
   "outputs": [],
   "source": [
    "cite = reference[['citations', 'file_name']].\\\n",
    "        rename(index=str, columns={\"file_name\": \"title\",\n",
    "                                  \"citations\": \"keywords\"})"
   ]
  },
  {
   "cell_type": "code",
   "execution_count": 86,
   "metadata": {},
   "outputs": [
    {
     "data": {
      "text/plain": [
       "list"
      ]
     },
     "execution_count": 86,
     "metadata": {},
     "output_type": "execute_result"
    }
   ],
   "source": [
    "type(cite.iloc[0,0])"
   ]
  },
  {
   "cell_type": "code",
   "execution_count": 111,
   "metadata": {},
   "outputs": [],
   "source": [
    "keywords_array=[]\n",
    "for index, row in cite.head().iterrows():\n",
    "    keywords=row['keywords']\n",
    "    for kw in keywords:\n",
    "        keywords_array.append((kw, row['keywords']))\n",
    "\n"
   ]
  },
  {
   "cell_type": "code",
   "execution_count": 112,
   "metadata": {},
   "outputs": [],
   "source": [
    "kw_df = pd.DataFrame(keywords_array).rename(columns={0:'keyword', 1:'keywords'})"
   ]
  },
  {
   "cell_type": "code",
   "execution_count": 113,
   "metadata": {
    "scrolled": false
   },
   "outputs": [
    {
     "data": {
      "text/html": [
       "<div>\n",
       "<style scoped>\n",
       "    .dataframe tbody tr th:only-of-type {\n",
       "        vertical-align: middle;\n",
       "    }\n",
       "\n",
       "    .dataframe tbody tr th {\n",
       "        vertical-align: top;\n",
       "    }\n",
       "\n",
       "    .dataframe thead th {\n",
       "        text-align: right;\n",
       "    }\n",
       "</style>\n",
       "<table border=\"1\" class=\"dataframe\">\n",
       "  <thead>\n",
       "    <tr style=\"text-align: right;\">\n",
       "      <th></th>\n",
       "      <th>keyword</th>\n",
       "      <th>keywords</th>\n",
       "    </tr>\n",
       "  </thead>\n",
       "  <tbody>\n",
       "    <tr>\n",
       "      <th>0</th>\n",
       "      <td>'813 F.3d 1368'</td>\n",
       "      <td>['813 F.3d 1368', '805 F.3d 1368', '467 F.3d 1...</td>\n",
       "    </tr>\n",
       "    <tr>\n",
       "      <th>1</th>\n",
       "      <td>'805 F.3d 1368'</td>\n",
       "      <td>['813 F.3d 1368', '805 F.3d 1368', '467 F.3d 1...</td>\n",
       "    </tr>\n",
       "    <tr>\n",
       "      <th>2</th>\n",
       "      <td>'467 F.3d 1355'</td>\n",
       "      <td>['813 F.3d 1368', '805 F.3d 1368', '467 F.3d 1...</td>\n",
       "    </tr>\n",
       "    <tr>\n",
       "      <th>3</th>\n",
       "      <td>'299 F.3d 1313'</td>\n",
       "      <td>['813 F.3d 1368', '805 F.3d 1368', '467 F.3d 1...</td>\n",
       "    </tr>\n",
       "    <tr>\n",
       "      <th>4</th>\n",
       "      <td>'639 F.3d 1303'</td>\n",
       "      <td>['813 F.3d 1368', '805 F.3d 1368', '467 F.3d 1...</td>\n",
       "    </tr>\n",
       "  </tbody>\n",
       "</table>\n",
       "</div>"
      ],
      "text/plain": [
       "           keyword                                           keywords\n",
       "0  '813 F.3d 1368'  ['813 F.3d 1368', '805 F.3d 1368', '467 F.3d 1...\n",
       "1  '805 F.3d 1368'  ['813 F.3d 1368', '805 F.3d 1368', '467 F.3d 1...\n",
       "2  '467 F.3d 1355'  ['813 F.3d 1368', '805 F.3d 1368', '467 F.3d 1...\n",
       "3  '299 F.3d 1313'  ['813 F.3d 1368', '805 F.3d 1368', '467 F.3d 1...\n",
       "4  '639 F.3d 1303'  ['813 F.3d 1368', '805 F.3d 1368', '467 F.3d 1..."
      ]
     },
     "execution_count": 113,
     "metadata": {},
     "output_type": "execute_result"
    }
   ],
   "source": [
    "kw_df.head()"
   ]
  },
  {
   "cell_type": "code",
   "execution_count": 114,
   "metadata": {},
   "outputs": [],
   "source": [
    "from collections import OrderedDict"
   ]
  },
  {
   "cell_type": "code",
   "execution_count": 115,
   "metadata": {},
   "outputs": [],
   "source": [
    "document = kw_df.keywords\n",
    "names = kw_df.keyword.tolist()\n",
    " \n",
    "document_array = []\n",
    "for item in document:\n",
    "    items = item\n",
    "    document_array.append((items))\n",
    " \n",
    "occurrences = OrderedDict((name, OrderedDict((name, 0) for name in names)) for name in names)\n",
    " \n",
    "# Find the co-occurrences:\n",
    "for l in document_array:\n",
    "    for i in range(len(l)):\n",
    "        for item in l[:i] + l[i + 1:]:\n",
    "            occurrences[l[i]][item] += 1\n",
    " \n",
    "co_occur = pd.DataFrame.from_dict(occurrences )"
   ]
  },
  {
   "cell_type": "code",
   "execution_count": 118,
   "metadata": {},
   "outputs": [
    {
     "data": {
      "text/plain": [
       "(65, 65)"
      ]
     },
     "execution_count": 118,
     "metadata": {},
     "output_type": "execute_result"
    }
   ],
   "source": [
    "co_occur.shape"
   ]
  },
  {
   "cell_type": "code",
   "execution_count": 119,
   "metadata": {},
   "outputs": [],
   "source": [
    "import matplotlib.pyplot as plt"
   ]
  },
  {
   "cell_type": "code",
   "execution_count": 121,
   "metadata": {},
   "outputs": [],
   "source": [
    "%matplotlib inline"
   ]
  },
  {
   "cell_type": "code",
   "execution_count": 122,
   "metadata": {},
   "outputs": [
    {
     "data": {
      "text/plain": [
       "<matplotlib.image.AxesImage at 0x11e7d66d8>"
      ]
     },
     "execution_count": 122,
     "metadata": {},
     "output_type": "execute_result"
    },
    {
     "data": {
      "image/png": "[encoded data removed]",
      "text/plain": [
       "<Figure size 288x288 with 1 Axes>"
      ]
     },
     "metadata": {
      "needs_background": "light"
     },
     "output_type": "display_data"
    }
   ],
   "source": [
    "plt.matshow(co_occur)"
   ]
  },
  {
   "cell_type": "code",
   "execution_count": null,
   "metadata": {},
   "outputs": [],
   "source": []
  }
 ],
 "metadata": {},
 "nbformat": 4,
 "nbformat_minor": 2
}
