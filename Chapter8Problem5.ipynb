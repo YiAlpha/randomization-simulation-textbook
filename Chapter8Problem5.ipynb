{
 "cells": [
  {
   "cell_type": "markdown",
   "metadata": {},
   "source": [
    "# Proble 8.5"
   ]
  },
  {
   "cell_type": "code",
   "execution_count": 1,
   "metadata": {},
   "outputs": [],
   "source": [
    "clear \n",
    "qui set obs 18859\n",
    "qui egen z_ind = fill(0,0)\n",
    "qui replace z_ind = 1 in 9534/18859\n",
    "\n",
    "// ssc install egenmore (uncomment to install the package)\n",
    "qui egen z_zip = repeat(), values(\"none\")\n",
    "qui replace z_zip = \"half\" in 6218/12482\n",
    "qui replace z_zip = \"all\" in 12483/18859\n",
    "\n",
    "qui egen Y = fill(1,1)\n",
    "qui replace Y=0 in 1022/6217\n",
    "qui replace Y = 0 in 6744/9533\n",
    "qui replace Y=0 in 10154/12482\n",
    "qui replace Y=0 in 13799/18859"
   ]
  },
  {
   "cell_type": "code",
   "execution_count": 2,
   "metadata": {},
   "outputs": [],
   "source": [
    "qui mean Y if z_ind==1 & z_zip==\"half\"\n",
    "scalar ate_treat_half = _b[Y]\n",
    "qui mean Y if z_ind==0 & z_zip==\"half\"\n",
    "scalar ate_untreat_half = _b[Y]\n",
    "qui mean Y if z_ind==0 & z_zip==\"none\"\n",
    "scalar ate_untreat_none = _b[Y]\n",
    "qui mean Y if z_ind==1 & z_zip==\"all\"\n",
    "scalar ate_treat_all = _b[Y]"
   ]
  },
  {
   "cell_type": "code",
   "execution_count": 3,
   "metadata": {},
   "outputs": [
    {
     "name": "stdout",
     "output_type": "stream",
     "text": [
      ".05161591\n"
     ]
    }
   ],
   "source": [
    "// ate.fristhand.half\n",
    "disp ate_treat_half - ate_untreat_half"
   ]
  },
  {
   "cell_type": "code",
   "execution_count": 4,
   "metadata": {},
   "outputs": [
    {
     "name": "stdout",
     "output_type": "stream",
     "text": [
      "-.00560227\n"
     ]
    }
   ],
   "source": [
    "// ate.secondhanf.untreated\n",
    "disp ate_untreat_half - ate_untreat_none"
   ]
  },
  {
   "cell_type": "code",
   "execution_count": 5,
   "metadata": {},
   "outputs": [
    {
     "name": "stdout",
     "output_type": "stream",
     "text": [
      "-.00387413\n"
     ]
    }
   ],
   "source": [
    "// ate.secondhand.treated\n",
    "disp ate_treat_all - ate_treat_half"
   ]
  }
 ],
 "metadata": {
  "kernelspec": {
   "display_name": "Stata",
   "language": "stata",
   "name": "stata"
  },
  "language_info": {
   "codemirror_mode": "stata",
   "file_extension": ".do",
   "mimetype": "text/x-stata",
   "name": "stata",
   "version": "15.1"
  }
 },
 "nbformat": 4,
 "nbformat_minor": 2
}
