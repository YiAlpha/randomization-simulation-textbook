{
 "cells": [
  {
   "cell_type": "markdown",
   "metadata": {},
   "source": [
    "# Problem 6.8"
   ]
  },
  {
   "cell_type": "code",
   "execution_count": 1,
   "metadata": {},
   "outputs": [
    {
     "name": "stdout",
     "output_type": "stream",
     "text": [
      "\n",
      "\n",
      "\n",
      "\n",
      "\n",
      "\n",
      "    0.99\n"
     ]
    }
   ],
   "source": [
    "clear\n",
    "scalar pi_at = 2/398\n",
    "scalar pi_nt = (3+1)/(404+398)\n",
    "scalar pi_c = 1- pi_at - pi_nt\n",
    "scalar itt_d = pi_c\n",
    "disp %8.2f itt_d"
   ]
  },
  {
   "cell_type": "code",
   "execution_count": 2,
   "metadata": {},
   "outputs": [
    {
     "name": "stdout",
     "output_type": "stream",
     "text": [
      "\n",
      "\n",
      " 0.08861\n"
     ]
    }
   ],
   "source": [
    "scalar itt_hotline = (296+301)/(404+398) - (261/398)\n",
    "disp %8.5f itt_hotline"
   ]
  },
  {
   "cell_type": "code",
   "execution_count": 3,
   "metadata": {},
   "outputs": [
    {
     "name": "stdout",
     "output_type": "stream",
     "text": [
      "\n",
      "\n",
      " 0.08951\n"
     ]
    }
   ],
   "source": [
    "scalar cace_hotline = itt_hotline/itt_d\n",
    "disp %8.5f cace_hotline"
   ]
  },
  {
   "cell_type": "code",
   "execution_count": 4,
   "metadata": {},
   "outputs": [
    {
     "name": "stdout",
     "output_type": "stream",
     "text": [
      "\n",
      "\n",
      "-0.001591\n"
     ]
    }
   ],
   "source": [
    "scalar itt_arrest = (303)/(802) - (151/398)\n",
    "disp %8.6f itt_arrest"
   ]
  },
  {
   "cell_type": "code",
   "execution_count": 5,
   "metadata": {},
   "outputs": [
    {
     "name": "stdout",
     "output_type": "stream",
     "text": [
      "\n",
      "\n",
      "-0.001608\n"
     ]
    }
   ],
   "source": [
    "scalar cace_arrest = itt_arrest/itt_d\n",
    "disp %8.6f cace_arrest"
   ]
  }
 ],
 "metadata": {
  "kernelspec": {
   "display_name": "Stata",
   "language": "stata",
   "name": "stata"
  },
  "language_info": {
   "codemirror_mode": "stata",
   "file_extension": ".do",
   "mimetype": "text/x-stata",
   "name": "stata",
   "version": "15.1"
  }
 },
 "nbformat": 4,
 "nbformat_minor": 2
}
