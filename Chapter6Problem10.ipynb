{
 "cells": [
  {
   "cell_type": "markdown",
   "metadata": {},
   "source": [
    "# Problem 6.10"
   ]
  },
  {
   "cell_type": "markdown",
   "metadata": {},
   "source": [
    "## Part a "
   ]
  },
  {
   "cell_type": "code",
   "execution_count": 1,
   "metadata": {},
   "outputs": [],
   "source": [
    "qui import delim ./data/chapter06/Hyde_POP_2012, clear"
   ]
  },
  {
   "cell_type": "code",
   "execution_count": 2,
   "metadata": {},
   "outputs": [],
   "source": [
    "rename sample Z\n",
    "rename invalidballots Y\n",
    "rename observed D"
   ]
  },
  {
   "cell_type": "code",
   "execution_count": 3,
   "metadata": {},
   "outputs": [],
   "source": [
    "qui regress Y Z\n",
    "scalar ITT = _b[Z]\t\t\n",
    "qui regress D Z\n",
    "scalar ITTD = _b[Z]\t\t\n",
    "scalar CACE = ITT/ITTD"
   ]
  },
  {
   "cell_type": "code",
   "execution_count": 4,
   "metadata": {},
   "outputs": [
    {
     "name": "stdout",
     "output_type": "stream",
     "text": [
      "   4.824\n"
     ]
    }
   ],
   "source": [
    "disp %8.3f ITT"
   ]
  },
  {
   "cell_type": "code",
   "execution_count": 5,
   "metadata": {},
   "outputs": [
    {
     "name": "stdout",
     "output_type": "stream",
     "text": [
      "             31.57\n"
     ]
    }
   ],
   "source": [
    "disp %18.2f CACE"
   ]
  },
  {
   "cell_type": "markdown",
   "metadata": {},
   "source": [
    "## Part e"
   ]
  },
  {
   "cell_type": "code",
   "execution_count": 6,
   "metadata": {},
   "outputs": [
    {
     "name": "stdout",
     "output_type": "stream",
     "text": [
      "\n",
      "      Source |       SS           df       MS      Number of obs   =     1,971\n",
      "-------------+----------------------------------   F(1, 1969)      =      0.48\n",
      "       Model |  7543.09865         1  7543.09865   Prob > F        =    0.4897\n",
      "    Residual |  31113272.6     1,969  15801.5605   R-squared       =    0.0002\n",
      "-------------+----------------------------------   Adj R-squared   =   -0.0003\n",
      "       Total |  31120815.7     1,970  15797.3684   Root MSE        =     125.7\n",
      "\n",
      "------------------------------------------------------------------------------\n",
      "           Y |      Coef.   Std. Err.      t    P>|t|     [95% Conf. Interval]\n",
      "-------------+----------------------------------------------------------------\n",
      "           Z |   4.824097   6.982181     0.69   0.490    -8.869144    18.51734\n",
      "       _cons |   81.33483   3.180603    25.57   0.000     75.09713    87.57253\n",
      "------------------------------------------------------------------------------\n",
      "\n",
      "      command:  regress Y Z\n",
      "        _pm_1:  _b[Z]\n",
      "  res. var(s):  Z\n",
      "   Resampling:  Permuting Z\n",
      "Clust. var(s):  __000006\n",
      "     Clusters:  1971\n",
      "Strata var(s):  none\n",
      "       Strata:  1\n",
      "\n",
      "------------------------------------------------------------------------------\n",
      "T            |     T(obs)       c       n   p=c/n   SE(p) [95% Conf. Interval]\n",
      "-------------+----------------------------------------------------------------\n",
      "       _pm_1 |   4.824097    4858   10000  0.4858  0.0050  .4759595   .4956488\n",
      "------------------------------------------------------------------------------\n",
      "Note: Confidence interval is with respect to p=c/n.\n",
      "Note: c = #{|T| >= |T(obs)|}\n"
     ]
    }
   ],
   "source": [
    "ritest Z _b[Z], reps(10000) nodots: ///\n",
    "regress Y Z"
   ]
  },
  {
   "cell_type": "code",
   "execution_count": 7,
   "metadata": {},
   "outputs": [
    {
     "name": "stdout",
     "output_type": "stream",
     "text": [
      "  0.4858\n"
     ]
    }
   ],
   "source": [
    "di %8.4f el(r(p), 1,1)"
   ]
  }
 ],
 "metadata": {
  "kernelspec": {
   "display_name": "Stata",
   "language": "stata",
   "name": "stata"
  },
  "language_info": {
   "codemirror_mode": "stata",
   "file_extension": ".do",
   "mimetype": "text/x-stata",
   "name": "stata",
   "version": "15.1"
  }
 },
 "nbformat": 4,
 "nbformat_minor": 2
}
